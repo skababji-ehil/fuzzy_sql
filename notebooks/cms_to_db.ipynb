{
 "cells": [
  {
   "cell_type": "code",
   "execution_count": 1,
   "metadata": {},
   "outputs": [],
   "source": [
    "import sys\n",
    "sys.path.append('/home/samer/projects/fuzzy_sql/src')\n",
    "\n",
    "from fuzzy_sql.fuzzy_sql import *\n",
    "import json\n",
    "import os\n",
    "from pathlib import Path"
   ]
  },
  {
   "cell_type": "code",
   "execution_count": 2,
   "metadata": {},
   "outputs": [],
   "source": [
    "# set directories\n",
    "root_dir = Path('/home/samer/projects/fuzzy_sql')\n",
    "metadata_dir = os.path.join(root_dir, 'data/cms/processed/metadata')\n",
    "real_dir = os.path.join(root_dir, 'data/cms/raw/sample1')\n",
    "syn_dir = os.path.join(root_dir, 'data/cms/raw/sample2')\n",
    "db_path = os.path.join(root_dir, 'db/cms.db')"
   ]
  },
  {
   "cell_type": "code",
   "execution_count": 3,
   "metadata": {},
   "outputs": [],
   "source": [
    "# identify input data file names\n",
    "real_csvs=[\"DE1_0_2008_Beneficiary_Summary_File_Sample_1.csv\",\\\n",
    "    \"DE1_0_2009_Beneficiary_Summary_File_Sample_1.csv\",\\\n",
    "    \"DE1_0_2010_Beneficiary_Summary_File_Sample_1.csv\",\\\n",
    "    \"DE1_0_2008_to_2010_Carrier_Claims_Sample_1A.csv\",\\\n",
    "    \"DE1_0_2008_to_2010_Carrier_Claims_Sample_1B.csv\" ,\\\n",
    "    \"DE1_0_2008_to_2010_Inpatient_Claims_Sample_1.csv\",\\\n",
    "    \"DE1_0_2008_to_2010_Outpatient_Claims_Sample_1.csv\",\\\n",
    "    \"DE1_0_2008_to_2010_Prescription_Drug_Events_Sample_1.csv\" ]\n",
    "\n",
    "meta_jsons=['s1_ben_sum_2008.json','s1_ben_sum_2009.json','s1_ben_sum_2010.json','s1_carrier_1a.json',\\\n",
    "    's1_carrier_1b.json','s1_inpatient.json','s1_outpatient.json','s1_prescrp.json']\n",
    "\n",
    "syn_csvs=[\"DE1_0_2008_Beneficiary_Summary_File_Sample_2.csv\",\\\n",
    "    \"DE1_0_2009_Beneficiary_Summary_File_Sample_2.csv\",\\\n",
    "    \"DE1_0_2010_Beneficiary_Summary_File_Sample_2.csv\",\\\n",
    "    \"DE1_0_2008_to_2010_Carrier_Claims_Sample_2A.csv\",\\\n",
    "    \"DE1_0_2008_to_2010_Carrier_Claims_Sample_2B.csv\" ,\\\n",
    "    \"DE1_0_2008_to_2010_Inpatient_Claims_Sample_2.csv\",\\\n",
    "    \"DE1_0_2008_to_2010_Outpatient_Claims_Sample_2.csv\",\\\n",
    "    \"DE1_0_2008_to_2010_Prescription_Drug_Events_Sample_2.csv\" ]\n",
    "\n",
    "#extracted rows from corresponding tables\n",
    "rows=[10000,10000,10000,20000,20000,15000,15000,15000]"
   ]
  },
  {
   "cell_type": "code",
   "execution_count": 4,
   "metadata": {},
   "outputs": [],
   "source": [
    "# connect to db\n",
    "conn = sqlite3.connect(db_path)"
   ]
  },
  {
   "cell_type": "markdown",
   "metadata": {},
   "source": [
    "### Prepare data and import it into the database with indexing\n"
   ]
  },
  {
   "cell_type": "code",
   "execution_count": 5,
   "metadata": {},
   "outputs": [
    {
     "name": "stdout",
     "output_type": "stream",
     "text": [
      "Table s1_ben_sum_2008 already exists in the database\n",
      "Table s2_ben_sum_2008 already exists in the database\n",
      "Table s1_ben_sum_2009 already exists in the database\n",
      "Table s2_ben_sum_2009 already exists in the database\n",
      "Table s1_ben_sum_2010 already exists in the database\n",
      "Table s2_ben_sum_2010 already exists in the database\n",
      "Table s1_carrier_1a already exists in the database\n",
      "Table s2_carrier_1a already exists in the database\n",
      "Table s1_carrier_1b already exists in the database\n",
      "Table s2_carrier_1b already exists in the database\n",
      "Table s1_inpatient already exists in the database\n",
      "Table s2_inpatient already exists in the database\n",
      "Table s1_outpatient already exists in the database\n",
      "Table s2_outpatient already exists in the database\n",
      "Table s1_prescrp already exists in the database\n",
      "Table s2_prescrp already exists in the database\n"
     ]
    }
   ],
   "source": [
    "for real_csv,meta_json,syn_csv, rows_i in zip(real_csvs,meta_jsons,syn_csvs, rows):\n",
    "    #Import real\n",
    "    data,_=prep_data_for_db(os.path.join(real_dir,real_csv),nrows=rows_i) # Note: This function  can be used to quickly generate metadata template, but this is not shown here.\n",
    "    with open(os.path.join(metadata_dir, meta_json), 'r') as f:\n",
    "        metadata=json.load(f)\n",
    "    candidate_db_idx=get_vars_to_index(metadata,data)\n",
    "    table_name=Path(meta_json).stem\n",
    "    make_table(table_name, data, conn,indx_vars=candidate_db_idx)\n",
    "\n",
    "    #Import syn\n",
    "    data,_=prep_data_for_db(os.path.join(syn_dir,syn_csv),nrows=rows_i) # Note: This function  can be used to quickly generate metadata template, but this is not shown here.\n",
    "    table_name=meta_json.replace(\"s1\",\"s2\")\n",
    "    table_name=Path(table_name).stem\n",
    "    make_table(table_name, data, conn,indx_vars=candidate_db_idx)"
   ]
  }
 ],
 "metadata": {
  "kernelspec": {
   "display_name": "Python 3.9.12 ('.env_new': venv)",
   "language": "python",
   "name": "python3"
  },
  "language_info": {
   "codemirror_mode": {
    "name": "ipython",
    "version": 3
   },
   "file_extension": ".py",
   "mimetype": "text/x-python",
   "name": "python",
   "nbconvert_exporter": "python",
   "pygments_lexer": "ipython3",
   "version": "3.9.12"
  },
  "orig_nbformat": 4,
  "vscode": {
   "interpreter": {
    "hash": "64a68e8bd398edd586640a4d3377abb7e9bbb2098a03923eb704e4a321cc929c"
   }
  }
 },
 "nbformat": 4,
 "nbformat_minor": 2
}

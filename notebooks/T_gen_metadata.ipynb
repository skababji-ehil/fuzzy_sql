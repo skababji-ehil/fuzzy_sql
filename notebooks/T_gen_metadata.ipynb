{
  "cells": [
    {
      "cell_type": "code",
      "execution_count": 6,
      "metadata": {
        "colab": {
          "base_uri": "https://localhost:8080/"
        },
        "id": "6MCFgm8VqEwR",
        "outputId": "96eca291-458c-45db-856a-6f0162493bc7"
      },
      "outputs": [],
      "source": [
        "from fuzzy_sql.fuzzy_sql import *\n",
        "from fuzzy_sql.tabular_query import TABULAR_QUERY\n",
        "from dateutil.parser import parse\n"
      ]
    },
    {
      "cell_type": "code",
      "execution_count": 7,
      "metadata": {},
      "outputs": [],
      "source": [
        "def make_metadata(data_path):\n",
        "    \"\"\"The function generates default metadata for the input csv file of data. It returns a dictionary with the selected variable types and a path to the created json file\"\"\"\n",
        "    df=pd.read_csv(data_path,encoding = \"ISO-8859-1\", dtype=str) \n",
        "    #remove any apostrophe from data\n",
        "    df=df.replace({\"'\":\"\"}, regex=True)\n",
        "    csv_path=Path(data_path)\n",
        "    meta_path=os.path.join(csv_path.parent,csv_path.stem+'.json')\n",
        "    if os.path.isfile(meta_path):\n",
        "        raise Exception(f'The file {meta_path} already exists! Please delete the file or use it for generating random queries')\n",
        "    else:\n",
        "        # df=pd.read_csv(data_path,encoding = \"ISO-8859-1\") \n",
        "        # #remove any apostrophe from data\n",
        "        # df=df.replace({\"'\":\"\"}, regex=True)\n",
        "        meta_dict={}\n",
        "        for col in df:\n",
        "            var=df[col].values\n",
        "            counts=df[col].value_counts()\n",
        "            n_classes=len(counts)\n",
        "\n",
        "            #check if numeric or not\n",
        "            if all([str(val_i).isnumeric()for val_i in list(var) ]): #values have numbers only\n",
        "                diff_var=np.diff(np.sort(var.astype(int)))\n",
        "                if n_classes<50: \n",
        "                    if np.sum(diff_var)==len(diff_var):\n",
        "                        meta_dict[col]='ordinal'\n",
        "                    else:\n",
        "                        meta_dict[col]='nominal'\n",
        "                else:\n",
        "                    meta_dict[col]='continuous'\n",
        "            else:\n",
        "                try:  #check if date\n",
        "                    for val in list(var):\n",
        "                        parse(str(val))\n",
        "                    try: #further check if it is a decimal number\n",
        "                        for val in list(var):\n",
        "                            if str(val).count('.')==1:\n",
        "                                meta_dict[col]='continuous'\n",
        "                            else:\n",
        "                                meta_dict[col]='date'\n",
        "                        continue\n",
        "                    except:\n",
        "                        meta_dict[col]='date'\n",
        "                        continue   \n",
        "                except:  \n",
        "                    meta_dict[col]='nominal'\n",
        "    \n",
        "    with open(meta_path, \"w\") as outfile:\n",
        "        json.dump(meta_dict, outfile)\n",
        "\n",
        "    print(f'Default variable types saved in {meta_path} ')\n",
        "    return meta_dict, meta_path"
      ]
    },
    {
      "cell_type": "code",
      "execution_count": 8,
      "metadata": {},
      "outputs": [
        {
          "name": "stdout",
          "output_type": "stream",
          "text": [
            "Extracted the names of 41 real datasets\n"
          ]
        }
      ],
      "source": [
        "data_dir='/home/samer/projects/fuzzy_sql/data/tabular/real'\n",
        "ds_names=extract_fnames(data_dir)\n",
        "data_path=[f'/home/samer/projects/fuzzy_sql/data/tabular/real/{ds_name}.csv' for ds_name in ds_names]"
      ]
    },
    {
      "cell_type": "code",
      "execution_count": 9,
      "metadata": {},
      "outputs": [
        {
          "name": "stdout",
          "output_type": "stream",
          "text": [
            "Default variable types saved in /home/samer/projects/fuzzy_sql/data/tabular/real/C20.json \n",
            "Default variable types saved in /home/samer/projects/fuzzy_sql/data/tabular/real/trial5.json \n",
            "Default variable types saved in /home/samer/projects/fuzzy_sql/data/tabular/real/C4.json \n",
            "Default variable types saved in /home/samer/projects/fuzzy_sql/data/tabular/real/C26.json \n",
            "Default variable types saved in /home/samer/projects/fuzzy_sql/data/tabular/real/C21.json \n",
            "Default variable types saved in /home/samer/projects/fuzzy_sql/data/tabular/real/C24.json \n",
            "Default variable types saved in /home/samer/projects/fuzzy_sql/data/tabular/real/C17.json \n",
            "Default variable types saved in /home/samer/projects/fuzzy_sql/data/tabular/real/C25.json \n",
            "Default variable types saved in /home/samer/projects/fuzzy_sql/data/tabular/real/C9.json \n",
            "Default variable types saved in /home/samer/projects/fuzzy_sql/data/tabular/real/n0147.json \n",
            "Default variable types saved in /home/samer/projects/fuzzy_sql/data/tabular/real/C15.json \n",
            "Default variable types saved in /home/samer/projects/fuzzy_sql/data/tabular/real/C8.json \n",
            "Default variable types saved in /home/samer/projects/fuzzy_sql/data/tabular/real/trial1.json \n",
            "Default variable types saved in /home/samer/projects/fuzzy_sql/data/tabular/real/C7.json \n",
            "Default variable types saved in /home/samer/projects/fuzzy_sql/data/tabular/real/n0147DFS.json \n",
            "Default variable types saved in /home/samer/projects/fuzzy_sql/data/tabular/real/C18.json \n",
            "Default variable types saved in /home/samer/projects/fuzzy_sql/data/tabular/real/C23.json \n",
            "Default variable types saved in /home/samer/projects/fuzzy_sql/data/tabular/real/trial2.json \n",
            "Default variable types saved in /home/samer/projects/fuzzy_sql/data/tabular/real/C2.json \n",
            "Default variable types saved in /home/samer/projects/fuzzy_sql/data/tabular/real/n0147OS.json \n",
            "Default variable types saved in /home/samer/projects/fuzzy_sql/data/tabular/real/oncovid_dtd.json \n",
            "Default variable types saved in /home/samer/projects/fuzzy_sql/data/tabular/real/C14.json \n",
            "Default variable types saved in /home/samer/projects/fuzzy_sql/data/tabular/real/C13.json \n",
            "Default variable types saved in /home/samer/projects/fuzzy_sql/data/tabular/real/C6.json \n",
            "Default variable types saved in /home/samer/projects/fuzzy_sql/data/tabular/real/C22.json \n",
            "Default variable types saved in /home/samer/projects/fuzzy_sql/data/tabular/real/C10.json \n",
            "Default variable types saved in /home/samer/projects/fuzzy_sql/data/tabular/real/C1.json \n",
            "Default variable types saved in /home/samer/projects/fuzzy_sql/data/tabular/real/dad.json \n",
            "Default variable types saved in /home/samer/projects/fuzzy_sql/data/tabular/real/C19.json \n",
            "Default variable types saved in /home/samer/projects/fuzzy_sql/data/tabular/real/danish.json \n",
            "Default variable types saved in /home/samer/projects/fuzzy_sql/data/tabular/real/C5.json \n",
            "Default variable types saved in /home/samer/projects/fuzzy_sql/data/tabular/real/C27.json \n",
            "Default variable types saved in /home/samer/projects/fuzzy_sql/data/tabular/real/C16.json \n",
            "Default variable types saved in /home/samer/projects/fuzzy_sql/data/tabular/real/cchs.json \n",
            "Default variable types saved in /home/samer/projects/fuzzy_sql/data/tabular/real/C12.json \n",
            "Default variable types saved in /home/samer/projects/fuzzy_sql/data/tabular/real/C3.json \n",
            "Default variable types saved in /home/samer/projects/fuzzy_sql/data/tabular/real/trial3.json \n",
            "Default variable types saved in /home/samer/projects/fuzzy_sql/data/tabular/real/trial4.json \n",
            "Default variable types saved in /home/samer/projects/fuzzy_sql/data/tabular/real/C11.json \n",
            "Default variable types saved in /home/samer/projects/fuzzy_sql/data/tabular/real/C28.json \n",
            "Default variable types saved in /home/samer/projects/fuzzy_sql/data/tabular/real/trial6.json \n"
          ]
        }
      ],
      "source": [
        "metadata=[]\n",
        "for this_path in data_path:\n",
        "    this_metadata,_=make_metadata(this_path)\n",
        "    metadata.append(this_metadata)"
      ]
    },
    {
      "cell_type": "code",
      "execution_count": null,
      "metadata": {},
      "outputs": [],
      "source": []
    }
  ],
  "metadata": {
    "colab": {
      "collapsed_sections": [],
      "provenance": [],
      "toc_visible": true
    },
    "kernelspec": {
      "display_name": "Python 3.8.10 ('.env': venv)",
      "language": "python",
      "name": "python3"
    },
    "language_info": {
      "codemirror_mode": {
        "name": "ipython",
        "version": 3
      },
      "file_extension": ".py",
      "mimetype": "text/x-python",
      "name": "python",
      "nbconvert_exporter": "python",
      "pygments_lexer": "ipython3",
      "version": "3.8.10"
    },
    "vscode": {
      "interpreter": {
        "hash": "fc49a92f4a12d3ad9bc1d95f284515a18cbfb8c145f08366ba0744cd0c13d800"
      }
    }
  },
  "nbformat": 4,
  "nbformat_minor": 0
}

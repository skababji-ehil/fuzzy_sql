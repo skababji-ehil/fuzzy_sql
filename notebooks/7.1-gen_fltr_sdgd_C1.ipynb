{
 "cells": [
  {
   "cell_type": "code",
   "execution_count": 1,
   "metadata": {},
   "outputs": [],
   "source": [
    "from config_paths import *\n",
    "import sys\n",
    "sys.path.append(str(SRC_DIR))\n",
    "\n",
    "from fuzzy_sql.generate import gen_fltr_queries, calc_tabular_hlngr\n",
    "import numpy as np\n",
    "import pandas as pd\n",
    "import json\n",
    "import os\n",
    "from pathlib import Path\n",
    "\n",
    "DATASET_NAME='sdgd'\n",
    "\n",
    "\n"
   ]
  },
  {
   "cell_type": "code",
   "execution_count": 2,
   "metadata": {},
   "outputs": [],
   "source": [
    "# set directories\n",
    "metadata_dir = os.path.join(DATA_DIR, DATASET_NAME,'processed/metadata')\n",
    "real_dir = os.path.join(DATA_DIR,DATASET_NAME, 'processed/real')\n",
    "syn_dir = os.path.join(DATA_DIR,DATASET_NAME, 'processed/synthetic')\n",
    "db_path = os.path.join(DB_DIR, f'{DATASET_NAME}.db')"
   ]
  },
  {
   "cell_type": "code",
   "execution_count": 3,
   "metadata": {},
   "outputs": [],
   "source": [
    "#Define input data\n",
    "input_real_names=['C1']\n",
    "input_dics=[]\n",
    "for table_name in input_real_names:\n",
    "    with open(os.path.join(metadata_dir,table_name+'.json'), 'r') as f:\n",
    "        dic=json.load(f)\n",
    "    input_dics.append(dic)\n",
    "input_syn_names=['C1_syn_default_1']"
   ]
  },
  {
   "cell_type": "code",
   "execution_count": 4,
   "metadata": {},
   "outputs": [
    {
     "name": "stdout",
     "output_type": "stream",
     "text": [
      "Variable hours_per_week is defined as continuous but it has very small number of observations, so it will be treated as categorical variable\n",
      "0.10142180944864772\n"
     ]
    }
   ],
   "source": [
    "database_hlngr=calc_tabular_hlngr(db_path,input_real_names[0],input_dics[0],input_syn_names[0])\n",
    "print(database_hlngr['hlngr_median'])"
   ]
  },
  {
   "cell_type": "code",
   "execution_count": 5,
   "metadata": {},
   "outputs": [
    {
     "name": "stdout",
     "output_type": "stream",
     "text": [
      "Variable hours_per_week is defined as continuous but it has very small number of observations, so it will be treated as categorical variable\n",
      "Generated Random Filter Query - 1 in 1.4 seconds.\n",
      "\n",
      "\n",
      "Variable hours_per_week is defined as continuous but it has very small number of observations, so it will be treated as categorical variable\n",
      "Generated Random Filter Query - 2 in 1.3 seconds.\n",
      "\n",
      "\n",
      "Variable hours_per_week is defined as continuous but it has very small number of observations, so it will be treated as categorical variable\n",
      "Generated Random Filter Query - 3 in 1.1 seconds.\n",
      "\n",
      "\n",
      "Variable hours_per_week is defined as continuous but it has very small number of observations, so it will be treated as categorical variable\n",
      "Generated Random Filter Query - 4 in 7.8 seconds.\n",
      "\n",
      "\n",
      "Variable hours_per_week is defined as continuous but it has very small number of observations, so it will be treated as categorical variable\n",
      "Generated Random Filter Query - 5 in 9.8 seconds.\n",
      "\n",
      "\n",
      "Generated Random Filter Query - 6 in 0.9 seconds.\n",
      "\n",
      "\n",
      "Variable hours_per_week is defined as continuous but it has very small number of observations, so it will be treated as categorical variable\n",
      "Generated Random Filter Query - 7 in 7.6 seconds.\n",
      "\n",
      "\n",
      "Variable age is defined as continuous but it has very small number of observations, so it will be treated as categorical variable\n",
      "Variable fnlwgt is defined as continuous but it has very small number of observations, so it will be treated as categorical variable\n",
      "Variable hours_per_week is defined as continuous but it has very small number of observations, so it will be treated as categorical variable\n",
      "Variable capital is defined as continuous but it has very small number of observations, so it will be treated as categorical variable\n",
      "Generated Random Filter Query - 8 in 1.0 seconds.\n",
      "\n",
      "\n",
      "Variable hours_per_week is defined as continuous but it has very small number of observations, so it will be treated as categorical variable\n",
      "Generated Random Filter Query - 9 in 8.8 seconds.\n",
      "\n",
      "\n",
      "Generated Random Filter Query - 10 in 0.9 seconds.\n",
      "\n",
      "\n",
      "[0.09004200364459286, 0.13273353994467327, 0.24692937136754073, 0.0747345070018118, 0.1033506144971853, nan, 0.07436443060198307, 0.7071067811865476, 0.10599678228331252, nan]\n"
     ]
    }
   ],
   "source": [
    "scored_queries=gen_fltr_queries(10,db_path,input_real_names,input_dics, input_syn_names)\n",
    "print([scored_query['hlngr_median'] for scored_query in scored_queries])"
   ]
  }
 ],
 "metadata": {
  "kernelspec": {
   "display_name": ".env_dev",
   "language": "python",
   "name": "python3"
  },
  "language_info": {
   "codemirror_mode": {
    "name": "ipython",
    "version": 3
   },
   "file_extension": ".py",
   "mimetype": "text/x-python",
   "name": "python",
   "nbconvert_exporter": "python",
   "pygments_lexer": "ipython3",
   "version": "3.8.10"
  },
  "orig_nbformat": 4,
  "vscode": {
   "interpreter": {
    "hash": "6cf594385e3e378fbba23be52d8fa8a1ff0f44816650af8bcee05fc5c8211531"
   }
  }
 },
 "nbformat": 4,
 "nbformat_minor": 2
}

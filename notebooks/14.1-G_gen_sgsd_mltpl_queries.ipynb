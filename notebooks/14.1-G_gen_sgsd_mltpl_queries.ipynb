{
 "cells": [
  {
   "cell_type": "code",
   "execution_count": 1,
   "metadata": {},
   "outputs": [],
   "source": [
    "import sys\n",
    "sys.path.append('/home/samer/projects/fuzzy_sql/src') #This will enable reading the modules\n",
    "from pathlib import Path\n",
    "import os\n",
    "import json\n",
    "import time\n",
    "\n",
    "from fuzzy_sql.rnd_query import RND_QUERY\n",
    "from fuzzy_sql.fuzzy_sql import *"
   ]
  },
  {
   "cell_type": "code",
   "execution_count": 2,
   "metadata": {},
   "outputs": [],
   "source": [
    "#set directories\n",
    "root_dir=Path('/home/samer/projects/fuzzy_sql')\n",
    "metadata_dir=os.path.join(root_dir,'data/sdgd/processed/metadata')\n",
    "db_path=os.path.join(root_dir,'db/sdgd.db')"
   ]
  },
  {
   "cell_type": "code",
   "execution_count": 3,
   "metadata": {},
   "outputs": [],
   "source": [
    "#define input tables and metadata\n",
    "\n",
    "tbl_names_lst=[\"C1\"]\n",
    "syn_tbl_name_lst=['C1_syn_default_1']\n",
    "\n",
    "metadata_lst=[]\n",
    "for tbl_name in tbl_names_lst:\n",
    "    with open(os.path.join(metadata_dir,tbl_name+'.json'),'r') as f:\n",
    "        metadata_lst.append(json.load(f))\n",
    "\n",
    "#setup parameters\n",
    "DFLT_PARAMS={\n",
    "    'AGG_OPS':{'AVG':0.5, 'SUM':0.3, 'MAX':0.1, 'MIN':0.1 },\n",
    "    'LOGIC_OPS':{'AND':0.9,'OR':0.1},\n",
    "    'NOT_STATE':{'0':0.8, '1':0.2},\n",
    "    'CAT_OPS':{'=':0.25, '<>':0.25, 'LIKE':0.15, 'IN':0.15, 'NOT LIKE':0.1, 'NOT IN':0.1},\n",
    "    'CNT_OPS':{'=':0.2, '>':0.1, '<':0.1, '>=':0.1, '<=':0.1, '<>':0.1, 'BETWEEN':0.2, 'NOT BETWEEN':0.1},\n",
    "    'DT_OPS':{'=':0.2, '>':0.1, '<':0.1, '>=':0, '<=':0, '<>':0.1, 'BETWEEN':0.2, 'IN':0.1, 'NOT BETWEEN':0.1, 'NOT IN':0.1},\n",
    "    # 'FILTER_TYPE':{'WHERE':0.5, 'AND':0.5}, #Use WHERE or AND with JOIN CLAUSE\n",
    "    # 'JOIN_TYPE': {'JOIN':0.5, 'LEFT JOIN':0.5}\n",
    "}\n",
    "\n",
    "#connect to db\n",
    "conn = sqlite3.connect(db_path)\n",
    "\n"
   ]
  },
  {
   "cell_type": "code",
   "execution_count": 8,
   "metadata": {},
   "outputs": [
    {
     "name": "stdout",
     "output_type": "stream",
     "text": [
      "Metadata fot table C1 validated.\n",
      "Generated Random Aggregate Filter Query - 0 \n",
      "Metadata fot table C1 validated.\n",
      "Generated Random Aggregate Filter Query - 1 \n",
      "Metadata fot table C1 validated.\n",
      "Generated Random Aggregate Filter Query - 2 \n",
      "Metadata fot table C1 validated.\n",
      "Generated Random Aggregate Filter Query - 3 \n",
      "Metadata fot table C1 validated.\n",
      "Generated Random Aggregate Filter Query - 4 \n",
      "Metadata fot table C1 validated.\n",
      "Generated Random Aggregate Filter Query - 5 \n",
      "Metadata fot table C1 validated.\n",
      "Generated Random Aggregate Filter Query - 6 \n",
      "Metadata fot table C1 validated.\n",
      "Generated Random Aggregate Filter Query - 7 \n",
      "Metadata fot table C1 validated.\n",
      "Generated Random Aggregate Filter Query - 8 \n",
      "Metadata fot table C1 validated.\n",
      "Generated Random Aggregate Filter Query - 9 \n"
     ]
    }
   ],
   "source": [
    "n_queries=10\n",
    "queries = []\n",
    "timeout=0.01 #maximum time in secs to execute the query, otherwise it will be skipped to next random query \n",
    "for k in range(n_queries):\n",
    "    query_obj=RND_QUERY(conn, tbl_names_lst, metadata_lst,DFLT_PARAMS)\n",
    "    query_obj.no_groupby_vars=2\n",
    "    query_obj.no_where_vars=3\n",
    "    tbl_name=tbl_names_lst[0] \n",
    "    start_time=time.time()\n",
    "    if len(query_obj._get_tbl_vars_by_type('CNT', tbl_name, drop_key=True))!=0: #if tabular set includes continuous variable\n",
    "        while time.time() < start_time+timeout:\n",
    "            rnd_query=query_obj.make_twin_aggfltr_query(syn_tbl_name_lst, agg_fntn=True)\n",
    "            matched_query=query_obj._match_twin_query(rnd_query)\n",
    "            scored_query=query_obj.calc_dist_scores(matched_query)\n",
    "            queries.append(scored_query)\n",
    "            print('Generated Random Aggregate Filter Query - {} '.format(str(k)))\n",
    "            break      \n",
    "    else:\n",
    "        while time.time() < start_time+timeout:\n",
    "            rnd_query=query_obj.make_twin_aggfltr_query(syn_tbl_name_lst, agg_fntn=False)\n",
    "            matched_query=query_obj._match_twin_query(rnd_query)\n",
    "            scored_query=query_obj.calc_dist_scores(matched_query)\n",
    "            queries.append(scored_query)\n",
    "            print('Generated Random Aggregate Filter Query - {} '.format(str(k)))\n",
    "            break\n",
    "        \n",
    "\n",
    "\n"
   ]
  },
  {
   "cell_type": "code",
   "execution_count": null,
   "metadata": {},
   "outputs": [],
   "source": []
  }
 ],
 "metadata": {
  "kernelspec": {
   "display_name": "Python 3.8.10 ('.env_dev': venv)",
   "language": "python",
   "name": "python3"
  },
  "language_info": {
   "codemirror_mode": {
    "name": "ipython",
    "version": 3
   },
   "file_extension": ".py",
   "mimetype": "text/x-python",
   "name": "python",
   "nbconvert_exporter": "python",
   "pygments_lexer": "ipython3",
   "version": "3.8.10"
  },
  "orig_nbformat": 4,
  "vscode": {
   "interpreter": {
    "hash": "6cf594385e3e378fbba23be52d8fa8a1ff0f44816650af8bcee05fc5c8211531"
   }
  }
 },
 "nbformat": 4,
 "nbformat_minor": 2
}

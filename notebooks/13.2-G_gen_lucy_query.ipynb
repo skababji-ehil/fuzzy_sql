{
 "cells": [
  {
   "cell_type": "code",
   "execution_count": 1,
   "metadata": {},
   "outputs": [],
   "source": [
    "import sys\n",
    "sys.path.append('/home/samer/projects/fuzzy_sql/src') #This will enable reading the modules\n",
    "from pathlib import Path\n",
    "import os\n",
    "import json\n",
    "\n",
    "from fuzzy_sql.rnd_query import RND_QUERY\n",
    "from fuzzy_sql.fuzzy_sql import *"
   ]
  },
  {
   "cell_type": "code",
   "execution_count": 2,
   "metadata": {},
   "outputs": [],
   "source": [
    "#set directories\n",
    "root_dir=Path('/home/samer/projects/fuzzy_sql')\n",
    "metadata_dir=os.path.join(root_dir,'data/lucy/processed/metadata')\n",
    "db_path=os.path.join(root_dir,'db/lucy.db')"
   ]
  },
  {
   "cell_type": "code",
   "execution_count": 3,
   "metadata": {},
   "outputs": [],
   "source": [
    "#define input tables and metadata\n",
    "tbl_names_lst=[\"b_sample\",\"l_sample\"]\n",
    "\n",
    "metadata_lst=[]\n",
    "for tbl_name in tbl_names_lst:\n",
    "    with open(os.path.join(metadata_dir,tbl_name+'.json'),'r') as f:\n",
    "        metadata_lst.append(json.load(f))"
   ]
  },
  {
   "cell_type": "code",
   "execution_count": 4,
   "metadata": {},
   "outputs": [
    {
     "name": "stdout",
     "output_type": "stream",
     "text": [
      "Metadata for table b_sample is valid.\n",
      "Metadata for table l_sample is valid.\n",
      "Parameter input is valid.\n"
     ]
    }
   ],
   "source": [
    "#connect to db\n",
    "conn = sqlite3.connect(db_path)\n",
    "self=RND_QUERY(conn, tbl_names_lst, metadata_lst)"
   ]
  },
  {
   "cell_type": "markdown",
   "metadata": {},
   "source": [
    "# Generate Random  queries "
   ]
  },
  {
   "cell_type": "code",
   "execution_count": 5,
   "metadata": {},
   "outputs": [
    {
     "name": "stdout",
     "output_type": "stream",
     "text": [
      "no_of_rows=28657\n",
      "no_of_cols=5\n",
      "product=143.285\n",
      "\n",
      "\n",
      "SELECT b_sample.HISPANIC, l_sample.DX1, b_sample.PL_UIC20, COUNT(*), AVG(l_sample.NPR)  FROM b_sample  LEFT JOIN l_sample  ON b_sample.PNUM_R=l_sample.PNUM_R  GROUP BY b_sample.HISPANIC, l_sample.DX1, b_sample.PL_UIC20\n"
     ]
    }
   ],
   "source": [
    "#Single Aggregate \n",
    "rnd_query=self.make_single_agg_query()\n",
    "\n",
    "n_rows=rnd_query['query_desc']['n_rows']\n",
    "n_cols=rnd_query['query_desc']['n_cols']\n",
    "\n",
    "print(f\"no_of_rows={n_rows}\\nno_of_cols={n_cols}\\nproduct={n_rows*n_cols/1000}\")\n",
    "print(\"\\n\")\n",
    "print(rnd_query['query_desc']['sql'])"
   ]
  },
  {
   "cell_type": "code",
   "execution_count": 6,
   "metadata": {},
   "outputs": [
    {
     "name": "stdout",
     "output_type": "stream",
     "text": [
      "REAL:\n",
      "no_of_rows=47\n",
      "no_of_cols=7\n",
      "product=0.329\n",
      "\n",
      "\n",
      "SYN:\n",
      "no_of_rows=47\n",
      "no_of_cols=7\n",
      "product=0.329\n",
      "\n",
      "\n",
      "SELECT b_sample.PL_RUCA4, b_sample.DIED, b_sample.NEOMAT, b_sample.HOSPBRTH, b_sample.FEMALE, COUNT(*), MIN(l_sample.NPR)  FROM b_sample  JOIN l_sample  ON b_sample.PNUM_R=l_sample.PNUM_R  GROUP BY b_sample.PL_RUCA4, b_sample.DIED, b_sample.NEOMAT, b_sample.HOSPBRTH, b_sample.FEMALE\n",
      "\n",
      "\n",
      "SELECT b_sample_syn_01.PL_RUCA4, b_sample_syn_01.DIED, b_sample_syn_01.NEOMAT, b_sample_syn_01.HOSPBRTH, b_sample_syn_01.FEMALE, COUNT(*), MIN(l_sample_syn_01.NPR)  FROM b_sample_syn_01  JOIN l_sample_syn_01  ON b_sample_syn_01.PNUM_R=l_sample_syn_01.PNUM_R  GROUP BY b_sample_syn_01.PL_RUCA4, b_sample_syn_01.DIED, b_sample_syn_01.NEOMAT, b_sample_syn_01.HOSPBRTH, b_sample_syn_01.FEMALE\n"
     ]
    }
   ],
   "source": [
    "#Twin Aggregate \n",
    "syn_tbl_name_lst=['b_sample_syn_01','l_sample_syn_01']\n",
    "rnd_query=self.make_twin_agg_query(syn_tbl_name_lst)\n",
    "\n",
    "n_rows_real=rnd_query['query_desc']['n_rows_real']\n",
    "n_cols_real=rnd_query['query_desc']['n_cols_real']\n",
    "n_rows_syn=rnd_query['query_desc']['n_rows_syn']\n",
    "n_cols_syn=rnd_query['query_desc']['n_cols_syn']\n",
    "\n",
    "print(f\"REAL:\\nno_of_rows={n_rows_real}\\nno_of_cols={n_cols_real}\\nproduct={n_rows_real*n_cols_real/1000}\\n\\n\")\n",
    "print(f\"SYN:\\nno_of_rows={n_rows_syn}\\nno_of_cols={n_cols_syn}\\nproduct={n_rows_syn*n_cols_syn/1000}\\n\\n\")\n",
    "print(rnd_query['query_desc']['sql_real'])\n",
    "print(\"\\n\")\n",
    "print(rnd_query['query_desc']['sql_syn'])"
   ]
  },
  {
   "cell_type": "code",
   "execution_count": 7,
   "metadata": {},
   "outputs": [
    {
     "name": "stdout",
     "output_type": "stream",
     "text": [
      "no_of_rows=711928\n",
      "no_of_cols=31\n",
      "product=22069.768\n",
      "\n",
      "\n",
      "SELECT *  FROM b_sample  LEFT JOIN l_sample  ON b_sample.PNUM_R=l_sample.PNUM_R  AND   b_sample.DIED = '0' AND  l_sample.ASCHED = '0' \n"
     ]
    }
   ],
   "source": [
    "#Single Filter\n",
    "\n",
    "# self.max_in_terms=2\n",
    "# self.no_groupby_vars=2\n",
    "self.no_where_vars=2\n",
    "# self.no_join_tables=1\n",
    "\n",
    "rnd_query=self.make_single_fltr_query()\n",
    "\n",
    "\n",
    "n_rows=rnd_query['query_desc']['n_rows']\n",
    "n_cols=rnd_query['query_desc']['n_cols']\n",
    "\n",
    "print(f\"no_of_rows={n_rows}\\nno_of_cols={n_cols}\\nproduct={n_rows*n_cols/1000}\")\n",
    "print(\"\\n\")\n",
    "print(rnd_query['query_desc']['sql'])"
   ]
  },
  {
   "cell_type": "code",
   "execution_count": 8,
   "metadata": {},
   "outputs": [
    {
     "name": "stdout",
     "output_type": "stream",
     "text": [
      "REAL:\n",
      "no_of_rows=3747\n",
      "no_of_cols=31\n",
      "product=116.157\n",
      "\n",
      "\n",
      "SYN:\n",
      "no_of_rows=3131\n",
      "no_of_cols=31\n",
      "product=97.061\n",
      "\n",
      "\n",
      "SELECT *  FROM b_sample  JOIN l_sample  ON b_sample.PNUM_R=l_sample.PNUM_R  WHERE  NOT  l_sample.NPR < 4 AND NOT  b_sample.PL_CBSA = '2' \n",
      "\n",
      "\n",
      "SELECT *  FROM b_sample_syn_01  JOIN l_sample_syn_01  ON b_sample_syn_01.PNUM_R=l_sample_syn_01.PNUM_R  WHERE  NOT  l_sample_syn_01.NPR < 4 AND NOT  b_sample_syn_01.PL_CBSA = '2' \n"
     ]
    }
   ],
   "source": [
    "# Twin Filter \n",
    "\n",
    "self.no_where_vars=2\n",
    "\n",
    "syn_tbl_name_lst=['b_sample_syn_01','l_sample_syn_01']\n",
    "rnd_query=self.make_twin_fltr_query(syn_tbl_name_lst)\n",
    "\n",
    "n_rows_real=rnd_query['query_desc']['n_rows_real']\n",
    "n_cols_real=rnd_query['query_desc']['n_cols_real']\n",
    "n_rows_syn=rnd_query['query_desc']['n_rows_syn']\n",
    "n_cols_syn=rnd_query['query_desc']['n_cols_syn']\n",
    "\n",
    "print(f\"REAL:\\nno_of_rows={n_rows_real}\\nno_of_cols={n_cols_real}\\nproduct={n_rows_real*n_cols_real/1000}\\n\\n\")\n",
    "print(f\"SYN:\\nno_of_rows={n_rows_syn}\\nno_of_cols={n_cols_syn}\\nproduct={n_rows_syn*n_cols_syn/1000}\\n\\n\")\n",
    "print(rnd_query['query_desc']['sql_real'])\n",
    "print(\"\\n\")\n",
    "print(rnd_query['query_desc']['sql_syn'])"
   ]
  },
  {
   "cell_type": "markdown",
   "metadata": {},
   "source": [
    "rnd_query['query_desc']"
   ]
  },
  {
   "cell_type": "code",
   "execution_count": 9,
   "metadata": {},
   "outputs": [
    {
     "data": {
      "text/plain": [
       "\" This query resulted in kernel crash \\nSELECT *  FROM b_sample  JOIN l_sample  ON b_sample.PNUM_R=l_sample.PNUM_R  AND   b_sample.Homeless IN ('0', '0', '0') AND  l_sample.TOTCHG >= 85649 AND  l_sample.HCUP_ED = 0 AND  l_sample.PROCTYPE <= 1 AND  l_sample.DX1 = '515' AND  b_sample.NEOMAT IN ('0', '0', '0') AND  l_sample.Date > 6 AND  b_sample.RACE LIKE '1' AND NOT  l_sample.ASCHED IN ('0', '0', '0') OR  b_sample.PL_RUCA4 <> '1' AND  l_sample.NPR <> 3 AND  l_sample.NECODE < 2 AND  l_sample.AWEEKEND > 0 AND NOT  b_sample.DIED LIKE '0' AND  b_sample.PL_UIC20 LIKE '1' AND  b_sample.PL_CBSA <> '2' AND  b_sample.DNR IN ('0', '0', '0') AND  b_sample.HISPANIC IN ('2', '1', '1') OR  b_sample.PL_RUCC2 IN ('1', '1', '1') \\n\\n\""
      ]
     },
     "execution_count": 9,
     "metadata": {},
     "output_type": "execute_result"
    }
   ],
   "source": [
    "''' This query resulted in kernel crash \n",
    "SELECT *  FROM b_sample  JOIN l_sample  ON b_sample.PNUM_R=l_sample.PNUM_R  AND   b_sample.Homeless IN ('0', '0', '0') AND  l_sample.TOTCHG >= 85649 AND  l_sample.HCUP_ED = 0 AND  l_sample.PROCTYPE <= 1 AND  l_sample.DX1 = '515' AND  b_sample.NEOMAT IN ('0', '0', '0') AND  l_sample.Date > 6 AND  b_sample.RACE LIKE '1' AND NOT  l_sample.ASCHED IN ('0', '0', '0') OR  b_sample.PL_RUCA4 <> '1' AND  l_sample.NPR <> 3 AND  l_sample.NECODE < 2 AND  l_sample.AWEEKEND > 0 AND NOT  b_sample.DIED LIKE '0' AND  b_sample.PL_UIC20 LIKE '1' AND  b_sample.PL_CBSA <> '2' AND  b_sample.DNR IN ('0', '0', '0') AND  b_sample.HISPANIC IN ('2', '1', '1') OR  b_sample.PL_RUCC2 IN ('1', '1', '1') \n",
    "\n",
    "'''"
   ]
  },
  {
   "cell_type": "code",
   "execution_count": 10,
   "metadata": {},
   "outputs": [
    {
     "name": "stdout",
     "output_type": "stream",
     "text": [
      "no_of_rows=53\n",
      "no_of_cols=16\n",
      "product=0.848\n",
      "\n",
      "\n",
      "SELECT b_sample.Homeless, b_sample.PL_UR_CA, b_sample.PL_RUCC2, l_sample.DX1, b_sample.DIED, b_sample.MEDINCST, b_sample.DNR, b_sample.FEMALE, b_sample.HOSPBRTH, b_sample.PL_CBSA, b_sample.PL_UIC20, b_sample.PL_RUCA4, b_sample.PL_NCHS2, b_sample.NEOMAT, COUNT(*), AVG(l_sample.HCUP_ED)  FROM b_sample  JOIN l_sample  ON b_sample.PNUM_R=l_sample.PNUM_R  AND   l_sample.HCUP_ED <> 4 AND  l_sample.DX1 = '29534'  GROUP BY b_sample.Homeless, b_sample.PL_UR_CA, b_sample.PL_RUCC2, l_sample.DX1, b_sample.DIED, b_sample.MEDINCST, b_sample.DNR, b_sample.FEMALE, b_sample.HOSPBRTH, b_sample.PL_CBSA, b_sample.PL_UIC20, b_sample.PL_RUCA4, b_sample.PL_NCHS2, b_sample.NEOMAT\n"
     ]
    }
   ],
   "source": [
    "# single Aggregate-Filter\n",
    "\n",
    "\n",
    "# self.max_in_terms=2\n",
    "# self.no_groupby_vars=2\n",
    "self.no_where_vars=2\n",
    "# self.no_join_tables=1\n",
    "\n",
    "rnd_query=self.make_single_aggfltr_query()\n",
    "\n",
    "\n",
    "n_rows=rnd_query['query_desc']['n_rows']\n",
    "n_cols=rnd_query['query_desc']['n_cols']\n",
    "\n",
    "print(f\"no_of_rows={n_rows}\\nno_of_cols={n_cols}\\nproduct={n_rows*n_cols/1000}\")\n",
    "print(\"\\n\")\n",
    "print(rnd_query['query_desc']['sql'])"
   ]
  },
  {
   "cell_type": "code",
   "execution_count": 11,
   "metadata": {},
   "outputs": [
    {
     "name": "stdout",
     "output_type": "stream",
     "text": [
      "REAL:\n",
      "no_of_rows=0\n",
      "no_of_cols=9\n",
      "product=0.0\n",
      "\n",
      "\n",
      "SYN:\n",
      "no_of_rows=0\n",
      "no_of_cols=9\n",
      "product=0.0\n",
      "\n",
      "\n",
      "SELECT b_sample.PL_UR_CA, b_sample.HISPANIC, b_sample.PL_RUCA4, b_sample.NEOMAT, b_sample.PL_RUCC2, b_sample.RACE, b_sample.PL_CBSA, COUNT(*), AVG(b_sample.AGE)  FROM b_sample  JOIN l_sample  ON b_sample.PNUM_R=l_sample.PNUM_R  WHERE   l_sample.AWEEKEND >= 0 AND  l_sample.DRGVER < 24  GROUP BY b_sample.PL_UR_CA, b_sample.HISPANIC, b_sample.PL_RUCA4, b_sample.NEOMAT, b_sample.PL_RUCC2, b_sample.RACE, b_sample.PL_CBSA\n",
      "\n",
      "\n",
      "SELECT b_sample_syn_01.PL_UR_CA, b_sample_syn_01.HISPANIC, b_sample_syn_01.PL_RUCA4, b_sample_syn_01.NEOMAT, b_sample_syn_01.PL_RUCC2, b_sample_syn_01.RACE, b_sample_syn_01.PL_CBSA, COUNT(*), AVG(b_sample_syn_01.AGE)  FROM b_sample_syn_01  JOIN l_sample_syn_01  ON b_sample_syn_01.PNUM_R=l_sample_syn_01.PNUM_R  WHERE   l_sample_syn_01.AWEEKEND >= 0 AND  l_sample_syn_01.DRGVER < 24  GROUP BY b_sample_syn_01.PL_UR_CA, b_sample_syn_01.HISPANIC, b_sample_syn_01.PL_RUCA4, b_sample_syn_01.NEOMAT, b_sample_syn_01.PL_RUCC2, b_sample_syn_01.RACE, b_sample_syn_01.PL_CBSA\n"
     ]
    }
   ],
   "source": [
    "# Twin Aggregate-Filter\n",
    "\n",
    "\n",
    "# self.max_in_terms=2\n",
    "# self.no_groupby_vars=2\n",
    "self.no_where_vars=2\n",
    "# self.no_join_tables=1\n",
    "\n",
    "\n",
    "syn_tbl_name_lst=['b_sample_syn_01','l_sample_syn_01']\n",
    "rnd_query=self.make_twin_aggfltr_query(syn_tbl_name_lst)\n",
    "\n",
    "n_rows_real=rnd_query['query_desc']['n_rows_real']\n",
    "n_cols_real=rnd_query['query_desc']['n_cols_real']\n",
    "n_rows_syn=rnd_query['query_desc']['n_rows_syn']\n",
    "n_cols_syn=rnd_query['query_desc']['n_cols_syn']\n",
    "\n",
    "print(f\"REAL:\\nno_of_rows={n_rows_real}\\nno_of_cols={n_cols_real}\\nproduct={n_rows_real*n_cols_real/1000}\\n\\n\")\n",
    "print(f\"SYN:\\nno_of_rows={n_rows_syn}\\nno_of_cols={n_cols_syn}\\nproduct={n_rows_syn*n_cols_syn/1000}\\n\\n\")\n",
    "print(rnd_query['query_desc']['sql_real'])\n",
    "print(\"\\n\")\n",
    "print(rnd_query['query_desc']['sql_syn'])"
   ]
  },
  {
   "cell_type": "code",
   "execution_count": 12,
   "metadata": {},
   "outputs": [],
   "source": [
    "matched_query=self._match_twin_query(rnd_query)\n",
    "scored_query=self.calc_dist_scores(matched_query)"
   ]
  },
  {
   "cell_type": "code",
   "execution_count": 13,
   "metadata": {},
   "outputs": [
    {
     "data": {
      "text/plain": [
       "{'type': 'twin_agg',\n",
       " 'agg_fntn': ('AVG', 'b_sample.AGE'),\n",
       " 'grpby_vars': ['PL_UR_CA',\n",
       "  'HISPANIC',\n",
       "  'PL_RUCA4',\n",
       "  'NEOMAT',\n",
       "  'PL_RUCC2',\n",
       "  'RACE',\n",
       "  'PL_CBSA'],\n",
       " 'from_tbl_name_real': 'b_sample',\n",
       " 'join_tbl_name_lst_real': ['l_sample'],\n",
       " 'sql_real': 'SELECT b_sample.PL_UR_CA, b_sample.HISPANIC, b_sample.PL_RUCA4, b_sample.NEOMAT, b_sample.PL_RUCC2, b_sample.RACE, b_sample.PL_CBSA, COUNT(*), AVG(b_sample.AGE)  FROM b_sample  JOIN l_sample  ON b_sample.PNUM_R=l_sample.PNUM_R  WHERE   l_sample.AWEEKEND >= 0 AND  l_sample.DRGVER < 24  GROUP BY b_sample.PL_UR_CA, b_sample.HISPANIC, b_sample.PL_RUCA4, b_sample.NEOMAT, b_sample.PL_RUCC2, b_sample.RACE, b_sample.PL_CBSA',\n",
       " 'n_cols_real': 9,\n",
       " 'n_rows_real': 0,\n",
       " 'from_tbl_name_syn': 'b_sample_syn_01',\n",
       " 'join_tbl_name_lst_syn': ['l_sample_syn_01'],\n",
       " 'sql_syn': 'SELECT b_sample_syn_01.PL_UR_CA, b_sample_syn_01.HISPANIC, b_sample_syn_01.PL_RUCA4, b_sample_syn_01.NEOMAT, b_sample_syn_01.PL_RUCC2, b_sample_syn_01.RACE, b_sample_syn_01.PL_CBSA, COUNT(*), AVG(b_sample_syn_01.AGE)  FROM b_sample_syn_01  JOIN l_sample_syn_01  ON b_sample_syn_01.PNUM_R=l_sample_syn_01.PNUM_R  WHERE   l_sample_syn_01.AWEEKEND >= 0 AND  l_sample_syn_01.DRGVER < 24  GROUP BY b_sample_syn_01.PL_UR_CA, b_sample_syn_01.HISPANIC, b_sample_syn_01.PL_RUCA4, b_sample_syn_01.NEOMAT, b_sample_syn_01.PL_RUCC2, b_sample_syn_01.RACE, b_sample_syn_01.PL_CBSA',\n",
       " 'n_cols_syn': 9,\n",
       " 'n_rows_syn': 0}"
      ]
     },
     "execution_count": 13,
     "metadata": {},
     "output_type": "execute_result"
    }
   ],
   "source": [
    "scored_query['query_desc']"
   ]
  },
  {
   "cell_type": "code",
   "execution_count": 14,
   "metadata": {},
   "outputs": [
    {
     "data": {
      "text/plain": [
       "nan"
      ]
     },
     "execution_count": 14,
     "metadata": {},
     "output_type": "execute_result"
    }
   ],
   "source": [
    "scored_query['query_hlngr_score']"
   ]
  },
  {
   "cell_type": "code",
   "execution_count": 15,
   "metadata": {},
   "outputs": [
    {
     "data": {
      "text/plain": [
       "nan"
      ]
     },
     "execution_count": 15,
     "metadata": {},
     "output_type": "execute_result"
    }
   ],
   "source": [
    "scored_query['query_ecldn_score']"
   ]
  }
 ],
 "metadata": {
  "kernelspec": {
   "display_name": "Python 3.8.10 ('.env_dev': venv)",
   "language": "python",
   "name": "python3"
  },
  "language_info": {
   "codemirror_mode": {
    "name": "ipython",
    "version": 3
   },
   "file_extension": ".py",
   "mimetype": "text/x-python",
   "name": "python",
   "nbconvert_exporter": "python",
   "pygments_lexer": "ipython3",
   "version": "3.8.10"
  },
  "orig_nbformat": 4,
  "vscode": {
   "interpreter": {
    "hash": "6cf594385e3e378fbba23be52d8fa8a1ff0f44816650af8bcee05fc5c8211531"
   }
  }
 },
 "nbformat": 4,
 "nbformat_minor": 2
}

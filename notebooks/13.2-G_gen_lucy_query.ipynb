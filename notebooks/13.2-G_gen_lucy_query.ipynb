{
 "cells": [
  {
   "cell_type": "code",
   "execution_count": 1,
   "metadata": {},
   "outputs": [],
   "source": [
    "import sys\n",
    "sys.path.append('/home/samer/projects/fuzzy_sql/src') #This will enable reading the modules\n",
    "from pathlib import Path\n",
    "import os\n",
    "import json\n",
    "\n",
    "from fuzzy_sql.rnd_query import RND_QUERY\n",
    "from fuzzy_sql.fuzzy_sql import *"
   ]
  },
  {
   "cell_type": "code",
   "execution_count": 2,
   "metadata": {},
   "outputs": [],
   "source": [
    "#set directories\n",
    "root_dir=Path('/home/samer/projects/fuzzy_sql')\n",
    "metadata_dir=os.path.join(root_dir,'data/lucy/processed/metadata')\n",
    "db_path=os.path.join(root_dir,'db/lucy.db')"
   ]
  },
  {
   "cell_type": "code",
   "execution_count": 3,
   "metadata": {},
   "outputs": [],
   "source": [
    "#define input tables and metadata\n",
    "tbl_names_lst=[\"b_sample\",\"l_sample\"]\n",
    "\n",
    "metadata_lst=[]\n",
    "for tbl_name in tbl_names_lst:\n",
    "    with open(os.path.join(metadata_dir,tbl_name+'.json'),'r') as f:\n",
    "        metadata_lst.append(json.load(f))"
   ]
  },
  {
   "cell_type": "code",
   "execution_count": 4,
   "metadata": {},
   "outputs": [
    {
     "name": "stdout",
     "output_type": "stream",
     "text": [
      "Metadata fot table b_sample validated.\n",
      "Metadata fot table l_sample validated.\n"
     ]
    }
   ],
   "source": [
    "#setup parameters\n",
    "DFLT_PARAMS={\n",
    "    'AGG_OPS':{'AVG':0.5, 'SUM':0.3, 'MAX':0.1, 'MIN':0.1 },\n",
    "    'LOGIC_OPS':{'AND':0.9,'OR':0.1},\n",
    "    'NOT_STATE':{'0':0.8, '1':0.2},\n",
    "    'CAT_OPS':{'=':0.25, '<>':0.25, 'LIKE':0.15, 'IN':0.15, 'NOT LIKE':0.1, 'NOT IN':0.1},\n",
    "    'CNT_OPS':{'=':0.2, '>':0.1, '<':0.1, '>=':0.1, '<=':0.1, '<>':0.1, 'BETWEEN':0.2, 'NOT BETWEEN':0.1},\n",
    "    'DT_OPS':{'=':0.2, '>':0.1, '<':0.1, '>=':0, '<=':0, '<>':0.1, 'BETWEEN':0.2, 'IN':0.1, 'NOT BETWEEN':0.1, 'NOT IN':0.1},\n",
    "    'FILTER_TYPE':{'WHERE':0.5, 'AND':0.5}, #Use WHERE or AND with JOIN CLAUSE\n",
    "    'JOIN_TYPE': {'JOIN':0.5, 'LEFT JOIN':0.5}\n",
    "}\n",
    "\n",
    "#connect to db\n",
    "conn = sqlite3.connect(db_path)\n",
    "\n",
    "self=RND_QUERY(conn, tbl_names_lst, metadata_lst,DFLT_PARAMS)"
   ]
  },
  {
   "cell_type": "markdown",
   "metadata": {},
   "source": [
    "# Generate Random  queries "
   ]
  },
  {
   "cell_type": "code",
   "execution_count": 5,
   "metadata": {},
   "outputs": [
    {
     "name": "stdout",
     "output_type": "stream",
     "text": [
      "SELECT b_sample.PL_RUCC2, b_sample.DNR, b_sample.FEMALE, b_sample.NEOMAT, b_sample.MEDINCST, COUNT(*), AVG(l_sample.Date)  FROM b_sample  LEFT JOIN l_sample  ON b_sample.PNUM_R=l_sample.PNUM_R  GROUP BY b_sample.PL_RUCC2, b_sample.DNR, b_sample.FEMALE, b_sample.NEOMAT, b_sample.MEDINCST\n",
      "no_of_rows=269\n",
      "no_of_cols=7\n",
      "product=1.883\n",
      "\n",
      "\n",
      "SELECT b_sample.PL_RUCC2, b_sample.DNR, b_sample.FEMALE, b_sample.NEOMAT, b_sample.MEDINCST, COUNT(*), AVG(l_sample.Date)  FROM b_sample  LEFT JOIN l_sample  ON b_sample.PNUM_R=l_sample.PNUM_R  GROUP BY b_sample.PL_RUCC2, b_sample.DNR, b_sample.FEMALE, b_sample.NEOMAT, b_sample.MEDINCST\n"
     ]
    }
   ],
   "source": [
    "rnd_query=self.make_single_agg_query(agg_fntn=True)\n",
    "\n",
    "\n",
    "n_rows=rnd_query['query_desc']['n_rows']\n",
    "n_cols=rnd_query['query_desc']['n_cols']\n",
    "\n",
    "print(f\"no_of_rows={n_rows}\\nno_of_cols={n_cols}\\nproduct={n_rows*n_cols/1000}\")\n",
    "print(\"\\n\")\n",
    "print(rnd_query['query_desc']['sql'])"
   ]
  },
  {
   "cell_type": "code",
   "execution_count": 6,
   "metadata": {},
   "outputs": [
    {
     "name": "stdout",
     "output_type": "stream",
     "text": [
      "REAL:\n",
      "no_of_rows=120712\n",
      "no_of_cols=18\n",
      "product=2172.816\n",
      "\n",
      "\n",
      "SYN:\n",
      "no_of_rows=151906\n",
      "no_of_cols=18\n",
      "product=2734.308\n",
      "\n",
      "\n",
      "SELECT b_sample.NEOMAT, l_sample.ASCHED, b_sample.PL_UR_CA, b_sample.HISPANIC, b_sample.DNR, b_sample.PL_RUCA4, b_sample.Homeless, b_sample.DIED, b_sample.PL_NCHS2, l_sample.DX1, b_sample.PL_CBSA, b_sample.HOSPBRTH, b_sample.FEMALE, b_sample.PL_RUCC2, b_sample.PL_UIC20, b_sample.RACE, COUNT(*), AVG(l_sample.NDX)  FROM b_sample  JOIN l_sample  ON b_sample.PNUM_R=l_sample.PNUM_R  GROUP BY b_sample.NEOMAT, l_sample.ASCHED, b_sample.PL_UR_CA, b_sample.HISPANIC, b_sample.DNR, b_sample.PL_RUCA4, b_sample.Homeless, b_sample.DIED, b_sample.PL_NCHS2, l_sample.DX1, b_sample.PL_CBSA, b_sample.HOSPBRTH, b_sample.FEMALE, b_sample.PL_RUCC2, b_sample.PL_UIC20, b_sample.RACE\n",
      "\n",
      "\n",
      "SELECT b_sample_syn_01.NEOMAT, l_sample_syn_01.ASCHED, b_sample_syn_01.PL_UR_CA, b_sample_syn_01.HISPANIC, b_sample_syn_01.DNR, b_sample_syn_01.PL_RUCA4, b_sample_syn_01.Homeless, b_sample_syn_01.DIED, b_sample_syn_01.PL_NCHS2, l_sample_syn_01.DX1, b_sample_syn_01.PL_CBSA, b_sample_syn_01.HOSPBRTH, b_sample_syn_01.FEMALE, b_sample_syn_01.PL_RUCC2, b_sample_syn_01.PL_UIC20, b_sample_syn_01.RACE, COUNT(*), AVG(l_sample_syn_01.NDX)  FROM b_sample_syn_01  JOIN l_sample_syn_01  ON b_sample_syn_01.PNUM_R=l_sample_syn_01.PNUM_R  GROUP BY b_sample_syn_01.NEOMAT, l_sample_syn_01.ASCHED, b_sample_syn_01.PL_UR_CA, b_sample_syn_01.HISPANIC, b_sample_syn_01.DNR, b_sample_syn_01.PL_RUCA4, b_sample_syn_01.Homeless, b_sample_syn_01.DIED, b_sample_syn_01.PL_NCHS2, l_sample_syn_01.DX1, b_sample_syn_01.PL_CBSA, b_sample_syn_01.HOSPBRTH, b_sample_syn_01.FEMALE, b_sample_syn_01.PL_RUCC2, b_sample_syn_01.PL_UIC20, b_sample_syn_01.RACE\n"
     ]
    }
   ],
   "source": [
    "syn_tbl_name_lst=['b_sample_syn_01','l_sample_syn_01']\n",
    "rnd_query=self.make_twin_agg_query(syn_tbl_name_lst,agg_fntn=True)\n",
    "\n",
    "n_rows_real=rnd_query['query_desc']['n_rows_real']\n",
    "n_cols_real=rnd_query['query_desc']['n_cols_real']\n",
    "n_rows_syn=rnd_query['query_desc']['n_rows_syn']\n",
    "n_cols_syn=rnd_query['query_desc']['n_cols_syn']\n",
    "\n",
    "print(f\"REAL:\\nno_of_rows={n_rows_real}\\nno_of_cols={n_cols_real}\\nproduct={n_rows_real*n_cols_real/1000}\\n\\n\")\n",
    "print(f\"SYN:\\nno_of_rows={n_rows_syn}\\nno_of_cols={n_cols_syn}\\nproduct={n_rows_syn*n_cols_syn/1000}\\n\\n\")\n",
    "print(rnd_query['query_desc']['sql_real'])\n",
    "print(\"\\n\")\n",
    "print(rnd_query['query_desc']['sql_syn'])"
   ]
  },
  {
   "cell_type": "code",
   "execution_count": 7,
   "metadata": {},
   "outputs": [
    {
     "name": "stdout",
     "output_type": "stream",
     "text": [
      "SELECT *  FROM b_sample  LEFT JOIN l_sample  ON b_sample.PNUM_R=l_sample.PNUM_R  WHERE   b_sample.Homeless <> '0' AND  b_sample.AGE > 57 AND  b_sample.PL_RUCA4 NOT LIKE '1' OR  l_sample.NPR > 0 AND  b_sample.HOSPBRTH = '0' \n",
      "no_of_rows=545798\n",
      "no_of_cols=31\n",
      "product=16919.738\n",
      "\n",
      "\n",
      "SELECT *  FROM b_sample  LEFT JOIN l_sample  ON b_sample.PNUM_R=l_sample.PNUM_R  WHERE   b_sample.Homeless <> '0' AND  b_sample.AGE > 57 AND  b_sample.PL_RUCA4 NOT LIKE '1' OR  l_sample.NPR > 0 AND  b_sample.HOSPBRTH = '0' \n"
     ]
    }
   ],
   "source": [
    "# self.max_in_terms=2\n",
    "# self.no_groupby_vars=2\n",
    "# self.no_where_vars=2\n",
    "# self.no_join_tables=1\n",
    "\n",
    "rnd_query=self.make_single_fltr_query()\n",
    "\n",
    "\n",
    "n_rows=rnd_query['query_desc']['n_rows']\n",
    "n_cols=rnd_query['query_desc']['n_cols']\n",
    "\n",
    "print(f\"no_of_rows={n_rows}\\nno_of_cols={n_cols}\\nproduct={n_rows*n_cols/1000}\")\n",
    "print(\"\\n\")\n",
    "print(rnd_query['query_desc']['sql'])"
   ]
  }
 ],
 "metadata": {
  "kernelspec": {
   "display_name": "Python 3.8.10 ('.env_dev': venv)",
   "language": "python",
   "name": "python3"
  },
  "language_info": {
   "codemirror_mode": {
    "name": "ipython",
    "version": 3
   },
   "file_extension": ".py",
   "mimetype": "text/x-python",
   "name": "python",
   "nbconvert_exporter": "python",
   "pygments_lexer": "ipython3",
   "version": "3.8.10"
  },
  "orig_nbformat": 4,
  "vscode": {
   "interpreter": {
    "hash": "6cf594385e3e378fbba23be52d8fa8a1ff0f44816650af8bcee05fc5c8211531"
   }
  }
 },
 "nbformat": 4,
 "nbformat_minor": 2
}

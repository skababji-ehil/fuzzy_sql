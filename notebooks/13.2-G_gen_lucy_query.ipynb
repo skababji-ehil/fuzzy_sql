{
 "cells": [
  {
   "cell_type": "code",
   "execution_count": 2,
   "metadata": {},
   "outputs": [],
   "source": [
    "import sys\n",
    "sys.path.append('/home/samer/projects/fuzzy_sql/src') #This will enable reading the modules\n",
    "from pathlib import Path\n",
    "import os\n",
    "import json\n",
    "\n",
    "from fuzzy_sql.rnd_query import RND_QUERY\n",
    "from fuzzy_sql.fuzzy_sql import *"
   ]
  },
  {
   "cell_type": "code",
   "execution_count": 3,
   "metadata": {},
   "outputs": [],
   "source": [
    "#set directories\n",
    "root_dir=Path('/home/samer/projects/fuzzy_sql')\n",
    "metadata_dir=os.path.join(root_dir,'data/lucy/processed/metadata')\n",
    "db_path=os.path.join(root_dir,'db/lucy.db')"
   ]
  },
  {
   "cell_type": "code",
   "execution_count": 4,
   "metadata": {},
   "outputs": [],
   "source": [
    "#define input tables and metadata\n",
    "tbl_names_lst=[\"b_sample\",\"l_sample\"]\n",
    "\n",
    "metadata_lst=[]\n",
    "for tbl_name in tbl_names_lst:\n",
    "    with open(os.path.join(metadata_dir,tbl_name+'.json'),'r') as f:\n",
    "        metadata_lst.append(json.load(f))"
   ]
  },
  {
   "cell_type": "code",
   "execution_count": 5,
   "metadata": {},
   "outputs": [
    {
     "name": "stdout",
     "output_type": "stream",
     "text": [
      "Metadata fot table b_sample validated.\n",
      "Metadata fot table l_sample validated.\n"
     ]
    }
   ],
   "source": [
    "#setup parameters\n",
    "DFLT_PARAMS={\n",
    "    'AGG_OPS':{'AVG':0.5, 'SUM':0.3, 'MAX':0.1, 'MIN':0.1 },\n",
    "    'LOGIC_OPS':{'AND':0.9,'OR':0.1},\n",
    "    'NOT_STATE':{'0':0.8, '1':0.2},\n",
    "    'CAT_OPS':{'=':0.25, '<>':0.25, 'LIKE':0.15, 'IN':0.15, 'NOT LIKE':0.1, 'NOT IN':0.1},\n",
    "    'CNT_OPS':{'=':0.2, '>':0.1, '<':0.1, '>=':0.1, '<=':0.1, '<>':0.1, 'BETWEEN':0.2, 'NOT BETWEEN':0.1},\n",
    "    'DT_OPS':{'=':0.2, '>':0.1, '<':0.1, '>=':0, '<=':0, '<>':0.1, 'BETWEEN':0.2, 'IN':0.1, 'NOT BETWEEN':0.1, 'NOT IN':0.1},\n",
    "    'FILTER_TYPE':{'WHERE':0.5, 'AND':0.5}, #Use WHERE or AND with JOIN CLAUSE\n",
    "    'JOIN_TYPE': {'JOIN':0.5, 'LEFT JOIN':0.5}\n",
    "}\n",
    "\n",
    "#connect to db\n",
    "conn = sqlite3.connect(db_path)\n",
    "\n",
    "self=RND_QUERY(conn, tbl_names_lst, metadata_lst,DFLT_PARAMS)"
   ]
  },
  {
   "cell_type": "markdown",
   "metadata": {},
   "source": [
    "# Generate Random  queries "
   ]
  },
  {
   "cell_type": "code",
   "execution_count": 6,
   "metadata": {},
   "outputs": [
    {
     "name": "stdout",
     "output_type": "stream",
     "text": [
      "SELECT b_sample.NEOMAT, COUNT(*), MIN(l_sample.MDC)  FROM b_sample  JOIN l_sample  ON b_sample.PNUM_R=l_sample.PNUM_R  GROUP BY b_sample.NEOMAT\n",
      "no_of_rows=3\n",
      "no_of_cols=3\n",
      "product=0.009\n",
      "\n",
      "\n",
      "SELECT b_sample.NEOMAT, COUNT(*), MIN(l_sample.MDC)  FROM b_sample  JOIN l_sample  ON b_sample.PNUM_R=l_sample.PNUM_R  GROUP BY b_sample.NEOMAT\n"
     ]
    }
   ],
   "source": [
    "#Single Aggregate \n",
    "rnd_query=self.make_single_agg_query(agg_fntn=True)\n",
    "\n",
    "n_rows=rnd_query['query_desc']['n_rows']\n",
    "n_cols=rnd_query['query_desc']['n_cols']\n",
    "\n",
    "print(f\"no_of_rows={n_rows}\\nno_of_cols={n_cols}\\nproduct={n_rows*n_cols/1000}\")\n",
    "print(\"\\n\")\n",
    "print(rnd_query['query_desc']['sql'])"
   ]
  },
  {
   "cell_type": "code",
   "execution_count": 7,
   "metadata": {},
   "outputs": [
    {
     "name": "stdout",
     "output_type": "stream",
     "text": [
      "REAL:\n",
      "no_of_rows=27472\n",
      "no_of_cols=12\n",
      "product=329.664\n",
      "\n",
      "\n",
      "SYN:\n",
      "no_of_rows=30477\n",
      "no_of_cols=12\n",
      "product=365.724\n",
      "\n",
      "\n",
      "SELECT b_sample.PL_RUCC2, b_sample.PL_CBSA, b_sample.HOSPBRTH, b_sample.PL_UR_CA, b_sample.DIED, b_sample.PL_UIC20, b_sample.Homeless, b_sample.PL_NCHS2, l_sample.DX1, b_sample.DNR, COUNT(*), MAX(l_sample.AWEEKEND)  FROM b_sample  LEFT JOIN l_sample  ON b_sample.PNUM_R=l_sample.PNUM_R  GROUP BY b_sample.PL_RUCC2, b_sample.PL_CBSA, b_sample.HOSPBRTH, b_sample.PL_UR_CA, b_sample.DIED, b_sample.PL_UIC20, b_sample.Homeless, b_sample.PL_NCHS2, l_sample.DX1, b_sample.DNR\n",
      "\n",
      "\n",
      "SELECT b_sample_syn_01.PL_RUCC2, b_sample_syn_01.PL_CBSA, b_sample_syn_01.HOSPBRTH, b_sample_syn_01.PL_UR_CA, b_sample_syn_01.DIED, b_sample_syn_01.PL_UIC20, b_sample_syn_01.Homeless, b_sample_syn_01.PL_NCHS2, l_sample_syn_01.DX1, b_sample_syn_01.DNR, COUNT(*), MAX(l_sample_syn_01.AWEEKEND)  FROM b_sample_syn_01  LEFT JOIN l_sample_syn_01  ON b_sample_syn_01.PNUM_R=l_sample_syn_01.PNUM_R  GROUP BY b_sample_syn_01.PL_RUCC2, b_sample_syn_01.PL_CBSA, b_sample_syn_01.HOSPBRTH, b_sample_syn_01.PL_UR_CA, b_sample_syn_01.DIED, b_sample_syn_01.PL_UIC20, b_sample_syn_01.Homeless, b_sample_syn_01.PL_NCHS2, l_sample_syn_01.DX1, b_sample_syn_01.DNR\n"
     ]
    }
   ],
   "source": [
    "#Twin Aggregate \n",
    "syn_tbl_name_lst=['b_sample_syn_01','l_sample_syn_01']\n",
    "rnd_query=self.make_twin_agg_query(syn_tbl_name_lst,agg_fntn=True)\n",
    "\n",
    "n_rows_real=rnd_query['query_desc']['n_rows_real']\n",
    "n_cols_real=rnd_query['query_desc']['n_cols_real']\n",
    "n_rows_syn=rnd_query['query_desc']['n_rows_syn']\n",
    "n_cols_syn=rnd_query['query_desc']['n_cols_syn']\n",
    "\n",
    "print(f\"REAL:\\nno_of_rows={n_rows_real}\\nno_of_cols={n_cols_real}\\nproduct={n_rows_real*n_cols_real/1000}\\n\\n\")\n",
    "print(f\"SYN:\\nno_of_rows={n_rows_syn}\\nno_of_cols={n_cols_syn}\\nproduct={n_rows_syn*n_cols_syn/1000}\\n\\n\")\n",
    "print(rnd_query['query_desc']['sql_real'])\n",
    "print(\"\\n\")\n",
    "print(rnd_query['query_desc']['sql_syn'])"
   ]
  },
  {
   "cell_type": "code",
   "execution_count": 8,
   "metadata": {},
   "outputs": [
    {
     "name": "stdout",
     "output_type": "stream",
     "text": [
      "SELECT *  FROM b_sample  LEFT JOIN l_sample  ON b_sample.PNUM_R=l_sample.PNUM_R  WHERE   l_sample.ASCHED LIKE '1' AND  b_sample.FEMALE NOT LIKE '1' \n",
      "no_of_rows=90641\n",
      "no_of_cols=31\n",
      "product=2809.871\n",
      "\n",
      "\n",
      "SELECT *  FROM b_sample  LEFT JOIN l_sample  ON b_sample.PNUM_R=l_sample.PNUM_R  WHERE   l_sample.ASCHED LIKE '1' AND  b_sample.FEMALE NOT LIKE '1' \n"
     ]
    }
   ],
   "source": [
    "#Single Filter\n",
    "\n",
    "# self.max_in_terms=2\n",
    "# self.no_groupby_vars=2\n",
    "self.no_where_vars=2\n",
    "# self.no_join_tables=1\n",
    "\n",
    "rnd_query=self.make_single_fltr_query()\n",
    "\n",
    "\n",
    "n_rows=rnd_query['query_desc']['n_rows']\n",
    "n_cols=rnd_query['query_desc']['n_cols']\n",
    "\n",
    "print(f\"no_of_rows={n_rows}\\nno_of_cols={n_cols}\\nproduct={n_rows*n_cols/1000}\")\n",
    "print(\"\\n\")\n",
    "print(rnd_query['query_desc']['sql'])"
   ]
  },
  {
   "cell_type": "code",
   "execution_count": 9,
   "metadata": {},
   "outputs": [
    {
     "name": "stdout",
     "output_type": "stream",
     "text": [
      "SELECT *  FROM b_sample  LEFT JOIN l_sample  ON b_sample.PNUM_R=l_sample.PNUM_R  WHERE   b_sample.HISPANIC = '2' AND  l_sample.NPR > 2 \n",
      "REAL:\n",
      "no_of_rows=153182\n",
      "no_of_cols=31\n",
      "product=4748.642\n",
      "\n",
      "\n",
      "SYN:\n",
      "no_of_rows=151490\n",
      "no_of_cols=31\n",
      "product=4696.19\n",
      "\n",
      "\n",
      "SELECT *  FROM b_sample  LEFT JOIN l_sample  ON b_sample.PNUM_R=l_sample.PNUM_R  WHERE   b_sample.HISPANIC = '2' AND  l_sample.NPR > 2 \n",
      "\n",
      "\n",
      "SELECT *  FROM b_sample_syn_01  LEFT JOIN l_sample_syn_01  ON b_sample_syn_01.PNUM_R=l_sample_syn_01.PNUM_R  WHERE   b_sample_syn_01.HISPANIC = '2' AND  l_sample_syn_01.NPR > 2 \n"
     ]
    }
   ],
   "source": [
    "# Twin Filter \n",
    "\n",
    "self.no_where_vars=2\n",
    "\n",
    "\n",
    "syn_tbl_name_lst=['b_sample_syn_01','l_sample_syn_01']\n",
    "rnd_query=self.make_twin_fltr_query(syn_tbl_name_lst)\n",
    "\n",
    "n_rows_real=rnd_query['query_desc']['n_rows_real']\n",
    "n_cols_real=rnd_query['query_desc']['n_cols_real']\n",
    "n_rows_syn=rnd_query['query_desc']['n_rows_syn']\n",
    "n_cols_syn=rnd_query['query_desc']['n_cols_syn']\n",
    "\n",
    "print(f\"REAL:\\nno_of_rows={n_rows_real}\\nno_of_cols={n_cols_real}\\nproduct={n_rows_real*n_cols_real/1000}\\n\\n\")\n",
    "print(f\"SYN:\\nno_of_rows={n_rows_syn}\\nno_of_cols={n_cols_syn}\\nproduct={n_rows_syn*n_cols_syn/1000}\\n\\n\")\n",
    "print(rnd_query['query_desc']['sql_real'])\n",
    "print(\"\\n\")\n",
    "print(rnd_query['query_desc']['sql_syn'])"
   ]
  },
  {
   "cell_type": "code",
   "execution_count": 10,
   "metadata": {},
   "outputs": [
    {
     "data": {
      "text/plain": [
       "{'type': 'twin_fltr',\n",
       " 'from_tbl_name_real': 'b_sample',\n",
       " 'join_tbl_name_lst_real': ['l_sample'],\n",
       " 'sql_real': \"SELECT *  FROM b_sample  LEFT JOIN l_sample  ON b_sample.PNUM_R=l_sample.PNUM_R  WHERE   b_sample.HISPANIC = '2' AND  l_sample.NPR > 2 \",\n",
       " 'n_cols_real': 31,\n",
       " 'n_rows_real': 153182,\n",
       " 'from_tbl_name_syn': 'b_sample_syn_01',\n",
       " 'join_tbl_name_lst_syn': ['l_sample_syn_01'],\n",
       " 'sql_syn': \"SELECT *  FROM b_sample_syn_01  LEFT JOIN l_sample_syn_01  ON b_sample_syn_01.PNUM_R=l_sample_syn_01.PNUM_R  WHERE   b_sample_syn_01.HISPANIC = '2' AND  l_sample_syn_01.NPR > 2 \",\n",
       " 'n_cols_syn': 31,\n",
       " 'n_rows_syn': 151490}"
      ]
     },
     "execution_count": 10,
     "metadata": {},
     "output_type": "execute_result"
    }
   ],
   "source": [
    "rnd_query['query_desc']"
   ]
  },
  {
   "cell_type": "code",
   "execution_count": 11,
   "metadata": {},
   "outputs": [
    {
     "data": {
      "text/plain": [
       "\" This query resulted in kernel crash \\nSELECT *  FROM b_sample  JOIN l_sample  ON b_sample.PNUM_R=l_sample.PNUM_R  AND   b_sample.Homeless IN ('0', '0', '0') AND  l_sample.TOTCHG >= 85649 AND  l_sample.HCUP_ED = 0 AND  l_sample.PROCTYPE <= 1 AND  l_sample.DX1 = '515' AND  b_sample.NEOMAT IN ('0', '0', '0') AND  l_sample.Date > 6 AND  b_sample.RACE LIKE '1' AND NOT  l_sample.ASCHED IN ('0', '0', '0') OR  b_sample.PL_RUCA4 <> '1' AND  l_sample.NPR <> 3 AND  l_sample.NECODE < 2 AND  l_sample.AWEEKEND > 0 AND NOT  b_sample.DIED LIKE '0' AND  b_sample.PL_UIC20 LIKE '1' AND  b_sample.PL_CBSA <> '2' AND  b_sample.DNR IN ('0', '0', '0') AND  b_sample.HISPANIC IN ('2', '1', '1') OR  b_sample.PL_RUCC2 IN ('1', '1', '1') \\n\\n\""
      ]
     },
     "execution_count": 11,
     "metadata": {},
     "output_type": "execute_result"
    }
   ],
   "source": [
    "''' This query resulted in kernel crash \n",
    "SELECT *  FROM b_sample  JOIN l_sample  ON b_sample.PNUM_R=l_sample.PNUM_R  AND   b_sample.Homeless IN ('0', '0', '0') AND  l_sample.TOTCHG >= 85649 AND  l_sample.HCUP_ED = 0 AND  l_sample.PROCTYPE <= 1 AND  l_sample.DX1 = '515' AND  b_sample.NEOMAT IN ('0', '0', '0') AND  l_sample.Date > 6 AND  b_sample.RACE LIKE '1' AND NOT  l_sample.ASCHED IN ('0', '0', '0') OR  b_sample.PL_RUCA4 <> '1' AND  l_sample.NPR <> 3 AND  l_sample.NECODE < 2 AND  l_sample.AWEEKEND > 0 AND NOT  b_sample.DIED LIKE '0' AND  b_sample.PL_UIC20 LIKE '1' AND  b_sample.PL_CBSA <> '2' AND  b_sample.DNR IN ('0', '0', '0') AND  b_sample.HISPANIC IN ('2', '1', '1') OR  b_sample.PL_RUCC2 IN ('1', '1', '1') \n",
    "\n",
    "'''"
   ]
  }
 ],
 "metadata": {
  "kernelspec": {
   "display_name": "Python 3.8.10 ('.env_dev': venv)",
   "language": "python",
   "name": "python3"
  },
  "language_info": {
   "codemirror_mode": {
    "name": "ipython",
    "version": 3
   },
   "file_extension": ".py",
   "mimetype": "text/x-python",
   "name": "python",
   "nbconvert_exporter": "python",
   "pygments_lexer": "ipython3",
   "version": "3.8.10"
  },
  "orig_nbformat": 4,
  "vscode": {
   "interpreter": {
    "hash": "6cf594385e3e378fbba23be52d8fa8a1ff0f44816650af8bcee05fc5c8211531"
   }
  }
 },
 "nbformat": 4,
 "nbformat_minor": 2
}

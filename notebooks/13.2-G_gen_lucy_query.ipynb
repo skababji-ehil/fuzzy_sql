{
 "cells": [
  {
   "cell_type": "code",
   "execution_count": 1,
   "metadata": {},
   "outputs": [],
   "source": [
    "import sys\n",
    "sys.path.append('/home/samer/projects/fuzzy_sql/src') #This will enable reading the modules\n",
    "from pathlib import Path\n",
    "import os\n",
    "import json\n",
    "\n",
    "from fuzzy_sql.rnd_query import RND_QUERY\n",
    "from fuzzy_sql.fuzzy_sql import *"
   ]
  },
  {
   "cell_type": "code",
   "execution_count": 2,
   "metadata": {},
   "outputs": [],
   "source": [
    "#set directories\n",
    "root_dir=Path('/home/samer/projects/fuzzy_sql')\n",
    "metadata_dir=os.path.join(root_dir,'data/lucy/processed/metadata')\n",
    "db_path=os.path.join(root_dir,'db/lucy.db')"
   ]
  },
  {
   "cell_type": "code",
   "execution_count": 3,
   "metadata": {},
   "outputs": [],
   "source": [
    "#define input tables and metadata\n",
    "tbl_names_lst=[\"b_sample\",\"l_sample\"]\n",
    "\n",
    "metadata_lst=[]\n",
    "for tbl_name in tbl_names_lst:\n",
    "    with open(os.path.join(metadata_dir,tbl_name+'.json'),'r') as f:\n",
    "        metadata_lst.append(json.load(f))"
   ]
  },
  {
   "cell_type": "code",
   "execution_count": 4,
   "metadata": {},
   "outputs": [
    {
     "name": "stdout",
     "output_type": "stream",
     "text": [
      "Metadata fot table b_sample validated.\n",
      "Metadata fot table l_sample validated.\n"
     ]
    }
   ],
   "source": [
    "#setup parameters\n",
    "DFLT_PARAMS={\n",
    "    'AGG_OPS':{'AVG':0.5, 'SUM':0.3, 'MAX':0.1, 'MIN':0.1 },\n",
    "    'LOGIC_OPS':{'AND':0.9,'OR':0.1},\n",
    "    'NOT_STATE':{'0':0.8, '1':0.2},\n",
    "    'CAT_OPS':{'=':0.25, '<>':0.25, 'LIKE':0.15, 'IN':0.15, 'NOT LIKE':0.1, 'NOT IN':0.1},\n",
    "    'CNT_OPS':{'=':0.2, '>':0.1, '<':0.1, '>=':0.1, '<=':0.1, '<>':0.1, 'BETWEEN':0.2, 'NOT BETWEEN':0.1},\n",
    "    'DT_OPS':{'=':0.2, '>':0.1, '<':0.1, '>=':0, '<=':0, '<>':0.1, 'BETWEEN':0.2, 'IN':0.1, 'NOT BETWEEN':0.1, 'NOT IN':0.1},\n",
    "    'LESS_GRP_VARS': False, # enforce bias in random queries toward smaller number of groupby vars. Default is no bias (i.e. uniform sampling)\n",
    "    'LESS_CMP_VARS':False, # enforce bias in random queries toward small number of  comparison terms. Default is no bias (i.e. uniform sampling)\n",
    "    'JOIN_CNDTN':{'WHERE':0.5, 'AND':0.5} #Use WHERE or AND with JOIN CLAUSE\n",
    "}\n",
    "\n",
    "#connect to db\n",
    "conn = sqlite3.connect(db_path)\n",
    "\n",
    "self=RND_QUERY(conn, tbl_names_lst, metadata_lst,DFLT_PARAMS)"
   ]
  },
  {
   "cell_type": "markdown",
   "metadata": {},
   "source": [
    "# Generate Random  queries "
   ]
  },
  {
   "cell_type": "code",
   "execution_count": 6,
   "metadata": {},
   "outputs": [
    {
     "ename": "KeyError",
     "evalue": "'tbl_key_name'",
     "output_type": "error",
     "traceback": [
      "\u001b[0;31m---------------------------------------------------------------------------\u001b[0m",
      "\u001b[0;31mKeyError\u001b[0m                                  Traceback (most recent call last)",
      "Cell \u001b[0;32mIn [6], line 1\u001b[0m\n\u001b[0;32m----> 1\u001b[0m rnd_query\u001b[39m=\u001b[39m\u001b[39mself\u001b[39;49m\u001b[39m.\u001b[39;49mmake_single_agg_query(agg_fntn\u001b[39m=\u001b[39;49m\u001b[39mTrue\u001b[39;49;00m)\n\u001b[1;32m      4\u001b[0m n_rows\u001b[39m=\u001b[39mrnd_query[\u001b[39m'\u001b[39m\u001b[39mquery_desc\u001b[39m\u001b[39m'\u001b[39m][\u001b[39m'\u001b[39m\u001b[39mn_rows\u001b[39m\u001b[39m'\u001b[39m]\n\u001b[1;32m      5\u001b[0m n_cols\u001b[39m=\u001b[39mrnd_query[\u001b[39m'\u001b[39m\u001b[39mquery_desc\u001b[39m\u001b[39m'\u001b[39m][\u001b[39m'\u001b[39m\u001b[39mn_cols\u001b[39m\u001b[39m'\u001b[39m]\n",
      "File \u001b[0;32m~/projects/fuzzy_sql/src/fuzzy_sql/rnd_query.py:390\u001b[0m, in \u001b[0;36mRND_QUERY.make_single_agg_query\u001b[0;34m(self, agg_fntn)\u001b[0m\n\u001b[1;32m    388\u001b[0m \u001b[39mdef\u001b[39;00m \u001b[39mmake_single_agg_query\u001b[39m(\u001b[39mself\u001b[39m, agg_fntn) \u001b[39m-\u001b[39m\u001b[39m>\u001b[39m \u001b[39mdict\u001b[39m:\n\u001b[1;32m    389\u001b[0m     dic\u001b[39m=\u001b[39m{}\n\u001b[0;32m--> 390\u001b[0m     single_expr,groupby_lst,from_tbl, join_tbl_lst, agg_fntn_terms\u001b[39m=\u001b[39m\u001b[39mself\u001b[39;49m\u001b[39m.\u001b[39;49m_compile_agg_expr(agg_fntn)\n\u001b[1;32m    391\u001b[0m     query\u001b[39m=\u001b[39m\u001b[39mself\u001b[39m\u001b[39m.\u001b[39mmake_query(\u001b[39mself\u001b[39m\u001b[39m.\u001b[39mCUR, single_expr)\n\u001b[1;32m    392\u001b[0m     \u001b[39m# grpby_vars=self._drop_tbl_name(groupby_lst)\u001b[39;00m\n",
      "File \u001b[0;32m~/projects/fuzzy_sql/src/fuzzy_sql/rnd_query.py:373\u001b[0m, in \u001b[0;36mRND_QUERY._compile_agg_expr\u001b[0;34m(self, agg_fntn)\u001b[0m\n\u001b[1;32m    372\u001b[0m \u001b[39mdef\u001b[39;00m \u001b[39m_compile_agg_expr\u001b[39m(\u001b[39mself\u001b[39m,agg_fntn) \u001b[39m-\u001b[39m\u001b[39m>\u001b[39m \u001b[39mstr\u001b[39m:\n\u001b[0;32m--> 373\u001b[0m     from_expr, from_table,join_tbl_lst\u001b[39m=\u001b[39m\u001b[39mself\u001b[39;49m\u001b[39m.\u001b[39;49m_make_rnd_from_expr() \u001b[39m#from table is the table right after the from clause which can be either a sole or parent table  \u001b[39;00m\n\u001b[1;32m    374\u001b[0m     groupby_lst\u001b[39m=\u001b[39m\u001b[39mself\u001b[39m\u001b[39m.\u001b[39m_get_rnd_groupby_lst(from_table,join_tbl_lst)\n\u001b[1;32m    375\u001b[0m     expr2_1\u001b[39m=\u001b[39m\u001b[39m'\u001b[39m\u001b[39m GROUP BY \u001b[39m\u001b[39m'\u001b[39m\n",
      "File \u001b[0;32m~/projects/fuzzy_sql/src/fuzzy_sql/rnd_query.py:236\u001b[0m, in \u001b[0;36mRND_QUERY._make_rnd_from_expr\u001b[0;34m(self)\u001b[0m\n\u001b[1;32m    234\u001b[0m expr2\u001b[39m=\u001b[39m\u001b[39m\"\u001b[39m\u001b[39m\"\u001b[39m\n\u001b[1;32m    235\u001b[0m \u001b[39mfor\u001b[39;00m j \u001b[39min\u001b[39;00m \u001b[39mrange\u001b[39m(picked_no_joins):\n\u001b[0;32m--> 236\u001b[0m     expr2\u001b[39m+\u001b[39m\u001b[39m=\u001b[39m\u001b[39mf\u001b[39m\u001b[39m\"\u001b[39m\u001b[39m JOIN \u001b[39m\u001b[39m{\u001b[39;00mjoin_tbl_lst[j]\u001b[39m}\u001b[39;00m\u001b[39m \u001b[39m\u001b[39m\"\u001b[39m\u001b[39m+\u001b[39m\u001b[39mself\u001b[39;49m\u001b[39m.\u001b[39;49m_get_join_on_sub_expr(from_tbl,join_tbl_lst[j])\n\u001b[1;32m    237\u001b[0m \u001b[39mreturn\u001b[39;00m expr1\u001b[39m+\u001b[39mexpr2, from_tbl, join_tbl_lst\n",
      "File \u001b[0;32m~/projects/fuzzy_sql/src/fuzzy_sql/rnd_query.py:275\u001b[0m, in \u001b[0;36mRND_QUERY._get_join_on_sub_expr\u001b[0;34m(self, tbl1, tbl2)\u001b[0m\n\u001b[1;32m    273\u001b[0m \u001b[39mdef\u001b[39;00m \u001b[39m_get_join_on_sub_expr\u001b[39m(\u001b[39mself\u001b[39m,prnt,chld):\n\u001b[1;32m    274\u001b[0m     \u001b[39m#This method deals with both individual and composite keys but it is not tested yet using any composite keys\u001b[39;00m\n\u001b[0;32m--> 275\u001b[0m     chld_tbl_idx\u001b[39m=\u001b[39m\u001b[39mself\u001b[39m\u001b[39m.\u001b[39m_get_tbl_index(chld)\n\u001b[1;32m    276\u001b[0m     chld_metadata\u001b[39m=\u001b[39m\u001b[39mself\u001b[39m\u001b[39m.\u001b[39mMETADATA_LST[chld_tbl_idx]\n\u001b[1;32m    277\u001b[0m     prnt_key_lst\u001b[39m=\u001b[39mchld_metadata[\u001b[39m'\u001b[39m\u001b[39mparent_details\u001b[39m\u001b[39m'\u001b[39m][prnt][\u001b[39m0\u001b[39m]\n",
      "\u001b[0;31mKeyError\u001b[0m: 'tbl_key_name'"
     ]
    }
   ],
   "source": [
    "rnd_query=self.make_single_agg_query(agg_fntn=True)\n",
    "\n",
    "\n",
    "n_rows=rnd_query['query_desc']['n_rows']\n",
    "n_cols=rnd_query['query_desc']['n_cols']\n",
    "\n",
    "print(f\"no_of_rows={n_rows}\\nno_of_cols={n_cols}\\nproduct={n_rows*n_cols/1000}\")\n",
    "print(\"\\n\")\n",
    "print(rnd_query['query_desc']['sql'])"
   ]
  },
  {
   "cell_type": "code",
   "execution_count": null,
   "metadata": {},
   "outputs": [],
   "source": [
    "syn_tbl_name_lst=['b_sample_syn_01','l_sample_syn_01']\n",
    "rnd_query=self.make_twin_agg_query(syn_tbl_name_lst,agg_fntn=True)\n",
    "\n",
    "n_rows_real=rnd_query['query_desc']['n_rows_real']\n",
    "n_cols_real=rnd_query['query_desc']['n_cols_real']\n",
    "n_rows_syn=rnd_query['query_desc']['n_rows_syn']\n",
    "n_cols_syn=rnd_query['query_desc']['n_cols_syn']\n",
    "\n",
    "print(f\"REAL:\\nno_of_rows={n_rows_real}\\nno_of_cols={n_cols_real}\\nproduct={n_rows_real*n_cols_real/1000}\\n\\n\")\n",
    "print(f\"SYN:\\nno_of_rows={n_rows_syn}\\nno_of_cols={n_cols_syn}\\nproduct={n_rows_syn*n_cols_syn/1000}\\n\\n\")\n",
    "print(rnd_query['query_desc']['sql_real'])\n",
    "print(\"\\n\")\n",
    "print(rnd_query['query_desc']['sql_syn'])"
   ]
  }
 ],
 "metadata": {
  "kernelspec": {
   "display_name": "Python 3.8.10 ('.env_dev': venv)",
   "language": "python",
   "name": "python3"
  },
  "language_info": {
   "codemirror_mode": {
    "name": "ipython",
    "version": 3
   },
   "file_extension": ".py",
   "mimetype": "text/x-python",
   "name": "python",
   "nbconvert_exporter": "python",
   "pygments_lexer": "ipython3",
   "version": "3.8.10"
  },
  "orig_nbformat": 4,
  "vscode": {
   "interpreter": {
    "hash": "6cf594385e3e378fbba23be52d8fa8a1ff0f44816650af8bcee05fc5c8211531"
   }
  }
 },
 "nbformat": 4,
 "nbformat_minor": 2
}

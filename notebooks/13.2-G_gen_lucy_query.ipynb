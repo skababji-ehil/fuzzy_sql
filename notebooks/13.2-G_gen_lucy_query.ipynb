{
 "cells": [
  {
   "cell_type": "code",
   "execution_count": 1,
   "metadata": {},
   "outputs": [],
   "source": [
    "import sys\n",
    "sys.path.append('/home/samer/projects/fuzzy_sql/src') #This will enable reading the modules\n",
    "from pathlib import Path\n",
    "import os\n",
    "import json\n",
    "\n",
    "from fuzzy_sql.rnd_query import RND_QUERY\n",
    "from fuzzy_sql.fuzzy_sql import *"
   ]
  },
  {
   "cell_type": "code",
   "execution_count": 2,
   "metadata": {},
   "outputs": [],
   "source": [
    "#set directories\n",
    "root_dir=Path('/home/samer/projects/fuzzy_sql')\n",
    "metadata_dir=os.path.join(root_dir,'data/lucy/processed/metadata')\n",
    "db_path=os.path.join(root_dir,'db/lucy.db')"
   ]
  },
  {
   "cell_type": "code",
   "execution_count": 3,
   "metadata": {},
   "outputs": [],
   "source": [
    "#define input tables and metadata\n",
    "tbl_names_lst=[\"b_sample\",\"l_sample\"]\n",
    "\n",
    "metadata_lst=[]\n",
    "for tbl_name in tbl_names_lst:\n",
    "    with open(os.path.join(metadata_dir,tbl_name+'.json'),'r') as f:\n",
    "        metadata_lst.append(json.load(f))"
   ]
  },
  {
   "cell_type": "code",
   "execution_count": 4,
   "metadata": {},
   "outputs": [
    {
     "name": "stdout",
     "output_type": "stream",
     "text": [
      "smk2\n"
     ]
    }
   ],
   "source": [
    "#setup parameters\n",
    "DFLT_PARAMS={\n",
    "    'AGG_OPS':{'AVG':0.5, 'SUM':0.3, 'MAX':0.1, 'MIN':0.1 },\n",
    "    'LOGIC_OPS':{'AND':0.9,'OR':0.1},\n",
    "    'NOT_STATE':{'0':0.8, '1':0.2},\n",
    "    'CAT_OPS':{'=':0.25, '<>':0.25, 'LIKE':0.15, 'IN':0.15, 'NOT LIKE':0.1, 'NOT IN':0.1},\n",
    "    'CNT_OPS':{'=':0.2, '>':0.1, '<':0.1, '>=':0.1, '<=':0.1, '<>':0.1, 'BETWEEN':0.2, 'NOT BETWEEN':0.1},\n",
    "    'DT_OPS':{'=':0.2, '>':0.1, '<':0.1, '>=':0, '<=':0, '<>':0.1, 'BETWEEN':0.2, 'IN':0.1, 'NOT BETWEEN':0.1, 'NOT IN':0.1},\n",
    "    'LESS_GRP_VARS': False, # enforce bias in random queries toward smaller number of groupby vars. Default is no bias (i.e. uniform sampling)\n",
    "    'LESS_CMP_VARS':False, # enforce bias in random queries toward small number of  comparison terms. Default is no bias (i.e. uniform sampling)\n",
    "    'JOIN_CNDTN':{'WHERE':0.5, 'AND':0.5} #Use WHERE or AND with JOIN CLAUSE\n",
    "}\n",
    "\n",
    "#connect to db\n",
    "conn = sqlite3.connect(db_path)\n",
    "\n",
    "self=RND_QUERY(conn, tbl_names_lst, metadata_lst,DFLT_PARAMS)"
   ]
  },
  {
   "cell_type": "code",
   "execution_count": 5,
   "metadata": {},
   "outputs": [],
   "source": [
    "# Generate Single queries \n",
    "# rnd_query=self.make_single_agg_query()\n",
    "# rnd_query=self.make_single_agg_query_w_aggfntn()\n",
    "# rnd_query=self.make_single_fltr_query()\n",
    "# rnd_query=self.make_single_aggfltr_query()\n",
    "# rnd_query=self.make_single_aggfltr_query_w_aggfntn()"
   ]
  },
  {
   "cell_type": "code",
   "execution_count": 16,
   "metadata": {},
   "outputs": [
    {
     "name": "stdout",
     "output_type": "stream",
     "text": [
      "['l_sample'] 1\n"
     ]
    }
   ],
   "source": [
    "# Generate Single queries \n",
    "rnd_query=self.make_single_agg_query()"
   ]
  },
  {
   "cell_type": "code",
   "execution_count": 17,
   "metadata": {},
   "outputs": [
    {
     "data": {
      "text/plain": [
       "{'query':        Homeless PL_NCHS2 PL_UIC20 HOSPBRTH    PNUM_R    PNUM_R NEOMAT  \\\n",
       " 0             0     None     None        0  10044368  10044368      0   \n",
       " 1             0     None     None        0  10044368  10044368      0   \n",
       " 2             0     None     None        0   1018764   1018764      0   \n",
       " 3             0     None     None        0   1018764   1018764      0   \n",
       " 4             0     None     None        0  10235227  10235227      0   \n",
       " ...         ...      ...      ...      ...       ...       ...    ...   \n",
       " 457222        0        6        9        0   8221150   8221150      0   \n",
       " 457223        0        6        9        0   8221150   8221150      0   \n",
       " 457224        0        6        9        0   9194098   9194098      0   \n",
       " 457225        0        6        9        0   9194098   9194098      0   \n",
       " 457226        0        6        9        0   9528326   9528326      1   \n",
       " \n",
       "        MEDINCST ASCHED  COUNT(*)  \n",
       " 0          None      0         2  \n",
       " 1          None      1         2  \n",
       " 2          None      0         1  \n",
       " 3          None      1         1  \n",
       " 4          None      0         2  \n",
       " ...         ...    ...       ...  \n",
       " 457222        2      0         1  \n",
       " 457223        2      1         1  \n",
       " 457224        1      0         1  \n",
       " 457225        1      1         1  \n",
       " 457226        2      0         2  \n",
       " \n",
       " [457227 rows x 10 columns],\n",
       " 'query_desc': {'type': 'single_agg',\n",
       "  'agg_fntn': 'None',\n",
       "  'grpby_vars': ['b_sample.Homeless',\n",
       "   'b_sample.PL_NCHS2',\n",
       "   'b_sample.PL_UIC20',\n",
       "   'b_sample.HOSPBRTH',\n",
       "   'b_sample.PNUM_R',\n",
       "   'l_sample.PNUM_R',\n",
       "   'b_sample.NEOMAT',\n",
       "   'b_sample.MEDINCST',\n",
       "   'l_sample.ASCHED'],\n",
       "  'from_tbl_name': 'b_sample',\n",
       "  'join_tbl_names': ['l_sample', 'b_sample'],\n",
       "  'sql': 'SELECT b_sample.Homeless, b_sample.PL_NCHS2, b_sample.PL_UIC20, b_sample.HOSPBRTH, b_sample.PNUM_R, l_sample.PNUM_R, b_sample.NEOMAT, b_sample.MEDINCST, l_sample.ASCHED, COUNT(*)  FROM b_sample  JOIN l_sample  ON b_sample.PNUM_R=l_sample.PNUM_R  GROUP BY b_sample.Homeless, b_sample.PL_NCHS2, b_sample.PL_UIC20, b_sample.HOSPBRTH, b_sample.PNUM_R, l_sample.PNUM_R, b_sample.NEOMAT, b_sample.MEDINCST, l_sample.ASCHED',\n",
       "  'n_rows': 457227,\n",
       "  'n_cols': 10}}"
      ]
     },
     "execution_count": 17,
     "metadata": {},
     "output_type": "execute_result"
    }
   ],
   "source": [
    "rnd_query"
   ]
  }
 ],
 "metadata": {
  "kernelspec": {
   "display_name": "Python 3.8.10 ('.env_dev': venv)",
   "language": "python",
   "name": "python3"
  },
  "language_info": {
   "codemirror_mode": {
    "name": "ipython",
    "version": 3
   },
   "file_extension": ".py",
   "mimetype": "text/x-python",
   "name": "python",
   "nbconvert_exporter": "python",
   "pygments_lexer": "ipython3",
   "version": "3.8.10"
  },
  "orig_nbformat": 4,
  "vscode": {
   "interpreter": {
    "hash": "6cf594385e3e378fbba23be52d8fa8a1ff0f44816650af8bcee05fc5c8211531"
   }
  }
 },
 "nbformat": 4,
 "nbformat_minor": 2
}

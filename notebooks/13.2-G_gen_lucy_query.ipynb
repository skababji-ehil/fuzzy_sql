{
 "cells": [
  {
   "cell_type": "code",
   "execution_count": 1,
   "metadata": {},
   "outputs": [],
   "source": [
    "import sys\n",
    "sys.path.append('/home/samer/projects/fuzzy_sql/src') #This will enable reading the modules\n",
    "from pathlib import Path\n",
    "import os\n",
    "import json\n",
    "\n",
    "from fuzzy_sql.rnd_query import RND_QUERY\n",
    "from fuzzy_sql.fuzzy_sql import *"
   ]
  },
  {
   "cell_type": "code",
   "execution_count": 2,
   "metadata": {},
   "outputs": [],
   "source": [
    "#set directories\n",
    "root_dir=Path('/home/samer/projects/fuzzy_sql')\n",
    "metadata_dir=os.path.join(root_dir,'data/lucy/processed/metadata')\n",
    "db_path=os.path.join(root_dir,'db/lucy.db')"
   ]
  },
  {
   "cell_type": "code",
   "execution_count": 3,
   "metadata": {},
   "outputs": [],
   "source": [
    "#define input tables and metadata\n",
    "tbl_names_lst=[\"b_sample\",\"l_sample\"]\n",
    "\n",
    "metadata_lst=[]\n",
    "for tbl_name in tbl_names_lst:\n",
    "    with open(os.path.join(metadata_dir,tbl_name+'.json'),'r') as f:\n",
    "        metadata_lst.append(json.load(f))"
   ]
  },
  {
   "cell_type": "code",
   "execution_count": 4,
   "metadata": {},
   "outputs": [
    {
     "name": "stdout",
     "output_type": "stream",
     "text": [
      "smk2\n"
     ]
    }
   ],
   "source": [
    "#setup parameters\n",
    "DFLT_PARAMS={\n",
    "    'AGG_OPS':{'AVG':0.5, 'SUM':0.3, 'MAX':0.1, 'MIN':0.1 },\n",
    "    'LOGIC_OPS':{'AND':0.9,'OR':0.1},\n",
    "    'NOT_STATE':{'0':0.8, '1':0.2},\n",
    "    'CAT_OPS':{'=':0.25, '<>':0.25, 'LIKE':0.15, 'IN':0.15, 'NOT LIKE':0.1, 'NOT IN':0.1},\n",
    "    'CNT_OPS':{'=':0.2, '>':0.1, '<':0.1, '>=':0.1, '<=':0.1, '<>':0.1, 'BETWEEN':0.2, 'NOT BETWEEN':0.1},\n",
    "    'DT_OPS':{'=':0.2, '>':0.1, '<':0.1, '>=':0, '<=':0, '<>':0.1, 'BETWEEN':0.2, 'IN':0.1, 'NOT BETWEEN':0.1, 'NOT IN':0.1},\n",
    "    'LESS_GRP_VARS': False, # enforce bias in random queries toward smaller number of groupby vars. Default is no bias (i.e. uniform sampling)\n",
    "    'LESS_CMP_VARS':False, # enforce bias in random queries toward small number of  comparison terms. Default is no bias (i.e. uniform sampling)\n",
    "    'JOIN_CNDTN':{'WHERE':0.5, 'AND':0.5} #Use WHERE or AND with JOIN CLAUSE\n",
    "}\n",
    "\n",
    "#connect to db\n",
    "conn = sqlite3.connect(db_path)\n",
    "\n",
    "self=RND_QUERY(conn, tbl_names_lst, metadata_lst,DFLT_PARAMS)"
   ]
  },
  {
   "cell_type": "code",
   "execution_count": 5,
   "metadata": {},
   "outputs": [],
   "source": [
    "# Generate Single queries \n",
    "# rnd_query=self.make_single_agg_query()\n",
    "# rnd_query=self.make_single_agg_query_w_aggfntn()\n",
    "# rnd_query=self.make_single_fltr_query()\n",
    "# rnd_query=self.make_single_aggfltr_query()\n",
    "# rnd_query=self.make_single_aggfltr_query_w_aggfntn()"
   ]
  },
  {
   "cell_type": "code",
   "execution_count": 6,
   "metadata": {},
   "outputs": [],
   "source": [
    "# Generate Random queries \n",
    "\n",
    "\n",
    "#rnd_query=self.make_single_agg_query()\n",
    "\n",
    "syn_tbl_name_lst=['b_sample_syn_01','l_sample_syn_01']\n",
    "rnd_query=self.make_twin_agg_query(syn_tbl_name_lst)"
   ]
  },
  {
   "cell_type": "code",
   "execution_count": 7,
   "metadata": {},
   "outputs": [
    {
     "data": {
      "text/plain": [
       "{'type': 'twin_agg',\n",
       " 'agg_fntn': 'None',\n",
       " 'grpby_vars': ['NEOMAT',\n",
       "  'HISPANIC',\n",
       "  'PNUM_R',\n",
       "  'PNUM_R',\n",
       "  'ASCHED',\n",
       "  'Homeless',\n",
       "  'DX1',\n",
       "  'DNR',\n",
       "  'PL_NCHS2',\n",
       "  'RACE',\n",
       "  'PL_RUCC2',\n",
       "  'MEDINCST',\n",
       "  'PL_UIC20',\n",
       "  'FEMALE',\n",
       "  'HOSPBRTH',\n",
       "  'PL_UR_CA'],\n",
       " 'from_tbl_name_real': 'b_sample',\n",
       " 'join_tbl_name_lst_real': ['l_sample', 'b_sample'],\n",
       " 'sql_real': 'SELECT b_sample.NEOMAT, b_sample.HISPANIC, b_sample.PNUM_R, l_sample.PNUM_R, l_sample.ASCHED, b_sample.Homeless, l_sample.DX1, b_sample.DNR, b_sample.PL_NCHS2, b_sample.RACE, b_sample.PL_RUCC2, b_sample.MEDINCST, b_sample.PL_UIC20, b_sample.FEMALE, b_sample.HOSPBRTH, b_sample.PL_UR_CA, COUNT(*)  FROM b_sample  JOIN l_sample  ON b_sample.PNUM_R=l_sample.PNUM_R  GROUP BY b_sample.NEOMAT, b_sample.HISPANIC, b_sample.PNUM_R, l_sample.PNUM_R, l_sample.ASCHED, b_sample.Homeless, l_sample.DX1, b_sample.DNR, b_sample.PL_NCHS2, b_sample.RACE, b_sample.PL_RUCC2, b_sample.MEDINCST, b_sample.PL_UIC20, b_sample.FEMALE, b_sample.HOSPBRTH, b_sample.PL_UR_CA',\n",
       " 'n_cols_real': 17,\n",
       " 'n_rows_real': 793470,\n",
       " 'from_tbl_name_syn': 'b_sample_syn_01',\n",
       " 'join_tbl_name_lst_syn': ['l_sample_syn_01', 'b_sample_syn_01'],\n",
       " 'sql_syn': 'SELECT b_sample_syn_01.NEOMAT, b_sample_syn_01.HISPANIC, b_sample_syn_01.PNUM_R, l_sample_syn_01.PNUM_R, l_sample_syn_01.ASCHED, b_sample_syn_01.Homeless, l_sample_syn_01.DX1, b_sample_syn_01.DNR, b_sample_syn_01.PL_NCHS2, b_sample_syn_01.RACE, b_sample_syn_01.PL_RUCC2, b_sample_syn_01.MEDINCST, b_sample_syn_01.PL_UIC20, b_sample_syn_01.FEMALE, b_sample_syn_01.HOSPBRTH, b_sample_syn_01.PL_UR_CA, COUNT(*)  FROM b_sample_syn_01  JOIN l_sample_syn_01  ON b_sample_syn_01.PNUM_R=l_sample_syn_01.PNUM_R  GROUP BY b_sample_syn_01.NEOMAT, b_sample_syn_01.HISPANIC, b_sample_syn_01.PNUM_R, l_sample_syn_01.PNUM_R, l_sample_syn_01.ASCHED, b_sample_syn_01.Homeless, l_sample_syn_01.DX1, b_sample_syn_01.DNR, b_sample_syn_01.PL_NCHS2, b_sample_syn_01.RACE, b_sample_syn_01.PL_RUCC2, b_sample_syn_01.MEDINCST, b_sample_syn_01.PL_UIC20, b_sample_syn_01.FEMALE, b_sample_syn_01.HOSPBRTH, b_sample_syn_01.PL_UR_CA',\n",
       " 'n_cols_syn': 17,\n",
       " 'n_rows_syn': 881119}"
      ]
     },
     "execution_count": 7,
     "metadata": {},
     "output_type": "execute_result"
    }
   ],
   "source": [
    "rnd_query['query_desc']"
   ]
  },
  {
   "cell_type": "code",
   "execution_count": null,
   "metadata": {},
   "outputs": [],
   "source": []
  }
 ],
 "metadata": {
  "kernelspec": {
   "display_name": "Python 3.8.10 ('.env_dev': venv)",
   "language": "python",
   "name": "python3"
  },
  "language_info": {
   "codemirror_mode": {
    "name": "ipython",
    "version": 3
   },
   "file_extension": ".py",
   "mimetype": "text/x-python",
   "name": "python",
   "nbconvert_exporter": "python",
   "pygments_lexer": "ipython3",
   "version": "3.8.10"
  },
  "orig_nbformat": 4,
  "vscode": {
   "interpreter": {
    "hash": "6cf594385e3e378fbba23be52d8fa8a1ff0f44816650af8bcee05fc5c8211531"
   }
  }
 },
 "nbformat": 4,
 "nbformat_minor": 2
}

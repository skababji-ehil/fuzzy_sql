{
 "cells": [
  {
   "cell_type": "markdown",
   "metadata": {},
   "source": [
    "### An example for longitudinal data with single child"
   ]
  },
  {
   "cell_type": "code",
   "execution_count": null,
   "metadata": {},
   "outputs": [],
   "source": [
    "#! pip install --upgrade pip\n",
    "#! pip install fuzzy_sql-1.1.1b0-py3-none-any.whl\n",
    "#%matplotlib inline"
   ]
  },
  {
   "cell_type": "code",
   "execution_count": null,
   "metadata": {},
   "outputs": [],
   "source": [
    "from config_paths import *\n",
    "import sys\n",
    "sys.path.append(str(SRC_DIR))\n",
    "\n",
    "from fuzzy_sql.fuzzy_sql import *\n",
    "import json\n",
    "import os\n",
    "from pathlib import Path\n",
    "\n",
    "DATASET_NAME='cal'\n",
    "\n",
    "\n",
    "import matplotlib\n",
    "matplotlib.use('Agg')"
   ]
  },
  {
   "cell_type": "markdown",
   "metadata": {},
   "source": [
    "### PREPROCESSING AND IMPORTING DATA INTO DATABASE\n",
    "##### (This is typically done for one time only)"
   ]
  },
  {
   "cell_type": "code",
   "execution_count": null,
   "metadata": {},
   "outputs": [],
   "source": [
    "# set directories\n",
    "metadata_dir = os.path.join(DATA_DIR, DATASET_NAME,'processed/metadata')\n",
    "real_dir = os.path.join(DATA_DIR,DATASET_NAME, 'processed/real')\n",
    "syn_dir = os.path.join(DATA_DIR,DATASET_NAME, 'processed/synthetic')\n",
    "db_path = os.path.join(DB_DIR, f'{DATASET_NAME}.db')\n",
    "\n",
    "\n",
    "# identify input data file names\n",
    "real_csvs=[\"b_sample.csv\",\"l_sample.csv\"]\n",
    "meta_jsons=['b_sample.json','l_sample.json']\n",
    "syn_csvs=['b_sample_syn_01.csv','l_sample_syn_01.csv']"
   ]
  },
  {
   "cell_type": "code",
   "execution_count": null,
   "metadata": {},
   "outputs": [],
   "source": [
    "# Create/connect to database\n",
    "conn = sqlite3.connect(db_path)"
   ]
  },
  {
   "cell_type": "markdown",
   "metadata": {},
   "source": [
    "for real_csv,meta_json,syn_csv in zip(real_csvs,meta_jsons,syn_csvs):\n",
    "    #Import real\n",
    "    data,_=prep_data_for_db(os.path.join(real_dir,real_csv)) # Note: This function  can be used to quickly generate metadata template, but this is not shown here.\n",
    "    with open(os.path.join(metadata_dir, meta_json), 'r') as f:\n",
    "        metadata=json.load(f)\n",
    "    candidate_db_idx=get_vars_to_index(metadata,data)\n",
    "    table_name=Path(real_csv).stem\n",
    "    make_table(table_name, data, conn,indx_vars=candidate_db_idx)\n",
    "    #Import syn\n",
    "    data,_=prep_data_for_db(os.path.join(syn_dir,syn_csv)) # Note: This function  can be used to quickly generate metadata template, but this is not shown here.\n",
    "    table_name=Path(syn_csv).stem\n",
    "    make_table(table_name, data, conn,indx_vars=candidate_db_idx)\n",
    "\n",
    "conn.close()\n",
    "    "
   ]
  },
  {
   "cell_type": "markdown",
   "metadata": {},
   "source": [
    "### GENERATING RANDOM QUERIES "
   ]
  },
  {
   "cell_type": "code",
   "execution_count": null,
   "metadata": {},
   "outputs": [],
   "source": [
    "# Create lists with table names. Table names shall be identical to the names initially created in the database.\n",
    "real_tbl_lst=[Path(real_csv).stem for real_csv in real_csvs]\n",
    "syn_tbl_lst=[Path(syn_csv).stem for syn_csv in syn_csvs]\n"
   ]
  },
  {
   "cell_type": "code",
   "execution_count": null,
   "metadata": {},
   "outputs": [],
   "source": [
    "# Read metadata from the provided json files into a list of dictionaries. \n",
    "# Note 1: Both real and synthetic data should have the same metadata file.\n",
    "# Note 2: Each input table in real_tbl_lst above shall have its own metadata file.\n",
    "# Note 2: The json file name shall match that of the real data file name in real_tbl_lst. \n",
    "metadata_lst = []\n",
    "for tbl_name in real_tbl_lst:\n",
    "    with open(os.path.join(metadata_dir, tbl_name+'.json'), 'r') as f:\n",
    "        metadata_lst.append(json.load(f))"
   ]
  },
  {
   "cell_type": "code",
   "execution_count": null,
   "metadata": {},
   "outputs": [],
   "source": [
    "rnd_queries=gen_queries(10,db_path, real_tbl_lst, metadata_lst,  syn_tbl_lst )\n"
   ]
  },
  {
   "cell_type": "code",
   "execution_count": null,
   "metadata": {},
   "outputs": [],
   "source": []
  },
  {
   "cell_type": "code",
   "execution_count": null,
   "metadata": {},
   "outputs": [],
   "source": [
    "rprtr=QryRprt(real_tbl_lst, rnd_queries)\n",
    "rprtr.print_html_mltpl('cal.html')\n",
    "rprtr.plot_violin('Hellinger','cal_hlngr.png' )\n",
    "rprtr.plot_violin('Euclidean','cal_ecldn.png' )"
   ]
  }
 ],
 "metadata": {
  "kernelspec": {
   "display_name": ".env_dev",
   "language": "python",
   "name": "python3"
  },
  "language_info": {
   "codemirror_mode": {
    "name": "ipython",
    "version": 3
   },
   "file_extension": ".py",
   "mimetype": "text/x-python",
   "name": "python",
   "nbconvert_exporter": "python",
   "pygments_lexer": "ipython3",
   "version": "3.8.2 (default, Dec 21 2020, 15:06:04) \n[Clang 12.0.0 (clang-1200.0.32.29)]"
  },
  "vscode": {
   "interpreter": {
    "hash": "43e50e087ad1b803a9194e2edbfbb2781922b068ec9f5f8351ab6e27c02de616"
   }
  }
 },
 "nbformat": 4,
 "nbformat_minor": 2
}

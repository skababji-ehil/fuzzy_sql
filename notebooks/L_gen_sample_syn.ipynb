{
 "cells": [
  {
   "cell_type": "code",
   "execution_count": 1,
   "metadata": {},
   "outputs": [],
   "source": [
    "import pandas as pd\n",
    "import numpy as np\n",
    "from random import random"
   ]
  },
  {
   "cell_type": "code",
   "execution_count": 2,
   "metadata": {},
   "outputs": [],
   "source": [
    "b_real_path=\"/home/samer/projects/fuzzy_sql/data/longitudinal/real/b_sample.csv\"\n",
    "l_real_path=\"/home/samer/projects/fuzzy_sql/data/longitudinal/real/l_sample.csv\"\n",
    "b_syn_path=\"/home/samer/projects/fuzzy_sql/data/longitudinal/synthetic/b_sample_syn.csv\"\n",
    "l_syn_path=\"/home/samer/projects/fuzzy_sql/data/longitudinal/synthetic/l_sample_syn.csv\""
   ]
  },
  {
   "cell_type": "code",
   "execution_count": 3,
   "metadata": {},
   "outputs": [],
   "source": [
    "#Import data\n",
    "b_real=pd.read_csv(b_real_path)\n",
    "l_real=pd.read_csv(l_real_path)"
   ]
  },
  {
   "cell_type": "code",
   "execution_count": 4,
   "metadata": {},
   "outputs": [],
   "source": [
    "#Generate synthetic data using uniform distributions\n",
    "def gen_uniform_syn(real: pd.DataFrame)-> pd.DataFrame:\n",
    "    syn=pd.DataFrame()\n",
    "    for col in real.columns: \n",
    "        x=real[col].values\n",
    "        xV_arr=[xi[1:] for xi in x if 'V' in str(xi)] #This is used for DX1 since it includes both numbers and Vxxx numbers\n",
    "        xV_arr=list(map(int,xV_arr))\n",
    "        n_V=len(xV_arr)\n",
    "        if n_V:\n",
    "            xV_min=np.min(xV_arr)\n",
    "            xV_max=np.max(xV_arr)\n",
    "\n",
    "\n",
    "        x_len=len(x)\n",
    "        n_nan=len([xi for xi in x if  xi!=xi])\n",
    "        x=x[x==x]\n",
    "        x_max=np.max(x)\n",
    "        x_min=np.min(x)\n",
    "        if x_max!=x_min:\n",
    "            syn_x=np.random.randint(x_min, x_max, size=x_len)\n",
    "        else:\n",
    "            syn_x=x_max*np.ones(x_len)\n",
    "        syn[col]=syn_x \n",
    "    return syn\n",
    "    "
   ]
  },
  {
   "cell_type": "code",
   "execution_count": 5,
   "metadata": {},
   "outputs": [],
   "source": [
    "b_syn=gen_uniform_syn(b_real)\n",
    "b_syn.to_csv(b_syn_path, index=False)\n",
    "\n"
   ]
  },
  {
   "cell_type": "code",
   "execution_count": 6,
   "metadata": {},
   "outputs": [
    {
     "ename": "ValueError",
     "evalue": "invalid literal for int() with base 10: 'incn'",
     "output_type": "error",
     "traceback": [
      "\u001b[0;31m---------------------------------------------------------------------------\u001b[0m",
      "\u001b[0;31mValueError\u001b[0m                                Traceback (most recent call last)",
      "Cell \u001b[0;32mIn [6], line 1\u001b[0m\n\u001b[0;32m----> 1\u001b[0m l_syn\u001b[38;5;241m=\u001b[39m\u001b[43mgen_uniform_syn\u001b[49m\u001b[43m(\u001b[49m\u001b[43ml_real\u001b[49m\u001b[43m)\u001b[49m\n\u001b[1;32m      2\u001b[0m l_syn\u001b[38;5;241m.\u001b[39mto_csv(l_syn_path, index\u001b[38;5;241m=\u001b[39m\u001b[38;5;28;01mFalse\u001b[39;00m)\n",
      "Cell \u001b[0;32mIn [4], line 20\u001b[0m, in \u001b[0;36mgen_uniform_syn\u001b[0;34m(real)\u001b[0m\n\u001b[1;32m     18\u001b[0m x_min\u001b[38;5;241m=\u001b[39mnp\u001b[38;5;241m.\u001b[39mmin(x)\n\u001b[1;32m     19\u001b[0m \u001b[38;5;28;01mif\u001b[39;00m x_max\u001b[38;5;241m!=\u001b[39mx_min:\n\u001b[0;32m---> 20\u001b[0m     syn_x\u001b[38;5;241m=\u001b[39mnp\u001b[38;5;241m.\u001b[39mrandom\u001b[38;5;241m.\u001b[39mrandint(x_min, x_max, size\u001b[38;5;241m=\u001b[39mx_len)\n\u001b[1;32m     21\u001b[0m \u001b[38;5;28;01melse\u001b[39;00m:\n\u001b[1;32m     22\u001b[0m     syn_x\u001b[38;5;241m=\u001b[39mx_max\u001b[38;5;241m*\u001b[39mnp\u001b[38;5;241m.\u001b[39mones(x_len)\n",
      "File \u001b[0;32mmtrand.pyx:748\u001b[0m, in \u001b[0;36mnumpy.random.mtrand.RandomState.randint\u001b[0;34m()\u001b[0m\n",
      "File \u001b[0;32m_bounded_integers.pyx:1237\u001b[0m, in \u001b[0;36mnumpy.random._bounded_integers._rand_int64\u001b[0;34m()\u001b[0m\n",
      "\u001b[0;31mValueError\u001b[0m: invalid literal for int() with base 10: 'incn'"
     ]
    }
   ],
   "source": [
    "l_syn=gen_uniform_syn(l_real)\n",
    "l_syn.to_csv(l_syn_path, index=False)"
   ]
  }
 ],
 "metadata": {
  "kernelspec": {
   "display_name": "Python 3.8.10 ('.env_dev': venv)",
   "language": "python",
   "name": "python3"
  },
  "language_info": {
   "codemirror_mode": {
    "name": "ipython",
    "version": 3
   },
   "file_extension": ".py",
   "mimetype": "text/x-python",
   "name": "python",
   "nbconvert_exporter": "python",
   "pygments_lexer": "ipython3",
   "version": "3.8.10"
  },
  "orig_nbformat": 4,
  "vscode": {
   "interpreter": {
    "hash": "6cf594385e3e378fbba23be52d8fa8a1ff0f44816650af8bcee05fc5c8211531"
   }
  }
 },
 "nbformat": 4,
 "nbformat_minor": 2
}

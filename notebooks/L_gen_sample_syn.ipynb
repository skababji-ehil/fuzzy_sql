{
 "cells": [
  {
   "cell_type": "code",
   "execution_count": 1,
   "metadata": {},
   "outputs": [],
   "source": [
    "import pandas as pd\n",
    "import numpy as np\n",
    "from random import random\n",
    "import copy\n",
    "SEED=13"
   ]
  },
  {
   "cell_type": "code",
   "execution_count": 2,
   "metadata": {},
   "outputs": [],
   "source": [
    "b_real_path=\"/home/samer/projects/fuzzy_sql/data/longitudinal/ready/real/b_sample.csv\"\n",
    "l_real_path=\"/home/samer/projects/fuzzy_sql/data/longitudinal/ready/real/l_sample.csv\"\n",
    "b_syn_path=\"/home/samer/projects/fuzzy_sql/data/longitudinal/ready/synthetic/b_sample_syn.csv\"\n",
    "l_syn_path=\"/home/samer/projects/fuzzy_sql/data/longitudinal/ready/synthetic/l_sample_syn.csv\""
   ]
  },
  {
   "cell_type": "code",
   "execution_count": 3,
   "metadata": {},
   "outputs": [],
   "source": [
    "#Import data\n",
    "b_real=pd.read_csv(b_real_path, dtype=str) #base\n",
    "l_real=pd.read_csv(l_real_path, dtype=str) #longitudinal "
   ]
  },
  {
   "cell_type": "code",
   "execution_count": 4,
   "metadata": {},
   "outputs": [],
   "source": [
    "def gen_toy_syn(df_org, r):\n",
    "    #Generate synthetic data by shuffling the columns of certain portion of the input datasets\n",
    "    # r is ratio of the records to be corrupted e..g 0.2 means 20% of the table is modified.\n",
    "    df=copy.deepcopy(df_org)\n",
    "    shuffled=df.sample(frac=1, ignore_index=True, random_state=SEED)\n",
    "    r_rows=int(r*len(shuffled))\n",
    "    corrupt=shuffled[0:r_rows].reset_index(drop=True)\n",
    "    intact=shuffled[r_rows:].reset_index(drop=True)\n",
    "    org_arr=corrupt.values\n",
    "    n_col=org_arr.shape[1]\n",
    "    new_arr=np.empty_like(org_arr)\n",
    "    new_arr[:,0]=org_arr[:,0]\n",
    "    for i in range(1,n_col):\n",
    "        new_arr[:,i]=np.random.RandomState(seed=SEED).permutation(org_arr[:,i])\n",
    "    corrupt=pd.DataFrame(new_arr, columns=corrupt.columns)\n",
    "    syn=pd.concat([intact, corrupt],axis=0)\n",
    "    return syn\n"
   ]
  },
  {
   "cell_type": "code",
   "execution_count": 5,
   "metadata": {},
   "outputs": [],
   "source": [
    "b_syn=gen_toy_syn(b_real, 0.2)\n",
    "b_syn.to_csv(b_syn_path, index=False)\n",
    "l_syn=gen_toy_syn(l_real, 0.2)\n",
    "l_syn.to_csv(l_syn_path, index=False)"
   ]
  },
  {
   "cell_type": "code",
   "execution_count": null,
   "metadata": {},
   "outputs": [],
   "source": []
  }
 ],
 "metadata": {
  "kernelspec": {
   "display_name": "Python 3.8.10 ('.env_dev': venv)",
   "language": "python",
   "name": "python3"
  },
  "language_info": {
   "codemirror_mode": {
    "name": "ipython",
    "version": 3
   },
   "file_extension": ".py",
   "mimetype": "text/x-python",
   "name": "python",
   "nbconvert_exporter": "python",
   "pygments_lexer": "ipython3",
   "version": "3.8.10"
  },
  "orig_nbformat": 4,
  "vscode": {
   "interpreter": {
    "hash": "6cf594385e3e378fbba23be52d8fa8a1ff0f44816650af8bcee05fc5c8211531"
   }
  }
 },
 "nbformat": 4,
 "nbformat_minor": 2
}

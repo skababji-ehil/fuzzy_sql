{
 "cells": [
  {
   "cell_type": "code",
   "execution_count": 1,
   "metadata": {},
   "outputs": [],
   "source": [
    "from config_paths import *\n",
    "import sys\n",
    "sys.path.append(str(SRC_DIR))\n",
    "\n",
    "from fuzzy_sql.fuzzy_sql import *\n",
    "import json\n",
    "import os\n",
    "from pathlib import Path\n",
    "\n",
    "DATASET_NAME='sdgd'"
   ]
  },
  {
   "cell_type": "code",
   "execution_count": 2,
   "metadata": {},
   "outputs": [],
   "source": [
    "# set directories\n",
    "metadata_dir = os.path.join(DATA_DIR, DATASET_NAME,'processed/metadata')\n",
    "real_dir = os.path.join(DATA_DIR,DATASET_NAME, 'processed/real')\n",
    "syn_dir = os.path.join(DATA_DIR,DATASET_NAME, 'processed/synthetic')\n",
    "db_path = os.path.join(DB_DIR, f'{DATASET_NAME}.db')"
   ]
  },
  {
   "cell_type": "code",
   "execution_count": 3,
   "metadata": {},
   "outputs": [],
   "source": [
    "# identify input data file names\n",
    "real_csvs=[\"C1.csv\",\"C2.csv\"]\n",
    "meta_jsons=['C1.json','C2.json']\n",
    "syn_csvs=['C1_syn_default_1.csv','C2_syn_default_1.csv']\n"
   ]
  },
  {
   "cell_type": "markdown",
   "metadata": {},
   "source": [
    "### Prepare real data and import it into the database with indexing"
   ]
  },
  {
   "cell_type": "code",
   "execution_count": 4,
   "metadata": {},
   "outputs": [
    {
     "name": "stdout",
     "output_type": "stream",
     "text": [
      "Table C1 is created in the database\n",
      ".... The index: IDX_C1_sex is created for the table: C1 in the database\n",
      ".... The index: IDX_C1_native_country is created for the table: C1 in the database\n",
      ".... The index: IDX_C1_workclass is created for the table: C1 in the database\n",
      ".... The index: IDX_C1_race is created for the table: C1 in the database\n",
      ".... The index: IDX_C1_fnlwgt is created for the table: C1 in the database\n",
      ".... The index: IDX_C1_marital_status is created for the table: C1 in the database\n",
      ".... The index: IDX_C1_occupation is created for the table: C1 in the database\n",
      ".... The index: IDX_C1_income is created for the table: C1 in the database\n",
      ".... The index: IDX_C1_relationship is created for the table: C1 in the database\n",
      ".... The index: IDX_C1_hours_per_week is created for the table: C1 in the database\n",
      ".... The index: IDX_C1_capital is created for the table: C1 in the database\n",
      ".... The index: IDX_C1_education is created for the table: C1 in the database\n",
      ".... The index: IDX_C1_age is created for the table: C1 in the database\n",
      "Table C1_syn_default_1 is created in the database\n",
      ".... The index: IDX_C1_syn_default_1_sex is created for the table: C1_syn_default_1 in the database\n",
      ".... The index: IDX_C1_syn_default_1_native_country is created for the table: C1_syn_default_1 in the database\n",
      ".... The index: IDX_C1_syn_default_1_workclass is created for the table: C1_syn_default_1 in the database\n",
      ".... The index: IDX_C1_syn_default_1_race is created for the table: C1_syn_default_1 in the database\n",
      ".... The index: IDX_C1_syn_default_1_fnlwgt is created for the table: C1_syn_default_1 in the database\n",
      ".... The index: IDX_C1_syn_default_1_marital_status is created for the table: C1_syn_default_1 in the database\n",
      ".... The index: IDX_C1_syn_default_1_occupation is created for the table: C1_syn_default_1 in the database\n",
      ".... The index: IDX_C1_syn_default_1_income is created for the table: C1_syn_default_1 in the database\n",
      ".... The index: IDX_C1_syn_default_1_relationship is created for the table: C1_syn_default_1 in the database\n",
      ".... The index: IDX_C1_syn_default_1_hours_per_week is created for the table: C1_syn_default_1 in the database\n",
      ".... The index: IDX_C1_syn_default_1_capital is created for the table: C1_syn_default_1 in the database\n",
      ".... The index: IDX_C1_syn_default_1_education is created for the table: C1_syn_default_1 in the database\n",
      ".... The index: IDX_C1_syn_default_1_age is created for the table: C1_syn_default_1 in the database\n",
      "Table C2 is created in the database\n",
      ".... The index: IDX_C2_class is created for the table: C2 in the database\n",
      ".... The index: IDX_C2_var is created for the table: C2 in the database\n",
      ".... The index: IDX_C2_curtosis is created for the table: C2 in the database\n",
      ".... The index: IDX_C2_entropy is created for the table: C2 in the database\n",
      ".... The index: IDX_C2_skew is created for the table: C2 in the database\n",
      "Table C2_syn_default_1 is created in the database\n",
      ".... The index: IDX_C2_syn_default_1_class is created for the table: C2_syn_default_1 in the database\n",
      ".... The index: IDX_C2_syn_default_1_var is created for the table: C2_syn_default_1 in the database\n",
      ".... The index: IDX_C2_syn_default_1_curtosis is created for the table: C2_syn_default_1 in the database\n",
      ".... The index: IDX_C2_syn_default_1_entropy is created for the table: C2_syn_default_1 in the database\n",
      ".... The index: IDX_C2_syn_default_1_skew is created for the table: C2_syn_default_1 in the database\n"
     ]
    }
   ],
   "source": [
    "conn = sqlite3.connect(db_path) # connect to db\n",
    "with conn:\n",
    "    for real_csv,meta_json,syn_csv in zip(real_csvs,meta_jsons,syn_csvs):\n",
    "        #Import real\n",
    "        data,_=prep_data_for_db(os.path.join(real_dir,real_csv)) # Note: This function  can be used to quickly generate metadata template, but this is not shown here.\n",
    "        with open(os.path.join(metadata_dir, meta_json), 'r') as f:\n",
    "            metadata=json.load(f)\n",
    "        candidate_db_idx=get_vars_to_index(metadata,data)\n",
    "        table_name=Path(real_csv).stem\n",
    "        make_table(table_name, data, conn,indx_vars=candidate_db_idx)\n",
    "\n",
    "        #Import syn\n",
    "        data,_=prep_data_for_db(os.path.join(syn_dir,syn_csv)) # Note: This function  can be used to quickly generate metadata template, but this is not shown here.\n",
    "        table_name=Path(syn_csv).stem\n",
    "        make_table(table_name, data, conn,indx_vars=candidate_db_idx)"
   ]
  },
  {
   "cell_type": "code",
   "execution_count": null,
   "metadata": {},
   "outputs": [],
   "source": []
  }
 ],
 "metadata": {
  "kernelspec": {
   "display_name": ".env_dev",
   "language": "python",
   "name": "python3"
  },
  "language_info": {
   "codemirror_mode": {
    "name": "ipython",
    "version": 3
   },
   "file_extension": ".py",
   "mimetype": "text/x-python",
   "name": "python",
   "nbconvert_exporter": "python",
   "pygments_lexer": "ipython3",
   "version": "3.8.10"
  },
  "orig_nbformat": 4,
  "vscode": {
   "interpreter": {
    "hash": "6cf594385e3e378fbba23be52d8fa8a1ff0f44816650af8bcee05fc5c8211531"
   }
  }
 },
 "nbformat": 4,
 "nbformat_minor": 2
}

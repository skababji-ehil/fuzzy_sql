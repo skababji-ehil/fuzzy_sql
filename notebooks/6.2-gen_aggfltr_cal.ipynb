{
 "cells": [
  {
   "attachments": {},
   "cell_type": "markdown",
   "metadata": {},
   "source": [
    "### An example for generating *Aggregate-Filter* for longitudinal single child data \n",
    "######  Before executing this notebook, please makes sure that data was imported earlier into the database."
   ]
  },
  {
   "cell_type": "code",
   "execution_count": 1,
   "metadata": {},
   "outputs": [],
   "source": [
    "#! pip install --upgrade pip\n",
    "#! pip install fuzzy_sql-1.1.1b0-py3-none-any.whl\n",
    "#%matplotlib inline"
   ]
  },
  {
   "cell_type": "code",
   "execution_count": 2,
   "metadata": {},
   "outputs": [],
   "source": [
    "from config_paths import *\n",
    "import sys\n",
    "sys.path.append(str(SRC_DIR))\n",
    "\n",
    "import json\n",
    "import os\n",
    "from pathlib import Path\n",
    "\n",
    "from fuzzy_sql.generate import gen_aggfltr_queries\n",
    "from fuzzy_sql.report import Report\n",
    "\n",
    "DATASET_NAME='cal'"
   ]
  },
  {
   "cell_type": "code",
   "execution_count": 3,
   "metadata": {},
   "outputs": [],
   "source": [
    "# set directories\n",
    "metadata_dir = os.path.join(DATA_DIR, DATASET_NAME,'processed/metadata')\n",
    "db_path = os.path.join(DB_DIR, f'{DATASET_NAME}.db')\n"
   ]
  },
  {
   "cell_type": "markdown",
   "metadata": {},
   "source": [
    "### GENERATING RANDOM QUERIES "
   ]
  },
  {
   "cell_type": "code",
   "execution_count": 4,
   "metadata": {},
   "outputs": [],
   "source": [
    "# Create lists with table names. Table names shall be identical to the names initially created in the database.\n",
    "real_tbl_lst=[\"b_sample\",\"l_sample\"]\n",
    "syn_tbl_lst=['b_sample_syn_01','l_sample_syn_01']\n",
    "\n",
    "\n",
    "# Read metadata from the provided json files into a list of dictionaries. \n",
    "# Note 1: Both real and synthetic data should have the same metadata file.\n",
    "# Note 2: Each input table in real_tbl_lst above shall have its own metadata file.\n",
    "# Note 2: The json file name shall match that of the real data file name in real_tbl_lst. \n",
    "metadata_lst = []\n",
    "for tbl_name in real_tbl_lst:\n",
    "    with open(os.path.join(metadata_dir, tbl_name+'.json'), 'r') as f:\n",
    "        metadata_lst.append(json.load(f))"
   ]
  },
  {
   "cell_type": "code",
   "execution_count": 5,
   "metadata": {},
   "outputs": [
    {
     "name": "stdout",
     "output_type": "stream",
     "text": [
      "Cant wait any further! I am skipping this one!\n",
      "Cant wait any further! I am skipping this one!\n",
      "Generated Random Aggregate Filter Query - 1 in 10.7 seconds.\n",
      "Generated Random Aggregate Filter Query - 2 in 10.0 seconds.\n",
      "Generated Random Aggregate Filter Query - 3 in 8.3 seconds.\n",
      "Cant wait any further! I am skipping this one!\n",
      "Generated Random Aggregate Filter Query - 4 in 14.3 seconds.\n",
      "Generated Random Aggregate Filter Query - 5 in 9.9 seconds.\n",
      "Generated Random Aggregate Filter Query - 6 in 10.9 seconds.\n",
      "Generated Random Aggregate Filter Query - 7 in 8.9 seconds.\n",
      "Generated Random Aggregate Filter Query - 8 in 8.9 seconds.\n",
      "Generated Random Aggregate Filter Query - 9 in 9.2 seconds.\n",
      "Generated Random Aggregate Filter Query - 10 in 11.8 seconds.\n"
     ]
    }
   ],
   "source": [
    "rnd_queries=gen_aggfltr_queries(10,db_path, real_tbl_lst, metadata_lst,  syn_tbl_lst )"
   ]
  },
  {
   "attachments": {},
   "cell_type": "markdown",
   "metadata": {},
   "source": [
    "### REPORTING "
   ]
  },
  {
   "cell_type": "code",
   "execution_count": 6,
   "metadata": {},
   "outputs": [],
   "source": [
    "rprtr=Report(real_tbl_lst, rnd_queries)\n",
    "rprtr.print_html_mltpl(f'{DATASET_NAME}.html')\n",
    "rprtr.plot_violin('Hellinger',f'{DATASET_NAME}_hlngr.png' )\n",
    "rprtr.plot_violin('Euclidean',f'{DATASET_NAME}_ecldn.png' )"
   ]
  }
 ],
 "metadata": {
  "kernelspec": {
   "display_name": ".env_dev",
   "language": "python",
   "name": "python3"
  },
  "language_info": {
   "codemirror_mode": {
    "name": "ipython",
    "version": 3
   },
   "file_extension": ".py",
   "mimetype": "text/x-python",
   "name": "python",
   "nbconvert_exporter": "python",
   "pygments_lexer": "ipython3",
   "version": "3.8.10 (default, Nov 14 2022, 12:59:47) \n[GCC 9.4.0]"
  },
  "vscode": {
   "interpreter": {
    "hash": "6cf594385e3e378fbba23be52d8fa8a1ff0f44816650af8bcee05fc5c8211531"
   }
  }
 },
 "nbformat": 4,
 "nbformat_minor": 2
}

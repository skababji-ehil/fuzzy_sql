{
 "cells": [
  {
   "cell_type": "code",
   "execution_count": null,
   "metadata": {},
   "outputs": [],
   "source": [
    "import sys\n",
    "sys.path.append('/home/samer/projects/fuzzy_sql/src')\n",
    "\n",
    "from fuzzy_sql.fuzzy_sql import *\n",
    "import json\n",
    "import os\n",
    "from pathlib import Path\n",
    "import glob"
   ]
  },
  {
   "cell_type": "code",
   "execution_count": null,
   "metadata": {},
   "outputs": [],
   "source": [
    "# set directories\n",
    "root_dir = Path('/home/samer/projects/fuzzy_sql')\n",
    "metadata_dir = os.path.join(root_dir, 'data/sdgd/processed/metadata')\n",
    "real_dir = os.path.join(root_dir, 'data/sdgd/processed/real')\n",
    "syn_dir = os.path.join(root_dir, 'data/sdgd/processed/synthetic')\n",
    "db_path = os.path.join(root_dir, 'db/sdgd.db')"
   ]
  },
  {
   "cell_type": "code",
   "execution_count": null,
   "metadata": {},
   "outputs": [],
   "source": [
    "# poplulate filenames from folder into a list\n",
    "real_fnames=glob.glob(real_dir+'/*.csv')\n",
    "real_fnames=[Path(real_fname).stem for real_fname in real_fnames]\n",
    "real_fnames.sort()\n",
    "\n",
    "\n",
    "# generate filenames\n",
    "meta_jsons=[]\n",
    "real_csvs=[]\n",
    "for real_fname in real_fnames:\n",
    "    meta_jsons.append(real_fname+'.json')\n",
    "    real_csvs.append(real_fname+'.csv')\n",
    "    \n"
   ]
  },
  {
   "cell_type": "code",
   "execution_count": null,
   "metadata": {},
   "outputs": [],
   "source": [
    "# connect to db\n",
    "conn = sqlite3.connect(db_path)"
   ]
  },
  {
   "cell_type": "code",
   "execution_count": null,
   "metadata": {},
   "outputs": [],
   "source": [
    "# import real data into database\n",
    "for real_csv,meta_json in zip(real_csvs,meta_jsons):\n",
    "    #Import real\n",
    "    data,_=prep_data_for_db(os.path.join(real_dir,real_csv)) # Note: This function  can be used to quickly generate metadata template, but this is not shown here.\n",
    "    with open(os.path.join(metadata_dir, meta_json), 'r') as f:\n",
    "        metadata=json.load(f)\n",
    "    print(f\"Processing {real_csv} and {meta_json} \")\n",
    "    candidate_db_idx=get_vars_to_index(metadata,data)\n",
    "    table_name=Path(real_csv).stem\n",
    "    make_table(table_name, data, conn,indx_vars=candidate_db_idx)"
   ]
  }
 ],
 "metadata": {
  "kernelspec": {
   "display_name": "Python 3.9.12 ('.env_dev': venv)",
   "language": "python",
   "name": "python3"
  },
  "language_info": {
   "codemirror_mode": {
    "name": "ipython",
    "version": 3
   },
   "file_extension": ".py",
   "mimetype": "text/x-python",
   "name": "python",
   "nbconvert_exporter": "python",
   "pygments_lexer": "ipython3",
   "version": "3.8.10"
  },
  "orig_nbformat": 4,
  "vscode": {
   "interpreter": {
    "hash": "6cf594385e3e378fbba23be52d8fa8a1ff0f44816650af8bcee05fc5c8211531"
   }
  }
 },
 "nbformat": 4,
 "nbformat_minor": 2
}

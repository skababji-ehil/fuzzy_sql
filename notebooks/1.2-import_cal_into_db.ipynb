{
 "cells": [
  {
   "cell_type": "code",
   "execution_count": 1,
   "metadata": {},
   "outputs": [],
   "source": [
    "from config_paths import *\n",
    "import sys\n",
    "sys.path.append(str(SRC_DIR))\n",
    "\n",
    "from fuzzy_sql.fuzzy_sql import *\n",
    "import json\n",
    "import os\n",
    "from pathlib import Path\n",
    "\n",
    "DATASET_NAME='cal'"
   ]
  },
  {
   "cell_type": "code",
   "execution_count": 2,
   "metadata": {},
   "outputs": [],
   "source": [
    "# set directories\n",
    "metadata_dir = os.path.join(DATA_DIR, DATASET_NAME,'processed/metadata')\n",
    "real_dir = os.path.join(DATA_DIR,DATASET_NAME, 'processed/real')\n",
    "syn_dir = os.path.join(DATA_DIR,DATASET_NAME, 'processed/synthetic')\n",
    "db_path = os.path.join(DB_DIR, f'{DATASET_NAME}.db')"
   ]
  },
  {
   "cell_type": "code",
   "execution_count": 3,
   "metadata": {},
   "outputs": [],
   "source": [
    "# identify input data file names\n",
    "real_csvs=[\"b_sample.csv\",\"l_sample.csv\"]\n",
    "meta_jsons=['b_sample.json','l_sample.json']\n",
    "syn_csvs=['b_sample_syn_01.csv','l_sample_syn_01.csv']\n"
   ]
  },
  {
   "cell_type": "markdown",
   "metadata": {},
   "source": [
    "### Prepare real data and import it into the database with indexing"
   ]
  },
  {
   "cell_type": "code",
   "execution_count": 4,
   "metadata": {},
   "outputs": [
    {
     "name": "stdout",
     "output_type": "stream",
     "text": [
      "Table b_sample is created in the database\n",
      ".... The index: IDX_b_sample_Homeless is created for the table: b_sample in the database\n",
      ".... The index: IDX_b_sample_PL_UIC20 is created for the table: b_sample in the database\n",
      ".... The index: IDX_b_sample_HISPANIC is created for the table: b_sample in the database\n",
      ".... The index: IDX_b_sample_PL_RUCC2 is created for the table: b_sample in the database\n",
      ".... The index: IDX_b_sample_FEMALE is created for the table: b_sample in the database\n",
      ".... The index: IDX_b_sample_PNUM_R is created for the table: b_sample in the database\n",
      ".... The index: IDX_b_sample_NEOMAT is created for the table: b_sample in the database\n",
      ".... The index: IDX_b_sample_PL_NCHS2 is created for the table: b_sample in the database\n",
      ".... The index: IDX_b_sample_HOSPBRTH is created for the table: b_sample in the database\n",
      ".... The index: IDX_b_sample_DIED is created for the table: b_sample in the database\n",
      ".... The index: IDX_b_sample_PL_CBSA is created for the table: b_sample in the database\n",
      ".... The index: IDX_b_sample_MEDINCST is created for the table: b_sample in the database\n",
      ".... The index: IDX_b_sample_DNR is created for the table: b_sample in the database\n",
      ".... The index: IDX_b_sample_PL_RUCA4 is created for the table: b_sample in the database\n",
      ".... The index: IDX_b_sample_PL_UR_CA is created for the table: b_sample in the database\n",
      ".... The index: IDX_b_sample_RACE is created for the table: b_sample in the database\n",
      ".... The index: IDX_b_sample_AGE is created for the table: b_sample in the database\n",
      "Table b_sample_syn_01 is created in the database\n",
      ".... The index: IDX_b_sample_syn_01_Homeless is created for the table: b_sample_syn_01 in the database\n",
      ".... The index: IDX_b_sample_syn_01_PL_UIC20 is created for the table: b_sample_syn_01 in the database\n",
      ".... The index: IDX_b_sample_syn_01_HISPANIC is created for the table: b_sample_syn_01 in the database\n",
      ".... The index: IDX_b_sample_syn_01_PL_RUCC2 is created for the table: b_sample_syn_01 in the database\n",
      ".... The index: IDX_b_sample_syn_01_FEMALE is created for the table: b_sample_syn_01 in the database\n",
      ".... The index: IDX_b_sample_syn_01_PNUM_R is created for the table: b_sample_syn_01 in the database\n",
      ".... The index: IDX_b_sample_syn_01_NEOMAT is created for the table: b_sample_syn_01 in the database\n",
      ".... The index: IDX_b_sample_syn_01_PL_NCHS2 is created for the table: b_sample_syn_01 in the database\n",
      ".... The index: IDX_b_sample_syn_01_HOSPBRTH is created for the table: b_sample_syn_01 in the database\n",
      ".... The index: IDX_b_sample_syn_01_DIED is created for the table: b_sample_syn_01 in the database\n",
      ".... The index: IDX_b_sample_syn_01_PL_CBSA is created for the table: b_sample_syn_01 in the database\n",
      ".... The index: IDX_b_sample_syn_01_MEDINCST is created for the table: b_sample_syn_01 in the database\n",
      ".... The index: IDX_b_sample_syn_01_DNR is created for the table: b_sample_syn_01 in the database\n",
      ".... The index: IDX_b_sample_syn_01_PL_RUCA4 is created for the table: b_sample_syn_01 in the database\n",
      ".... The index: IDX_b_sample_syn_01_PL_UR_CA is created for the table: b_sample_syn_01 in the database\n",
      ".... The index: IDX_b_sample_syn_01_RACE is created for the table: b_sample_syn_01 in the database\n",
      ".... The index: IDX_b_sample_syn_01_AGE is created for the table: b_sample_syn_01 in the database\n",
      "Table l_sample is created in the database\n",
      ".... The index: IDX_l_sample_NECODE is created for the table: l_sample in the database\n",
      ".... The index: IDX_l_sample_NPR is created for the table: l_sample in the database\n",
      ".... The index: IDX_l_sample_ASCHED is created for the table: l_sample in the database\n",
      ".... The index: IDX_l_sample_DRGVER is created for the table: l_sample in the database\n",
      ".... The index: IDX_l_sample_PROCTYPE is created for the table: l_sample in the database\n",
      ".... The index: IDX_l_sample_PNUM_R is created for the table: l_sample in the database\n",
      ".... The index: IDX_l_sample_LOS is created for the table: l_sample in the database\n",
      ".... The index: IDX_l_sample_TOTCHG is created for the table: l_sample in the database\n",
      ".... The index: IDX_l_sample_AWEEKEND is created for the table: l_sample in the database\n",
      ".... The index: IDX_l_sample_MDC is created for the table: l_sample in the database\n",
      ".... The index: IDX_l_sample_Date is created for the table: l_sample in the database\n",
      ".... The index: IDX_l_sample_HCUP_ED is created for the table: l_sample in the database\n",
      ".... The index: IDX_l_sample_DX1 is created for the table: l_sample in the database\n",
      ".... The index: IDX_l_sample_NDX is created for the table: l_sample in the database\n",
      "Table l_sample_syn_01 is created in the database\n",
      ".... The index: IDX_l_sample_syn_01_NECODE is created for the table: l_sample_syn_01 in the database\n",
      ".... The index: IDX_l_sample_syn_01_NPR is created for the table: l_sample_syn_01 in the database\n",
      ".... The index: IDX_l_sample_syn_01_ASCHED is created for the table: l_sample_syn_01 in the database\n",
      ".... The index: IDX_l_sample_syn_01_DRGVER is created for the table: l_sample_syn_01 in the database\n",
      ".... The index: IDX_l_sample_syn_01_PROCTYPE is created for the table: l_sample_syn_01 in the database\n",
      ".... The index: IDX_l_sample_syn_01_PNUM_R is created for the table: l_sample_syn_01 in the database\n",
      ".... The index: IDX_l_sample_syn_01_LOS is created for the table: l_sample_syn_01 in the database\n",
      ".... The index: IDX_l_sample_syn_01_TOTCHG is created for the table: l_sample_syn_01 in the database\n",
      ".... The index: IDX_l_sample_syn_01_AWEEKEND is created for the table: l_sample_syn_01 in the database\n",
      ".... The index: IDX_l_sample_syn_01_MDC is created for the table: l_sample_syn_01 in the database\n",
      ".... The index: IDX_l_sample_syn_01_Date is created for the table: l_sample_syn_01 in the database\n",
      ".... The index: IDX_l_sample_syn_01_HCUP_ED is created for the table: l_sample_syn_01 in the database\n",
      ".... The index: IDX_l_sample_syn_01_DX1 is created for the table: l_sample_syn_01 in the database\n",
      ".... The index: IDX_l_sample_syn_01_NDX is created for the table: l_sample_syn_01 in the database\n"
     ]
    }
   ],
   "source": [
    "conn = sqlite3.connect(db_path)\n",
    "with conn:\n",
    "    for real_csv,meta_json,syn_csv in zip(real_csvs,meta_jsons,syn_csvs):\n",
    "        #Import real\n",
    "        data,_=prep_data_for_db(os.path.join(real_dir,real_csv)) # Note: This function  can be used to quickly generate metadata template, but this is not shown here.\n",
    "        with open(os.path.join(metadata_dir, meta_json), 'r') as f:\n",
    "            metadata=json.load(f)\n",
    "        candidate_db_idx=get_vars_to_index(metadata,data)\n",
    "        table_name=Path(real_csv).stem\n",
    "        make_table(table_name, data, conn,indx_vars=candidate_db_idx)\n",
    "\n",
    "        #Import syn\n",
    "        data,_=prep_data_for_db(os.path.join(syn_dir,syn_csv)) # Note: This function  can be used to quickly generate metadata template, but this is not shown here.\n",
    "        table_name=Path(syn_csv).stem\n",
    "        make_table(table_name, data, conn,indx_vars=candidate_db_idx)"
   ]
  }
 ],
 "metadata": {
  "kernelspec": {
   "display_name": ".env_dev",
   "language": "python",
   "name": "python3"
  },
  "language_info": {
   "codemirror_mode": {
    "name": "ipython",
    "version": 3
   },
   "file_extension": ".py",
   "mimetype": "text/x-python",
   "name": "python",
   "nbconvert_exporter": "python",
   "pygments_lexer": "ipython3",
   "version": "3.8.2"
  },
  "orig_nbformat": 4,
  "vscode": {
   "interpreter": {
    "hash": "43e50e087ad1b803a9194e2edbfbb2781922b068ec9f5f8351ab6e27c02de616"
   }
  }
 },
 "nbformat": 4,
 "nbformat_minor": 2
}

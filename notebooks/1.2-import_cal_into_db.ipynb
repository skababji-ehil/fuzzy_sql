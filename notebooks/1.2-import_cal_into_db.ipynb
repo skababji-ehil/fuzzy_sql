{
 "cells": [
  {
   "attachments": {},
   "cell_type": "markdown",
   "metadata": {},
   "source": [
    "### Importing California data into a database as an example of longitudinal single-child data "
   ]
  },
  {
   "cell_type": "code",
   "execution_count": 5,
   "metadata": {},
   "outputs": [],
   "source": [
    "from config_paths import *\n",
    "import sys\n",
    "sys.path.append(str(SRC_DIR))\n",
    "\n",
    "import json\n",
    "import sqlite3\n",
    "import os\n",
    "from pathlib import Path\n",
    "\n",
    "from fuzzy_sql.load import prep_data_for_db, get_vars_to_index, make_table\n",
    "\n",
    "\n",
    "DATASET_NAME='cal'"
   ]
  },
  {
   "cell_type": "code",
   "execution_count": 6,
   "metadata": {},
   "outputs": [],
   "source": [
    "# set directories\n",
    "metadata_dir = os.path.join(DATA_DIR, DATASET_NAME,'processed/metadata')\n",
    "real_dir = os.path.join(DATA_DIR,DATASET_NAME, 'processed/real')\n",
    "syn_dir = os.path.join(DATA_DIR,DATASET_NAME, 'processed/synthetic')\n",
    "db_path = os.path.join(DB_DIR, f'{DATASET_NAME}.db')"
   ]
  },
  {
   "cell_type": "code",
   "execution_count": 7,
   "metadata": {},
   "outputs": [],
   "source": [
    "# identify input data file names\n",
    "real_csvs=[\"b_sample.csv\",\"l_sample.csv\"]\n",
    "meta_jsons=['b_sample.json','l_sample.json']\n",
    "syn_csvs=['b_sample_syn_01.csv','l_sample_syn_01.csv']\n"
   ]
  },
  {
   "cell_type": "markdown",
   "metadata": {},
   "source": [
    "### Prepare real data and import it into the database with indexing"
   ]
  },
  {
   "cell_type": "code",
   "execution_count": 8,
   "metadata": {},
   "outputs": [
    {
     "name": "stdout",
     "output_type": "stream",
     "text": [
      "Table b_sample already exists in the database\n",
      "Table b_sample_syn_01 already exists in the database\n",
      "Table l_sample already exists in the database\n",
      "Table l_sample_syn_01 already exists in the database\n"
     ]
    }
   ],
   "source": [
    "conn = sqlite3.connect(db_path)\n",
    "with conn:\n",
    "    for real_csv,meta_json,syn_csv in zip(real_csvs,meta_jsons,syn_csvs):\n",
    "        #Import real\n",
    "        data,_=prep_data_for_db(os.path.join(real_dir,real_csv)) # Note: This function  can be used to quickly generate metadata template, but this is not shown here.\n",
    "        with open(os.path.join(metadata_dir, meta_json), 'r') as f:\n",
    "            metadata=json.load(f)\n",
    "        candidate_db_idx=get_vars_to_index(metadata,data)\n",
    "        table_name=Path(real_csv).stem\n",
    "        make_table(table_name, data, conn,indx_vars=candidate_db_idx)\n",
    "\n",
    "        #Import syn\n",
    "        data,_=prep_data_for_db(os.path.join(syn_dir,syn_csv)) # Note: This function  can be used to quickly generate metadata template, but this is not shown here.\n",
    "        table_name=Path(syn_csv).stem\n",
    "        make_table(table_name, data, conn,indx_vars=candidate_db_idx)"
   ]
  }
 ],
 "metadata": {
  "kernelspec": {
   "display_name": ".env_dev",
   "language": "python",
   "name": "python3"
  },
  "language_info": {
   "codemirror_mode": {
    "name": "ipython",
    "version": 3
   },
   "file_extension": ".py",
   "mimetype": "text/x-python",
   "name": "python",
   "nbconvert_exporter": "python",
   "pygments_lexer": "ipython3",
   "version": "3.8.10"
  },
  "orig_nbformat": 4,
  "vscode": {
   "interpreter": {
    "hash": "6cf594385e3e378fbba23be52d8fa8a1ff0f44816650af8bcee05fc5c8211531"
   }
  }
 },
 "nbformat": 4,
 "nbformat_minor": 2
}

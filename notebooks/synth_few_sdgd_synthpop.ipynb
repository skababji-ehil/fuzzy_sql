{
 "cells": [
  {
   "cell_type": "code",
   "execution_count": 1,
   "metadata": {
    "vscode": {
     "languageId": "r"
    }
   },
   "outputs": [],
   "source": [
    "rm(list = ls())  #clear variables"
   ]
  },
  {
   "cell_type": "code",
   "execution_count": 2,
   "metadata": {
    "vscode": {
     "languageId": "r"
    }
   },
   "outputs": [
    {
     "name": "stderr",
     "output_type": "stream",
     "text": [
      "Find out more at https://www.synthpop.org.uk/\n",
      "\n"
     ]
    }
   ],
   "source": [
    "# Import libraries \n",
    "\n",
    "library(reticulate)\n",
    "use_condaenv(\"r_env\")\n",
    "\n",
    "library(\"synthpop\")\n",
    "library(\"glue\")\n"
   ]
  },
  {
   "cell_type": "code",
   "execution_count": 3,
   "metadata": {
    "vscode": {
     "languageId": "r"
    }
   },
   "outputs": [],
   "source": [
    "# set directories\n",
    "root_dir <- '/home/samer/projects/fuzzy_sql'\n",
    "metadata_dir <-file.path(root_dir, 'data/sdgd/processed/metadata')\n",
    "real_dir <-file.path(root_dir, 'data/sdgd/processed/real')\n",
    "syn_dir <-file.path(root_dir, 'data/sdgd/processed/synthetic')\n",
    "db_path <-file.path(root_dir, 'db/sdgd.db')\n"
   ]
  },
  {
   "cell_type": "code",
   "execution_count": 4,
   "metadata": {
    "vscode": {
     "languageId": "r"
    }
   },
   "outputs": [],
   "source": [
    "target_files<-c(\"oncovid_dtd.csv\",\"trial3.csv\",\"trial5.csv\",\"trial6.csv\")\n",
    "#target_files<-c(\"oncovid_dtd.csv\")\n",
    "#vars_to_drop<-list(c(\"date_reported\"))"
   ]
  },
  {
   "cell_type": "code",
   "execution_count": 5,
   "metadata": {
    "vscode": {
     "languageId": "r"
    }
   },
   "outputs": [
    {
     "name": "stderr",
     "output_type": "stream",
     "text": [
      "Warning message in cbind(1, as.matrix(xf)):\n",
      "“number of rows of result is not a multiple of vector length (arg 1)”\n",
      "Warning message in cbind(1, as.matrix(xp)):\n",
      "“number of rows of result is not a multiple of vector length (arg 1)”\n"
     ]
    },
    {
     "ename": "ERROR",
     "evalue": "Error in x[good, , drop = FALSE]: (subscript) logical subscript too long\n",
     "output_type": "error",
     "traceback": [
      "Error in x[good, , drop = FALSE]: (subscript) logical subscript too long\nTraceback:\n",
      "1. syn(data = real_df, maxfaclevels = 500, m = m)",
      "2. sampler.syn(p, data, m, syn, visit.sequence, rules, rvalues, \n .     event, proper, print.flag, k, pred.not.syn, models, numtocat, \n .     ...)",
      "3. do.call(f, args = c(list(y = y, x = x, xp = xp, proper = proper), \n .     fun.args))",
      "4. syn.logreg(y = structure(c(2L, 2L, 2L, 2L, 2L, 2L, 2L, 2L, 2L, \n . 2L, 2L, 2L, 2L, 2L, 2L, 2L, 2L, 2L, 2L, 2L, 2L, 2L, 2L, 2L, 2L, \n . 2L, 2L, 2L, 2L, 2L, 2L, 2L, 2L, 2L, 2L, 2L, 2L, 1L, 2L, 2L, 2L, \n . 2L, 2L, 2L, 2L, 2L, 2L, 2L, 2L, 2L, 2L, 2L, 2L, 2L, 1L, 2L, 2L, \n . 2L, 2L, 2L, 2L, 2L, 2L, 2L, 2L, 2L, 2L, 2L, 2L, 2L, 2L, 2L, 2L, \n . 1L, 2L, 2L, 2L, 2L, 2L, 2L, 2L, 2L, 2L, 2L, 2L, 2L, 2L, 2L, 2L, \n . 2L, 2L, 2L, 2L, 2L, 2L, 2L, 2L, 2L, 2L, 2L, 2L, 2L, 2L, 2L, 2L, \n . 2L, 2L, 2L, 2L, 2L, 2L, 2L, 2L, 2L, 2L, 2L, 2L, 2L, 2L, 2L, 2L, \n . 2L, 2L, 2L, 2L, 2L, 2L, 2L, 2L, 2L, 2L, 2L, 2L, 1L, 2L, 2L, 2L, \n . 2L, 2L, 2L, 2L, 2L, 2L, 2L, 2L, 2L, 2L, 2L, 2L, 2L, 2L, 2L, 2L, \n . 2L, 2L, 2L, 2L, 2L, 2L, 2L, 2L, 1L, 2L, 2L, 2L, 2L, 2L, 2L, 2L, \n . 2L, 2L, 2L, 2L, 2L, 2L, 2L, 2L, 2L, 2L, 2L, 2L, 2L, 2L, 2L, 2L, \n . 2L, 2L, 2L, 2L, 2L, 2L, 2L, 2L, 2L, 2L, 2L, 2L, 2L, 2L, 2L, 2L, \n . 2L, 2L, 2L, 2L, 2L, 2L, 2L, 2L, 2L, 2L, 2L, 2L, 2L, 2L, 2L, 2L, \n . 2L, 2L, 2L, 2L, 2L, 2L, 2L, 2L, 2L, 2L, 2L, 2L, 2L, 2L, 2L, 2L, \n . 2L, 2L, 2L, 2L, 2L, 2L, 2L, 2L, 2L, 2L, 2L, 2L, 2L, 2L, 2L, 2L, \n . 2L, 2L, 2L, 2L, 2L, 2L, 2L, 2L, 2L, 2L, 2L, 2L, 2L, 2L, 2L, 2L, \n . 2L, 2L, 2L, 2L, 2L, 2L, 2L, 2L, 2L, 2L, 2L, 2L, 2L, 2L, 1L, 2L, \n . 2L, 2L, 2L, 2L, 2L, 2L, 2L, 2L, 2L, 2L, 2L, 2L, 2L, 2L, 2L, 2L, \n . 2L, 2L, 2L, 2L, 2L, 2L, 2L, 2L, 2L, 2L, 2L, 2L, 2L, 2L, 2L, 2L, \n . 2L, 2L, 2L, 2L, 2L, 2L, 2L, 2L, 2L, 2L, 2L, 2L, 2L, 2L, 2L, 2L, \n . 2L, 2L, 2L, 2L, 2L, 2L, 2L, 2L, 2L, 2L, 2L, 2L, 2L, 2L, 2L, 2L, \n . 1L, 2L, 2L, 2L, 2L, 2L, 2L, 2L, 2L, 2L, 2L, 2L, 2L, 2L, 2L, 2L, \n . 2L, 2L, 2L, 2L, 2L, 2L, 2L, 2L, 2L, 2L, 2L, 2L, 2L, 2L, 2L, 2L, \n . 2L, 2L, 2L, 2L, 2L, 2L, 2L, 2L, 2L, 2L, 1L, 2L, 2L, 2L, 2L, 2L, \n . 2L, 2L, 2L, 2L, 2L, 2L, 2L, 2L, 2L, 2L, 2L, 2L, 2L, 2L, 2L, 2L, \n . 2L, 2L, 2L, 2L, 2L, 1L, 1L, 2L, 2L, 2L, 2L, 2L, 2L, 2L, 2L, 2L, \n . 2L, 2L, 2L, 2L, 2L, 2L, 2L, 2L, 2L, 2L, 2L, 2L, 2L, 2L, 2L, 2L, \n . 2L, 2L, 2L, 2L, 2L, 2L, 2L, 2L, 2L, 2L, 2L, 2L, 2L, 2L, 2L, 2L, \n . 2L, 2L, 2L, 2L, 2L, 2L, 2L, 2L, 2L, 2L, 2L, 2L, 2L, 2L, 1L, 2L, \n . 2L, 2L, 2L, 1L, 2L, 2L), levels = c(\"999\", \"NAtemp\"), class = \"factor\"), \n .     x = structure(list(), names = character(0), class = \"data.frame\", row.names = c(NA, \n .     479L)), xp = structure(list(), names = character(0), class = \"data.frame\", row.names = c(NA, \n .     479L)), proper = FALSE)",
      "5. suppressWarnings(eval(expr))",
      "6. withCallingHandlers(expr, warning = function(w) if (inherits(w, \n .     classes)) tryInvokeRestart(\"muffleWarning\"))",
      "7. eval(expr)",
      "8. eval(expr)",
      "9. glm.fit(xf, y, family = binomial(link = logit), weights = w)"
     ]
    }
   ],
   "source": [
    "for (i in length(target_files) ){\n",
    "\n",
    "    #Import data\n",
    "    real_df<-read.csv(file.path(real_dir,target_files[i]))\n",
    "    real_fn<-tools::file_path_sans_ext(target_files[i]) #extract file name\n",
    "\n",
    "\n",
    "    #Synthesize\n",
    "    m=1\n",
    "    sink(file.path(syn_dir, paste0(\"synthpop_\",real_fn,\"_comments.txt\"))) #writes log to a file instead of screen\n",
    "    # res_ini <- syn(data=real_df, m=0,maxfaclevels = 500) # default synthesis but adding -8 missing values for income\n",
    "    # pm_cor <- res_ini$predictor.matrix\n",
    "    # for (var in vars_to_drop[i]){\n",
    "    #       pm_cor[,var] <- 0 #the var given in column name is used as predictor for each row variable, so we set the column to zeros for the var which we dont want to use for prediction\n",
    "    # }\n",
    "    # res <- syn(data=real_df, maxfaclevels = 500,predictor.matrix = pm_cor,m=m) # default synthesis but adding -8 missing values for income\n",
    "    res <- syn(data=real_df, maxfaclevels = 500,m=m) # default synthesis but adding -8 missing values for income\n",
    "    sink()\n",
    "\n",
    "\n",
    "    #save data\n",
    "    for (i in 1:length(res$syn)){\n",
    "    write.csv(res$syn[[i]],file.path(syn_dir,paste0(real_fn,\"_synthpop_\",i,\".csv\")), row.names = FALSE)\n",
    "    }\n",
    "\n",
    "}"
   ]
  },
  {
   "cell_type": "code",
   "execution_count": null,
   "metadata": {
    "vscode": {
     "languageId": "r"
    }
   },
   "outputs": [],
   "source": []
  }
 ],
 "metadata": {
  "kernelspec": {
   "display_name": "R",
   "language": "R",
   "name": "ir"
  },
  "language_info": {
   "codemirror_mode": "r",
   "file_extension": ".r",
   "mimetype": "text/x-r-source",
   "name": "R",
   "pygments_lexer": "r",
   "version": "4.2.2"
  },
  "orig_nbformat": 4
 },
 "nbformat": 4,
 "nbformat_minor": 2
}

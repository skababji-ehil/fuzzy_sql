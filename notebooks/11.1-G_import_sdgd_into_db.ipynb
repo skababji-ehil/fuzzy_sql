{
 "cells": [
  {
   "cell_type": "code",
   "execution_count": 1,
   "metadata": {},
   "outputs": [],
   "source": [
    "import os\n",
    "import sys\n",
    "sys.path.append('/home/samer/projects/fuzzy_sql/src') #This will enable reading the modules\n",
    "from pathlib import Path\n",
    "from fuzzy_sql.fuzzy_sql import *\n",
    "\n"
   ]
  },
  {
   "cell_type": "code",
   "execution_count": 2,
   "metadata": {},
   "outputs": [],
   "source": [
    "#set directories\n",
    "root_dir=Path('/home/samer/projects/fuzzy_sql')\n",
    "real_dir=os.path.join(root_dir,'data/sdgd/processed/real')\n",
    "syn_dir=os.path.join(root_dir,'data/sdgd/processed/synthetic')\n",
    "\n",
    "db_path=os.path.join(root_dir,'db/sdgd.db')"
   ]
  },
  {
   "cell_type": "code",
   "execution_count": 3,
   "metadata": {},
   "outputs": [],
   "source": [
    "conn = sqlite3.connect(db_path)"
   ]
  },
  {
   "cell_type": "code",
   "execution_count": 9,
   "metadata": {},
   "outputs": [
    {
     "name": "stdout",
     "output_type": "stream",
     "text": [
      "Table C2 already exists in the database\n"
     ]
    }
   ],
   "source": [
    "C2_real,C2_metadata=prep_data_for_db(os.path.join(real_dir,\"C2.csv\"), gen_metadata=True)\n",
    "make_table('C2', C2_real, conn)"
   ]
  },
  {
   "cell_type": "code",
   "execution_count": 10,
   "metadata": {},
   "outputs": [
    {
     "data": {
      "text/plain": [
       "{'tbl_name': 'C2',\n",
       " 'tbl_key_name': 'Enter string, tuple of strings for concatenated key. Enter Null if table is not linked in relation',\n",
       " 'parent_ref': 'Enter related parent table name and parent key in tuples. Parent key can be a tuple of variable names for concatenated keys. Enter Null if table is teh root',\n",
       " 'var': [['var', 'object'],\n",
       "  ['skew', 'object'],\n",
       "  ['curtosis', 'object'],\n",
       "  ['entropy', 'object'],\n",
       "  ['class', 'object']]}"
      ]
     },
     "execution_count": 10,
     "metadata": {},
     "output_type": "execute_result"
    }
   ],
   "source": [
    "C2_metadata"
   ]
  },
  {
   "cell_type": "code",
   "execution_count": 5,
   "metadata": {},
   "outputs": [
    {
     "name": "stdout",
     "output_type": "stream",
     "text": [
      "Table C2_syn_default_1 is created in the database\n"
     ]
    }
   ],
   "source": [
    "C2_syn,_=prep_data_for_db(os.path.join(syn_dir,\"C2_syn_default_1.csv\"))\n",
    "make_table('C2_syn_default_1', C2_syn, conn)"
   ]
  }
 ],
 "metadata": {
  "kernelspec": {
   "display_name": "Python 3.8.10 ('.env_dev': venv)",
   "language": "python",
   "name": "python3"
  },
  "language_info": {
   "codemirror_mode": {
    "name": "ipython",
    "version": 3
   },
   "file_extension": ".py",
   "mimetype": "text/x-python",
   "name": "python",
   "nbconvert_exporter": "python",
   "pygments_lexer": "ipython3",
   "version": "3.8.10"
  },
  "orig_nbformat": 4,
  "vscode": {
   "interpreter": {
    "hash": "6cf594385e3e378fbba23be52d8fa8a1ff0f44816650af8bcee05fc5c8211531"
   }
  }
 },
 "nbformat": 4,
 "nbformat_minor": 2
}

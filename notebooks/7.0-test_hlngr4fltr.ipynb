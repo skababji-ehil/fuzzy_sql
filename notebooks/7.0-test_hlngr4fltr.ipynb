{
 "cells": [
  {
   "cell_type": "code",
   "execution_count": 8,
   "metadata": {},
   "outputs": [],
   "source": [
    "import sys\n",
    "sys.path.append('/home/samer/projects/fuzzy_sql/src')\n",
    "\n",
    "from fuzzy_sql.fuzzy_sql import *\n",
    "import json\n",
    "import os\n",
    "from pathlib import Path\n",
    "\n",
    "from scipy.stats import gaussian_kde\n",
    "from scipy.integrate import quad\n"
   ]
  },
  {
   "cell_type": "code",
   "execution_count": 9,
   "metadata": {},
   "outputs": [],
   "source": [
    "# set directories\n",
    "root_dir = Path('/home/samer/projects/fuzzy_sql')\n",
    "metadata_dir = os.path.join(root_dir, 'data/sdgd/processed/metadata')\n",
    "real_dir = os.path.join(root_dir, 'data/sdgd/processed/real')\n",
    "syn_dir = os.path.join(root_dir, 'data/sdgd/processed/synthetic')\n",
    "db_path = os.path.join(root_dir, 'db/sdgd.db')"
   ]
  },
  {
   "cell_type": "code",
   "execution_count": 10,
   "metadata": {},
   "outputs": [],
   "source": [
    "#Import testing set\n",
    "with open ('tabular_test_set.json', 'r') as f:\n",
    "    test_dict=json.load(f)"
   ]
  },
  {
   "cell_type": "code",
   "execution_count": 11,
   "metadata": {},
   "outputs": [],
   "source": [
    "# connect to db\n",
    "conn = sqlite3.connect(db_path)"
   ]
  },
  {
   "cell_type": "code",
   "execution_count": 12,
   "metadata": {},
   "outputs": [],
   "source": [
    "#Slice dictonary for development\n",
    "selected_datasets=['C1']\n",
    "test_dict=dict([(key, value) for key,value in test_dict.items() if key in selected_datasets])"
   ]
  },
  {
   "cell_type": "code",
   "execution_count": 13,
   "metadata": {},
   "outputs": [],
   "source": [
    "#pick any real-syn twin table names for testing\n",
    "real_name=selected_datasets[0]\n",
    "syn_name=test_dict[real_name][0]"
   ]
  },
  {
   "cell_type": "code",
   "execution_count": 14,
   "metadata": {},
   "outputs": [],
   "source": [
    "#import real and syn data \n",
    "real_df=pd.read_sql_query(f\"SELECT * FROM {real_name}\", conn)\n",
    "syn_df=pd.read_sql_query(f\"SELECT * FROM {syn_name}\", conn)\n",
    "with open(os.path.join(metadata_dir,  real_name+'.json'), 'r') as f:\n",
    "    meta_dict = json.load(f)"
   ]
  },
  {
   "cell_type": "code",
   "execution_count": 26,
   "metadata": {},
   "outputs": [],
   "source": [
    "query_obj = RndQry(conn, [real_name], [meta_dict])\n",
    "expr, from_tbl, join_tbl_lst=query_obj.compile_fltr_expr()\n"
   ]
  },
  {
   "cell_type": "code",
   "execution_count": 27,
   "metadata": {},
   "outputs": [
    {
     "data": {
      "text/plain": [
       "\"SELECT *  FROM C1  WHERE   native_country NOT LIKE 'United-States' AND  fnlwgt = 544319 \""
      ]
     },
     "execution_count": 27,
     "metadata": {},
     "output_type": "execute_result"
    }
   ],
   "source": [
    "expr"
   ]
  },
  {
   "cell_type": "code",
   "execution_count": null,
   "metadata": {},
   "outputs": [],
   "source": []
  }
 ],
 "metadata": {
  "kernelspec": {
   "display_name": "Python 3.8.10 ('.env_dev': venv)",
   "language": "python",
   "name": "python3"
  },
  "language_info": {
   "codemirror_mode": {
    "name": "ipython",
    "version": 3
   },
   "file_extension": ".py",
   "mimetype": "text/x-python",
   "name": "python",
   "nbconvert_exporter": "python",
   "pygments_lexer": "ipython3",
   "version": "3.8.10"
  },
  "orig_nbformat": 4,
  "vscode": {
   "interpreter": {
    "hash": "6cf594385e3e378fbba23be52d8fa8a1ff0f44816650af8bcee05fc5c8211531"
   }
  }
 },
 "nbformat": 4,
 "nbformat_minor": 2
}

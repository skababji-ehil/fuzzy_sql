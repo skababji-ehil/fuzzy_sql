{
  "cells": [
    {
      "cell_type": "code",
      "execution_count": 4,
      "metadata": {},
      "outputs": [],
      "source": [
        "import os\n",
        "from pathlib import Path\n",
        "import pandas as pd\n",
        "import datetime"
      ]
    },
    {
      "cell_type": "code",
      "execution_count": 5,
      "metadata": {},
      "outputs": [],
      "source": [
        "#Set paths\n",
        "root_dir=Path('/home/samer/projects/fuzzy_sql')\n",
        "output_dir=os.path.join(root_dir,'data/tabular/real') \n",
        "input_dir=os.path.join(root_dir,'data/tabular/raw') \n",
        "\n",
        "data=pd.read_csv(os.path.join(input_dir, 'oncovid.csv'))\n",
        "# ref_date=\"2020/01/01\"\n",
        "# ref_date=pd.to_datetime(ref_date, utc=False)\n",
        "# convert_date =  lambda x: ref_date+ pd.DateOffset(days=x, utc=False)\n",
        "# data['date_reported']=data['date_reported'].map(convert_date)\n",
        "\n",
        "ref_date=datetime.date(2020,1,1)\n",
        "convert_date= lambda x: ref_date+datetime.timedelta(x)\n",
        "data['date_reported']=data['date_reported'].map(convert_date)\n",
        "data.to_csv(os.path.join(output_dir,'oncovid_dtd.csv'), index=False)"
      ]
    }
  ],
  "metadata": {
    "colab": {
      "collapsed_sections": [],
      "provenance": [],
      "toc_visible": true
    },
    "kernelspec": {
      "display_name": "Python 3.8.10 ('.env': venv)",
      "language": "python",
      "name": "python3"
    },
    "language_info": {
      "codemirror_mode": {
        "name": "ipython",
        "version": 3
      },
      "file_extension": ".py",
      "mimetype": "text/x-python",
      "name": "python",
      "nbconvert_exporter": "python",
      "pygments_lexer": "ipython3",
      "version": "3.8.10"
    },
    "vscode": {
      "interpreter": {
        "hash": "fc49a92f4a12d3ad9bc1d95f284515a18cbfb8c145f08366ba0744cd0c13d800"
      }
    }
  },
  "nbformat": 4,
  "nbformat_minor": 0
}

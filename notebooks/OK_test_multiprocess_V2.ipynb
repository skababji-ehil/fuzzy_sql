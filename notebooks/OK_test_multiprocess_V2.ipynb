{
 "cells": [
  {
   "cell_type": "code",
   "execution_count": 1,
   "metadata": {},
   "outputs": [],
   "source": [
    "import sqlite3\n",
    "import multiprocess as mp"
   ]
  },
  {
   "cell_type": "code",
   "execution_count": 2,
   "metadata": {},
   "outputs": [],
   "source": [
    "class TestMP():\n",
    "    \n",
    "    def _exec_sql4testing(self, db_path:str, sql_str:str):\n",
    "        conn=sqlite3.connect(db_path)\n",
    "        with conn:\n",
    "            cur = conn.cursor()\n",
    "            res=cur.execute(sql_str)\n",
    "            print(res.fetchone())\n",
    "        \n",
    "\n",
    "    def _test_query_time(self,db_path,query_expr, max_query_time=5):\n",
    "        p = mp.Process(target=self._exec_sql4testing, name=\"_test_query_time\", args=(db_path,query_expr))\n",
    "        p.start()\n",
    "        p.join(5)  # wait 5 seconds until process terminates\n",
    "        if p.is_alive():\n",
    "            p.terminate()\n",
    "            p.join()\n",
    "            print('Cant wait any further! I am skipping this one!')  # MK TEMP\n",
    "            return False  # execution time is too long\n",
    "        else:\n",
    "            return True  # execution time is ok"
   ]
  },
  {
   "cell_type": "code",
   "execution_count": 4,
   "metadata": {},
   "outputs": [
    {
     "name": "stdout",
     "output_type": "stream",
     "text": [
      "Cant wait any further! I am skipping this one!\n"
     ]
    },
    {
     "data": {
      "text/plain": [
       "False"
      ]
     },
     "execution_count": 4,
     "metadata": {},
     "output_type": "execute_result"
    }
   ],
   "source": [
    "simple_sql_sentence=\"SELECT b_sample.PL_NCHS2, b_sample.HISPANIC, b_sample.HOSPBRTH, b_sample.MEDINCST, b_sample.Homeless, b_sample.DIED, b_sample.NEOMAT, l_sample.DX1, b_sample.DNR, b_sample.PL_UR_CA, b_sample.RACE, b_sample.PL_RUCA4, l_sample.ASCHED, b_sample.PL_UIC20, b_sample.PL_CBSA, b_sample.FEMALE, b_sample.PL_RUCC2, COUNT(*), AVG(l_sample.NECODE)  FROM b_sample  LEFT JOIN l_sample  ON b_sample.PNUM_R=l_sample.PNUM_R  WHERE  b_sample.Homeless = '0'\"\n",
    "\n",
    "complex_sql_sentence=\"SELECT b_sample.PL_NCHS2, b_sample.HISPANIC, b_sample.HOSPBRTH, b_sample.MEDINCST, b_sample.Homeless, b_sample.DIED, b_sample.NEOMAT, l_sample.DX1, b_sample.DNR, b_sample.PL_UR_CA, b_sample.RACE, b_sample.PL_RUCA4, l_sample.ASCHED, b_sample.PL_UIC20, b_sample.PL_CBSA, b_sample.FEMALE, b_sample.PL_RUCC2, COUNT(*), AVG(l_sample.NECODE)  FROM b_sample  LEFT JOIN l_sample  ON b_sample.PNUM_R=l_sample.PNUM_R  AND   b_sample.Homeless = '0' AND NOT  b_sample.PL_UR_CA LIKE '1' AND  b_sample.MEDINCST <> '3' OR  b_sample.DIED = '0' AND  l_sample.TOTCHG NOT BETWEEN 33220 AND 49640 AND NOT  l_sample.HCUP_ED < 0 AND  l_sample.Date BETWEEN 7 AND 9 AND  b_sample.RACE IN ('3', '1') OR NOT  l_sample.NECODE < 0 OR  l_sample.AWEEKEND = 0 AND  b_sample.FEMALE = '0' AND NOT  l_sample.ASCHED <> '1' OR  b_sample.PL_CBSA <> '2' AND  b_sample.AGE > 27 AND  l_sample.DRGVER = 25 AND NOT  b_sample.HISPANIC <> '2' AND NOT  l_sample.NDX BETWEEN 8 AND 8 AND  l_sample.DX1 <> '3229' AND  l_sample.MDC NOT BETWEEN 4 AND 5 OR  l_sample.NPR NOT BETWEEN 2 AND 3 AND NOT  b_sample.HOSPBRTH IN ('0') AND NOT  b_sample.PL_UIC20 LIKE '1' AND  l_sample.LOS >= 7 AND NOT  l_sample.PROCTYPE <> 1 AND  b_sample.PL_RUCA4 LIKE '2'  GROUP BY b_sample.PL_NCHS2, b_sample.HISPANIC, b_sample.HOSPBRTH, b_sample.MEDINCST, b_sample.Homeless, b_sample.DIED, b_sample.NEOMAT, l_sample.DX1, b_sample.DNR, b_sample.PL_UR_CA, b_sample.RACE, b_sample.PL_RUCA4, l_sample.ASCHED, b_sample.PL_UIC20, b_sample.PL_CBSA, b_sample.FEMALE, b_sample.PL_RUCC2\"\n",
    "\n",
    "db_path='/Users/samer/projects/fuzzy_sql/db/cal.db'\n",
    "\n",
    "\n",
    "smk=TestMP()\n",
    "smk._test_query_time(db_path,complex_sql_sentence)"
   ]
  },
  {
   "cell_type": "code",
   "execution_count": null,
   "metadata": {},
   "outputs": [],
   "source": []
  }
 ],
 "metadata": {
  "kernelspec": {
   "display_name": ".env_dev",
   "language": "python",
   "name": "python3"
  },
  "language_info": {
   "codemirror_mode": {
    "name": "ipython",
    "version": 3
   },
   "file_extension": ".py",
   "mimetype": "text/x-python",
   "name": "python",
   "nbconvert_exporter": "python",
   "pygments_lexer": "ipython3",
   "version": "3.8.2"
  },
  "orig_nbformat": 4,
  "vscode": {
   "interpreter": {
    "hash": "43e50e087ad1b803a9194e2edbfbb2781922b068ec9f5f8351ab6e27c02de616"
   }
  }
 },
 "nbformat": 4,
 "nbformat_minor": 2
}

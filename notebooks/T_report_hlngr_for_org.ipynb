{
 "cells": [
  {
   "cell_type": "markdown",
   "metadata": {},
   "source": [
    "### Generate a report for Hellinger Distance between real and synthetic tables "
   ]
  },
  {
   "cell_type": "code",
   "execution_count": 21,
   "metadata": {},
   "outputs": [],
   "source": [
    "from pathlib import Path\n",
    "import os\n",
    "import sys \n",
    "import pandas as pd\n",
    "import numpy as np\n",
    "import json\n",
    "import copy\n",
    "\n"
   ]
  },
  {
   "cell_type": "code",
   "execution_count": 22,
   "metadata": {},
   "outputs": [],
   "source": [
    "real_path=\"/home/samer/projects/fuzzy_sql/data/tabular/ready/real/C1.csv\"\n",
    "syn_path=\"/home/samer/projects/fuzzy_sql/data/tabular/ready/synthetic/C1_syn_default_1.csv\"\n",
    "metadata_path=\"/home/samer/projects/fuzzy_sql/data/tabular/ready/metadata/C1.json\""
   ]
  },
  {
   "cell_type": "code",
   "execution_count": 23,
   "metadata": {},
   "outputs": [],
   "source": [
    "real=pd.read_csv(real_path)\n",
    "syn=pd.read_csv(syn_path)\n",
    "with open(metadata_path) as f:\n",
    "    meta=json.load(f)\n"
   ]
  },
  {
   "cell_type": "code",
   "execution_count": 24,
   "metadata": {},
   "outputs": [
    {
     "ename": "SyntaxError",
     "evalue": "f-string: unmatched ')' (3881138175.py, line 25)",
     "output_type": "error",
     "traceback": [
      "\u001b[0;36m  Cell \u001b[0;32mIn [24], line 25\u001b[0;36m\u001b[0m\n\u001b[0;31m    print(f'The Hellinger distance for C1 is {hlngr_dist)')\u001b[0m\n\u001b[0m          ^\u001b[0m\n\u001b[0;31mSyntaxError\u001b[0m\u001b[0;31m:\u001b[0m f-string: unmatched ')'\n"
     ]
    }
   ],
   "source": [
    "cat_vars=[var for var in meta.keys() if meta[var]=='nominal']\n",
    "\n",
    "vars_hlngr=[] #this will catch hellinger distance calculated for each variable in cat_vars\n",
    "for var in cat_vars: \n",
    "    real_var=real[var].value_counts()\n",
    "    real_var.sort_index(inplace=True, ascending=True)\n",
    "    real_idx=real_var.index\n",
    "    syn_var=syn[var].value_counts()\n",
    "    syn_var.sort_index(inplace=True, ascending=True)\n",
    "    syn_idx=syn_var.index\n",
    "    if len(real_idx)>len(syn_idx):\n",
    "        missing=real_idx.difference(syn_idx) #get missing index in syn\n",
    "        for idx in list(missing): #insert missing indices in syn \n",
    "            syn_var[idx]=0 #penalize it by adding zero count\n",
    "    elif len(real_idx)<len(syn_idx):\n",
    "        missing=list(real_idx.difference(syn_idx)) #do same thing with missing index in real\n",
    "        for idx in list(missing):  \n",
    "            real_var[idx]=0\n",
    "    assert len(real_var)==len(syn_var)\n",
    "    real_prob=real_var/sum(real_var)\n",
    "    syn_prob=syn_var/sum(syn_var)\n",
    "    var_hlngr_dist=np.sqrt(np.sum((np.sqrt(real_prob)-np.sqrt(syn_prob))**2))/np.sqrt(2)\n",
    "    vars_hlngr.append(var_hlngr_dist)\n",
    "hlngr_dist=np.mean(vars_hlngr)\n",
    "print(f'The Hellinger distance for C1 is {hlngr_dist}')"
   ]
  },
  {
   "cell_type": "code",
   "execution_count": null,
   "metadata": {},
   "outputs": [],
   "source": []
  }
 ],
 "metadata": {
  "kernelspec": {
   "display_name": "Python 3.8.10 ('.env_dev': venv)",
   "language": "python",
   "name": "python3"
  },
  "language_info": {
   "codemirror_mode": {
    "name": "ipython",
    "version": 3
   },
   "file_extension": ".py",
   "mimetype": "text/x-python",
   "name": "python",
   "nbconvert_exporter": "python",
   "pygments_lexer": "ipython3",
   "version": "3.8.10"
  },
  "orig_nbformat": 4,
  "vscode": {
   "interpreter": {
    "hash": "6cf594385e3e378fbba23be52d8fa8a1ff0f44816650af8bcee05fc5c8211531"
   }
  }
 },
 "nbformat": 4,
 "nbformat_minor": 2
}

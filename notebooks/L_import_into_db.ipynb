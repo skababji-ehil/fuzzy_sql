{
 "cells": [
  {
   "cell_type": "code",
   "execution_count": 1,
   "metadata": {},
   "outputs": [],
   "source": [
    "import sys\n",
    "sys.path.append('/home/samer/projects/fuzzy_sql/src') #This will enable reading the modules\n",
    "from fuzzy_sql.fuzzy_sql import *"
   ]
  },
  {
   "cell_type": "code",
   "execution_count": 2,
   "metadata": {},
   "outputs": [],
   "source": [
    "def _assign_dtype(df, dict):\n",
    "    #Correct dtypes of real and syn dataframes before saving in the database \n",
    "    #map metaddata into dtype dict with pandas dtypes\n",
    "    #cols in df shall match keys in in_dict\n",
    "    assert bool(set(df.columns).intersection(set(dict.keys())))\n",
    "    out_dict={}\n",
    "    for key in dict:\n",
    "        if dict[key] in ['quantitative','continuous','interval','ratio']:\n",
    "            out_dict[key]='float64'\n",
    "        elif dict[key] in ['date','time','datetime']:\n",
    "            out_dict[key]='datetime64'\n",
    "        else:\n",
    "            out_dict[key]='category'\n",
    "    \n",
    "    for col in df.columns:\n",
    "        df[col]=df[col].astype(out_dict[col])\n",
    "\n",
    "    return df\n"
   ]
  },
  {
   "cell_type": "code",
   "execution_count": 3,
   "metadata": {},
   "outputs": [],
   "source": [
    "class LONG_QUERY():\n",
    "    \"\"\" Generates random queries for baseline-longitudinal datasets. \n",
    "    \"\"\"\n",
    "\n",
    "    def __init__(self, db_conn: object, parent_tbl_name: str, child_tbl_name: str, metadata: dict,params: dict ):\n",
    "        \"\"\" \n",
    "        Args:\n",
    "            db_conn: The connection object of the sqlite database where the data exists.\n",
    "            parent_tbl_name: The name of the parent table (i.e. baseline data) in the database.\n",
    "            child_tbl_name: The name of the child table (i.e. longitudinal data) in the database.\n",
    "            metadata: A dictionary that includes table's variable names (i.e. column names) as keys and types of variables as values. THey types shall be restricted to: 'continuous', 'data' and 'nominal'. Any table shall have at least one nominal variable.\n",
    "        \"\"\"\n",
    "\n",
    "        self_QUERY_PARAMS=params\n",
    "\n",
    "        self.CUR = db_conn.cursor()\n",
    "        self.RP_NAME = parent_tbl_name #RP = Real Parent\n",
    "        # self.P_VAR_NAMES = list(metadata.keys()) #P = Parent \n",
    "        self.RC_NAME = child_tbl_name #RC = Real Child\n",
    "        # self.C_VAR_NAMES = list(metadata.keys()) #C = Child \n",
    "        \n",
    "        #Fetch Real data (both parent and child)\n",
    "        self.RP_DF=pd.read_sql_query(f'SELECT * FROM {self.RP_NAME}', db_conn) #Real Parent Data frame\n",
    "        self.RC_DF=pd.read_sql_query(f'SELECT * FROM {self.RC_NAME}', db_conn) #Real Child Data frame\n",
    "\n",
    "        #Segregate variables into lists based on their types\n",
    "        self.CAT_VARS={}\n",
    "        self.CNT_VARS={}\n",
    "        self.DT_VARS={}\n",
    "        self.CAT_VARS['parent']=[key for key, value in meta['parent'].items() if value in ['qualitative','categorical','nominal','discrete','ordinal','dichotomous']]\n",
    "        self.CAT_VARS['child']=[key for key, value in meta['child'].items() if value in ['qualitative','categorical','nominal','discrete','ordinal','dichotomous']]\n",
    "        self.CNT_VARS['parent']=[key for key, value in meta['parent'].items() if value in ['quantitative','continuous','interval','ratio']]\n",
    "        self.CNT_VARS['child']=[key for key, value in meta['child'].items() if value in ['quantitative','continuous','interval','ratio']]\n",
    "        self.DT_VARS['parent']=[key for key, value in meta['parent'].items() if value in ['date','time','datetime']]\n",
    "        self.DT_VARS['child']=[key for key, value in meta['child'].items() if value in ['date','time','datetime']]\n",
    "\n",
    "\n",
    "        # self.CAT_VARS = [key for key, value in metadata.items(\n",
    "        # ) if value == 'nominal']  # Get all categorical (nominal) var names\n",
    "        # self.CNT_VARS = [key for key, value in metadata.items(\n",
    "        # ) if value == 'continuous']  # Get all continuous var names\n",
    "        # self.DT_VARS = [key for key, value in metadata.items(\n",
    "        # ) if value == 'date']  # Get all dated var names\n",
    "        \n",
    "        # self.AGG_FNCTN=True if self.CNT_VARS else False\n",
    "\n",
    "        # # COUNT is always included in queries\n",
    "        # self.AGG_OPS={'AVG':0.5, 'SUM':0.3, 'MAX':0.1, 'MIN':0.1 } #######################DONE\n",
    "        # self._agg_op_bag = list(self.AGG_OPS.keys())\n",
    "        # self._agg_op_wghts = list(self.AGG_OPS.values())\n",
    "\n",
    "        # self.LOGIC_OPS={'AND':0.5,'OR':0.5} #########################DONE\n",
    "        # self._logic_op_bag = list(self.LOGIC_OPS.keys())\n",
    "        # self._logic_op_wghts = list(self.LOGIC_OPS.values())\n",
    "\n",
    "        # # 1 means a NOT is added before the variable name\n",
    "        # self.NOT_OP_STATE={'0':1, '1':0} ###########################DONE\n",
    "        # self._logic_not_states = [int(x) for x in list(self.NOT_OP_STATE.keys())]\n",
    "        # self._logic_not_wghts = list(self.NOT_OP_STATE.values())\n",
    "\n",
    "        # # Comparison operations for categorical variables; BETWEEN is excluded since it can be generated by other operations\n",
    "        # self.CAT_OPS={'=':0.25, '<>':0.25, 'LIKE':0.25, 'IN':0.25} ##################################DONE\n",
    "        # self._cat_cmp_op_bag = list(self.CAT_OPS.keys())\n",
    "        # self._cat_cmp_op_wghts = list(self.CAT_OPS.values())\n",
    "\n",
    "        # # Comparison operations for continuous variables\n",
    "        # self.CNT_OPS={'=':0.2, '>':0.1, '<':0.1, '>=':0.1, '<=':0.1, '<>':0.1, 'BETWEEN':0.3} #######################DONE\n",
    "        # self._cnt_cmp_op_bag = list(self.CNT_OPS.keys())\n",
    "        # self._cnt_cmp_op_wghts = list(self.CNT_OPS.values())\n",
    "\n",
    "        # # A dictionary that holds all possible values for each categorical variable\n",
    "        # self.CAT_VAL_BAG = {}\n",
    "        # for CAT_VAR in self.CAT_VARS:\n",
    "        #     this_var= pd.read_sql_query(\"SELECT `{}` FROM {}\".format(CAT_VAR, self.REAL_TBL_NAME), db_conn).values.ravel()\n",
    "        #     this_var=[x for x in this_var if x==x] #drop nan\n",
    "        #     this_var = list(filter(None, this_var)) #drop None\n",
    "        #     # this_var=this_var.astype(str) #make sure it is string\n",
    "        #     # #this_var=np.unique(this_var) #drop duplicates\n",
    "        #     self.CAT_VAL_BAG[CAT_VAR] =this_var if len(this_var)!=0  else ['N/A']\n",
    "\n",
    "\n",
    "        # # A dictionary that holds all possible values for each continuous variable\n",
    "        # self.CNT_VAL_BAG = {}\n",
    "        # for CNT_VAR in self.CNT_VARS:\n",
    "        #     this_var = pd.read_sql_query(\"SELECT `{}` FROM {}\".format(CNT_VAR, self.REAL_TBL_NAME), db_conn).values.ravel()\n",
    "        #     this_var=[x for x in this_var if x==x] #drop nan\n",
    "        #     this_var = list(filter(None, this_var)) #drop None\n",
    "        #     # this_var=this_var.astype(str) #make sure it is string\n",
    "        #     # #this_var=np.unique(this_var) #drop duplicates\n",
    "        #     self.CNT_VAL_BAG[CNT_VAR] =this_var if len(this_var)!=0 else ['N/A']\n",
    "\n",
    "\n",
    "\n",
    "\n",
    "        # # A dictionary that holds all possible values for each date variable\n",
    "        # self.DT_VAL_BAG = {}\n",
    "        # for DT_VAR in self.DT_VARS:\n",
    "        #     this_var=pd.read_sql_query(\"SELECT `{}` FROM {}\".format(DT_VAR, self.REAL_TBL_NAME), db_conn).values.ravel()\n",
    "        #     this_var=[x for x in this_var if x==x] #drop nan\n",
    "        #     this_var = list(filter(None, this_var)) #drop None\n",
    "        #     # this_var=this_var.astype(str) #make sure it is string\n",
    "        #     # #this_var=np.unique(this_var) #drop duplicates\n",
    "        #     self.DT_VAL_BAG[DT_VAR] =this_var if len(this_var)!=0 else ['N/A']\n"
   ]
  },
  {
   "cell_type": "code",
   "execution_count": 4,
   "metadata": {},
   "outputs": [],
   "source": [
    "rp_path=\"/home/samer/projects/fuzzy_sql/data/longitudinal/ready/real/b_sample.csv\" #real parent (baseline) path \n",
    "rc_path=\"/home/samer/projects/fuzzy_sql/data/longitudinal/ready/real/l_sample.csv\" #real child (longitudinal) path \n",
    "sp_path=\"/home/samer/projects/fuzzy_sql/data/longitudinal/ready/synthetic/b_sample_syn.csv\" #synthetic parent (baseline) path \n",
    "sc_path=\"/home/samer/projects/fuzzy_sql/data/longitudinal/ready/synthetic/l_sample_syn.csv\" #synthetic child (longitudinal) path \n",
    "meta_path=\"/home/samer/projects/fuzzy_sql/data/longitudinal/ready/metadata/sample.json\" #metdata path"
   ]
  },
  {
   "cell_type": "code",
   "execution_count": 5,
   "metadata": {},
   "outputs": [],
   "source": [
    "# read data frames with all variables read as string and eliminate the apostrophe  '\n",
    "rp=load_csv(rp_path) \n",
    "rc=load_csv(rc_path) \n",
    "sp=load_csv(sp_path)  \n",
    "sc=load_csv(sc_path) \n",
    "import _json\n",
    "with open(meta_path) as f:\n",
    "    meta=json.load(f) #metadata for the data "
   ]
  },
  {
   "cell_type": "code",
   "execution_count": 6,
   "metadata": {},
   "outputs": [],
   "source": [
    "#fix datatypes in loaded csv \n",
    "rp=_assign_dtype(rp, meta['parent'])\n",
    "rc=_assign_dtype(rc, meta['child'])\n",
    "sp=_assign_dtype(sp, meta['parent'])\n",
    "sc=_assign_dtype(sc, meta['child'])"
   ]
  },
  {
   "cell_type": "code",
   "execution_count": 7,
   "metadata": {},
   "outputs": [],
   "source": [
    "#define default parameters\n",
    "DFLT_PARAMS={\n",
    "    'AGG_OPS':{'AVG':0.5, 'SUM':0.3, 'MAX':0.1, 'MIN':0.1 },\n",
    "    'LOGIC_OPS':{'AND':0.5,'OR':0.5},\n",
    "    'NOT_OP_STATE':{'0':1, '1':0},\n",
    "    'CAT_OPS':{'=':0.25, '<>':0.25, 'LIKE':0.25, 'IN':0.25},\n",
    "    'CNT_OPS':{'=':0.2, '>':0.1, '<':0.1, '>=':0.1, '<=':0.1, '<>':0.1, 'BETWEEN':0.3}\n",
    "}"
   ]
  },
  {
   "cell_type": "code",
   "execution_count": 8,
   "metadata": {},
   "outputs": [
    {
     "name": "stdout",
     "output_type": "stream",
     "text": [
      "Table sample_r_b is created in the database\n",
      "Table sample_r_l is created in the database\n",
      "Table sample_s_b is created in the database\n",
      "Table sample_s_l is created in the database\n"
     ]
    }
   ],
   "source": [
    "conn = sqlite3.connect('fuzzy_sql.db')\n",
    "make_table('sample_r_b', rp, conn)\n",
    "make_table('sample_r_l', rc, conn)\n",
    "make_table('sample_s_b', sp, conn)\n",
    "make_table('sample_s_l', sc, conn)\n",
    "\n",
    "test_long=LONG_QUERY(conn,'sample_r_b','sample_r_l', meta,DFLT_PARAMS)"
   ]
  },
  {
   "cell_type": "code",
   "execution_count": null,
   "metadata": {},
   "outputs": [],
   "source": []
  }
 ],
 "metadata": {
  "kernelspec": {
   "display_name": "Python 3.8.10 ('.env_dev': venv)",
   "language": "python",
   "name": "python3"
  },
  "language_info": {
   "codemirror_mode": {
    "name": "ipython",
    "version": 3
   },
   "file_extension": ".py",
   "mimetype": "text/x-python",
   "name": "python",
   "nbconvert_exporter": "python",
   "pygments_lexer": "ipython3",
   "version": "3.8.10"
  },
  "orig_nbformat": 4,
  "vscode": {
   "interpreter": {
    "hash": "6cf594385e3e378fbba23be52d8fa8a1ff0f44816650af8bcee05fc5c8211531"
   }
  }
 },
 "nbformat": 4,
 "nbformat_minor": 2
}

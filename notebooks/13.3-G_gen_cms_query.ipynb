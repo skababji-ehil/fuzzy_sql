{
 "cells": [
  {
   "cell_type": "code",
   "execution_count": 1,
   "metadata": {},
   "outputs": [],
   "source": [
    "import sys\n",
    "sys.path.append('/home/samer/projects/fuzzy_sql/src') #This will enable reading the modules\n",
    "from pathlib import Path\n",
    "import os\n",
    "import json\n",
    "\n",
    "from fuzzy_sql.rnd_query import RND_QUERY\n",
    "from fuzzy_sql.fuzzy_sql import *"
   ]
  },
  {
   "cell_type": "code",
   "execution_count": 2,
   "metadata": {},
   "outputs": [],
   "source": [
    "#set directories\n",
    "root_dir=Path('/home/samer/projects/fuzzy_sql')\n",
    "metadata_dir=os.path.join(root_dir,'data/cms/processed/metadata')\n",
    "db_path=os.path.join(root_dir,'db/cms.db')"
   ]
  },
  {
   "cell_type": "code",
   "execution_count": 3,
   "metadata": {},
   "outputs": [],
   "source": [
    "#define input tables and metadata\n",
    "tbl_names_lst=['s1_ben_sum_2008','s1_ben_sum_2009','s1_ben_sum_2010','s1_carrier_1a','s1_carrier_1b','s1_inpatient','s1_outpatient','s1_prescrp']\n",
    "\n",
    "metadata_lst=[]\n",
    "for tbl_name in tbl_names_lst:\n",
    "    with open(os.path.join(metadata_dir,tbl_name+'.json'),'r') as f:\n",
    "        metadata_lst.append(json.load(f))"
   ]
  },
  {
   "cell_type": "code",
   "execution_count": 4,
   "metadata": {},
   "outputs": [],
   "source": [
    "#setup parameters\n",
    "DFLT_PARAMS={\n",
    "    'AGG_OPS':{'AVG':0.5, 'SUM':0.3, 'MAX':0.1, 'MIN':0.1 },\n",
    "    'LOGIC_OPS':{'AND':0.9,'OR':0.1},\n",
    "    'NOT_STATE':{'0':0.8, '1':0.2},\n",
    "    'CAT_OPS':{'=':0.25, '<>':0.25, 'LIKE':0.15, 'IN':0.15, 'NOT LIKE':0.1, 'NOT IN':0.1},\n",
    "    'CNT_OPS':{'=':0.2, '>':0.1, '<':0.1, '>=':0.1, '<=':0.1, '<>':0.1, 'BETWEEN':0.2, 'NOT BETWEEN':0.1},\n",
    "    'DT_OPS':{'=':0.2, '>':0.1, '<':0.1, '>=':0, '<=':0, '<>':0.1, 'BETWEEN':0.2, 'IN':0.1, 'NOT BETWEEN':0.1, 'NOT IN':0.1},\n",
    "    'LESS_GRP_VARS': False, # enforce bias in random queries toward smaller number of groupby vars. Default is no bias (i.e. uniform sampling)\n",
    "    'LESS_CMP_VARS':False, # enforce bias in random queries toward small number of  comparison terms. Default is no bias (i.e. uniform sampling)\n",
    "    'JOIN_CNDTN':{'WHERE':0.5, 'AND':0.5} #Use WHERE or AND with JOIN CLAUSE\n",
    "}\n",
    "\n",
    "#connect to db\n",
    "conn = sqlite3.connect(db_path)\n",
    "\n",
    "self=RND_QUERY(conn, tbl_names_lst, metadata_lst,DFLT_PARAMS)"
   ]
  },
  {
   "cell_type": "code",
   "execution_count": 5,
   "metadata": {},
   "outputs": [
    {
     "ename": "AssertionError",
     "evalue": "No continuous variable is available to use it with an Aggregate Function. Please set agg_fnt to False.",
     "output_type": "error",
     "traceback": [
      "\u001b[0;31m---------------------------------------------------------------------------\u001b[0m",
      "\u001b[0;31mAssertionError\u001b[0m                            Traceback (most recent call last)",
      "Cell \u001b[0;32mIn [5], line 4\u001b[0m\n\u001b[1;32m      1\u001b[0m \u001b[39m# Generate Random queries \u001b[39;00m\n\u001b[0;32m----> 4\u001b[0m rnd_query\u001b[39m=\u001b[39m\u001b[39mself\u001b[39;49m\u001b[39m.\u001b[39;49mmake_single_agg_query(agg_fntn\u001b[39m=\u001b[39;49m\u001b[39mTrue\u001b[39;49;00m)\n",
      "File \u001b[0;32m~/projects/fuzzy_sql/src/fuzzy_sql/rnd_query.py:362\u001b[0m, in \u001b[0;36mRND_QUERY.make_single_agg_query\u001b[0;34m(self, agg_fntn)\u001b[0m\n\u001b[1;32m    360\u001b[0m \u001b[39mdef\u001b[39;00m \u001b[39mmake_single_agg_query\u001b[39m(\u001b[39mself\u001b[39m, agg_fntn) \u001b[39m-\u001b[39m\u001b[39m>\u001b[39m \u001b[39mdict\u001b[39m:\n\u001b[1;32m    361\u001b[0m     dic\u001b[39m=\u001b[39m{}\n\u001b[0;32m--> 362\u001b[0m     single_expr,groupby_lst,from_tbl, join_tbl_lst, agg_fntn_terms\u001b[39m=\u001b[39m\u001b[39mself\u001b[39;49m\u001b[39m.\u001b[39;49m_compile_agg_expr(agg_fntn)\n\u001b[1;32m    363\u001b[0m     query\u001b[39m=\u001b[39m\u001b[39mself\u001b[39m\u001b[39m.\u001b[39mmake_query(\u001b[39mself\u001b[39m\u001b[39m.\u001b[39mCUR, single_expr)\n\u001b[1;32m    364\u001b[0m     \u001b[39m# grpby_vars=self._drop_tbl_name(groupby_lst)\u001b[39;00m\n",
      "File \u001b[0;32m~/projects/fuzzy_sql/src/fuzzy_sql/rnd_query.py:344\u001b[0m, in \u001b[0;36mRND_QUERY._compile_agg_expr\u001b[0;34m(self, agg_fntn)\u001b[0m\n\u001b[1;32m    342\u001b[0m expr2_2\u001b[39m=\u001b[39mexpr2_2\u001b[39m.\u001b[39mreplace(\u001b[39m\"\u001b[39m\u001b[39m'\u001b[39m\u001b[39m\"\u001b[39m,\u001b[39m\"\u001b[39m\u001b[39m\"\u001b[39m)\n\u001b[1;32m    343\u001b[0m \u001b[39mif\u001b[39;00m agg_fntn:\n\u001b[0;32m--> 344\u001b[0m     log_op,cnt_var\u001b[39m=\u001b[39m\u001b[39mself\u001b[39;49m\u001b[39m.\u001b[39;49m_get_rnd_agg_fntn_terms(from_table,join_tbl_lst)\n\u001b[1;32m    345\u001b[0m     expr1\u001b[39m=\u001b[39m\u001b[39mf\u001b[39m\u001b[39m'\u001b[39m\u001b[39mSELECT \u001b[39m\u001b[39m{\u001b[39;00mexpr2_2\u001b[39m}\u001b[39;00m\u001b[39m, COUNT(*), \u001b[39m\u001b[39m{\u001b[39;00mlog_op\u001b[39m}\u001b[39;00m\u001b[39m(\u001b[39m\u001b[39m{\u001b[39;00mcnt_var\u001b[39m}\u001b[39;00m\u001b[39m) \u001b[39m\u001b[39m'\u001b[39m\u001b[39m+\u001b[39m from_expr\n\u001b[1;32m    346\u001b[0m     \u001b[39mreturn\u001b[39;00m expr1\u001b[39m+\u001b[39mexpr2_1\u001b[39m+\u001b[39mexpr2_2, groupby_lst,from_table,join_tbl_lst, (log_op, cnt_var)\n",
      "File \u001b[0;32m~/projects/fuzzy_sql/src/fuzzy_sql/rnd_query.py:319\u001b[0m, in \u001b[0;36mRND_QUERY._get_rnd_agg_fntn_terms\u001b[0;34m(self, from_tbl, join_tbl_lst)\u001b[0m\n\u001b[1;32m    317\u001b[0m \u001b[39mfor\u001b[39;00m tbl_name \u001b[39min\u001b[39;00m join_tbl_lst: \n\u001b[1;32m    318\u001b[0m     cnt_vars\u001b[39m=\u001b[39m\u001b[39mself\u001b[39m\u001b[39m.\u001b[39m_get_vars_by_type(\u001b[39m'\u001b[39m\u001b[39mCNT\u001b[39m\u001b[39m'\u001b[39m,tbl_name,drop_key\u001b[39m=\u001b[39m\u001b[39mFalse\u001b[39;00m) \u001b[39m#drop_key is not used for continuous variable since key is usually categorical variable \u001b[39;00m\n\u001b[0;32m--> 319\u001b[0m     \u001b[39massert\u001b[39;00m \u001b[39mlen\u001b[39m(cnt_vars)\u001b[39m!=\u001b[39m\u001b[39m0\u001b[39m, \u001b[39m\"\u001b[39m\u001b[39mNo continuous variable is available to use it with an Aggregate Function. Please set agg_fnt to False.\u001b[39m\u001b[39m\"\u001b[39m\n\u001b[1;32m    320\u001b[0m     cnt_vars\u001b[39m=\u001b[39m\u001b[39mself\u001b[39m\u001b[39m.\u001b[39m_prepend_tbl_name(tbl_name,cnt_vars)\n\u001b[1;32m    321\u001b[0m     all_cnt_vars\u001b[39m.\u001b[39mappend(cnt_vars)\n",
      "\u001b[0;31mAssertionError\u001b[0m: No continuous variable is available to use it with an Aggregate Function. Please set agg_fnt to False."
     ]
    }
   ],
   "source": [
    "# Generate Random queries \n",
    "\n",
    "\n",
    "rnd_query=self.make_single_agg_query(agg_fntn=False)\n",
    "\n",
    "# syn_tbl_name_lst=['s2_ben_sum_2008','s2_ben_sum_2009','s2_ben_sum_2010','s2_carrier_2a','s2_carrier_2b','s2_inpatient','s2_outpatient','s2_prescrp']\n",
    "# rnd_query=self.make_twin_agg_query(syn_tbl_name_lst)\n"
   ]
  },
  {
   "cell_type": "code",
   "execution_count": null,
   "metadata": {},
   "outputs": [],
   "source": [
    "rnd_query['query_desc']"
   ]
  }
 ],
 "metadata": {
  "kernelspec": {
   "display_name": "Python 3.8.10 ('.env_dev': venv)",
   "language": "python",
   "name": "python3"
  },
  "language_info": {
   "codemirror_mode": {
    "name": "ipython",
    "version": 3
   },
   "file_extension": ".py",
   "mimetype": "text/x-python",
   "name": "python",
   "nbconvert_exporter": "python",
   "pygments_lexer": "ipython3",
   "version": "3.8.10"
  },
  "orig_nbformat": 4,
  "vscode": {
   "interpreter": {
    "hash": "6cf594385e3e378fbba23be52d8fa8a1ff0f44816650af8bcee05fc5c8211531"
   }
  }
 },
 "nbformat": 4,
 "nbformat_minor": 2
}

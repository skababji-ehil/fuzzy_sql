{
 "cells": [
  {
   "cell_type": "code",
   "execution_count": 1,
   "metadata": {},
   "outputs": [],
   "source": [
    "import sys\n",
    "sys.path.append('/home/samer/projects/fuzzy_sql/src') #This will enable reading the modules\n",
    "from pathlib import Path\n",
    "import os\n",
    "import json\n",
    "\n",
    "from fuzzy_sql.rnd_query import RND_QUERY\n",
    "from fuzzy_sql.fuzzy_sql import *"
   ]
  },
  {
   "cell_type": "code",
   "execution_count": 2,
   "metadata": {},
   "outputs": [],
   "source": [
    "#set directories\n",
    "root_dir=Path('/home/samer/projects/fuzzy_sql')\n",
    "metadata_dir=os.path.join(root_dir,'data/cms/processed/metadata')\n",
    "db_path=os.path.join(root_dir,'db/cms.db')"
   ]
  },
  {
   "cell_type": "code",
   "execution_count": 3,
   "metadata": {},
   "outputs": [],
   "source": [
    "#define input tables and metadata\n",
    "tbl_names_lst=['s1_ben_sum_2008','s1_ben_sum_2009','s1_ben_sum_2010','s1_carrier_1a','s1_carrier_1b','s1_inpatient','s1_outpatient','s1_prescrp']\n",
    "\n",
    "metadata_lst=[]\n",
    "for tbl_name in tbl_names_lst:\n",
    "    with open(os.path.join(metadata_dir,tbl_name+'.json'),'r') as f:\n",
    "        metadata_lst.append(json.load(f))"
   ]
  },
  {
   "cell_type": "code",
   "execution_count": 4,
   "metadata": {},
   "outputs": [
    {
     "name": "stdout",
     "output_type": "stream",
     "text": [
      "Metadata fot table s1_ben_sum_2008 validated.\n",
      "Metadata fot table s1_ben_sum_2009 validated.\n",
      "Metadata fot table s1_ben_sum_2010 validated.\n",
      "Metadata fot table s1_carrier_1a validated.\n",
      "Metadata fot table s1_carrier_1b validated.\n",
      "Metadata fot table s1_inpatient validated.\n",
      "Metadata fot table s1_outpatient validated.\n",
      "Metadata fot table s1_prescrp validated.\n"
     ]
    }
   ],
   "source": [
    "#setup parameters\n",
    "DFLT_PARAMS={\n",
    "    'AGG_OPS':{'AVG':0.5, 'SUM':0.3, 'MAX':0.1, 'MIN':0.1 },\n",
    "    'LOGIC_OPS':{'AND':0.9,'OR':0.1},\n",
    "    'NOT_STATE':{'0':0.8, '1':0.2},\n",
    "    'CAT_OPS':{'=':0.25, '<>':0.25, 'LIKE':0.15, 'IN':0.15, 'NOT LIKE':0.1, 'NOT IN':0.1},\n",
    "    'CNT_OPS':{'=':0.2, '>':0.1, '<':0.1, '>=':0.1, '<=':0.1, '<>':0.1, 'BETWEEN':0.2, 'NOT BETWEEN':0.1},\n",
    "    'DT_OPS':{'=':0.2, '>':0.1, '<':0.1, '>=':0, '<=':0, '<>':0.1, 'BETWEEN':0.2, 'IN':0.1, 'NOT BETWEEN':0.1, 'NOT IN':0.1},\n",
    "    'LESS_GRP_VARS': False, # enforce bias in random queries toward smaller number of groupby vars. Default is no bias (i.e. uniform sampling)\n",
    "    'LESS_CMP_VARS':False, # enforce bias in random queries toward small number of  comparison terms. Default is no bias (i.e. uniform sampling)\n",
    "    'JOIN_CNDTN':{'WHERE':0.5, 'AND':0.5} #Use WHERE or AND with JOIN CLAUSE\n",
    "}\n",
    "\n",
    "#connect to db\n",
    "conn = sqlite3.connect(db_path)\n",
    "\n",
    "self=RND_QUERY(conn, tbl_names_lst, metadata_lst,DFLT_PARAMS)"
   ]
  },
  {
   "cell_type": "markdown",
   "metadata": {},
   "source": [
    "# Generate Random  queries "
   ]
  },
  {
   "cell_type": "markdown",
   "metadata": {},
   "source": [
    "rnd_query=self.make_single_agg_query(agg_fntn=True)\n",
    "\n",
    "\n",
    "n_rows=rnd_query['query_desc']['n_rows']\n",
    "n_cols=rnd_query['query_desc']['n_cols']\n",
    "\n",
    "print(f\"no_of_rows={n_rows}\\nno_of_cols={n_cols}\\nproduct={n_rows*n_cols/1000}\")\n",
    "print(\"\\n\")\n",
    "print(rnd_query['query_desc']['sql'])"
   ]
  },
  {
   "cell_type": "markdown",
   "metadata": {},
   "source": [
    "syn_tbl_name_lst=['s2_ben_sum_2008','s2_ben_sum_2009','s2_ben_sum_2010','s2_carrier_2a','s2_carrier_2b','s2_inpatient','s2_outpatient','s2_prescrp']\n",
    "rnd_query=self.make_twin_agg_query(syn_tbl_name_lst,agg_fntn=True)\n",
    "\n",
    "n_rows_real=rnd_query['query_desc']['n_rows_real']\n",
    "n_cols_real=rnd_query['query_desc']['n_cols_real']\n",
    "n_rows_syn=rnd_query['query_desc']['n_rows_syn']\n",
    "n_cols_syn=rnd_query['query_desc']['n_cols_syn']\n",
    "\n",
    "print(f\"REAL:\\nno_of_rows={n_rows_real}\\nno_of_cols={n_cols_real}\\nproduct={n_rows_real*n_cols_real/1000}\\n\\n\")\n",
    "print(f\"SYN:\\nno_of_rows={n_rows_syn}\\nno_of_cols={n_cols_syn}\\nproduct={n_rows_syn*n_cols_syn/1000}\\n\\n\")\n",
    "print(rnd_query['query_desc']['sql_real'])\n",
    "print(\"\\n\")\n",
    "print(rnd_query['query_desc']['sql_syn'])\n"
   ]
  },
  {
   "cell_type": "code",
   "execution_count": 5,
   "metadata": {},
   "outputs": [
    {
     "ename": "TypeError",
     "evalue": "_remove_sublst() missing 1 required positional argument: 'sublst'",
     "output_type": "error",
     "traceback": [
      "\u001b[0;31m---------------------------------------------------------------------------\u001b[0m",
      "\u001b[0;31mTypeError\u001b[0m                                 Traceback (most recent call last)",
      "Cell \u001b[0;32mIn [5], line 1\u001b[0m\n\u001b[0;32m----> 1\u001b[0m rnd_query\u001b[39m=\u001b[39m\u001b[39mself\u001b[39;49m\u001b[39m.\u001b[39;49mmake_single_fltr_query()\n\u001b[1;32m      4\u001b[0m n_rows\u001b[39m=\u001b[39mrnd_query[\u001b[39m'\u001b[39m\u001b[39mquery_desc\u001b[39m\u001b[39m'\u001b[39m][\u001b[39m'\u001b[39m\u001b[39mn_rows\u001b[39m\u001b[39m'\u001b[39m]\n\u001b[1;32m      5\u001b[0m n_cols\u001b[39m=\u001b[39mrnd_query[\u001b[39m'\u001b[39m\u001b[39mquery_desc\u001b[39m\u001b[39m'\u001b[39m][\u001b[39m'\u001b[39m\u001b[39mn_cols\u001b[39m\u001b[39m'\u001b[39m]\n",
      "File \u001b[0;32m~/projects/fuzzy_sql/src/fuzzy_sql/rnd_query.py:538\u001b[0m, in \u001b[0;36mRND_QUERY.make_single_fltr_query\u001b[0;34m(self)\u001b[0m\n\u001b[1;32m    536\u001b[0m \u001b[39mdef\u001b[39;00m \u001b[39mmake_single_fltr_query\u001b[39m(\u001b[39mself\u001b[39m) \u001b[39m-\u001b[39m\u001b[39m>\u001b[39m \u001b[39mdict\u001b[39m:\n\u001b[1;32m    537\u001b[0m     dic\u001b[39m=\u001b[39m{}\n\u001b[0;32m--> 538\u001b[0m     single_expr,where_terms,from_tbl, join_tbl_lst \u001b[39m=\u001b[39m\u001b[39mself\u001b[39;49m\u001b[39m.\u001b[39;49m_compile_fltr_expr()\n\u001b[1;32m    539\u001b[0m     query\u001b[39m=\u001b[39m\u001b[39mself\u001b[39m\u001b[39m.\u001b[39mmake_query(\u001b[39mself\u001b[39m\u001b[39m.\u001b[39mCUR, single_expr)\n\u001b[1;32m    540\u001b[0m     dic[\u001b[39m'\u001b[39m\u001b[39mquery\u001b[39m\u001b[39m'\u001b[39m]\u001b[39m=\u001b[39mquery\n",
      "File \u001b[0;32m~/projects/fuzzy_sql/src/fuzzy_sql/rnd_query.py:525\u001b[0m, in \u001b[0;36mRND_QUERY._compile_fltr_expr\u001b[0;34m(self)\u001b[0m\n\u001b[1;32m    523\u001b[0m \u001b[39mdef\u001b[39;00m \u001b[39m_compile_fltr_expr\u001b[39m(\u001b[39mself\u001b[39m):\n\u001b[1;32m    524\u001b[0m     from_expr,from_tbl,join_tbl_lst\u001b[39m=\u001b[39m\u001b[39mself\u001b[39m\u001b[39m.\u001b[39m_make_rnd_from_expr()\n\u001b[0;32m--> 525\u001b[0m     where_terms, log_ops\u001b[39m=\u001b[39m\u001b[39mself\u001b[39;49m\u001b[39m.\u001b[39;49m_get_rnd_where_lst(from_tbl,join_tbl_lst, drop_fkey\u001b[39m=\u001b[39;49m\u001b[39mTrue\u001b[39;49;00m)\n\u001b[1;32m    526\u001b[0m     expr1\u001b[39m=\u001b[39m\u001b[39m'\u001b[39m\u001b[39mSELECT * \u001b[39m\u001b[39m'\u001b[39m\u001b[39m+\u001b[39m from_expr\u001b[39m+\u001b[39m \u001b[39m'\u001b[39m\u001b[39m WHERE \u001b[39m\u001b[39m'\u001b[39m\n\u001b[1;32m    527\u001b[0m     where_expr\u001b[39m=\u001b[39m[\u001b[39mNone\u001b[39;00m]\u001b[39m*\u001b[39m(\u001b[39mlen\u001b[39m(where_terms)\u001b[39m+\u001b[39m\u001b[39mlen\u001b[39m(log_ops))\n",
      "File \u001b[0;32m~/projects/fuzzy_sql/src/fuzzy_sql/rnd_query.py:519\u001b[0m, in \u001b[0;36mRND_QUERY._get_rnd_where_lst\u001b[0;34m(self, from_tbl, join_tbl_lst, drop_fkey)\u001b[0m\n\u001b[1;32m    517\u001b[0m \u001b[39mif\u001b[39;00m \u001b[39mlen\u001b[39m(all_tbl_keys)\u001b[39m==\u001b[39m\u001b[39m1\u001b[39m:\n\u001b[1;32m    518\u001b[0m     \u001b[39mraise\u001b[39;00m \u001b[39mException\u001b[39;00m(\u001b[39m\"\u001b[39m\u001b[39mOnly join key is available as a variable!! Add more variables.\u001b[39m\u001b[39m\"\u001b[39m)\n\u001b[0;32m--> 519\u001b[0m all_tbl_vars\u001b[39m=\u001b[39m\u001b[39mself\u001b[39m\u001b[39m.\u001b[39m_remove_sublst(all_tbl_vars,all_tbl_keys)\n",
      "\u001b[0;31mTypeError\u001b[0m: _remove_sublst() missing 1 required positional argument: 'sublst'"
     ]
    }
   ],
   "source": [
    "rnd_query=self.make_single_fltr_query()\n",
    "\n",
    "\n",
    "n_rows=rnd_query['query_desc']['n_rows']\n",
    "n_cols=rnd_query['query_desc']['n_cols']\n",
    "\n",
    "print(f\"no_of_rows={n_rows}\\nno_of_cols={n_cols}\\nproduct={n_rows*n_cols/1000}\")\n",
    "print(\"\\n\")\n",
    "print(rnd_query['query_desc']['sql'])"
   ]
  }
 ],
 "metadata": {
  "kernelspec": {
   "display_name": "Python 3.8.10 ('.env_dev': venv)",
   "language": "python",
   "name": "python3"
  },
  "language_info": {
   "codemirror_mode": {
    "name": "ipython",
    "version": 3
   },
   "file_extension": ".py",
   "mimetype": "text/x-python",
   "name": "python",
   "nbconvert_exporter": "python",
   "pygments_lexer": "ipython3",
   "version": "3.8.10"
  },
  "orig_nbformat": 4,
  "vscode": {
   "interpreter": {
    "hash": "6cf594385e3e378fbba23be52d8fa8a1ff0f44816650af8bcee05fc5c8211531"
   }
  }
 },
 "nbformat": 4,
 "nbformat_minor": 2
}

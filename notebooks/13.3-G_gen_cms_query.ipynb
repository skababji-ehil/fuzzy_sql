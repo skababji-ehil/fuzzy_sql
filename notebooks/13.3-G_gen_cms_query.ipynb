{
 "cells": [
  {
   "cell_type": "code",
   "execution_count": 1,
   "metadata": {},
   "outputs": [],
   "source": [
    "import sys\n",
    "sys.path.append('/home/samer/projects/fuzzy_sql/src') #This will enable reading the modules\n",
    "from pathlib import Path\n",
    "import os\n",
    "import json\n",
    "\n",
    "from fuzzy_sql.rnd_query import RND_QUERY\n",
    "from fuzzy_sql.fuzzy_sql import *"
   ]
  },
  {
   "cell_type": "code",
   "execution_count": 2,
   "metadata": {},
   "outputs": [],
   "source": [
    "#set directories\n",
    "root_dir=Path('/home/samer/projects/fuzzy_sql')\n",
    "metadata_dir=os.path.join(root_dir,'data/cms/processed/metadata')\n",
    "db_path=os.path.join(root_dir,'db/cms.db')"
   ]
  },
  {
   "cell_type": "code",
   "execution_count": 3,
   "metadata": {},
   "outputs": [],
   "source": [
    "#define input tables and metadata\n",
    "tbl_names_lst=['s1_ben_sum_2008','s1_ben_sum_2009','s1_ben_sum_2010','s1_carrier_1a','s1_carrier_1b','s1_inpatient','s1_outpatient','s1_prescrp']\n",
    "\n",
    "metadata_lst=[]\n",
    "for tbl_name in tbl_names_lst:\n",
    "    with open(os.path.join(metadata_dir,tbl_name+'.json'),'r') as f:\n",
    "        metadata_lst.append(json.load(f))"
   ]
  },
  {
   "cell_type": "code",
   "execution_count": 4,
   "metadata": {},
   "outputs": [],
   "source": [
    "#setup parameters\n",
    "DFLT_PARAMS={\n",
    "    'AGG_OPS':{'AVG':0.5, 'SUM':0.3, 'MAX':0.1, 'MIN':0.1 },\n",
    "    'LOGIC_OPS':{'AND':0.9,'OR':0.1},\n",
    "    'NOT_STATE':{'0':0.8, '1':0.2},\n",
    "    'CAT_OPS':{'=':0.25, '<>':0.25, 'LIKE':0.15, 'IN':0.15, 'NOT LIKE':0.1, 'NOT IN':0.1},\n",
    "    'CNT_OPS':{'=':0.2, '>':0.1, '<':0.1, '>=':0.1, '<=':0.1, '<>':0.1, 'BETWEEN':0.2, 'NOT BETWEEN':0.1},\n",
    "    'DT_OPS':{'=':0.2, '>':0.1, '<':0.1, '>=':0, '<=':0, '<>':0.1, 'BETWEEN':0.2, 'IN':0.1, 'NOT BETWEEN':0.1, 'NOT IN':0.1},\n",
    "    'LESS_GRP_VARS': False, # enforce bias in random queries toward smaller number of groupby vars. Default is no bias (i.e. uniform sampling)\n",
    "    'LESS_CMP_VARS':False, # enforce bias in random queries toward small number of  comparison terms. Default is no bias (i.e. uniform sampling)\n",
    "    'JOIN_CNDTN':{'WHERE':0.5, 'AND':0.5} #Use WHERE or AND with JOIN CLAUSE\n",
    "}\n",
    "\n",
    "#connect to db\n",
    "conn = sqlite3.connect(db_path)\n",
    "\n",
    "self=RND_QUERY(conn, tbl_names_lst, metadata_lst,DFLT_PARAMS)"
   ]
  },
  {
   "cell_type": "markdown",
   "metadata": {},
   "source": [
    "# Generate Random  queries "
   ]
  },
  {
   "cell_type": "code",
   "execution_count": 5,
   "metadata": {},
   "outputs": [
    {
     "name": "stdout",
     "output_type": "stream",
     "text": [
      "no_of_rows=0\n",
      "no_of_cols=4\n",
      "product=0.0\n",
      "\n",
      "\n",
      "SELECT s1_ben_sum_2009.SP_OSTEOPRS, s1_outpatient.ICD9_DGNS_CD_5, COUNT(*), AVG(s1_inpatient.HCPCS_CD_18)  FROM s1_ben_sum_2009  JOIN s1_inpatient  ON s1_ben_sum_2009.DESYNPUF_ID=s1_inpatient.DESYNPUF_ID  JOIN s1_prescrp  ON s1_ben_sum_2009.DESYNPUF_ID=s1_prescrp.DESYNPUF_ID  JOIN s1_outpatient  ON s1_ben_sum_2009.DESYNPUF_ID=s1_outpatient.DESYNPUF_ID  JOIN s1_carrier_1b  ON s1_ben_sum_2009.DESYNPUF_ID=s1_carrier_1b.DESYNPUF_ID  GROUP BY s1_ben_sum_2009.SP_OSTEOPRS, s1_outpatient.ICD9_DGNS_CD_5\n"
     ]
    }
   ],
   "source": [
    "rnd_query=self.make_single_agg_query(agg_fntn=True)\n",
    "\n",
    "\n",
    "n_rows=rnd_query['query_desc']['n_rows']\n",
    "n_cols=rnd_query['query_desc']['n_cols']\n",
    "\n",
    "print(f\"no_of_rows={n_rows}\\nno_of_cols={n_cols}\\nproduct={n_rows*n_cols/1000}\")\n",
    "print(\"\\n\")\n",
    "print(rnd_query['query_desc']['sql'])"
   ]
  },
  {
   "cell_type": "code",
   "execution_count": 6,
   "metadata": {},
   "outputs": [
    {
     "name": "stdout",
     "output_type": "stream",
     "text": [
      "REAL:\n",
      "no_of_rows=0\n",
      "no_of_cols=35\n",
      "product=0.0\n",
      "\n",
      "\n",
      "SYN:\n",
      "no_of_rows=0\n",
      "no_of_cols=35\n",
      "product=0.0\n",
      "\n",
      "\n",
      "SELECT s1_carrier_1b.LINE_PRCSG_IND_CD_12, s1_ben_sum_2009.BENE_DEATH_DT, s1_inpatient.DESYNPUF_ID, s1_ben_sum_2009.SP_DEPRESSN, s1_carrier_1a.LINE_ICD9_DGNS_CD_11, s1_inpatient.ICD9_PRCDR_CD_4, s1_carrier_1a.CLM_FROM_DT, s1_carrier_1b.ICD9_DGNS_CD_6, s1_carrier_1a.LINE_ICD9_DGNS_CD_5, s1_inpatient.ICD9_DGNS_CD_8, s1_carrier_1a.LINE_ICD9_DGNS_CD_6, s1_carrier_1b.LINE_ICD9_DGNS_CD_7, s1_ben_sum_2009.PPPYMT_CAR, s1_inpatient.NCH_BENE_DSCHRG_DT, s1_ben_sum_2009.MEDREIMB_OP, s1_carrier_1b.ICD9_DGNS_CD_5, s1_ben_sum_2009.SP_CNCR, s1_carrier_1a.LINE_ICD9_DGNS_CD_12, s1_ben_sum_2009.BENE_RACE_CD, s1_ben_sum_2009.BENRES_IP, s1_carrier_1a.LINE_ICD9_DGNS_CD_2, s1_carrier_1b.LINE_PRCSG_IND_CD_13, s1_ben_sum_2009.SP_ISCHMCHT, s1_carrier_1b.LINE_PRCSG_IND_CD_9, s1_carrier_1a.LINE_PRCSG_IND_CD_3, s1_carrier_1a.ICD9_DGNS_CD_8, s1_inpatient.ICD9_DGNS_CD_1, s1_inpatient.ICD9_DGNS_CD_2, s1_carrier_1b.HCPCS_CD_1, s1_ben_sum_2009.SP_ALZHDMTA, s1_inpatient.ICD9_PRCDR_CD_6, s1_carrier_1b.CLM_ID, s1_carrier_1b.LINE_ICD9_DGNS_CD_2, COUNT(*), AVG(s1_carrier_1b.LINE_ALOWD_CHRG_AMT_3)  FROM s1_ben_sum_2009  JOIN s1_inpatient  ON s1_ben_sum_2009.DESYNPUF_ID=s1_inpatient.DESYNPUF_ID  JOIN s1_prescrp  ON s1_ben_sum_2009.DESYNPUF_ID=s1_prescrp.DESYNPUF_ID  JOIN s1_carrier_1b  ON s1_ben_sum_2009.DESYNPUF_ID=s1_carrier_1b.DESYNPUF_ID  JOIN s1_carrier_1a  ON s1_ben_sum_2009.DESYNPUF_ID=s1_carrier_1a.DESYNPUF_ID  GROUP BY s1_carrier_1b.LINE_PRCSG_IND_CD_12, s1_ben_sum_2009.BENE_DEATH_DT, s1_inpatient.DESYNPUF_ID, s1_ben_sum_2009.SP_DEPRESSN, s1_carrier_1a.LINE_ICD9_DGNS_CD_11, s1_inpatient.ICD9_PRCDR_CD_4, s1_carrier_1a.CLM_FROM_DT, s1_carrier_1b.ICD9_DGNS_CD_6, s1_carrier_1a.LINE_ICD9_DGNS_CD_5, s1_inpatient.ICD9_DGNS_CD_8, s1_carrier_1a.LINE_ICD9_DGNS_CD_6, s1_carrier_1b.LINE_ICD9_DGNS_CD_7, s1_ben_sum_2009.PPPYMT_CAR, s1_inpatient.NCH_BENE_DSCHRG_DT, s1_ben_sum_2009.MEDREIMB_OP, s1_carrier_1b.ICD9_DGNS_CD_5, s1_ben_sum_2009.SP_CNCR, s1_carrier_1a.LINE_ICD9_DGNS_CD_12, s1_ben_sum_2009.BENE_RACE_CD, s1_ben_sum_2009.BENRES_IP, s1_carrier_1a.LINE_ICD9_DGNS_CD_2, s1_carrier_1b.LINE_PRCSG_IND_CD_13, s1_ben_sum_2009.SP_ISCHMCHT, s1_carrier_1b.LINE_PRCSG_IND_CD_9, s1_carrier_1a.LINE_PRCSG_IND_CD_3, s1_carrier_1a.ICD9_DGNS_CD_8, s1_inpatient.ICD9_DGNS_CD_1, s1_inpatient.ICD9_DGNS_CD_2, s1_carrier_1b.HCPCS_CD_1, s1_ben_sum_2009.SP_ALZHDMTA, s1_inpatient.ICD9_PRCDR_CD_6, s1_carrier_1b.CLM_ID, s1_carrier_1b.LINE_ICD9_DGNS_CD_2\n",
      "\n",
      "\n",
      "SELECT s2_carrier_2b.LINE_PRCSG_IND_CD_12, s2_ben_sum_2009.BENE_DEATH_DT, s2_inpatient.DESYNPUF_ID, s2_ben_sum_2009.SP_DEPRESSN, s2_carrier_2a.LINE_ICD9_DGNS_CD_11, s2_inpatient.ICD9_PRCDR_CD_4, s2_carrier_2a.CLM_FROM_DT, s2_carrier_2b.ICD9_DGNS_CD_6, s2_carrier_2a.LINE_ICD9_DGNS_CD_5, s2_inpatient.ICD9_DGNS_CD_8, s2_carrier_2a.LINE_ICD9_DGNS_CD_6, s2_carrier_2b.LINE_ICD9_DGNS_CD_7, s2_ben_sum_2009.PPPYMT_CAR, s2_inpatient.NCH_BENE_DSCHRG_DT, s2_ben_sum_2009.MEDREIMB_OP, s2_carrier_2b.ICD9_DGNS_CD_5, s2_ben_sum_2009.SP_CNCR, s2_carrier_2a.LINE_ICD9_DGNS_CD_12, s2_ben_sum_2009.BENE_RACE_CD, s2_ben_sum_2009.BENRES_IP, s2_carrier_2a.LINE_ICD9_DGNS_CD_2, s2_carrier_2b.LINE_PRCSG_IND_CD_13, s2_ben_sum_2009.SP_ISCHMCHT, s2_carrier_2b.LINE_PRCSG_IND_CD_9, s2_carrier_2a.LINE_PRCSG_IND_CD_3, s2_carrier_2a.ICD9_DGNS_CD_8, s2_inpatient.ICD9_DGNS_CD_1, s2_inpatient.ICD9_DGNS_CD_2, s2_carrier_2b.HCPCS_CD_1, s2_ben_sum_2009.SP_ALZHDMTA, s2_inpatient.ICD9_PRCDR_CD_6, s2_carrier_2b.CLM_ID, s2_carrier_2b.LINE_ICD9_DGNS_CD_2, COUNT(*), AVG(s2_carrier_2b.LINE_ALOWD_CHRG_AMT_3)  FROM s2_ben_sum_2009  JOIN s2_inpatient  ON s2_ben_sum_2009.DESYNPUF_ID=s2_inpatient.DESYNPUF_ID  JOIN s2_prescrp  ON s2_ben_sum_2009.DESYNPUF_ID=s2_prescrp.DESYNPUF_ID  JOIN s2_carrier_2b  ON s2_ben_sum_2009.DESYNPUF_ID=s2_carrier_2b.DESYNPUF_ID  JOIN s2_carrier_2a  ON s2_ben_sum_2009.DESYNPUF_ID=s2_carrier_2a.DESYNPUF_ID  GROUP BY s2_carrier_2b.LINE_PRCSG_IND_CD_12, s2_ben_sum_2009.BENE_DEATH_DT, s2_inpatient.DESYNPUF_ID, s2_ben_sum_2009.SP_DEPRESSN, s2_carrier_2a.LINE_ICD9_DGNS_CD_11, s2_inpatient.ICD9_PRCDR_CD_4, s2_carrier_2a.CLM_FROM_DT, s2_carrier_2b.ICD9_DGNS_CD_6, s2_carrier_2a.LINE_ICD9_DGNS_CD_5, s2_inpatient.ICD9_DGNS_CD_8, s2_carrier_2a.LINE_ICD9_DGNS_CD_6, s2_carrier_2b.LINE_ICD9_DGNS_CD_7, s2_ben_sum_2009.PPPYMT_CAR, s2_inpatient.NCH_BENE_DSCHRG_DT, s2_ben_sum_2009.MEDREIMB_OP, s2_carrier_2b.ICD9_DGNS_CD_5, s2_ben_sum_2009.SP_CNCR, s2_carrier_2a.LINE_ICD9_DGNS_CD_12, s2_ben_sum_2009.BENE_RACE_CD, s2_ben_sum_2009.BENRES_IP, s2_carrier_2a.LINE_ICD9_DGNS_CD_2, s2_carrier_2b.LINE_PRCSG_IND_CD_13, s2_ben_sum_2009.SP_ISCHMCHT, s2_carrier_2b.LINE_PRCSG_IND_CD_9, s2_carrier_2a.LINE_PRCSG_IND_CD_3, s2_carrier_2a.ICD9_DGNS_CD_8, s2_inpatient.ICD9_DGNS_CD_1, s2_inpatient.ICD9_DGNS_CD_2, s2_carrier_2b.HCPCS_CD_1, s2_ben_sum_2009.SP_ALZHDMTA, s2_inpatient.ICD9_PRCDR_CD_6, s2_carrier_2b.CLM_ID, s2_carrier_2b.LINE_ICD9_DGNS_CD_2\n"
     ]
    }
   ],
   "source": [
    "syn_tbl_name_lst=['s2_ben_sum_2008','s2_ben_sum_2009','s2_ben_sum_2010','s2_carrier_2a','s2_carrier_2b','s2_inpatient','s2_outpatient','s2_prescrp']\n",
    "rnd_query=self.make_twin_agg_query(syn_tbl_name_lst,agg_fntn=True)\n",
    "\n",
    "n_rows_real=rnd_query['query_desc']['n_rows_real']\n",
    "n_cols_real=rnd_query['query_desc']['n_cols_real']\n",
    "n_rows_syn=rnd_query['query_desc']['n_rows_syn']\n",
    "n_cols_syn=rnd_query['query_desc']['n_cols_syn']\n",
    "\n",
    "print(f\"REAL:\\nno_of_rows={n_rows_real}\\nno_of_cols={n_cols_real}\\nproduct={n_rows_real*n_cols_real/1000}\\n\\n\")\n",
    "print(f\"SYN:\\nno_of_rows={n_rows_syn}\\nno_of_cols={n_cols_syn}\\nproduct={n_rows_syn*n_cols_syn/1000}\\n\\n\")\n",
    "print(rnd_query['query_desc']['sql_real'])\n",
    "print(\"\\n\")\n",
    "print(rnd_query['query_desc']['sql_syn'])\n"
   ]
  },
  {
   "cell_type": "code",
   "execution_count": null,
   "metadata": {},
   "outputs": [],
   "source": [
    "rnd_query=self.make_single_fltr_query()\n",
    "\n",
    "\n",
    "n_rows=rnd_query['query_desc']['n_rows']\n",
    "n_cols=rnd_query['query_desc']['n_cols']\n",
    "\n",
    "print(f\"no_of_rows={n_rows}\\nno_of_cols={n_cols}\\nproduct={n_rows*n_cols/1000}\")\n",
    "print(\"\\n\")\n",
    "print(rnd_query['query_desc']['sql'])"
   ]
  }
 ],
 "metadata": {
  "kernelspec": {
   "display_name": "Python 3.8.10 ('.env_dev': venv)",
   "language": "python",
   "name": "python3"
  },
  "language_info": {
   "codemirror_mode": {
    "name": "ipython",
    "version": 3
   },
   "file_extension": ".py",
   "mimetype": "text/x-python",
   "name": "python",
   "nbconvert_exporter": "python",
   "pygments_lexer": "ipython3",
   "version": "3.8.10"
  },
  "orig_nbformat": 4,
  "vscode": {
   "interpreter": {
    "hash": "6cf594385e3e378fbba23be52d8fa8a1ff0f44816650af8bcee05fc5c8211531"
   }
  }
 },
 "nbformat": 4,
 "nbformat_minor": 2
}

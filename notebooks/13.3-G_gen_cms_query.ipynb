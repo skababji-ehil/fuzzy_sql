{
 "cells": [
  {
   "cell_type": "code",
   "execution_count": 1,
   "metadata": {},
   "outputs": [],
   "source": [
    "import sys\n",
    "sys.path.append('/home/samer/projects/fuzzy_sql/src') #This will enable reading the modules\n",
    "from pathlib import Path\n",
    "import os\n",
    "import json\n",
    "\n",
    "from fuzzy_sql.rnd_query import RND_QUERY\n",
    "from fuzzy_sql.fuzzy_sql import *"
   ]
  },
  {
   "cell_type": "code",
   "execution_count": 2,
   "metadata": {},
   "outputs": [],
   "source": [
    "#set directories\n",
    "root_dir=Path('/home/samer/projects/fuzzy_sql')\n",
    "metadata_dir=os.path.join(root_dir,'data/cms/processed/metadata')\n",
    "db_path=os.path.join(root_dir,'db/cms.db')"
   ]
  },
  {
   "cell_type": "code",
   "execution_count": 3,
   "metadata": {},
   "outputs": [],
   "source": [
    "#define input tables and metadata\n",
    "tbl_names_lst=['s1_ben_sum_2008','s1_ben_sum_2009','s1_ben_sum_2010','s1_carrier_1a','s1_carrier_1b','s1_inpatient','s1_outpatient','s1_prescrp']\n",
    "\n",
    "metadata_lst=[]\n",
    "for tbl_name in tbl_names_lst:\n",
    "    with open(os.path.join(metadata_dir,tbl_name+'.json'),'r') as f:\n",
    "        metadata_lst.append(json.load(f))"
   ]
  },
  {
   "cell_type": "code",
   "execution_count": 4,
   "metadata": {},
   "outputs": [],
   "source": [
    "df,metadata=prep_data_for_db('/home/samer/projects/fuzzy_sql/data/cms/raw/sample1/DE1_0_2008_Beneficiary_Summary_File_Sample_1.csv',gen_metadata=False)"
   ]
  },
  {
   "cell_type": "code",
   "execution_count": 5,
   "metadata": {},
   "outputs": [
    {
     "data": {
      "text/plain": [
       "{'tbl_name': 'DE1_0_2008_Beneficiary_Summary_File_Sample_1',\n",
       " 'tbl_key_name': 'Enter string, tuple of strings for concatenated key. Enter Null if table is not linked in relation',\n",
       " 'parent_ref': 'Enter related parent table name and parent key in tuples. Parent key can be a tuple of variable names for concatenated keys. Enter Null if table is teh root',\n",
       " 'var': [['DESYNPUF_ID', 'object'],\n",
       "  ['BENE_BIRTH_DT', 'object'],\n",
       "  ['BENE_DEATH_DT', 'object'],\n",
       "  ['BENE_SEX_IDENT_CD', 'object'],\n",
       "  ['BENE_RACE_CD', 'object'],\n",
       "  ['BENE_ESRD_IND', 'object'],\n",
       "  ['SP_STATE_CODE', 'object'],\n",
       "  ['BENE_COUNTY_CD', 'object'],\n",
       "  ['BENE_HI_CVRAGE_TOT_MONS', 'object'],\n",
       "  ['BENE_SMI_CVRAGE_TOT_MONS', 'object'],\n",
       "  ['BENE_HMO_CVRAGE_TOT_MONS', 'object'],\n",
       "  ['PLAN_CVRG_MOS_NUM', 'object'],\n",
       "  ['SP_ALZHDMTA', 'object'],\n",
       "  ['SP_CHF', 'object'],\n",
       "  ['SP_CHRNKIDN', 'object'],\n",
       "  ['SP_CNCR', 'object'],\n",
       "  ['SP_COPD', 'object'],\n",
       "  ['SP_DEPRESSN', 'object'],\n",
       "  ['SP_DIABETES', 'object'],\n",
       "  ['SP_ISCHMCHT', 'object'],\n",
       "  ['SP_OSTEOPRS', 'object'],\n",
       "  ['SP_RA_OA', 'object'],\n",
       "  ['SP_STRKETIA', 'object'],\n",
       "  ['MEDREIMB_IP', 'object'],\n",
       "  ['BENRES_IP', 'object'],\n",
       "  ['PPPYMT_IP', 'object'],\n",
       "  ['MEDREIMB_OP', 'object'],\n",
       "  ['BENRES_OP', 'object'],\n",
       "  ['PPPYMT_OP', 'object'],\n",
       "  ['MEDREIMB_CAR', 'object'],\n",
       "  ['BENRES_CAR', 'object'],\n",
       "  ['PPPYMT_CAR', 'object']]}"
      ]
     },
     "execution_count": 5,
     "metadata": {},
     "output_type": "execute_result"
    }
   ],
   "source": [
    "metadata"
   ]
  },
  {
   "cell_type": "code",
   "execution_count": null,
   "metadata": {},
   "outputs": [],
   "source": [
    "#setup parameters\n",
    "DFLT_PARAMS={\n",
    "    'AGG_OPS':{'AVG':0.5, 'SUM':0.3, 'MAX':0.1, 'MIN':0.1 },\n",
    "    'LOGIC_OPS':{'AND':0.9,'OR':0.1},\n",
    "    'NOT_STATE':{'0':0.8, '1':0.2},\n",
    "    'CAT_OPS':{'=':0.25, '<>':0.25, 'LIKE':0.15, 'IN':0.15, 'NOT LIKE':0.1, 'NOT IN':0.1},\n",
    "    'CNT_OPS':{'=':0.2, '>':0.1, '<':0.1, '>=':0.1, '<=':0.1, '<>':0.1, 'BETWEEN':0.2, 'NOT BETWEEN':0.1},\n",
    "    'DT_OPS':{'=':0.2, '>':0.1, '<':0.1, '>=':0, '<=':0, '<>':0.1, 'BETWEEN':0.2, 'IN':0.1, 'NOT BETWEEN':0.1, 'NOT IN':0.1},\n",
    "    'LESS_GRP_VARS': False, # enforce bias in random queries toward smaller number of groupby vars. Default is no bias (i.e. uniform sampling)\n",
    "    'LESS_CMP_VARS':False, # enforce bias in random queries toward small number of  comparison terms. Default is no bias (i.e. uniform sampling)\n",
    "    'JOIN_CNDTN':{'WHERE':0.5, 'AND':0.5} #Use WHERE or AND with JOIN CLAUSE\n",
    "}\n",
    "\n",
    "#connect to db\n",
    "conn = sqlite3.connect(db_path)\n",
    "\n",
    "self=RND_QUERY(conn, tbl_names_lst, metadata_lst,DFLT_PARAMS)"
   ]
  },
  {
   "cell_type": "code",
   "execution_count": null,
   "metadata": {},
   "outputs": [],
   "source": [
    "a=[1,2,3]\n",
    "b=[4,5,6]\n",
    "\n",
    "b.append(a)\n",
    "\n"
   ]
  },
  {
   "cell_type": "code",
   "execution_count": null,
   "metadata": {},
   "outputs": [],
   "source": [
    "eval(b)\n"
   ]
  },
  {
   "cell_type": "code",
   "execution_count": null,
   "metadata": {},
   "outputs": [],
   "source": []
  }
 ],
 "metadata": {
  "kernelspec": {
   "display_name": "Python 3.8.10 ('.env_dev': venv)",
   "language": "python",
   "name": "python3"
  },
  "language_info": {
   "codemirror_mode": {
    "name": "ipython",
    "version": 3
   },
   "file_extension": ".py",
   "mimetype": "text/x-python",
   "name": "python",
   "nbconvert_exporter": "python",
   "pygments_lexer": "ipython3",
   "version": "3.8.10"
  },
  "orig_nbformat": 4,
  "vscode": {
   "interpreter": {
    "hash": "6cf594385e3e378fbba23be52d8fa8a1ff0f44816650af8bcee05fc5c8211531"
   }
  }
 },
 "nbformat": 4,
 "nbformat_minor": 2
}

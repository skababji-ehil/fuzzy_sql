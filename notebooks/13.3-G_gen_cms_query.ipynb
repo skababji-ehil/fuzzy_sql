{
 "cells": [
  {
   "cell_type": "code",
   "execution_count": 47,
   "metadata": {},
   "outputs": [],
   "source": [
    "import sys\n",
    "sys.path.append('/home/samer/projects/fuzzy_sql/src') #This will enable reading the modules\n",
    "from pathlib import Path\n",
    "import os\n",
    "import json\n",
    "\n",
    "from fuzzy_sql.rnd_query import RND_QUERY\n",
    "from fuzzy_sql.fuzzy_sql import *"
   ]
  },
  {
   "cell_type": "code",
   "execution_count": 48,
   "metadata": {},
   "outputs": [],
   "source": [
    "#set directories\n",
    "root_dir=Path('/home/samer/projects/fuzzy_sql')\n",
    "metadata_dir=os.path.join(root_dir,'data/cms/processed/metadata')\n",
    "db_path=os.path.join(root_dir,'db/cms.db')"
   ]
  },
  {
   "cell_type": "code",
   "execution_count": 49,
   "metadata": {},
   "outputs": [],
   "source": [
    "#define input tables and metadata\n",
    "tbl_names_lst=['s1_ben_sum_2008','s1_ben_sum_2009','s1_ben_sum_2010','s1_carrier_1a','s1_carrier_1b','s1_inpatient','s1_outpatient','s1_prescrp']\n",
    "\n",
    "metadata_lst=[]\n",
    "for tbl_name in tbl_names_lst:\n",
    "    with open(os.path.join(metadata_dir,tbl_name+'.json'),'r') as f:\n",
    "        metadata_lst.append(json.load(f))"
   ]
  },
  {
   "cell_type": "code",
   "execution_count": 50,
   "metadata": {},
   "outputs": [
    {
     "name": "stdout",
     "output_type": "stream",
     "text": [
      "Metadata fot table s1_ben_sum_2008 validated.\n",
      "Metadata fot table s1_ben_sum_2009 validated.\n",
      "Metadata fot table s1_ben_sum_2010 validated.\n",
      "Metadata fot table s1_carrier_1a validated.\n",
      "Metadata fot table s1_carrier_1b validated.\n",
      "Metadata fot table s1_inpatient validated.\n",
      "Metadata fot table s1_outpatient validated.\n",
      "Metadata fot table s1_prescrp validated.\n"
     ]
    }
   ],
   "source": [
    "# #setup parameters\n",
    "# DFLT_PARAMS={\n",
    "#     'AGG_OPS':{'AVG':0.5, 'SUM':0.3, 'MAX':0.1, 'MIN':0.1 },\n",
    "#     'LOGIC_OPS':{'AND':0.9,'OR':0.1},\n",
    "#     'NOT_STATE':{'0':0.8, '1':0.2},\n",
    "#     'CAT_OPS':{'=':0.25, '<>':0.25, 'LIKE':0.15, 'IN':0.15, 'NOT LIKE':0.1, 'NOT IN':0.1},\n",
    "#     'CNT_OPS':{'=':0.2, '>':0.1, '<':0.1, '>=':0.1, '<=':0.1, '<>':0.1, 'BETWEEN':0.2, 'NOT BETWEEN':0.1},\n",
    "#     'DT_OPS':{'=':0.2, '>':0.1, '<':0.1, '>=':0, '<=':0, '<>':0.1, 'BETWEEN':0.2, 'IN':0.1, 'NOT BETWEEN':0.1, 'NOT IN':0.1},\n",
    "#     'LESS_GRP_VARS': False, # enforce bias in random queries toward smaller number of groupby vars. Default is no bias (i.e. uniform sampling)\n",
    "#     'LESS_CMP_VARS':False, # enforce bias in random queries toward small number of  comparison terms. Default is no bias (i.e. uniform sampling)\n",
    "#     'JOIN_CNDTN':{'WHERE':0.5, 'AND':0.5} #Use WHERE or AND with JOIN CLAUSE\n",
    "# }\n",
    "\n",
    "#setup parameters\n",
    "DFLT_PARAMS={\n",
    "    'AGG_OPS':{'AVG':0.5, 'SUM':0.3, 'MAX':0.1, 'MIN':0.1 },\n",
    "    'LOGIC_OPS':{'AND':0.9,'OR':0.1},\n",
    "    'NOT_STATE':{'0':0.8, '1':0.2},\n",
    "    'CAT_OPS':{'=':0.25, '<>':0.25, 'LIKE':0.15, 'IN':0.15, 'NOT LIKE':0.1, 'NOT IN':0.1},\n",
    "    'CNT_OPS':{'=':0.2, '>':0.1, '<':0.1, '>=':0.1, '<=':0.1, '<>':0.1, 'BETWEEN':0.2, 'NOT BETWEEN':0.1},\n",
    "    'DT_OPS':{'=':0.2, '>':0.1, '<':0.1, '>=':0, '<=':0, '<>':0.1, 'BETWEEN':0.2, 'IN':0.1, 'NOT BETWEEN':0.1, 'NOT IN':0.1},\n",
    "    'FILTER_TYPE':{'WHERE':0.5, 'AND':0.5}, #Use WHERE or AND with JOIN CLAUSE\n",
    "    'JOIN_TYPE': {'JOIN':0.5, 'LEFT JOIN':0.5}\n",
    "}\n",
    "\n",
    "#connect to db\n",
    "conn = sqlite3.connect(db_path)\n",
    "\n",
    "self=RND_QUERY(conn, tbl_names_lst, metadata_lst,DFLT_PARAMS)"
   ]
  },
  {
   "cell_type": "markdown",
   "metadata": {},
   "source": [
    "# Generate Random  queries "
   ]
  },
  {
   "cell_type": "code",
   "execution_count": 51,
   "metadata": {},
   "outputs": [
    {
     "name": "stdout",
     "output_type": "stream",
     "text": [
      "SELECT s1_carrier_1a.ICD9_DGNS_CD_3, s1_carrier_1b.LINE_ICD9_DGNS_CD_7, COUNT(*), SUM(s1_carrier_1a.LINE_NCH_PMT_AMT_5)  FROM s1_ben_sum_2009  LEFT JOIN s1_carrier_1a  ON s1_ben_sum_2009.DESYNPUF_ID=s1_carrier_1a.DESYNPUF_ID  JOIN s1_carrier_1b  ON s1_ben_sum_2009.DESYNPUF_ID=s1_carrier_1b.DESYNPUF_ID  JOIN s1_outpatient  ON s1_ben_sum_2009.DESYNPUF_ID=s1_outpatient.DESYNPUF_ID  LEFT JOIN s1_prescrp  ON s1_ben_sum_2009.DESYNPUF_ID=s1_prescrp.DESYNPUF_ID  GROUP BY s1_carrier_1a.ICD9_DGNS_CD_3, s1_carrier_1b.LINE_ICD9_DGNS_CD_7\n",
      "no_of_rows=0\n",
      "no_of_cols=4\n",
      "product=0.0\n",
      "\n",
      "\n",
      "SELECT s1_carrier_1a.ICD9_DGNS_CD_3, s1_carrier_1b.LINE_ICD9_DGNS_CD_7, COUNT(*), SUM(s1_carrier_1a.LINE_NCH_PMT_AMT_5)  FROM s1_ben_sum_2009  LEFT JOIN s1_carrier_1a  ON s1_ben_sum_2009.DESYNPUF_ID=s1_carrier_1a.DESYNPUF_ID  JOIN s1_carrier_1b  ON s1_ben_sum_2009.DESYNPUF_ID=s1_carrier_1b.DESYNPUF_ID  JOIN s1_outpatient  ON s1_ben_sum_2009.DESYNPUF_ID=s1_outpatient.DESYNPUF_ID  LEFT JOIN s1_prescrp  ON s1_ben_sum_2009.DESYNPUF_ID=s1_prescrp.DESYNPUF_ID  GROUP BY s1_carrier_1a.ICD9_DGNS_CD_3, s1_carrier_1b.LINE_ICD9_DGNS_CD_7\n"
     ]
    }
   ],
   "source": [
    "#Single Agg\n",
    "\n",
    "# self.max_in_terms=2\n",
    "self.no_groupby_vars=2\n",
    "# self.no_where_vars=2\n",
    "# self.no_join_tables=np.nan\n",
    "\n",
    "\n",
    "rnd_query=self.make_single_agg_query(agg_fntn=True)\n",
    "n_rows=rnd_query['query_desc']['n_rows']\n",
    "n_cols=rnd_query['query_desc']['n_cols']\n",
    "\n",
    "print(f\"no_of_rows={n_rows}\\nno_of_cols={n_cols}\\nproduct={n_rows*n_cols/1000}\")\n",
    "print(\"\\n\")\n",
    "print(rnd_query['query_desc']['sql'])"
   ]
  },
  {
   "cell_type": "code",
   "execution_count": 52,
   "metadata": {},
   "outputs": [
    {
     "name": "stdout",
     "output_type": "stream",
     "text": [
      "SELECT s1_carrier_1b.LINE_BENE_PTB_DDCTBL_AMT_8, s1_carrier_1b.LINE_PRCSG_IND_CD_11, COUNT(*), MAX(s1_inpatient.HCPCS_CD_35)  FROM s1_ben_sum_2009  LEFT JOIN s1_inpatient  ON s1_ben_sum_2009.DESYNPUF_ID=s1_inpatient.DESYNPUF_ID  JOIN s1_carrier_1b  ON s1_ben_sum_2009.DESYNPUF_ID=s1_carrier_1b.DESYNPUF_ID  GROUP BY s1_carrier_1b.LINE_BENE_PTB_DDCTBL_AMT_8, s1_carrier_1b.LINE_PRCSG_IND_CD_11\n",
      "REAL:\n",
      "no_of_rows=0\n",
      "no_of_cols=4\n",
      "product=0.0\n",
      "\n",
      "\n",
      "SYN:\n",
      "no_of_rows=0\n",
      "no_of_cols=4\n",
      "product=0.0\n",
      "\n",
      "\n",
      "SELECT s1_carrier_1b.LINE_BENE_PTB_DDCTBL_AMT_8, s1_carrier_1b.LINE_PRCSG_IND_CD_11, COUNT(*), MAX(s1_inpatient.HCPCS_CD_35)  FROM s1_ben_sum_2009  LEFT JOIN s1_inpatient  ON s1_ben_sum_2009.DESYNPUF_ID=s1_inpatient.DESYNPUF_ID  JOIN s1_carrier_1b  ON s1_ben_sum_2009.DESYNPUF_ID=s1_carrier_1b.DESYNPUF_ID  GROUP BY s1_carrier_1b.LINE_BENE_PTB_DDCTBL_AMT_8, s1_carrier_1b.LINE_PRCSG_IND_CD_11\n",
      "\n",
      "\n",
      "SELECT s2_carrier_2b.LINE_BENE_PTB_DDCTBL_AMT_8, s2_carrier_2b.LINE_PRCSG_IND_CD_11, COUNT(*), MAX(s2_inpatient.HCPCS_CD_35)  FROM s2_ben_sum_2009  LEFT JOIN s2_inpatient  ON s2_ben_sum_2009.DESYNPUF_ID=s2_inpatient.DESYNPUF_ID  JOIN s2_carrier_2b  ON s2_ben_sum_2009.DESYNPUF_ID=s2_carrier_2b.DESYNPUF_ID  GROUP BY s2_carrier_2b.LINE_BENE_PTB_DDCTBL_AMT_8, s2_carrier_2b.LINE_PRCSG_IND_CD_11\n"
     ]
    }
   ],
   "source": [
    "# Twin Aggregate\n",
    "\n",
    "# self.max_in_terms=2\n",
    "self.no_groupby_vars=2\n",
    "# self.no_where_vars=2\n",
    "# self.no_join_tables=np.nan\n",
    "\n",
    "syn_tbl_name_lst=['s2_ben_sum_2008','s2_ben_sum_2009','s2_ben_sum_2010','s2_carrier_2a','s2_carrier_2b','s2_inpatient','s2_outpatient','s2_prescrp']\n",
    "rnd_query=self.make_twin_agg_query(syn_tbl_name_lst,agg_fntn=True)\n",
    "\n",
    "n_rows_real=rnd_query['query_desc']['n_rows_real']\n",
    "n_cols_real=rnd_query['query_desc']['n_cols_real']\n",
    "n_rows_syn=rnd_query['query_desc']['n_rows_syn']\n",
    "n_cols_syn=rnd_query['query_desc']['n_cols_syn']\n",
    "\n",
    "print(f\"REAL:\\nno_of_rows={n_rows_real}\\nno_of_cols={n_cols_real}\\nproduct={n_rows_real*n_cols_real/1000}\\n\\n\")\n",
    "print(f\"SYN:\\nno_of_rows={n_rows_syn}\\nno_of_cols={n_cols_syn}\\nproduct={n_rows_syn*n_cols_syn/1000}\\n\\n\")\n",
    "print(rnd_query['query_desc']['sql_real'])\n",
    "print(\"\\n\")\n",
    "print(rnd_query['query_desc']['sql_syn'])\n"
   ]
  },
  {
   "cell_type": "code",
   "execution_count": 53,
   "metadata": {},
   "outputs": [
    {
     "name": "stdout",
     "output_type": "stream",
     "text": [
      "SELECT *  FROM s1_ben_sum_2010  LEFT JOIN s1_prescrp  ON s1_ben_sum_2010.DESYNPUF_ID=s1_prescrp.DESYNPUF_ID  LEFT JOIN s1_outpatient  ON s1_ben_sum_2010.DESYNPUF_ID=s1_outpatient.DESYNPUF_ID  WHERE   s1_outpatient.HCPCS_CD_19 <> '80076' AND  s1_ben_sum_2010.BENE_SMI_CVRAGE_TOT_MONS NOT IN ('8', '12') \n",
      "no_of_rows=8\n",
      "no_of_cols=116\n",
      "product=0.928\n",
      "\n",
      "\n",
      "SELECT *  FROM s1_ben_sum_2010  LEFT JOIN s1_prescrp  ON s1_ben_sum_2010.DESYNPUF_ID=s1_prescrp.DESYNPUF_ID  LEFT JOIN s1_outpatient  ON s1_ben_sum_2010.DESYNPUF_ID=s1_outpatient.DESYNPUF_ID  WHERE   s1_outpatient.HCPCS_CD_19 <> '80076' AND  s1_ben_sum_2010.BENE_SMI_CVRAGE_TOT_MONS NOT IN ('8', '12') \n"
     ]
    }
   ],
   "source": [
    "# Single Filter\n",
    "\n",
    "# self.max_in_terms=2\n",
    "# self.no_groupby_vars=2\n",
    "self.no_where_vars=2\n",
    "self.no_join_tables=2\n",
    "\n",
    "rnd_query=self.make_single_fltr_query()\n",
    "\n",
    "\n",
    "n_rows=rnd_query['query_desc']['n_rows']\n",
    "n_cols=rnd_query['query_desc']['n_cols']\n",
    "\n",
    "print(f\"no_of_rows={n_rows}\\nno_of_cols={n_cols}\\nproduct={n_rows*n_cols/1000}\")\n",
    "print(\"\\n\")\n",
    "print(rnd_query['query_desc']['sql'])"
   ]
  },
  {
   "cell_type": "code",
   "execution_count": 54,
   "metadata": {},
   "outputs": [
    {
     "name": "stdout",
     "output_type": "stream",
     "text": [
      "SELECT *  FROM s1_ben_sum_2008  JOIN s1_carrier_1b  ON s1_ben_sum_2008.DESYNPUF_ID=s1_carrier_1b.DESYNPUF_ID  LEFT JOIN s1_prescrp  ON s1_ben_sum_2008.DESYNPUF_ID=s1_prescrp.DESYNPUF_ID  WHERE  NOT  s1_carrier_1b.PRF_PHYSN_NPI_8 NOT IN ('8847073348', '3655638626', '2932184428') AND NOT  s1_carrier_1b.LINE_PRCSG_IND_CD_11 <> 'A' \n",
      "REAL:\n",
      "no_of_rows=0\n",
      "no_of_cols=182\n",
      "product=0.0\n",
      "\n",
      "\n",
      "SYN:\n",
      "no_of_rows=0\n",
      "no_of_cols=182\n",
      "product=0.0\n",
      "\n",
      "\n",
      "SELECT *  FROM s1_ben_sum_2008  JOIN s1_carrier_1b  ON s1_ben_sum_2008.DESYNPUF_ID=s1_carrier_1b.DESYNPUF_ID  LEFT JOIN s1_prescrp  ON s1_ben_sum_2008.DESYNPUF_ID=s1_prescrp.DESYNPUF_ID  WHERE  NOT  s1_carrier_1b.PRF_PHYSN_NPI_8 NOT IN ('8847073348', '3655638626', '2932184428') AND NOT  s1_carrier_1b.LINE_PRCSG_IND_CD_11 <> 'A' \n",
      "\n",
      "\n",
      "SELECT *  FROM s2_ben_sum_2008  JOIN s2_carrier_2b  ON s2_ben_sum_2008.DESYNPUF_ID=s2_carrier_2b.DESYNPUF_ID  LEFT JOIN s2_prescrp  ON s2_ben_sum_2008.DESYNPUF_ID=s2_prescrp.DESYNPUF_ID  WHERE  NOT  s2_carrier_2b.PRF_PHYSN_NPI_8 NOT IN ('8847073348', '3655638626', '2932184428') AND NOT  s2_carrier_2b.LINE_PRCSG_IND_CD_11 <> 'A' \n"
     ]
    }
   ],
   "source": [
    "# Twin Filter\n",
    "\n",
    "self.no_where_vars=2\n",
    "\n",
    "syn_tbl_name_lst=['s2_ben_sum_2008','s2_ben_sum_2009','s2_ben_sum_2010','s2_carrier_2a','s2_carrier_2b','s2_inpatient','s2_outpatient','s2_prescrp']\n",
    "rnd_query=self.make_twin_fltr_query(syn_tbl_name_lst)\n",
    "\n",
    "n_rows_real=rnd_query['query_desc']['n_rows_real']\n",
    "n_cols_real=rnd_query['query_desc']['n_cols_real']\n",
    "n_rows_syn=rnd_query['query_desc']['n_rows_syn']\n",
    "n_cols_syn=rnd_query['query_desc']['n_cols_syn']\n",
    "\n",
    "print(f\"REAL:\\nno_of_rows={n_rows_real}\\nno_of_cols={n_cols_real}\\nproduct={n_rows_real*n_cols_real/1000}\\n\\n\")\n",
    "print(f\"SYN:\\nno_of_rows={n_rows_syn}\\nno_of_cols={n_cols_syn}\\nproduct={n_rows_syn*n_cols_syn/1000}\\n\\n\")\n",
    "print(rnd_query['query_desc']['sql_real'])\n",
    "print(\"\\n\")\n",
    "print(rnd_query['query_desc']['sql_syn'])"
   ]
  },
  {
   "cell_type": "code",
   "execution_count": 55,
   "metadata": {},
   "outputs": [
    {
     "data": {
      "text/plain": [
       "{'type': 'twin_fltr',\n",
       " 'from_tbl_name_real': 's1_ben_sum_2008',\n",
       " 'join_tbl_name_lst_real': ['s1_carrier_1b', 's1_prescrp'],\n",
       " 'sql_real': \"SELECT *  FROM s1_ben_sum_2008  JOIN s1_carrier_1b  ON s1_ben_sum_2008.DESYNPUF_ID=s1_carrier_1b.DESYNPUF_ID  LEFT JOIN s1_prescrp  ON s1_ben_sum_2008.DESYNPUF_ID=s1_prescrp.DESYNPUF_ID  WHERE  NOT  s1_carrier_1b.PRF_PHYSN_NPI_8 NOT IN ('8847073348', '3655638626', '2932184428') AND NOT  s1_carrier_1b.LINE_PRCSG_IND_CD_11 <> 'A' \",\n",
       " 'n_cols_real': 182,\n",
       " 'n_rows_real': 0,\n",
       " 'from_tbl_name_syn': 's2_ben_sum_2008',\n",
       " 'join_tbl_name_lst_syn': ['s2_carrier_2b', 's2_prescrp'],\n",
       " 'sql_syn': \"SELECT *  FROM s2_ben_sum_2008  JOIN s2_carrier_2b  ON s2_ben_sum_2008.DESYNPUF_ID=s2_carrier_2b.DESYNPUF_ID  LEFT JOIN s2_prescrp  ON s2_ben_sum_2008.DESYNPUF_ID=s2_prescrp.DESYNPUF_ID  WHERE  NOT  s2_carrier_2b.PRF_PHYSN_NPI_8 NOT IN ('8847073348', '3655638626', '2932184428') AND NOT  s2_carrier_2b.LINE_PRCSG_IND_CD_11 <> 'A' \",\n",
       " 'n_cols_syn': 182,\n",
       " 'n_rows_syn': 0}"
      ]
     },
     "execution_count": 55,
     "metadata": {},
     "output_type": "execute_result"
    }
   ],
   "source": [
    "rnd_query['query_desc']"
   ]
  },
  {
   "cell_type": "code",
   "execution_count": 56,
   "metadata": {},
   "outputs": [
    {
     "name": "stdout",
     "output_type": "stream",
     "text": [
      "SELECT s1_ben_sum_2008.BENRES_OP, s1_outpatient.CLM_PMT_AMT, COUNT(*), MIN(s1_inpatient.HCPCS_CD_44)  FROM s1_ben_sum_2008  JOIN s1_inpatient  ON s1_ben_sum_2008.DESYNPUF_ID=s1_inpatient.DESYNPUF_ID  LEFT JOIN s1_outpatient  ON s1_ben_sum_2008.DESYNPUF_ID=s1_outpatient.DESYNPUF_ID  AND   s1_inpatient.NCH_PRMRY_PYR_CLM_PD_AMT = '0.00' AND NOT  s1_outpatient.CLM_ID <> '542792281105394'  GROUP BY s1_ben_sum_2008.BENRES_OP, s1_outpatient.CLM_PMT_AMT\n",
      "no_of_rows=264\n",
      "no_of_cols=4\n",
      "product=1.056\n",
      "\n",
      "\n",
      "SELECT s1_ben_sum_2008.BENRES_OP, s1_outpatient.CLM_PMT_AMT, COUNT(*), MIN(s1_inpatient.HCPCS_CD_44)  FROM s1_ben_sum_2008  JOIN s1_inpatient  ON s1_ben_sum_2008.DESYNPUF_ID=s1_inpatient.DESYNPUF_ID  LEFT JOIN s1_outpatient  ON s1_ben_sum_2008.DESYNPUF_ID=s1_outpatient.DESYNPUF_ID  AND   s1_inpatient.NCH_PRMRY_PYR_CLM_PD_AMT = '0.00' AND NOT  s1_outpatient.CLM_ID <> '542792281105394'  GROUP BY s1_ben_sum_2008.BENRES_OP, s1_outpatient.CLM_PMT_AMT\n"
     ]
    }
   ],
   "source": [
    "#Single Aggregate-Filter\n",
    "\n",
    "# self.max_in_terms=2\n",
    "self.no_groupby_vars=2\n",
    "# self.no_where_vars=2\n",
    "# self.no_join_tables=np.nan\n",
    "\n",
    "\n",
    "rnd_query=self.make_single_aggfltr_query(agg_fntn=True)\n",
    "n_rows=rnd_query['query_desc']['n_rows']\n",
    "n_cols=rnd_query['query_desc']['n_cols']\n",
    "\n",
    "print(f\"no_of_rows={n_rows}\\nno_of_cols={n_cols}\\nproduct={n_rows*n_cols/1000}\")\n",
    "print(\"\\n\")\n",
    "print(rnd_query['query_desc']['sql'])"
   ]
  },
  {
   "cell_type": "code",
   "execution_count": 57,
   "metadata": {},
   "outputs": [
    {
     "name": "stdout",
     "output_type": "stream",
     "text": [
      "SELECT s1_inpatient.ICD9_PRCDR_CD_4, s1_outpatient.ICD9_PRCDR_CD_2, COUNT(*), SUM(s1_inpatient.HCPCS_CD_34)  FROM s1_ben_sum_2009  JOIN s1_outpatient  ON s1_ben_sum_2009.DESYNPUF_ID=s1_outpatient.DESYNPUF_ID  LEFT JOIN s1_inpatient  ON s1_ben_sum_2009.DESYNPUF_ID=s1_inpatient.DESYNPUF_ID  AND   s1_inpatient.HCPCS_CD_42 < 'N/A' AND  s1_ben_sum_2009.PPPYMT_OP = '0.00'  GROUP BY s1_inpatient.ICD9_PRCDR_CD_4, s1_outpatient.ICD9_PRCDR_CD_2\n",
      "REAL:\n",
      "no_of_rows=3\n",
      "no_of_cols=4\n",
      "product=0.012\n",
      "\n",
      "\n",
      "SYN:\n",
      "no_of_rows=2\n",
      "no_of_cols=4\n",
      "product=0.008\n",
      "\n",
      "\n",
      "SELECT s1_inpatient.ICD9_PRCDR_CD_4, s1_outpatient.ICD9_PRCDR_CD_2, COUNT(*), SUM(s1_inpatient.HCPCS_CD_34)  FROM s1_ben_sum_2009  JOIN s1_outpatient  ON s1_ben_sum_2009.DESYNPUF_ID=s1_outpatient.DESYNPUF_ID  LEFT JOIN s1_inpatient  ON s1_ben_sum_2009.DESYNPUF_ID=s1_inpatient.DESYNPUF_ID  AND   s1_inpatient.HCPCS_CD_42 < 'N/A' AND  s1_ben_sum_2009.PPPYMT_OP = '0.00'  GROUP BY s1_inpatient.ICD9_PRCDR_CD_4, s1_outpatient.ICD9_PRCDR_CD_2\n",
      "\n",
      "\n",
      "SELECT s2_inpatient.ICD9_PRCDR_CD_4, s2_outpatient.ICD9_PRCDR_CD_2, COUNT(*), SUM(s2_inpatient.HCPCS_CD_34)  FROM s2_ben_sum_2009  JOIN s2_outpatient  ON s2_ben_sum_2009.DESYNPUF_ID=s2_outpatient.DESYNPUF_ID  LEFT JOIN s2_inpatient  ON s2_ben_sum_2009.DESYNPUF_ID=s2_inpatient.DESYNPUF_ID  AND   s2_inpatient.HCPCS_CD_42 < 'N/A' AND  s2_ben_sum_2009.PPPYMT_OP = '0.00'  GROUP BY s2_inpatient.ICD9_PRCDR_CD_4, s2_outpatient.ICD9_PRCDR_CD_2\n"
     ]
    }
   ],
   "source": [
    "# Twin Aggregate-Filter\n",
    "\n",
    "# self.max_in_terms=2\n",
    "self.no_groupby_vars=2\n",
    "# self.no_where_vars=2\n",
    "# self.no_join_tables=np.nan\n",
    "\n",
    "syn_tbl_name_lst=['s2_ben_sum_2008','s2_ben_sum_2009','s2_ben_sum_2010','s2_carrier_2a','s2_carrier_2b','s2_inpatient','s2_outpatient','s2_prescrp']\n",
    "rnd_query=self.make_twin_aggfltr_query(syn_tbl_name_lst,agg_fntn=True)\n",
    "\n",
    "n_rows_real=rnd_query['query_desc']['n_rows_real']\n",
    "n_cols_real=rnd_query['query_desc']['n_cols_real']\n",
    "n_rows_syn=rnd_query['query_desc']['n_rows_syn']\n",
    "n_cols_syn=rnd_query['query_desc']['n_cols_syn']\n",
    "\n",
    "print(f\"REAL:\\nno_of_rows={n_rows_real}\\nno_of_cols={n_cols_real}\\nproduct={n_rows_real*n_cols_real/1000}\\n\\n\")\n",
    "print(f\"SYN:\\nno_of_rows={n_rows_syn}\\nno_of_cols={n_cols_syn}\\nproduct={n_rows_syn*n_cols_syn/1000}\\n\\n\")\n",
    "print(rnd_query['query_desc']['sql_real'])\n",
    "print(\"\\n\")\n",
    "print(rnd_query['query_desc']['sql_syn'])"
   ]
  },
  {
   "cell_type": "code",
   "execution_count": 58,
   "metadata": {},
   "outputs": [
    {
     "name": "stderr",
     "output_type": "stream",
     "text": [
      "/home/samer/projects/fuzzy_sql/.env_dev/lib/python3.8/site-packages/pandas/core/reshape/merge.py:916: FutureWarning: In a future version, the Index constructor will not infer numeric dtypes when passed object-dtype sequences (matching Series behavior)\n",
      "  key_col = Index(lvals).where(~mask_left, rvals)\n",
      "/home/samer/projects/fuzzy_sql/.env_dev/lib/python3.8/site-packages/pandas/core/reshape/merge.py:916: FutureWarning: In a future version, the Index constructor will not infer numeric dtypes when passed object-dtype sequences (matching Series behavior)\n",
      "  key_col = Index(lvals).where(~mask_left, rvals)\n"
     ]
    }
   ],
   "source": [
    "matched_query=self._match_twin_query(rnd_query)\n",
    "scored_query=self.calc_dist_scores(matched_query)"
   ]
  },
  {
   "cell_type": "code",
   "execution_count": 59,
   "metadata": {},
   "outputs": [
    {
     "data": {
      "text/plain": [
       "{'type': 'twin_agg',\n",
       " 'agg_fntn': ('SUM', 's1_inpatient.HCPCS_CD_34'),\n",
       " 'grpby_vars': ['ICD9_PRCDR_CD_4', 'ICD9_PRCDR_CD_2'],\n",
       " 'from_tbl_name_real': 's1_ben_sum_2009',\n",
       " 'join_tbl_name_lst_real': ['s1_outpatient', 's1_inpatient'],\n",
       " 'sql_real': \"SELECT s1_inpatient.ICD9_PRCDR_CD_4, s1_outpatient.ICD9_PRCDR_CD_2, COUNT(*), SUM(s1_inpatient.HCPCS_CD_34)  FROM s1_ben_sum_2009  JOIN s1_outpatient  ON s1_ben_sum_2009.DESYNPUF_ID=s1_outpatient.DESYNPUF_ID  LEFT JOIN s1_inpatient  ON s1_ben_sum_2009.DESYNPUF_ID=s1_inpatient.DESYNPUF_ID  AND   s1_inpatient.HCPCS_CD_42 < 'N/A' AND  s1_ben_sum_2009.PPPYMT_OP = '0.00'  GROUP BY s1_inpatient.ICD9_PRCDR_CD_4, s1_outpatient.ICD9_PRCDR_CD_2\",\n",
       " 'n_cols_real': 4,\n",
       " 'n_rows_real': 3,\n",
       " 'from_tbl_name_syn': 's2_ben_sum_2009',\n",
       " 'join_tbl_name_lst_syn': ['s2_outpatient', 's2_inpatient'],\n",
       " 'sql_syn': \"SELECT s2_inpatient.ICD9_PRCDR_CD_4, s2_outpatient.ICD9_PRCDR_CD_2, COUNT(*), SUM(s2_inpatient.HCPCS_CD_34)  FROM s2_ben_sum_2009  JOIN s2_outpatient  ON s2_ben_sum_2009.DESYNPUF_ID=s2_outpatient.DESYNPUF_ID  LEFT JOIN s2_inpatient  ON s2_ben_sum_2009.DESYNPUF_ID=s2_inpatient.DESYNPUF_ID  AND   s2_inpatient.HCPCS_CD_42 < 'N/A' AND  s2_ben_sum_2009.PPPYMT_OP = '0.00'  GROUP BY s2_inpatient.ICD9_PRCDR_CD_4, s2_outpatient.ICD9_PRCDR_CD_2\",\n",
       " 'n_cols_syn': 4,\n",
       " 'n_rows_syn': 2}"
      ]
     },
     "execution_count": 59,
     "metadata": {},
     "output_type": "execute_result"
    }
   ],
   "source": [
    "matched_query['query_desc']"
   ]
  },
  {
   "cell_type": "code",
   "execution_count": 60,
   "metadata": {},
   "outputs": [
    {
     "data": {
      "text/plain": [
       "0.01156069509366695"
      ]
     },
     "execution_count": 60,
     "metadata": {},
     "output_type": "execute_result"
    }
   ],
   "source": [
    "scored_query['query_hlngr_score']"
   ]
  },
  {
   "cell_type": "code",
   "execution_count": 61,
   "metadata": {},
   "outputs": [
    {
     "data": {
      "text/plain": [
       "nan"
      ]
     },
     "execution_count": 61,
     "metadata": {},
     "output_type": "execute_result"
    }
   ],
   "source": [
    "scored_query['query_ecldn_score']"
   ]
  }
 ],
 "metadata": {
  "kernelspec": {
   "display_name": "Python 3.8.10 ('.env_dev': venv)",
   "language": "python",
   "name": "python3"
  },
  "language_info": {
   "codemirror_mode": {
    "name": "ipython",
    "version": 3
   },
   "file_extension": ".py",
   "mimetype": "text/x-python",
   "name": "python",
   "nbconvert_exporter": "python",
   "pygments_lexer": "ipython3",
   "version": "3.8.10"
  },
  "orig_nbformat": 4,
  "vscode": {
   "interpreter": {
    "hash": "6cf594385e3e378fbba23be52d8fa8a1ff0f44816650af8bcee05fc5c8211531"
   }
  }
 },
 "nbformat": 4,
 "nbformat_minor": 2
}

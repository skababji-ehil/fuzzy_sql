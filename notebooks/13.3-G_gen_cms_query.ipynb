{
 "cells": [
  {
   "cell_type": "code",
   "execution_count": 1,
   "metadata": {},
   "outputs": [],
   "source": [
    "import sys\n",
    "sys.path.append('/home/samer/projects/fuzzy_sql/src') #This will enable reading the modules\n",
    "from pathlib import Path\n",
    "import os\n",
    "import json\n",
    "\n",
    "from fuzzy_sql.rnd_query import RND_QUERY\n",
    "from fuzzy_sql.fuzzy_sql import *"
   ]
  },
  {
   "cell_type": "code",
   "execution_count": 2,
   "metadata": {},
   "outputs": [],
   "source": [
    "#set directories\n",
    "root_dir=Path('/home/samer/projects/fuzzy_sql')\n",
    "metadata_dir=os.path.join(root_dir,'data/cms/processed/metadata')\n",
    "db_path=os.path.join(root_dir,'db/cms.db')"
   ]
  },
  {
   "cell_type": "code",
   "execution_count": 3,
   "metadata": {},
   "outputs": [],
   "source": [
    "#define input tables and metadata\n",
    "tbl_names_lst=['s1_ben_sum_2008','s1_ben_sum_2009','s1_ben_sum_2010','s1_carrier_1a','s1_carrier_1b','s1_inpatient','s1_outpatient','s1_prescrp']\n",
    "\n",
    "metadata_lst=[]\n",
    "for tbl_name in tbl_names_lst:\n",
    "    with open(os.path.join(metadata_dir,tbl_name+'.json'),'r') as f:\n",
    "        metadata_lst.append(json.load(f))"
   ]
  },
  {
   "cell_type": "code",
   "execution_count": 4,
   "metadata": {},
   "outputs": [
    {
     "name": "stdout",
     "output_type": "stream",
     "text": [
      "Metadata fot table s1_ben_sum_2008 validated.\n",
      "Metadata fot table s1_ben_sum_2009 validated.\n",
      "Metadata fot table s1_ben_sum_2010 validated.\n",
      "Metadata fot table s1_carrier_1a validated.\n",
      "Metadata fot table s1_carrier_1b validated.\n",
      "Metadata fot table s1_inpatient validated.\n",
      "Metadata fot table s1_outpatient validated.\n",
      "Metadata fot table s1_prescrp validated.\n"
     ]
    }
   ],
   "source": [
    "# #setup parameters\n",
    "# DFLT_PARAMS={\n",
    "#     'AGG_OPS':{'AVG':0.5, 'SUM':0.3, 'MAX':0.1, 'MIN':0.1 },\n",
    "#     'LOGIC_OPS':{'AND':0.9,'OR':0.1},\n",
    "#     'NOT_STATE':{'0':0.8, '1':0.2},\n",
    "#     'CAT_OPS':{'=':0.25, '<>':0.25, 'LIKE':0.15, 'IN':0.15, 'NOT LIKE':0.1, 'NOT IN':0.1},\n",
    "#     'CNT_OPS':{'=':0.2, '>':0.1, '<':0.1, '>=':0.1, '<=':0.1, '<>':0.1, 'BETWEEN':0.2, 'NOT BETWEEN':0.1},\n",
    "#     'DT_OPS':{'=':0.2, '>':0.1, '<':0.1, '>=':0, '<=':0, '<>':0.1, 'BETWEEN':0.2, 'IN':0.1, 'NOT BETWEEN':0.1, 'NOT IN':0.1},\n",
    "#     'LESS_GRP_VARS': False, # enforce bias in random queries toward smaller number of groupby vars. Default is no bias (i.e. uniform sampling)\n",
    "#     'LESS_CMP_VARS':False, # enforce bias in random queries toward small number of  comparison terms. Default is no bias (i.e. uniform sampling)\n",
    "#     'JOIN_CNDTN':{'WHERE':0.5, 'AND':0.5} #Use WHERE or AND with JOIN CLAUSE\n",
    "# }\n",
    "\n",
    "#setup parameters\n",
    "DFLT_PARAMS={\n",
    "    'AGG_OPS':{'AVG':0.5, 'SUM':0.3, 'MAX':0.1, 'MIN':0.1 },\n",
    "    'LOGIC_OPS':{'AND':0.9,'OR':0.1},\n",
    "    'NOT_STATE':{'0':0.8, '1':0.2},\n",
    "    'CAT_OPS':{'=':0.25, '<>':0.25, 'LIKE':0.15, 'IN':0.15, 'NOT LIKE':0.1, 'NOT IN':0.1},\n",
    "    'CNT_OPS':{'=':0.2, '>':0.1, '<':0.1, '>=':0.1, '<=':0.1, '<>':0.1, 'BETWEEN':0.2, 'NOT BETWEEN':0.1},\n",
    "    'DT_OPS':{'=':0.2, '>':0.1, '<':0.1, '>=':0, '<=':0, '<>':0.1, 'BETWEEN':0.2, 'IN':0.1, 'NOT BETWEEN':0.1, 'NOT IN':0.1},\n",
    "    'FILTER_TYPE':{'WHERE':0.5, 'AND':0.5}, #Use WHERE or AND with JOIN CLAUSE\n",
    "    'JOIN_TYPE': {'JOIN':0.5, 'LEFT JOIN':0.5}\n",
    "}\n",
    "\n",
    "#connect to db\n",
    "conn = sqlite3.connect(db_path)\n",
    "\n",
    "self=RND_QUERY(conn, tbl_names_lst, metadata_lst,DFLT_PARAMS)"
   ]
  },
  {
   "cell_type": "markdown",
   "metadata": {},
   "source": [
    "# Generate Random  queries "
   ]
  },
  {
   "cell_type": "code",
   "execution_count": 5,
   "metadata": {},
   "outputs": [
    {
     "name": "stdout",
     "output_type": "stream",
     "text": [
      "no_of_rows=0\n",
      "no_of_cols=375\n",
      "product=0.0\n",
      "\n",
      "\n",
      "SELECT s1_outpatient.HCPCS_CD_35, s1_ben_sum_2010.SP_CHF, s1_carrier_1a.ICD9_DGNS_CD_1, s1_carrier_1a.LINE_BENE_PTB_DDCTBL_AMT_10, s1_outpatient.HCPCS_CD_11, s1_carrier_1a.LINE_BENE_PTB_DDCTBL_AMT_5, s1_outpatient.HCPCS_CD_20, s1_carrier_1b.LINE_PRCSG_IND_CD_1, s1_carrier_1b.CLM_THRU_DT, s1_inpatient.ICD9_DGNS_CD_5, s1_outpatient.OP_PHYSN_NPI, s1_carrier_1b.CLM_FROM_DT, s1_carrier_1a.LINE_BENE_PRMRY_PYR_PD_AMT_7, s1_carrier_1b.LINE_ALOWD_CHRG_AMT_3, s1_ben_sum_2010.BENE_HMO_CVRAGE_TOT_MONS, s1_carrier_1a.LINE_ICD9_DGNS_CD_13, s1_outpatient.ICD9_DGNS_CD_2, s1_carrier_1b.HCPCS_CD_8, s1_carrier_1a.LINE_COINSRNC_AMT_12, s1_outpatient.HCPCS_CD_19, s1_outpatient.HCPCS_CD_33, s1_carrier_1b.LINE_BENE_PTB_DDCTBL_AMT_9, s1_outpatient.HCPCS_CD_12, s1_ben_sum_2010.PPPYMT_CAR, s1_carrier_1b.HCPCS_CD_6, s1_outpatient.ICD9_PRCDR_CD_2, s1_carrier_1b.TAX_NUM_4, s1_carrier_1b.LINE_BENE_PTB_DDCTBL_AMT_7, s1_carrier_1a.LINE_PRCSG_IND_CD_2, s1_carrier_1b.PRF_PHYSN_NPI_12, s1_carrier_1b.LINE_ICD9_DGNS_CD_1, s1_carrier_1b.LINE_ALOWD_CHRG_AMT_13, s1_carrier_1b.TAX_NUM_1, s1_carrier_1a.HCPCS_CD_4, s1_ben_sum_2010.SP_ALZHDMTA, s1_carrier_1b.LINE_BENE_PTB_DDCTBL_AMT_1, s1_carrier_1b.LINE_ICD9_DGNS_CD_7, s1_outpatient.HCPCS_CD_43, s1_inpatient.ICD9_PRCDR_CD_4, s1_carrier_1b.HCPCS_CD_9, s1_carrier_1b.LINE_COINSRNC_AMT_2, s1_carrier_1b.HCPCS_CD_5, s1_carrier_1a.LINE_PRCSG_IND_CD_7, s1_outpatient.ICD9_DGNS_CD_5, s1_carrier_1a.LINE_BENE_PRMRY_PYR_PD_AMT_10, s1_carrier_1b.LINE_ALOWD_CHRG_AMT_9, s1_carrier_1a.LINE_PRCSG_IND_CD_6, s1_carrier_1a.LINE_ICD9_DGNS_CD_10, s1_inpatient.CLM_DRG_CD, s1_carrier_1b.LINE_COINSRNC_AMT_6, s1_outpatient.ICD9_DGNS_CD_10, s1_inpatient.ICD9_DGNS_CD_9, s1_outpatient.ICD9_DGNS_CD_6, s1_carrier_1b.LINE_COINSRNC_AMT_10, s1_outpatient.HCPCS_CD_3, s1_inpatient.ICD9_PRCDR_CD_2, s1_carrier_1a.TAX_NUM_1, s1_carrier_1b.HCPCS_CD_7, s1_ben_sum_2010.BENE_RACE_CD, s1_outpatient.NCH_BENE_PTB_DDCTBL_AMT, s1_carrier_1a.HCPCS_CD_7, s1_carrier_1b.LINE_NCH_PMT_AMT_5, s1_carrier_1b.ICD9_DGNS_CD_8, s1_carrier_1b.LINE_BENE_PRMRY_PYR_PD_AMT_5, s1_carrier_1a.LINE_BENE_PRMRY_PYR_PD_AMT_12, s1_outpatient.PRVDR_NUM, s1_carrier_1b.LINE_BENE_PRMRY_PYR_PD_AMT_13, s1_carrier_1a.LINE_BENE_PTB_DDCTBL_AMT_9, s1_outpatient.HCPCS_CD_17, s1_carrier_1b.LINE_COINSRNC_AMT_5, s1_carrier_1b.LINE_BENE_PTB_DDCTBL_AMT_13, s1_carrier_1b.ICD9_DGNS_CD_7, s1_carrier_1b.LINE_ICD9_DGNS_CD_13, s1_ben_sum_2010.BENE_ESRD_IND, s1_carrier_1a.LINE_ICD9_DGNS_CD_2, s1_carrier_1a.HCPCS_CD_13, s1_carrier_1a.LINE_COINSRNC_AMT_13, s1_carrier_1a.ICD9_DGNS_CD_5, s1_ben_sum_2010.SP_COPD, s1_carrier_1b.LINE_BENE_PRMRY_PYR_PD_AMT_8, s1_inpatient.NCH_BENE_DSCHRG_DT, s1_outpatient.HCPCS_CD_5, s1_carrier_1a.LINE_BENE_PTB_DDCTBL_AMT_6, s1_ben_sum_2010.MEDREIMB_CAR, s1_ben_sum_2010.SP_DIABETES, s1_outpatient.HCPCS_CD_30, s1_carrier_1a.LINE_ALOWD_CHRG_AMT_7, s1_inpatient.NCH_BENE_BLOOD_DDCTBL_LBLTY_AM, s1_outpatient.ICD9_DGNS_CD_4, s1_outpatient.HCPCS_CD_40, s1_carrier_1b.PRF_PHYSN_NPI_10, s1_carrier_1a.LINE_ICD9_DGNS_CD_11, s1_carrier_1a.LINE_ALOWD_CHRG_AMT_10, s1_carrier_1a.ICD9_DGNS_CD_8, s1_outpatient.HCPCS_CD_29, s1_carrier_1a.LINE_COINSRNC_AMT_1, s1_carrier_1b.LINE_NCH_PMT_AMT_9, s1_carrier_1a.LINE_COINSRNC_AMT_3, s1_inpatient.NCH_PRMRY_PYR_CLM_PD_AMT, s1_carrier_1a.LINE_NCH_PMT_AMT_11, s1_carrier_1b.LINE_COINSRNC_AMT_11, s1_outpatient.HCPCS_CD_34, s1_prescrp.SRVC_DT, s1_carrier_1b.LINE_PRCSG_IND_CD_12, s1_carrier_1b.TAX_NUM_13, s1_carrier_1a.LINE_PRCSG_IND_CD_12, s1_outpatient.HCPCS_CD_6, s1_carrier_1b.LINE_PRCSG_IND_CD_4, s1_outpatient.ICD9_DGNS_CD_8, s1_outpatient.HCPCS_CD_2, s1_carrier_1a.LINE_BENE_PRMRY_PYR_PD_AMT_13, s1_outpatient.NCH_BENE_BLOOD_DDCTBL_LBLTY_AM, s1_inpatient.ICD9_DGNS_CD_3, s1_carrier_1b.LINE_PRCSG_IND_CD_5, s1_carrier_1b.HCPCS_CD_10, s1_inpatient.ICD9_DGNS_CD_4, s1_inpatient.CLM_UTLZTN_DAY_CNT, s1_carrier_1a.LINE_PRCSG_IND_CD_10, s1_carrier_1b.LINE_BENE_PTB_DDCTBL_AMT_10, s1_carrier_1b.PRF_PHYSN_NPI_2, s1_carrier_1a.LINE_BENE_PTB_DDCTBL_AMT_12, s1_outpatient.ICD9_DGNS_CD_9, s1_carrier_1b.LINE_BENE_PRMRY_PYR_PD_AMT_9, s1_carrier_1a.LINE_ALOWD_CHRG_AMT_12, s1_carrier_1a.ICD9_DGNS_CD_2, s1_carrier_1b.LINE_NCH_PMT_AMT_4, s1_carrier_1a.LINE_BENE_PRMRY_PYR_PD_AMT_8, s1_carrier_1b.TAX_NUM_10, s1_carrier_1b.LINE_ICD9_DGNS_CD_2, s1_carrier_1a.LINE_ALOWD_CHRG_AMT_4, s1_carrier_1a.HCPCS_CD_5, s1_inpatient.ICD9_PRCDR_CD_3, s1_carrier_1b.TAX_NUM_7, s1_carrier_1a.LINE_BENE_PRMRY_PYR_PD_AMT_2, s1_outpatient.HCPCS_CD_41, s1_carrier_1a.LINE_BENE_PRMRY_PYR_PD_AMT_6, s1_carrier_1b.LINE_ALOWD_CHRG_AMT_5, s1_outpatient.HCPCS_CD_4, s1_outpatient.HCPCS_CD_37, s1_carrier_1b.LINE_COINSRNC_AMT_1, s1_carrier_1b.PRF_PHYSN_NPI_8, s1_carrier_1b.LINE_BENE_PTB_DDCTBL_AMT_5, s1_carrier_1a.LINE_BENE_PTB_DDCTBL_AMT_2, s1_carrier_1b.TAX_NUM_8, s1_carrier_1b.HCPCS_CD_12, s1_carrier_1a.ICD9_DGNS_CD_6, s1_carrier_1b.LINE_ICD9_DGNS_CD_3, s1_carrier_1b.LINE_NCH_PMT_AMT_1, s1_inpatient.CLM_PMT_AMT, s1_carrier_1b.LINE_PRCSG_IND_CD_10, s1_prescrp.PDE_ID, s1_inpatient.ICD9_DGNS_CD_8, s1_carrier_1b.HCPCS_CD_4, s1_carrier_1b.LINE_PRCSG_IND_CD_11, s1_carrier_1b.ICD9_DGNS_CD_3, s1_carrier_1b.LINE_BENE_PRMRY_PYR_PD_AMT_2, s1_carrier_1b.LINE_BENE_PTB_DDCTBL_AMT_4, s1_carrier_1b.PRF_PHYSN_NPI_9, s1_ben_sum_2010.BENE_BIRTH_DT, s1_ben_sum_2010.SP_CHRNKIDN, s1_outpatient.ADMTNG_ICD9_DGNS_CD, s1_carrier_1b.LINE_ICD9_DGNS_CD_5, s1_carrier_1a.LINE_BENE_PTB_DDCTBL_AMT_13, s1_carrier_1b.LINE_ALOWD_CHRG_AMT_2, s1_ben_sum_2010.MEDREIMB_IP, s1_outpatient.ICD9_PRCDR_CD_3, s1_carrier_1a.LINE_PRCSG_IND_CD_5, s1_outpatient.HCPCS_CD_21, s1_carrier_1a.LINE_ICD9_DGNS_CD_8, s1_carrier_1b.LINE_ALOWD_CHRG_AMT_11, s1_outpatient.HCPCS_CD_7, s1_outpatient.HCPCS_CD_22, s1_outpatient.HCPCS_CD_15, s1_carrier_1a.LINE_ALOWD_CHRG_AMT_6, s1_carrier_1a.LINE_PRCSG_IND_CD_11, s1_inpatient.CLM_THRU_DT, s1_carrier_1b.LINE_ICD9_DGNS_CD_10, s1_outpatient.ICD9_DGNS_CD_7, s1_carrier_1b.LINE_ICD9_DGNS_CD_8, s1_carrier_1b.HCPCS_CD_1, s1_carrier_1b.LINE_ALOWD_CHRG_AMT_6, s1_outpatient.HCPCS_CD_16, s1_ben_sum_2010.BENE_SMI_CVRAGE_TOT_MONS, s1_carrier_1b.ICD9_DGNS_CD_5, s1_carrier_1a.ICD9_DGNS_CD_7, s1_carrier_1a.ICD9_DGNS_CD_3, s1_outpatient.HCPCS_CD_42, s1_inpatient.OP_PHYSN_NPI, s1_carrier_1b.LINE_BENE_PTB_DDCTBL_AMT_3, s1_carrier_1b.LINE_BENE_PRMRY_PYR_PD_AMT_12, s1_outpatient.ICD9_DGNS_CD_1, s1_carrier_1b.LINE_BENE_PRMRY_PYR_PD_AMT_7, s1_inpatient.OT_PHYSN_NPI, s1_carrier_1b.LINE_BENE_PRMRY_PYR_PD_AMT_3, s1_carrier_1b.LINE_PRCSG_IND_CD_2, s1_carrier_1b.TAX_NUM_5, s1_carrier_1a.CLM_THRU_DT, s1_carrier_1a.LINE_ICD9_DGNS_CD_9, s1_outpatient.HCPCS_CD_8, s1_carrier_1a.LINE_PRCSG_IND_CD_8, s1_carrier_1a.LINE_ICD9_DGNS_CD_7, s1_carrier_1b.PRF_PHYSN_NPI_13, s1_carrier_1b.LINE_ICD9_DGNS_CD_12, s1_carrier_1b.PRF_PHYSN_NPI_6, s1_carrier_1a.LINE_ALOWD_CHRG_AMT_5, s1_carrier_1a.LINE_NCH_PMT_AMT_13, s1_inpatient.ICD9_DGNS_CD_1, s1_carrier_1b.HCPCS_CD_13, s1_ben_sum_2010.MEDREIMB_OP, s1_carrier_1b.ICD9_DGNS_CD_2, s1_ben_sum_2010.BENE_COUNTY_CD, s1_carrier_1a.LINE_BENE_PTB_DDCTBL_AMT_4, s1_carrier_1b.LINE_BENE_PRMRY_PYR_PD_AMT_4, s1_carrier_1b.LINE_BENE_PTB_DDCTBL_AMT_8, s1_carrier_1a.LINE_BENE_PRMRY_PYR_PD_AMT_11, s1_outpatient.SEGMENT, s1_inpatient.CLM_FROM_DT, s1_carrier_1a.LINE_BENE_PRMRY_PYR_PD_AMT_4, s1_carrier_1b.LINE_ICD9_DGNS_CD_4, s1_carrier_1b.LINE_ALOWD_CHRG_AMT_7, s1_carrier_1b.HCPCS_CD_2, s1_carrier_1b.LINE_NCH_PMT_AMT_8, s1_inpatient.NCH_BENE_PTA_COINSRNC_LBLTY_AM, s1_inpatient.ICD9_DGNS_CD_10, s1_carrier_1a.HCPCS_CD_2, s1_carrier_1b.LINE_ICD9_DGNS_CD_6, s1_carrier_1a.LINE_PRCSG_IND_CD_4, s1_inpatient.PRVDR_NUM, s1_carrier_1a.LINE_COINSRNC_AMT_8, s1_carrier_1b.ICD9_DGNS_CD_4, s1_carrier_1b.LINE_COINSRNC_AMT_13, s1_carrier_1a.LINE_ALOWD_CHRG_AMT_9, s1_carrier_1a.LINE_COINSRNC_AMT_11, s1_outpatient.HCPCS_CD_44, s1_outpatient.HCPCS_CD_25, s1_outpatient.CLM_FROM_DT, s1_carrier_1b.LINE_NCH_PMT_AMT_12, s1_carrier_1b.LINE_ALOWD_CHRG_AMT_1, s1_carrier_1b.PRF_PHYSN_NPI_1, s1_outpatient.HCPCS_CD_26, s1_carrier_1b.PRF_PHYSN_NPI_11, s1_carrier_1b.LINE_ALOWD_CHRG_AMT_10, s1_ben_sum_2010.PPPYMT_OP, s1_ben_sum_2010.BENE_HI_CVRAGE_TOT_MONS, s1_ben_sum_2010.BENRES_OP, s1_carrier_1a.LINE_BENE_PRMRY_PYR_PD_AMT_3, s1_carrier_1b.CLM_ID, s1_carrier_1b.LINE_BENE_PTB_DDCTBL_AMT_11, s1_outpatient.HCPCS_CD_10, s1_ben_sum_2010.BENRES_IP, s1_outpatient.HCPCS_CD_18, s1_carrier_1b.LINE_NCH_PMT_AMT_7, s1_ben_sum_2010.SP_STRKETIA, s1_carrier_1a.LINE_ALOWD_CHRG_AMT_13, s1_outpatient.ICD9_PRCDR_CD_1, s1_carrier_1b.LINE_COINSRNC_AMT_4, s1_carrier_1b.TAX_NUM_11, s1_carrier_1a.LINE_PRCSG_IND_CD_13, s1_carrier_1a.LINE_PRCSG_IND_CD_3, s1_outpatient.HCPCS_CD_24, s1_carrier_1a.LINE_COINSRNC_AMT_6, s1_inpatient.ICD9_DGNS_CD_6, s1_carrier_1b.LINE_ICD9_DGNS_CD_9, s1_carrier_1b.LINE_BENE_PRMRY_PYR_PD_AMT_6, s1_carrier_1a.LINE_ICD9_DGNS_CD_4, s1_carrier_1a.LINE_BENE_PRMRY_PYR_PD_AMT_1, s1_carrier_1a.ICD9_DGNS_CD_4, s1_inpatient.ICD9_PRCDR_CD_5, s1_ben_sum_2010.PPPYMT_IP, s1_carrier_1a.LINE_COINSRNC_AMT_5, s1_carrier_1a.HCPCS_CD_6, s1_carrier_1a.HCPCS_CD_3, s1_carrier_1b.LINE_BENE_PRMRY_PYR_PD_AMT_11, s1_carrier_1a.LINE_ICD9_DGNS_CD_3, s1_carrier_1b.LINE_NCH_PMT_AMT_3, s1_ben_sum_2010.SP_OSTEOPRS, s1_inpatient.ICD9_PRCDR_CD_1, s1_carrier_1a.LINE_BENE_PTB_DDCTBL_AMT_1, s1_carrier_1a.LINE_COINSRNC_AMT_10, s1_prescrp.DAYS_SUPLY_NUM, s1_carrier_1a.LINE_ICD9_DGNS_CD_1, s1_outpatient.HCPCS_CD_1, s1_carrier_1b.LINE_PRCSG_IND_CD_3, s1_ben_sum_2010.BENRES_CAR, s1_outpatient.HCPCS_CD_39, s1_carrier_1b.LINE_PRCSG_IND_CD_9, s1_ben_sum_2010.SP_DEPRESSN, s1_outpatient.HCPCS_CD_27, s1_outpatient.NCH_BENE_PTB_COINSRNC_AMT, s1_inpatient.CLM_ID, s1_carrier_1a.LINE_BENE_PRMRY_PYR_PD_AMT_9, s1_carrier_1a.LINE_BENE_PTB_DDCTBL_AMT_8, s1_carrier_1b.LINE_BENE_PTB_DDCTBL_AMT_2, s1_ben_sum_2010.SP_STATE_CODE, s1_ben_sum_2010.SP_RA_OA, s1_inpatient.CLM_ADMSN_DT, s1_carrier_1a.LINE_ALOWD_CHRG_AMT_2, s1_carrier_1a.CLM_FROM_DT, s1_carrier_1b.LINE_COINSRNC_AMT_9, s1_carrier_1a.HCPCS_CD_10, s1_carrier_1a.LINE_NCH_PMT_AMT_12, s1_carrier_1b.PRF_PHYSN_NPI_3, s1_outpatient.HCPCS_CD_14, s1_outpatient.HCPCS_CD_36, s1_carrier_1b.ICD9_DGNS_CD_6, s1_carrier_1b.PRF_PHYSN_NPI_4, s1_carrier_1a.LINE_COINSRNC_AMT_2, s1_outpatient.HCPCS_CD_23, s1_carrier_1b.LINE_PRCSG_IND_CD_8, s1_carrier_1b.LINE_BENE_PTB_DDCTBL_AMT_6, s1_ben_sum_2010.SP_CNCR, s1_carrier_1b.LINE_ALOWD_CHRG_AMT_8, s1_ben_sum_2010.BENE_SEX_IDENT_CD, s1_carrier_1b.LINE_BENE_PTB_DDCTBL_AMT_12, s1_carrier_1a.LINE_ALOWD_CHRG_AMT_1, s1_outpatient.HCPCS_CD_13, s1_carrier_1b.LINE_NCH_PMT_AMT_6, s1_carrier_1b.PRF_PHYSN_NPI_7, s1_carrier_1a.LINE_ICD9_DGNS_CD_5, s1_outpatient.HCPCS_CD_28, s1_ben_sum_2010.SP_ISCHMCHT, s1_carrier_1b.LINE_COINSRNC_AMT_7, s1_carrier_1b.LINE_COINSRNC_AMT_8, s1_carrier_1a.LINE_BENE_PTB_DDCTBL_AMT_11, s1_carrier_1a.LINE_PRCSG_IND_CD_9, s1_carrier_1a.LINE_BENE_PRMRY_PYR_PD_AMT_5, s1_carrier_1b.HCPCS_CD_11, s1_carrier_1a.LINE_ICD9_DGNS_CD_12, s1_carrier_1b.ICD9_DGNS_CD_1, s1_carrier_1a.LINE_COINSRNC_AMT_9, s1_carrier_1b.LINE_ALOWD_CHRG_AMT_12, s1_carrier_1a.LINE_ALOWD_CHRG_AMT_11, s1_inpatient.ICD9_DGNS_CD_7, s1_carrier_1b.TAX_NUM_12, s1_carrier_1b.LINE_ICD9_DGNS_CD_11, s1_outpatient.HCPCS_CD_9, s1_carrier_1a.LINE_ALOWD_CHRG_AMT_8, s1_inpatient.ADMTNG_ICD9_DGNS_CD, s1_inpatient.NCH_BENE_IP_DDCTBL_AMT, s1_carrier_1a.HCPCS_CD_11, s1_inpatient.ICD9_DGNS_CD_2, s1_carrier_1a.LINE_BENE_PTB_DDCTBL_AMT_7, s1_carrier_1b.LINE_NCH_PMT_AMT_13, s1_carrier_1a.LINE_PRCSG_IND_CD_1, s1_carrier_1b.LINE_PRCSG_IND_CD_13, s1_ben_sum_2010.PLAN_CVRG_MOS_NUM, s1_carrier_1b.HCPCS_CD_3, s1_carrier_1b.LINE_NCH_PMT_AMT_2, s1_carrier_1a.LINE_COINSRNC_AMT_4, s1_outpatient.NCH_PRMRY_PYR_CLM_PD_AMT, s1_outpatient.HCPCS_CD_31, s1_carrier_1b.LINE_PRCSG_IND_CD_6, s1_prescrp.PROD_SRVC_ID, s1_carrier_1a.HCPCS_CD_8, s1_carrier_1a.CLM_ID, s1_outpatient.HCPCS_CD_32, s1_carrier_1a.LINE_ALOWD_CHRG_AMT_3, s1_outpatient.CLM_ID, s1_carrier_1b.LINE_PRCSG_IND_CD_7, s1_carrier_1a.HCPCS_CD_1, s1_carrier_1b.LINE_COINSRNC_AMT_3, s1_carrier_1a.LINE_ICD9_DGNS_CD_6, s1_outpatient.CLM_PMT_AMT, s1_carrier_1b.TAX_NUM_9, s1_carrier_1a.LINE_BENE_PTB_DDCTBL_AMT_3, s1_outpatient.HCPCS_CD_38, s1_outpatient.AT_PHYSN_NPI, s1_carrier_1a.LINE_COINSRNC_AMT_7, s1_inpatient.CLM_PASS_THRU_PER_DIEM_AMT, s1_carrier_1b.LINE_BENE_PRMRY_PYR_PD_AMT_1, s1_ben_sum_2010.BENE_DEATH_DT, s1_inpatient.SEGMENT, s1_carrier_1b.TAX_NUM_6, COUNT(*), AVG(s1_carrier_1b.TAX_NUM_3)  FROM s1_ben_sum_2010  LEFT JOIN s1_carrier_1a  ON s1_ben_sum_2010.DESYNPUF_ID=s1_carrier_1a.DESYNPUF_ID  JOIN s1_carrier_1b  ON s1_ben_sum_2010.DESYNPUF_ID=s1_carrier_1b.DESYNPUF_ID  JOIN s1_prescrp  ON s1_ben_sum_2010.DESYNPUF_ID=s1_prescrp.DESYNPUF_ID  LEFT JOIN s1_outpatient  ON s1_ben_sum_2010.DESYNPUF_ID=s1_outpatient.DESYNPUF_ID  LEFT JOIN s1_inpatient  ON s1_ben_sum_2010.DESYNPUF_ID=s1_inpatient.DESYNPUF_ID  GROUP BY s1_outpatient.HCPCS_CD_35, s1_ben_sum_2010.SP_CHF, s1_carrier_1a.ICD9_DGNS_CD_1, s1_carrier_1a.LINE_BENE_PTB_DDCTBL_AMT_10, s1_outpatient.HCPCS_CD_11, s1_carrier_1a.LINE_BENE_PTB_DDCTBL_AMT_5, s1_outpatient.HCPCS_CD_20, s1_carrier_1b.LINE_PRCSG_IND_CD_1, s1_carrier_1b.CLM_THRU_DT, s1_inpatient.ICD9_DGNS_CD_5, s1_outpatient.OP_PHYSN_NPI, s1_carrier_1b.CLM_FROM_DT, s1_carrier_1a.LINE_BENE_PRMRY_PYR_PD_AMT_7, s1_carrier_1b.LINE_ALOWD_CHRG_AMT_3, s1_ben_sum_2010.BENE_HMO_CVRAGE_TOT_MONS, s1_carrier_1a.LINE_ICD9_DGNS_CD_13, s1_outpatient.ICD9_DGNS_CD_2, s1_carrier_1b.HCPCS_CD_8, s1_carrier_1a.LINE_COINSRNC_AMT_12, s1_outpatient.HCPCS_CD_19, s1_outpatient.HCPCS_CD_33, s1_carrier_1b.LINE_BENE_PTB_DDCTBL_AMT_9, s1_outpatient.HCPCS_CD_12, s1_ben_sum_2010.PPPYMT_CAR, s1_carrier_1b.HCPCS_CD_6, s1_outpatient.ICD9_PRCDR_CD_2, s1_carrier_1b.TAX_NUM_4, s1_carrier_1b.LINE_BENE_PTB_DDCTBL_AMT_7, s1_carrier_1a.LINE_PRCSG_IND_CD_2, s1_carrier_1b.PRF_PHYSN_NPI_12, s1_carrier_1b.LINE_ICD9_DGNS_CD_1, s1_carrier_1b.LINE_ALOWD_CHRG_AMT_13, s1_carrier_1b.TAX_NUM_1, s1_carrier_1a.HCPCS_CD_4, s1_ben_sum_2010.SP_ALZHDMTA, s1_carrier_1b.LINE_BENE_PTB_DDCTBL_AMT_1, s1_carrier_1b.LINE_ICD9_DGNS_CD_7, s1_outpatient.HCPCS_CD_43, s1_inpatient.ICD9_PRCDR_CD_4, s1_carrier_1b.HCPCS_CD_9, s1_carrier_1b.LINE_COINSRNC_AMT_2, s1_carrier_1b.HCPCS_CD_5, s1_carrier_1a.LINE_PRCSG_IND_CD_7, s1_outpatient.ICD9_DGNS_CD_5, s1_carrier_1a.LINE_BENE_PRMRY_PYR_PD_AMT_10, s1_carrier_1b.LINE_ALOWD_CHRG_AMT_9, s1_carrier_1a.LINE_PRCSG_IND_CD_6, s1_carrier_1a.LINE_ICD9_DGNS_CD_10, s1_inpatient.CLM_DRG_CD, s1_carrier_1b.LINE_COINSRNC_AMT_6, s1_outpatient.ICD9_DGNS_CD_10, s1_inpatient.ICD9_DGNS_CD_9, s1_outpatient.ICD9_DGNS_CD_6, s1_carrier_1b.LINE_COINSRNC_AMT_10, s1_outpatient.HCPCS_CD_3, s1_inpatient.ICD9_PRCDR_CD_2, s1_carrier_1a.TAX_NUM_1, s1_carrier_1b.HCPCS_CD_7, s1_ben_sum_2010.BENE_RACE_CD, s1_outpatient.NCH_BENE_PTB_DDCTBL_AMT, s1_carrier_1a.HCPCS_CD_7, s1_carrier_1b.LINE_NCH_PMT_AMT_5, s1_carrier_1b.ICD9_DGNS_CD_8, s1_carrier_1b.LINE_BENE_PRMRY_PYR_PD_AMT_5, s1_carrier_1a.LINE_BENE_PRMRY_PYR_PD_AMT_12, s1_outpatient.PRVDR_NUM, s1_carrier_1b.LINE_BENE_PRMRY_PYR_PD_AMT_13, s1_carrier_1a.LINE_BENE_PTB_DDCTBL_AMT_9, s1_outpatient.HCPCS_CD_17, s1_carrier_1b.LINE_COINSRNC_AMT_5, s1_carrier_1b.LINE_BENE_PTB_DDCTBL_AMT_13, s1_carrier_1b.ICD9_DGNS_CD_7, s1_carrier_1b.LINE_ICD9_DGNS_CD_13, s1_ben_sum_2010.BENE_ESRD_IND, s1_carrier_1a.LINE_ICD9_DGNS_CD_2, s1_carrier_1a.HCPCS_CD_13, s1_carrier_1a.LINE_COINSRNC_AMT_13, s1_carrier_1a.ICD9_DGNS_CD_5, s1_ben_sum_2010.SP_COPD, s1_carrier_1b.LINE_BENE_PRMRY_PYR_PD_AMT_8, s1_inpatient.NCH_BENE_DSCHRG_DT, s1_outpatient.HCPCS_CD_5, s1_carrier_1a.LINE_BENE_PTB_DDCTBL_AMT_6, s1_ben_sum_2010.MEDREIMB_CAR, s1_ben_sum_2010.SP_DIABETES, s1_outpatient.HCPCS_CD_30, s1_carrier_1a.LINE_ALOWD_CHRG_AMT_7, s1_inpatient.NCH_BENE_BLOOD_DDCTBL_LBLTY_AM, s1_outpatient.ICD9_DGNS_CD_4, s1_outpatient.HCPCS_CD_40, s1_carrier_1b.PRF_PHYSN_NPI_10, s1_carrier_1a.LINE_ICD9_DGNS_CD_11, s1_carrier_1a.LINE_ALOWD_CHRG_AMT_10, s1_carrier_1a.ICD9_DGNS_CD_8, s1_outpatient.HCPCS_CD_29, s1_carrier_1a.LINE_COINSRNC_AMT_1, s1_carrier_1b.LINE_NCH_PMT_AMT_9, s1_carrier_1a.LINE_COINSRNC_AMT_3, s1_inpatient.NCH_PRMRY_PYR_CLM_PD_AMT, s1_carrier_1a.LINE_NCH_PMT_AMT_11, s1_carrier_1b.LINE_COINSRNC_AMT_11, s1_outpatient.HCPCS_CD_34, s1_prescrp.SRVC_DT, s1_carrier_1b.LINE_PRCSG_IND_CD_12, s1_carrier_1b.TAX_NUM_13, s1_carrier_1a.LINE_PRCSG_IND_CD_12, s1_outpatient.HCPCS_CD_6, s1_carrier_1b.LINE_PRCSG_IND_CD_4, s1_outpatient.ICD9_DGNS_CD_8, s1_outpatient.HCPCS_CD_2, s1_carrier_1a.LINE_BENE_PRMRY_PYR_PD_AMT_13, s1_outpatient.NCH_BENE_BLOOD_DDCTBL_LBLTY_AM, s1_inpatient.ICD9_DGNS_CD_3, s1_carrier_1b.LINE_PRCSG_IND_CD_5, s1_carrier_1b.HCPCS_CD_10, s1_inpatient.ICD9_DGNS_CD_4, s1_inpatient.CLM_UTLZTN_DAY_CNT, s1_carrier_1a.LINE_PRCSG_IND_CD_10, s1_carrier_1b.LINE_BENE_PTB_DDCTBL_AMT_10, s1_carrier_1b.PRF_PHYSN_NPI_2, s1_carrier_1a.LINE_BENE_PTB_DDCTBL_AMT_12, s1_outpatient.ICD9_DGNS_CD_9, s1_carrier_1b.LINE_BENE_PRMRY_PYR_PD_AMT_9, s1_carrier_1a.LINE_ALOWD_CHRG_AMT_12, s1_carrier_1a.ICD9_DGNS_CD_2, s1_carrier_1b.LINE_NCH_PMT_AMT_4, s1_carrier_1a.LINE_BENE_PRMRY_PYR_PD_AMT_8, s1_carrier_1b.TAX_NUM_10, s1_carrier_1b.LINE_ICD9_DGNS_CD_2, s1_carrier_1a.LINE_ALOWD_CHRG_AMT_4, s1_carrier_1a.HCPCS_CD_5, s1_inpatient.ICD9_PRCDR_CD_3, s1_carrier_1b.TAX_NUM_7, s1_carrier_1a.LINE_BENE_PRMRY_PYR_PD_AMT_2, s1_outpatient.HCPCS_CD_41, s1_carrier_1a.LINE_BENE_PRMRY_PYR_PD_AMT_6, s1_carrier_1b.LINE_ALOWD_CHRG_AMT_5, s1_outpatient.HCPCS_CD_4, s1_outpatient.HCPCS_CD_37, s1_carrier_1b.LINE_COINSRNC_AMT_1, s1_carrier_1b.PRF_PHYSN_NPI_8, s1_carrier_1b.LINE_BENE_PTB_DDCTBL_AMT_5, s1_carrier_1a.LINE_BENE_PTB_DDCTBL_AMT_2, s1_carrier_1b.TAX_NUM_8, s1_carrier_1b.HCPCS_CD_12, s1_carrier_1a.ICD9_DGNS_CD_6, s1_carrier_1b.LINE_ICD9_DGNS_CD_3, s1_carrier_1b.LINE_NCH_PMT_AMT_1, s1_inpatient.CLM_PMT_AMT, s1_carrier_1b.LINE_PRCSG_IND_CD_10, s1_prescrp.PDE_ID, s1_inpatient.ICD9_DGNS_CD_8, s1_carrier_1b.HCPCS_CD_4, s1_carrier_1b.LINE_PRCSG_IND_CD_11, s1_carrier_1b.ICD9_DGNS_CD_3, s1_carrier_1b.LINE_BENE_PRMRY_PYR_PD_AMT_2, s1_carrier_1b.LINE_BENE_PTB_DDCTBL_AMT_4, s1_carrier_1b.PRF_PHYSN_NPI_9, s1_ben_sum_2010.BENE_BIRTH_DT, s1_ben_sum_2010.SP_CHRNKIDN, s1_outpatient.ADMTNG_ICD9_DGNS_CD, s1_carrier_1b.LINE_ICD9_DGNS_CD_5, s1_carrier_1a.LINE_BENE_PTB_DDCTBL_AMT_13, s1_carrier_1b.LINE_ALOWD_CHRG_AMT_2, s1_ben_sum_2010.MEDREIMB_IP, s1_outpatient.ICD9_PRCDR_CD_3, s1_carrier_1a.LINE_PRCSG_IND_CD_5, s1_outpatient.HCPCS_CD_21, s1_carrier_1a.LINE_ICD9_DGNS_CD_8, s1_carrier_1b.LINE_ALOWD_CHRG_AMT_11, s1_outpatient.HCPCS_CD_7, s1_outpatient.HCPCS_CD_22, s1_outpatient.HCPCS_CD_15, s1_carrier_1a.LINE_ALOWD_CHRG_AMT_6, s1_carrier_1a.LINE_PRCSG_IND_CD_11, s1_inpatient.CLM_THRU_DT, s1_carrier_1b.LINE_ICD9_DGNS_CD_10, s1_outpatient.ICD9_DGNS_CD_7, s1_carrier_1b.LINE_ICD9_DGNS_CD_8, s1_carrier_1b.HCPCS_CD_1, s1_carrier_1b.LINE_ALOWD_CHRG_AMT_6, s1_outpatient.HCPCS_CD_16, s1_ben_sum_2010.BENE_SMI_CVRAGE_TOT_MONS, s1_carrier_1b.ICD9_DGNS_CD_5, s1_carrier_1a.ICD9_DGNS_CD_7, s1_carrier_1a.ICD9_DGNS_CD_3, s1_outpatient.HCPCS_CD_42, s1_inpatient.OP_PHYSN_NPI, s1_carrier_1b.LINE_BENE_PTB_DDCTBL_AMT_3, s1_carrier_1b.LINE_BENE_PRMRY_PYR_PD_AMT_12, s1_outpatient.ICD9_DGNS_CD_1, s1_carrier_1b.LINE_BENE_PRMRY_PYR_PD_AMT_7, s1_inpatient.OT_PHYSN_NPI, s1_carrier_1b.LINE_BENE_PRMRY_PYR_PD_AMT_3, s1_carrier_1b.LINE_PRCSG_IND_CD_2, s1_carrier_1b.TAX_NUM_5, s1_carrier_1a.CLM_THRU_DT, s1_carrier_1a.LINE_ICD9_DGNS_CD_9, s1_outpatient.HCPCS_CD_8, s1_carrier_1a.LINE_PRCSG_IND_CD_8, s1_carrier_1a.LINE_ICD9_DGNS_CD_7, s1_carrier_1b.PRF_PHYSN_NPI_13, s1_carrier_1b.LINE_ICD9_DGNS_CD_12, s1_carrier_1b.PRF_PHYSN_NPI_6, s1_carrier_1a.LINE_ALOWD_CHRG_AMT_5, s1_carrier_1a.LINE_NCH_PMT_AMT_13, s1_inpatient.ICD9_DGNS_CD_1, s1_carrier_1b.HCPCS_CD_13, s1_ben_sum_2010.MEDREIMB_OP, s1_carrier_1b.ICD9_DGNS_CD_2, s1_ben_sum_2010.BENE_COUNTY_CD, s1_carrier_1a.LINE_BENE_PTB_DDCTBL_AMT_4, s1_carrier_1b.LINE_BENE_PRMRY_PYR_PD_AMT_4, s1_carrier_1b.LINE_BENE_PTB_DDCTBL_AMT_8, s1_carrier_1a.LINE_BENE_PRMRY_PYR_PD_AMT_11, s1_outpatient.SEGMENT, s1_inpatient.CLM_FROM_DT, s1_carrier_1a.LINE_BENE_PRMRY_PYR_PD_AMT_4, s1_carrier_1b.LINE_ICD9_DGNS_CD_4, s1_carrier_1b.LINE_ALOWD_CHRG_AMT_7, s1_carrier_1b.HCPCS_CD_2, s1_carrier_1b.LINE_NCH_PMT_AMT_8, s1_inpatient.NCH_BENE_PTA_COINSRNC_LBLTY_AM, s1_inpatient.ICD9_DGNS_CD_10, s1_carrier_1a.HCPCS_CD_2, s1_carrier_1b.LINE_ICD9_DGNS_CD_6, s1_carrier_1a.LINE_PRCSG_IND_CD_4, s1_inpatient.PRVDR_NUM, s1_carrier_1a.LINE_COINSRNC_AMT_8, s1_carrier_1b.ICD9_DGNS_CD_4, s1_carrier_1b.LINE_COINSRNC_AMT_13, s1_carrier_1a.LINE_ALOWD_CHRG_AMT_9, s1_carrier_1a.LINE_COINSRNC_AMT_11, s1_outpatient.HCPCS_CD_44, s1_outpatient.HCPCS_CD_25, s1_outpatient.CLM_FROM_DT, s1_carrier_1b.LINE_NCH_PMT_AMT_12, s1_carrier_1b.LINE_ALOWD_CHRG_AMT_1, s1_carrier_1b.PRF_PHYSN_NPI_1, s1_outpatient.HCPCS_CD_26, s1_carrier_1b.PRF_PHYSN_NPI_11, s1_carrier_1b.LINE_ALOWD_CHRG_AMT_10, s1_ben_sum_2010.PPPYMT_OP, s1_ben_sum_2010.BENE_HI_CVRAGE_TOT_MONS, s1_ben_sum_2010.BENRES_OP, s1_carrier_1a.LINE_BENE_PRMRY_PYR_PD_AMT_3, s1_carrier_1b.CLM_ID, s1_carrier_1b.LINE_BENE_PTB_DDCTBL_AMT_11, s1_outpatient.HCPCS_CD_10, s1_ben_sum_2010.BENRES_IP, s1_outpatient.HCPCS_CD_18, s1_carrier_1b.LINE_NCH_PMT_AMT_7, s1_ben_sum_2010.SP_STRKETIA, s1_carrier_1a.LINE_ALOWD_CHRG_AMT_13, s1_outpatient.ICD9_PRCDR_CD_1, s1_carrier_1b.LINE_COINSRNC_AMT_4, s1_carrier_1b.TAX_NUM_11, s1_carrier_1a.LINE_PRCSG_IND_CD_13, s1_carrier_1a.LINE_PRCSG_IND_CD_3, s1_outpatient.HCPCS_CD_24, s1_carrier_1a.LINE_COINSRNC_AMT_6, s1_inpatient.ICD9_DGNS_CD_6, s1_carrier_1b.LINE_ICD9_DGNS_CD_9, s1_carrier_1b.LINE_BENE_PRMRY_PYR_PD_AMT_6, s1_carrier_1a.LINE_ICD9_DGNS_CD_4, s1_carrier_1a.LINE_BENE_PRMRY_PYR_PD_AMT_1, s1_carrier_1a.ICD9_DGNS_CD_4, s1_inpatient.ICD9_PRCDR_CD_5, s1_ben_sum_2010.PPPYMT_IP, s1_carrier_1a.LINE_COINSRNC_AMT_5, s1_carrier_1a.HCPCS_CD_6, s1_carrier_1a.HCPCS_CD_3, s1_carrier_1b.LINE_BENE_PRMRY_PYR_PD_AMT_11, s1_carrier_1a.LINE_ICD9_DGNS_CD_3, s1_carrier_1b.LINE_NCH_PMT_AMT_3, s1_ben_sum_2010.SP_OSTEOPRS, s1_inpatient.ICD9_PRCDR_CD_1, s1_carrier_1a.LINE_BENE_PTB_DDCTBL_AMT_1, s1_carrier_1a.LINE_COINSRNC_AMT_10, s1_prescrp.DAYS_SUPLY_NUM, s1_carrier_1a.LINE_ICD9_DGNS_CD_1, s1_outpatient.HCPCS_CD_1, s1_carrier_1b.LINE_PRCSG_IND_CD_3, s1_ben_sum_2010.BENRES_CAR, s1_outpatient.HCPCS_CD_39, s1_carrier_1b.LINE_PRCSG_IND_CD_9, s1_ben_sum_2010.SP_DEPRESSN, s1_outpatient.HCPCS_CD_27, s1_outpatient.NCH_BENE_PTB_COINSRNC_AMT, s1_inpatient.CLM_ID, s1_carrier_1a.LINE_BENE_PRMRY_PYR_PD_AMT_9, s1_carrier_1a.LINE_BENE_PTB_DDCTBL_AMT_8, s1_carrier_1b.LINE_BENE_PTB_DDCTBL_AMT_2, s1_ben_sum_2010.SP_STATE_CODE, s1_ben_sum_2010.SP_RA_OA, s1_inpatient.CLM_ADMSN_DT, s1_carrier_1a.LINE_ALOWD_CHRG_AMT_2, s1_carrier_1a.CLM_FROM_DT, s1_carrier_1b.LINE_COINSRNC_AMT_9, s1_carrier_1a.HCPCS_CD_10, s1_carrier_1a.LINE_NCH_PMT_AMT_12, s1_carrier_1b.PRF_PHYSN_NPI_3, s1_outpatient.HCPCS_CD_14, s1_outpatient.HCPCS_CD_36, s1_carrier_1b.ICD9_DGNS_CD_6, s1_carrier_1b.PRF_PHYSN_NPI_4, s1_carrier_1a.LINE_COINSRNC_AMT_2, s1_outpatient.HCPCS_CD_23, s1_carrier_1b.LINE_PRCSG_IND_CD_8, s1_carrier_1b.LINE_BENE_PTB_DDCTBL_AMT_6, s1_ben_sum_2010.SP_CNCR, s1_carrier_1b.LINE_ALOWD_CHRG_AMT_8, s1_ben_sum_2010.BENE_SEX_IDENT_CD, s1_carrier_1b.LINE_BENE_PTB_DDCTBL_AMT_12, s1_carrier_1a.LINE_ALOWD_CHRG_AMT_1, s1_outpatient.HCPCS_CD_13, s1_carrier_1b.LINE_NCH_PMT_AMT_6, s1_carrier_1b.PRF_PHYSN_NPI_7, s1_carrier_1a.LINE_ICD9_DGNS_CD_5, s1_outpatient.HCPCS_CD_28, s1_ben_sum_2010.SP_ISCHMCHT, s1_carrier_1b.LINE_COINSRNC_AMT_7, s1_carrier_1b.LINE_COINSRNC_AMT_8, s1_carrier_1a.LINE_BENE_PTB_DDCTBL_AMT_11, s1_carrier_1a.LINE_PRCSG_IND_CD_9, s1_carrier_1a.LINE_BENE_PRMRY_PYR_PD_AMT_5, s1_carrier_1b.HCPCS_CD_11, s1_carrier_1a.LINE_ICD9_DGNS_CD_12, s1_carrier_1b.ICD9_DGNS_CD_1, s1_carrier_1a.LINE_COINSRNC_AMT_9, s1_carrier_1b.LINE_ALOWD_CHRG_AMT_12, s1_carrier_1a.LINE_ALOWD_CHRG_AMT_11, s1_inpatient.ICD9_DGNS_CD_7, s1_carrier_1b.TAX_NUM_12, s1_carrier_1b.LINE_ICD9_DGNS_CD_11, s1_outpatient.HCPCS_CD_9, s1_carrier_1a.LINE_ALOWD_CHRG_AMT_8, s1_inpatient.ADMTNG_ICD9_DGNS_CD, s1_inpatient.NCH_BENE_IP_DDCTBL_AMT, s1_carrier_1a.HCPCS_CD_11, s1_inpatient.ICD9_DGNS_CD_2, s1_carrier_1a.LINE_BENE_PTB_DDCTBL_AMT_7, s1_carrier_1b.LINE_NCH_PMT_AMT_13, s1_carrier_1a.LINE_PRCSG_IND_CD_1, s1_carrier_1b.LINE_PRCSG_IND_CD_13, s1_ben_sum_2010.PLAN_CVRG_MOS_NUM, s1_carrier_1b.HCPCS_CD_3, s1_carrier_1b.LINE_NCH_PMT_AMT_2, s1_carrier_1a.LINE_COINSRNC_AMT_4, s1_outpatient.NCH_PRMRY_PYR_CLM_PD_AMT, s1_outpatient.HCPCS_CD_31, s1_carrier_1b.LINE_PRCSG_IND_CD_6, s1_prescrp.PROD_SRVC_ID, s1_carrier_1a.HCPCS_CD_8, s1_carrier_1a.CLM_ID, s1_outpatient.HCPCS_CD_32, s1_carrier_1a.LINE_ALOWD_CHRG_AMT_3, s1_outpatient.CLM_ID, s1_carrier_1b.LINE_PRCSG_IND_CD_7, s1_carrier_1a.HCPCS_CD_1, s1_carrier_1b.LINE_COINSRNC_AMT_3, s1_carrier_1a.LINE_ICD9_DGNS_CD_6, s1_outpatient.CLM_PMT_AMT, s1_carrier_1b.TAX_NUM_9, s1_carrier_1a.LINE_BENE_PTB_DDCTBL_AMT_3, s1_outpatient.HCPCS_CD_38, s1_outpatient.AT_PHYSN_NPI, s1_carrier_1a.LINE_COINSRNC_AMT_7, s1_inpatient.CLM_PASS_THRU_PER_DIEM_AMT, s1_carrier_1b.LINE_BENE_PRMRY_PYR_PD_AMT_1, s1_ben_sum_2010.BENE_DEATH_DT, s1_inpatient.SEGMENT, s1_carrier_1b.TAX_NUM_6\n"
     ]
    }
   ],
   "source": [
    "rnd_query=self.make_single_agg_query(agg_fntn=True)\n",
    "\n",
    "\n",
    "n_rows=rnd_query['query_desc']['n_rows']\n",
    "n_cols=rnd_query['query_desc']['n_cols']\n",
    "\n",
    "print(f\"no_of_rows={n_rows}\\nno_of_cols={n_cols}\\nproduct={n_rows*n_cols/1000}\")\n",
    "print(\"\\n\")\n",
    "print(rnd_query['query_desc']['sql'])"
   ]
  },
  {
   "cell_type": "code",
   "execution_count": null,
   "metadata": {},
   "outputs": [],
   "source": [
    "syn_tbl_name_lst=['s2_ben_sum_2008','s2_ben_sum_2009','s2_ben_sum_2010','s2_carrier_2a','s2_carrier_2b','s2_inpatient','s2_outpatient','s2_prescrp']\n",
    "rnd_query=self.make_twin_agg_query(syn_tbl_name_lst,agg_fntn=True)\n",
    "\n",
    "n_rows_real=rnd_query['query_desc']['n_rows_real']\n",
    "n_cols_real=rnd_query['query_desc']['n_cols_real']\n",
    "n_rows_syn=rnd_query['query_desc']['n_rows_syn']\n",
    "n_cols_syn=rnd_query['query_desc']['n_cols_syn']\n",
    "\n",
    "print(f\"REAL:\\nno_of_rows={n_rows_real}\\nno_of_cols={n_cols_real}\\nproduct={n_rows_real*n_cols_real/1000}\\n\\n\")\n",
    "print(f\"SYN:\\nno_of_rows={n_rows_syn}\\nno_of_cols={n_cols_syn}\\nproduct={n_rows_syn*n_cols_syn/1000}\\n\\n\")\n",
    "print(rnd_query['query_desc']['sql_real'])\n",
    "print(\"\\n\")\n",
    "print(rnd_query['query_desc']['sql_syn'])\n"
   ]
  },
  {
   "cell_type": "code",
   "execution_count": null,
   "metadata": {},
   "outputs": [],
   "source": [
    "self.max_in_terms=2\n",
    "self.no_groupby_vars=2\n",
    "self.no_where_vars=2\n",
    "self.no_join_tables=np.nan\n",
    "\n",
    "rnd_query=self.make_single_fltr_query()\n",
    "\n",
    "\n",
    "n_rows=rnd_query['query_desc']['n_rows']\n",
    "n_cols=rnd_query['query_desc']['n_cols']\n",
    "\n",
    "print(f\"no_of_rows={n_rows}\\nno_of_cols={n_cols}\\nproduct={n_rows*n_cols/1000}\")\n",
    "print(\"\\n\")\n",
    "print(rnd_query['query_desc']['sql'])"
   ]
  },
  {
   "cell_type": "code",
   "execution_count": null,
   "metadata": {},
   "outputs": [],
   "source": []
  }
 ],
 "metadata": {
  "kernelspec": {
   "display_name": "Python 3.8.10 ('.env_dev': venv)",
   "language": "python",
   "name": "python3"
  },
  "language_info": {
   "codemirror_mode": {
    "name": "ipython",
    "version": 3
   },
   "file_extension": ".py",
   "mimetype": "text/x-python",
   "name": "python",
   "nbconvert_exporter": "python",
   "pygments_lexer": "ipython3",
   "version": "3.8.10"
  },
  "orig_nbformat": 4,
  "vscode": {
   "interpreter": {
    "hash": "6cf594385e3e378fbba23be52d8fa8a1ff0f44816650af8bcee05fc5c8211531"
   }
  }
 },
 "nbformat": 4,
 "nbformat_minor": 2
}

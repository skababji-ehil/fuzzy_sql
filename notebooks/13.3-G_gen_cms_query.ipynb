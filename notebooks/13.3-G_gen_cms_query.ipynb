{
 "cells": [
  {
   "cell_type": "code",
   "execution_count": 1,
   "metadata": {},
   "outputs": [],
   "source": [
    "import sys\n",
    "sys.path.append('/home/samer/projects/fuzzy_sql/src') #This will enable reading the modules\n",
    "from pathlib import Path\n",
    "import os\n",
    "import json\n",
    "\n",
    "from fuzzy_sql.rnd_query import RND_QUERY\n",
    "from fuzzy_sql.fuzzy_sql import *"
   ]
  },
  {
   "cell_type": "code",
   "execution_count": 2,
   "metadata": {},
   "outputs": [],
   "source": [
    "#set directories\n",
    "root_dir=Path('/home/samer/projects/fuzzy_sql')\n",
    "metadata_dir=os.path.join(root_dir,'data/cms/processed/metadata')\n",
    "db_path=os.path.join(root_dir,'db/cms.db')"
   ]
  },
  {
   "cell_type": "code",
   "execution_count": 3,
   "metadata": {},
   "outputs": [],
   "source": [
    "#define input tables and metadata\n",
    "tbl_names_lst=['s1_ben_sum_2008','s1_ben_sum_2009','s1_ben_sum_2010','s1_carrier_1a','s1_carrier_1b','s1_inpatient','s1_outpatient','s1_prescrp']\n",
    "\n",
    "metadata_lst=[]\n",
    "for tbl_name in tbl_names_lst:\n",
    "    with open(os.path.join(metadata_dir,tbl_name+'.json'),'r') as f:\n",
    "        metadata_lst.append(json.load(f))"
   ]
  },
  {
   "cell_type": "code",
   "execution_count": 4,
   "metadata": {},
   "outputs": [
    {
     "name": "stdout",
     "output_type": "stream",
     "text": [
      "smk2\n"
     ]
    }
   ],
   "source": [
    "#setup parameters\n",
    "DFLT_PARAMS={\n",
    "    'AGG_OPS':{'AVG':0.5, 'SUM':0.3, 'MAX':0.1, 'MIN':0.1 },\n",
    "    'LOGIC_OPS':{'AND':0.9,'OR':0.1},\n",
    "    'NOT_STATE':{'0':0.8, '1':0.2},\n",
    "    'CAT_OPS':{'=':0.25, '<>':0.25, 'LIKE':0.15, 'IN':0.15, 'NOT LIKE':0.1, 'NOT IN':0.1},\n",
    "    'CNT_OPS':{'=':0.2, '>':0.1, '<':0.1, '>=':0.1, '<=':0.1, '<>':0.1, 'BETWEEN':0.2, 'NOT BETWEEN':0.1},\n",
    "    'DT_OPS':{'=':0.2, '>':0.1, '<':0.1, '>=':0, '<=':0, '<>':0.1, 'BETWEEN':0.2, 'IN':0.1, 'NOT BETWEEN':0.1, 'NOT IN':0.1},\n",
    "    'LESS_GRP_VARS': False, # enforce bias in random queries toward smaller number of groupby vars. Default is no bias (i.e. uniform sampling)\n",
    "    'LESS_CMP_VARS':False, # enforce bias in random queries toward small number of  comparison terms. Default is no bias (i.e. uniform sampling)\n",
    "    'JOIN_CNDTN':{'WHERE':0.5, 'AND':0.5} #Use WHERE or AND with JOIN CLAUSE\n",
    "}\n",
    "\n",
    "#connect to db\n",
    "conn = sqlite3.connect(db_path)\n",
    "\n",
    "self=RND_QUERY(conn, tbl_names_lst, metadata_lst,DFLT_PARAMS)"
   ]
  },
  {
   "cell_type": "code",
   "execution_count": 10,
   "metadata": {},
   "outputs": [
    {
     "name": "stdout",
     "output_type": "stream",
     "text": [
      "['s1_carrier_1a', 's1_inpatient', 's1_outpatient', 's1_prescrp', 's1_carrier_1b'] 1\n"
     ]
    }
   ],
   "source": [
    "# Generate Single queries \n",
    "rnd_query=self.make_single_agg_query()\n"
   ]
  },
  {
   "cell_type": "code",
   "execution_count": 11,
   "metadata": {},
   "outputs": [
    {
     "data": {
      "text/plain": [
       "{'query':       HCPCS_CD_8 HCPCS_CD_13 SP_OSTEOPRS BENE_HI_CVRAGE_TOT_MONS  \\\n",
       " 0           None        None           1                       0   \n",
       " 1           None        None           1                       0   \n",
       " 2           None        None           1                       0   \n",
       " 3           None        None           1                       0   \n",
       " 4           None        None           1                       0   \n",
       " ...          ...         ...         ...                     ...   \n",
       " 99702      P9604        None           2                      12   \n",
       " 99703      P9604       85610           2                      12   \n",
       " 99704      Q0091        None           2                      12   \n",
       " 99705      Q0092        None           2                      12   \n",
       " 99706      R0075       74000           2                      12   \n",
       " \n",
       "       LINE_PRCSG_IND_CD_9 HCPCS_CD_12 BENE_RACE_CD BENE_SMI_CVRAGE_TOT_MONS  \\\n",
       " 0                    None        None            1                       12   \n",
       " 1                    None        None            1                       12   \n",
       " 2                    None        None            1                       12   \n",
       " 3                    None        None            1                       12   \n",
       " 4                    None        None            1                       12   \n",
       " ...                   ...         ...          ...                      ...   \n",
       " 99702                   A       84550            1                       12   \n",
       " 99703                   O       36415            1                       12   \n",
       " 99704                None        None            1                       12   \n",
       " 99705                   A        None            1                       12   \n",
       " 99706                   A       Q0092            1                       12   \n",
       " \n",
       "       ICD9_DGNS_CD_4 ICD9_DGNS_CD_3  ... LINE_PRCSG_IND_CD_1  \\\n",
       " 0               None           None  ...                   A   \n",
       " 1               None           None  ...                   A   \n",
       " 2               None           None  ...                   A   \n",
       " 3               None           None  ...                   A   \n",
       " 4               None           None  ...                   A   \n",
       " ...              ...            ...  ...                 ...   \n",
       " 99702           None           None  ...                   A   \n",
       " 99703           4011           2753  ...                   A   \n",
       " 99704           7962          53081  ...                   C   \n",
       " 99705           3320           4160  ...                   A   \n",
       " 99706           7847          95919  ...                   A   \n",
       " \n",
       "       LINE_ICD9_DGNS_CD_1 SP_CNCR MEDREIMB_OP LINE_PRCSG_IND_CD_8 SP_RA_OA  \\\n",
       " 0                    1469       2     1500.00                None        1   \n",
       " 1                   27700       2     1500.00                None        1   \n",
       " 2                    3669       2     1500.00                None        1   \n",
       " 3                   42611       2     1500.00                None        1   \n",
       " 4                   79431       2     1500.00                None        1   \n",
       " ...                   ...     ...         ...                 ...      ...   \n",
       " 99702                 586       1     2900.00                   A        1   \n",
       " 99703               25040       2      420.00                   A        2   \n",
       " 99704                V700       2     1180.00                   A        2   \n",
       " 99705               78609       1     2190.00                   A        1   \n",
       " 99706                7931       2      400.00                   A        1   \n",
       " \n",
       "       HCPCS_CD_9 LINE_ICD9_DGNS_CD_8 HCPCS_CD_6 COUNT(*)  \n",
       " 0           None                None       None        1  \n",
       " 1           None                None       None        1  \n",
       " 2           None                None       None        1  \n",
       " 3           None                None       None        1  \n",
       " 4           None                None       None        1  \n",
       " ...          ...                 ...        ...      ...  \n",
       " 99702      84443                 586      85025        1  \n",
       " 99703      82465               25040      83540        1  \n",
       " 99704       None                2724      Q0091        1  \n",
       " 99705      71010                 486       None        1  \n",
       " 99706      76770                 486      R0075        1  \n",
       " \n",
       " [99707 rows x 69 columns],\n",
       " 'query_desc': {'type': 'single_agg',\n",
       "  'agg_fntn': 'None',\n",
       "  'grpby_vars': ['s1_carrier_1a.HCPCS_CD_8',\n",
       "   's1_carrier_1a.HCPCS_CD_13',\n",
       "   's1_ben_sum_2009.SP_OSTEOPRS',\n",
       "   's1_ben_sum_2009.BENE_HI_CVRAGE_TOT_MONS',\n",
       "   's1_carrier_1a.LINE_PRCSG_IND_CD_9',\n",
       "   's1_carrier_1a.HCPCS_CD_12',\n",
       "   's1_ben_sum_2009.BENE_RACE_CD',\n",
       "   's1_ben_sum_2009.BENE_SMI_CVRAGE_TOT_MONS',\n",
       "   's1_carrier_1a.ICD9_DGNS_CD_4',\n",
       "   's1_carrier_1a.ICD9_DGNS_CD_3',\n",
       "   's1_carrier_1a.ICD9_DGNS_CD_6',\n",
       "   's1_ben_sum_2009.BENRES_OP',\n",
       "   's1_carrier_1a.LINE_ICD9_DGNS_CD_2',\n",
       "   's1_carrier_1a.ICD9_DGNS_CD_8',\n",
       "   's1_carrier_1a.ICD9_DGNS_CD_2',\n",
       "   's1_ben_sum_2009.BENE_SEX_IDENT_CD',\n",
       "   's1_carrier_1a.ICD9_DGNS_CD_1',\n",
       "   's1_carrier_1a.LINE_PRCSG_IND_CD_11',\n",
       "   's1_ben_sum_2009.PPPYMT_OP',\n",
       "   's1_ben_sum_2009.MEDREIMB_CAR',\n",
       "   's1_ben_sum_2009.BENE_DEATH_DT',\n",
       "   's1_carrier_1a.LINE_ICD9_DGNS_CD_13',\n",
       "   's1_ben_sum_2009.DESYNPUF_ID',\n",
       "   's1_carrier_1a.LINE_PRCSG_IND_CD_6',\n",
       "   's1_ben_sum_2009.SP_CHF',\n",
       "   's1_carrier_1a.TAX_NUM_1',\n",
       "   's1_ben_sum_2009.SP_DEPRESSN',\n",
       "   's1_ben_sum_2009.SP_STRKETIA',\n",
       "   's1_ben_sum_2009.PPPYMT_CAR',\n",
       "   's1_ben_sum_2009.SP_CHRNKIDN',\n",
       "   's1_ben_sum_2009.SP_DIABETES',\n",
       "   's1_ben_sum_2009.SP_ALZHDMTA',\n",
       "   's1_carrier_1a.LINE_ICD9_DGNS_CD_10',\n",
       "   's1_carrier_1a.HCPCS_CD_3',\n",
       "   's1_carrier_1a.HCPCS_CD_7',\n",
       "   's1_ben_sum_2009.PPPYMT_IP',\n",
       "   's1_carrier_1a.LINE_ICD9_DGNS_CD_6',\n",
       "   's1_carrier_1a.HCPCS_CD_4',\n",
       "   's1_carrier_1a.LINE_PRCSG_IND_CD_3',\n",
       "   's1_carrier_1a.ICD9_DGNS_CD_5',\n",
       "   's1_carrier_1a.CLM_FROM_DT',\n",
       "   's1_ben_sum_2009.SP_ISCHMCHT',\n",
       "   's1_ben_sum_2009.BENE_HMO_CVRAGE_TOT_MONS',\n",
       "   's1_ben_sum_2009.BENE_COUNTY_CD',\n",
       "   's1_carrier_1a.HCPCS_CD_1',\n",
       "   's1_carrier_1a.HCPCS_CD_5',\n",
       "   's1_ben_sum_2009.BENRES_IP',\n",
       "   's1_carrier_1a.LINE_PRCSG_IND_CD_10',\n",
       "   's1_carrier_1a.LINE_PRCSG_IND_CD_4',\n",
       "   's1_carrier_1a.LINE_PRCSG_IND_CD_7',\n",
       "   's1_carrier_1a.LINE_ICD9_DGNS_CD_3',\n",
       "   's1_carrier_1a.LINE_ICD9_DGNS_CD_4',\n",
       "   's1_ben_sum_2009.BENRES_CAR',\n",
       "   's1_carrier_1a.HCPCS_CD_2',\n",
       "   's1_carrier_1a.LINE_PRCSG_IND_CD_13',\n",
       "   's1_carrier_1a.CLM_THRU_DT',\n",
       "   's1_carrier_1a.LINE_ICD9_DGNS_CD_5',\n",
       "   's1_carrier_1a.LINE_PRCSG_IND_CD_5',\n",
       "   's1_ben_sum_2009.SP_STATE_CODE',\n",
       "   's1_carrier_1a.LINE_PRCSG_IND_CD_1',\n",
       "   's1_carrier_1a.LINE_ICD9_DGNS_CD_1',\n",
       "   's1_ben_sum_2009.SP_CNCR',\n",
       "   's1_ben_sum_2009.MEDREIMB_OP',\n",
       "   's1_carrier_1a.LINE_PRCSG_IND_CD_8',\n",
       "   's1_ben_sum_2009.SP_RA_OA',\n",
       "   's1_carrier_1a.HCPCS_CD_9',\n",
       "   's1_carrier_1a.LINE_ICD9_DGNS_CD_8',\n",
       "   's1_carrier_1a.HCPCS_CD_6'],\n",
       "  'from_tbl_name': 's1_ben_sum_2009',\n",
       "  'join_tbl_names': ['s1_carrier_1a', 's1_ben_sum_2009'],\n",
       "  'sql': 'SELECT s1_carrier_1a.HCPCS_CD_8, s1_carrier_1a.HCPCS_CD_13, s1_ben_sum_2009.SP_OSTEOPRS, s1_ben_sum_2009.BENE_HI_CVRAGE_TOT_MONS, s1_carrier_1a.LINE_PRCSG_IND_CD_9, s1_carrier_1a.HCPCS_CD_12, s1_ben_sum_2009.BENE_RACE_CD, s1_ben_sum_2009.BENE_SMI_CVRAGE_TOT_MONS, s1_carrier_1a.ICD9_DGNS_CD_4, s1_carrier_1a.ICD9_DGNS_CD_3, s1_carrier_1a.ICD9_DGNS_CD_6, s1_ben_sum_2009.BENRES_OP, s1_carrier_1a.LINE_ICD9_DGNS_CD_2, s1_carrier_1a.ICD9_DGNS_CD_8, s1_carrier_1a.ICD9_DGNS_CD_2, s1_ben_sum_2009.BENE_SEX_IDENT_CD, s1_carrier_1a.ICD9_DGNS_CD_1, s1_carrier_1a.LINE_PRCSG_IND_CD_11, s1_ben_sum_2009.PPPYMT_OP, s1_ben_sum_2009.MEDREIMB_CAR, s1_ben_sum_2009.BENE_DEATH_DT, s1_carrier_1a.LINE_ICD9_DGNS_CD_13, s1_ben_sum_2009.DESYNPUF_ID, s1_carrier_1a.LINE_PRCSG_IND_CD_6, s1_ben_sum_2009.SP_CHF, s1_carrier_1a.TAX_NUM_1, s1_ben_sum_2009.SP_DEPRESSN, s1_ben_sum_2009.SP_STRKETIA, s1_ben_sum_2009.PPPYMT_CAR, s1_ben_sum_2009.SP_CHRNKIDN, s1_ben_sum_2009.SP_DIABETES, s1_ben_sum_2009.SP_ALZHDMTA, s1_carrier_1a.LINE_ICD9_DGNS_CD_10, s1_carrier_1a.HCPCS_CD_3, s1_carrier_1a.HCPCS_CD_7, s1_ben_sum_2009.PPPYMT_IP, s1_carrier_1a.LINE_ICD9_DGNS_CD_6, s1_carrier_1a.HCPCS_CD_4, s1_carrier_1a.LINE_PRCSG_IND_CD_3, s1_carrier_1a.ICD9_DGNS_CD_5, s1_carrier_1a.CLM_FROM_DT, s1_ben_sum_2009.SP_ISCHMCHT, s1_ben_sum_2009.BENE_HMO_CVRAGE_TOT_MONS, s1_ben_sum_2009.BENE_COUNTY_CD, s1_carrier_1a.HCPCS_CD_1, s1_carrier_1a.HCPCS_CD_5, s1_ben_sum_2009.BENRES_IP, s1_carrier_1a.LINE_PRCSG_IND_CD_10, s1_carrier_1a.LINE_PRCSG_IND_CD_4, s1_carrier_1a.LINE_PRCSG_IND_CD_7, s1_carrier_1a.LINE_ICD9_DGNS_CD_3, s1_carrier_1a.LINE_ICD9_DGNS_CD_4, s1_ben_sum_2009.BENRES_CAR, s1_carrier_1a.HCPCS_CD_2, s1_carrier_1a.LINE_PRCSG_IND_CD_13, s1_carrier_1a.CLM_THRU_DT, s1_carrier_1a.LINE_ICD9_DGNS_CD_5, s1_carrier_1a.LINE_PRCSG_IND_CD_5, s1_ben_sum_2009.SP_STATE_CODE, s1_carrier_1a.LINE_PRCSG_IND_CD_1, s1_carrier_1a.LINE_ICD9_DGNS_CD_1, s1_ben_sum_2009.SP_CNCR, s1_ben_sum_2009.MEDREIMB_OP, s1_carrier_1a.LINE_PRCSG_IND_CD_8, s1_ben_sum_2009.SP_RA_OA, s1_carrier_1a.HCPCS_CD_9, s1_carrier_1a.LINE_ICD9_DGNS_CD_8, s1_carrier_1a.HCPCS_CD_6, COUNT(*)  FROM s1_ben_sum_2009  JOIN s1_carrier_1a  ON s1_ben_sum_2009.DESYNPUF_ID=s1_carrier_1a.DESYNPUF_ID  GROUP BY s1_carrier_1a.HCPCS_CD_8, s1_carrier_1a.HCPCS_CD_13, s1_ben_sum_2009.SP_OSTEOPRS, s1_ben_sum_2009.BENE_HI_CVRAGE_TOT_MONS, s1_carrier_1a.LINE_PRCSG_IND_CD_9, s1_carrier_1a.HCPCS_CD_12, s1_ben_sum_2009.BENE_RACE_CD, s1_ben_sum_2009.BENE_SMI_CVRAGE_TOT_MONS, s1_carrier_1a.ICD9_DGNS_CD_4, s1_carrier_1a.ICD9_DGNS_CD_3, s1_carrier_1a.ICD9_DGNS_CD_6, s1_ben_sum_2009.BENRES_OP, s1_carrier_1a.LINE_ICD9_DGNS_CD_2, s1_carrier_1a.ICD9_DGNS_CD_8, s1_carrier_1a.ICD9_DGNS_CD_2, s1_ben_sum_2009.BENE_SEX_IDENT_CD, s1_carrier_1a.ICD9_DGNS_CD_1, s1_carrier_1a.LINE_PRCSG_IND_CD_11, s1_ben_sum_2009.PPPYMT_OP, s1_ben_sum_2009.MEDREIMB_CAR, s1_ben_sum_2009.BENE_DEATH_DT, s1_carrier_1a.LINE_ICD9_DGNS_CD_13, s1_ben_sum_2009.DESYNPUF_ID, s1_carrier_1a.LINE_PRCSG_IND_CD_6, s1_ben_sum_2009.SP_CHF, s1_carrier_1a.TAX_NUM_1, s1_ben_sum_2009.SP_DEPRESSN, s1_ben_sum_2009.SP_STRKETIA, s1_ben_sum_2009.PPPYMT_CAR, s1_ben_sum_2009.SP_CHRNKIDN, s1_ben_sum_2009.SP_DIABETES, s1_ben_sum_2009.SP_ALZHDMTA, s1_carrier_1a.LINE_ICD9_DGNS_CD_10, s1_carrier_1a.HCPCS_CD_3, s1_carrier_1a.HCPCS_CD_7, s1_ben_sum_2009.PPPYMT_IP, s1_carrier_1a.LINE_ICD9_DGNS_CD_6, s1_carrier_1a.HCPCS_CD_4, s1_carrier_1a.LINE_PRCSG_IND_CD_3, s1_carrier_1a.ICD9_DGNS_CD_5, s1_carrier_1a.CLM_FROM_DT, s1_ben_sum_2009.SP_ISCHMCHT, s1_ben_sum_2009.BENE_HMO_CVRAGE_TOT_MONS, s1_ben_sum_2009.BENE_COUNTY_CD, s1_carrier_1a.HCPCS_CD_1, s1_carrier_1a.HCPCS_CD_5, s1_ben_sum_2009.BENRES_IP, s1_carrier_1a.LINE_PRCSG_IND_CD_10, s1_carrier_1a.LINE_PRCSG_IND_CD_4, s1_carrier_1a.LINE_PRCSG_IND_CD_7, s1_carrier_1a.LINE_ICD9_DGNS_CD_3, s1_carrier_1a.LINE_ICD9_DGNS_CD_4, s1_ben_sum_2009.BENRES_CAR, s1_carrier_1a.HCPCS_CD_2, s1_carrier_1a.LINE_PRCSG_IND_CD_13, s1_carrier_1a.CLM_THRU_DT, s1_carrier_1a.LINE_ICD9_DGNS_CD_5, s1_carrier_1a.LINE_PRCSG_IND_CD_5, s1_ben_sum_2009.SP_STATE_CODE, s1_carrier_1a.LINE_PRCSG_IND_CD_1, s1_carrier_1a.LINE_ICD9_DGNS_CD_1, s1_ben_sum_2009.SP_CNCR, s1_ben_sum_2009.MEDREIMB_OP, s1_carrier_1a.LINE_PRCSG_IND_CD_8, s1_ben_sum_2009.SP_RA_OA, s1_carrier_1a.HCPCS_CD_9, s1_carrier_1a.LINE_ICD9_DGNS_CD_8, s1_carrier_1a.HCPCS_CD_6',\n",
       "  'n_rows': 99707,\n",
       "  'n_cols': 69}}"
      ]
     },
     "execution_count": 11,
     "metadata": {},
     "output_type": "execute_result"
    }
   ],
   "source": [
    "rnd_query"
   ]
  },
  {
   "cell_type": "code",
   "execution_count": null,
   "metadata": {},
   "outputs": [],
   "source": []
  }
 ],
 "metadata": {
  "kernelspec": {
   "display_name": "Python 3.8.10 ('.env_dev': venv)",
   "language": "python",
   "name": "python3"
  },
  "language_info": {
   "codemirror_mode": {
    "name": "ipython",
    "version": 3
   },
   "file_extension": ".py",
   "mimetype": "text/x-python",
   "name": "python",
   "nbconvert_exporter": "python",
   "pygments_lexer": "ipython3",
   "version": "3.8.10"
  },
  "orig_nbformat": 4,
  "vscode": {
   "interpreter": {
    "hash": "6cf594385e3e378fbba23be52d8fa8a1ff0f44816650af8bcee05fc5c8211531"
   }
  }
 },
 "nbformat": 4,
 "nbformat_minor": 2
}

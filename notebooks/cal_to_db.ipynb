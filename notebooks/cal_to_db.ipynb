{
 "cells": [
  {
   "cell_type": "code",
   "execution_count": null,
   "metadata": {},
   "outputs": [],
   "source": [
    "import sys\n",
    "sys.path.append('/home/samer/projects/fuzzy_sql/src')\n",
    "\n",
    "from fuzzy_sql.fuzzy_sql import *\n",
    "import json\n",
    "import os\n",
    "from pathlib import Path"
   ]
  },
  {
   "cell_type": "code",
   "execution_count": null,
   "metadata": {},
   "outputs": [],
   "source": [
    "# set directories\n",
    "root_dir = Path('/home/samer/projects/fuzzy_sql')\n",
    "metadata_dir = os.path.join(root_dir, 'data/cal/processed/metadata')\n",
    "real_dir = os.path.join(root_dir, 'data/cal/processed/real')\n",
    "syn_dir = os.path.join(root_dir, 'data/cal/processed/synthetic')\n",
    "db_path = os.path.join(root_dir, 'db/cal.db')"
   ]
  },
  {
   "cell_type": "code",
   "execution_count": null,
   "metadata": {},
   "outputs": [],
   "source": [
    "# connect to db\n",
    "conn = sqlite3.connect(db_path)"
   ]
  },
  {
   "cell_type": "code",
   "execution_count": null,
   "metadata": {},
   "outputs": [],
   "source": [
    "# Prepare real data and import it into the database\n",
    "b_sample,_=prep_data_for_db(os.path.join(real_dir,\"b_sample.csv\")) # Note: This function  can be used to quickly generate metadata template, but this is not shown here.\n",
    "with open(os.path.join(metadata_dir, 'b_sample.json'), 'r') as f:\n",
    "    b_sample_meta=json.load(f)\n",
    "indxd_vars=get_vars_to_index(b_sample_meta,b_sample)\n",
    "make_table('b_sample', b_sample, conn,indxd_vars=indxd_vars)"
   ]
  },
  {
   "cell_type": "code",
   "execution_count": null,
   "metadata": {},
   "outputs": [],
   "source": [
    "l_sample,_=prep_data_for_db(os.path.join(real_dir,\"l_sample.csv\"))\n",
    "with open(os.path.join(metadata_dir, 'l_sample.json'), 'r') as f:\n",
    "    l_sample_meta=json.load(f)\n",
    "indxd_vars=get_vars_to_index(l_sample_meta,l_sample)\n",
    "make_table('l_sample', l_sample, conn, indxd_vars=indxd_vars)"
   ]
  }
 ],
 "metadata": {
  "kernelspec": {
   "display_name": "Python 3.9.12 ('.env': venv)",
   "language": "python",
   "name": "python3"
  },
  "language_info": {
   "codemirror_mode": {
    "name": "ipython",
    "version": 3
   },
   "file_extension": ".py",
   "mimetype": "text/x-python",
   "name": "python",
   "nbconvert_exporter": "python",
   "pygments_lexer": "ipython3",
   "version": "3.9.12"
  },
  "orig_nbformat": 4,
  "vscode": {
   "interpreter": {
    "hash": "fc49a92f4a12d3ad9bc1d95f284515a18cbfb8c145f08366ba0744cd0c13d800"
   }
  }
 },
 "nbformat": 4,
 "nbformat_minor": 2
}

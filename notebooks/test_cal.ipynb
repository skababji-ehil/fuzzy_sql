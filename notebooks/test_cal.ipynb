{
 "cells": [
  {
   "cell_type": "code",
   "execution_count": 1,
   "metadata": {},
   "outputs": [],
   "source": [
    "import sys\n",
    "sys.path.append('/home/samer/projects/fuzzy_sql/src')\n",
    "\n",
    "from fuzzy_sql.fuzzy_sql import *\n",
    "import json\n",
    "import os\n",
    "from pathlib import Path\n"
   ]
  },
  {
   "cell_type": "code",
   "execution_count": 2,
   "metadata": {},
   "outputs": [],
   "source": [
    "# set directories\n",
    "root_dir = Path('/home/samer/projects/fuzzy_sql')\n",
    "metadata_dir = os.path.join(root_dir, 'data/cal/processed/metadata')\n",
    "real_dir = os.path.join(root_dir, 'data/cal/processed/real')\n",
    "syn_dir = os.path.join(root_dir, 'data/cal/processed/synthetic')\n",
    "db_path = os.path.join(root_dir, 'db/cal.db')"
   ]
  },
  {
   "cell_type": "code",
   "execution_count": 3,
   "metadata": {},
   "outputs": [],
   "source": [
    "# connect to db\n",
    "conn = sqlite3.connect(db_path)"
   ]
  },
  {
   "cell_type": "code",
   "execution_count": 5,
   "metadata": {},
   "outputs": [],
   "source": [
    "# define input tables and metadata\n",
    "real_tbl_lst = [\"b_sample\",\"l_sample\"]\n",
    "syn_tbl_lst = [\"b_sample_syn_01\",\"l_sample_syn_01\"]\n",
    "metadata_lst = []\n",
    "for tbl_name in real_tbl_lst:\n",
    "    with open(os.path.join(metadata_dir, tbl_name+'.json'), 'r') as f:\n",
    "        metadata_lst.append(json.load(f))\n"
   ]
  },
  {
   "cell_type": "code",
   "execution_count": null,
   "metadata": {},
   "outputs": [],
   "source": [
    "# connect to db\n",
    "conn = sqlite3.connect(db_path)"
   ]
  },
  {
   "cell_type": "code",
   "execution_count": null,
   "metadata": {},
   "outputs": [],
   "source": [
    "rnd_queries=gen_queries(3,conn, real_tbl_lst, metadata_lst,  syn_tbl_lst )"
   ]
  },
  {
   "cell_type": "code",
   "execution_count": null,
   "metadata": {},
   "outputs": [],
   "source": []
  }
 ],
 "metadata": {
  "kernelspec": {
   "display_name": "Python 3.8.10 ('.env_dev': venv)",
   "language": "python",
   "name": "python3"
  },
  "language_info": {
   "codemirror_mode": {
    "name": "ipython",
    "version": 3
   },
   "file_extension": ".py",
   "mimetype": "text/x-python",
   "name": "python",
   "nbconvert_exporter": "python",
   "pygments_lexer": "ipython3",
   "version": "3.8.10"
  },
  "orig_nbformat": 4,
  "vscode": {
   "interpreter": {
    "hash": "6cf594385e3e378fbba23be52d8fa8a1ff0f44816650af8bcee05fc5c8211531"
   }
  }
 },
 "nbformat": 4,
 "nbformat_minor": 2
}

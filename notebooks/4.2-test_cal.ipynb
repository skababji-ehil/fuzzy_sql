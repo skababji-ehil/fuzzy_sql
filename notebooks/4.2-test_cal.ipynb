{
 "cells": [
  {
   "cell_type": "code",
   "execution_count": 1,
   "metadata": {},
   "outputs": [],
   "source": [
    "from config_paths import *\n",
    "import sys\n",
    "sys.path.append(str(SRC_DIR))\n",
    "\n",
    "from fuzzy_sql.fuzzy_sql import *\n",
    "import json\n",
    "import os\n",
    "from pathlib import Path\n",
    "\n",
    "DATASET_NAME='cal'\n"
   ]
  },
  {
   "cell_type": "code",
   "execution_count": 2,
   "metadata": {},
   "outputs": [],
   "source": [
    "# set directories\n",
    "metadata_dir = os.path.join(DATA_DIR, DATASET_NAME,'processed/metadata')\n",
    "real_dir = os.path.join(DATA_DIR,DATASET_NAME, 'processed/real')\n",
    "syn_dir = os.path.join(DATA_DIR,DATASET_NAME, 'processed/synthetic')\n",
    "db_path = os.path.join(DB_DIR, f'{DATASET_NAME}.db')"
   ]
  },
  {
   "cell_type": "code",
   "execution_count": 3,
   "metadata": {},
   "outputs": [],
   "source": [
    "# define input tables and metadata\n",
    "real_tbl_lst = [\"b_sample\",\"l_sample\"]\n",
    "syn_tbl_lst = [\"b_sample_syn_01\",\"l_sample_syn_01\"]\n",
    "metadata_lst = []\n",
    "for tbl_name in real_tbl_lst:\n",
    "    with open(os.path.join(metadata_dir, tbl_name+'.json'), 'r') as f:\n",
    "        metadata_lst.append(json.load(f))\n"
   ]
  },
  {
   "cell_type": "code",
   "execution_count": 4,
   "metadata": {},
   "outputs": [
    {
     "name": "stdout",
     "output_type": "stream",
     "text": [
      "Generated Random Aggregate Filter Query - 1 in 40.6 seconds.\n",
      "Cant wait any further! I am skipping this one!\n",
      "Generated Random Aggregate Filter Query - 2 in 34.4 seconds.\n",
      "Generated Random Aggregate Filter Query - 3 in 23.3 seconds.\n"
     ]
    }
   ],
   "source": [
    "rnd_queries=gen_aggfltr_queries(3,db_path, real_tbl_lst, metadata_lst,  syn_tbl_lst )"
   ]
  }
 ],
 "metadata": {
  "kernelspec": {
   "display_name": ".env_dev",
   "language": "python",
   "name": "python3"
  },
  "language_info": {
   "codemirror_mode": {
    "name": "ipython",
    "version": 3
   },
   "file_extension": ".py",
   "mimetype": "text/x-python",
   "name": "python",
   "nbconvert_exporter": "python",
   "pygments_lexer": "ipython3",
   "version": "3.8.2 (default, Dec 21 2020, 15:06:04) \n[Clang 12.0.0 (clang-1200.0.32.29)]"
  },
  "orig_nbformat": 4,
  "vscode": {
   "interpreter": {
    "hash": "43e50e087ad1b803a9194e2edbfbb2781922b068ec9f5f8351ab6e27c02de616"
   }
  }
 },
 "nbformat": 4,
 "nbformat_minor": 2
}

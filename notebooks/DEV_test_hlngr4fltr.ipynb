{
 "cells": [
  {
   "cell_type": "code",
   "execution_count": 1,
   "metadata": {},
   "outputs": [],
   "source": [
    "from config_paths import *\n",
    "import sys\n",
    "sys.path.append(str(SRC_DIR))\n",
    "\n",
    "from fuzzy_sql.generate import gen_fltr_queries\n",
    "import numpy as np\n",
    "import pandas as pd\n",
    "import json\n",
    "import os\n",
    "from pathlib import Path\n",
    "\n",
    "DATASET_NAME='sdgd'\n",
    "\n",
    "\n"
   ]
  },
  {
   "cell_type": "code",
   "execution_count": null,
   "metadata": {},
   "outputs": [],
   "source": [
    "\n",
    "    \n",
    "    \n",
    "\n"
   ]
  },
  {
   "cell_type": "code",
   "execution_count": 2,
   "metadata": {},
   "outputs": [],
   "source": [
    "# set directories\n",
    "metadata_dir = os.path.join(DATA_DIR, DATASET_NAME,'processed/metadata')\n",
    "real_dir = os.path.join(DATA_DIR,DATASET_NAME, 'processed/real')\n",
    "syn_dir = os.path.join(DATA_DIR,DATASET_NAME, 'processed/synthetic')\n",
    "db_path = os.path.join(DB_DIR, f'{DATASET_NAME}.db')"
   ]
  },
  {
   "cell_type": "code",
   "execution_count": 3,
   "metadata": {},
   "outputs": [],
   "source": [
    "#Define input data\n",
    "input_real_names=['C1']\n",
    "input_dics=[]\n",
    "for table_name in input_real_names:\n",
    "    with open(os.path.join(metadata_dir,table_name+'.json'), 'r') as f:\n",
    "        dic=json.load(f)\n",
    "    input_dics.append(dic)\n",
    "input_syn_names=['C1_syn_default_1']"
   ]
  },
  {
   "cell_type": "code",
   "execution_count": 4,
   "metadata": {},
   "outputs": [
    {
     "name": "stdout",
     "output_type": "stream",
     "text": [
      "Generated Random Filter Query - 1 in 0.7 seconds.\n"
     ]
    },
    {
     "name": "stderr",
     "output_type": "stream",
     "text": [
      "/home/samer/projects/fuzzy_sql/src/fuzzy_sql/randomquery.py:1404: IntegrationWarning: The algorithm does not converge.  Roundoff error is detected\n",
      "  in the extrapolation table.  It is assumed that the requested tolerance\n",
      "  cannot be achieved, and that the returned result (if full_output = 1) is \n",
      "  the best which can be obtained.\n",
      "  hlngr_dist = np.sqrt(quad(hlngr_integrand, -np.inf, np.inf)[0]/2)\n",
      "/home/samer/projects/fuzzy_sql/src/fuzzy_sql/randomquery.py:1404: IntegrationWarning: The maximum number of subdivisions (50) has been achieved.\n",
      "  If increasing the limit yields no improvement it is advised to analyze \n",
      "  the integrand in order to determine the difficulties.  If the position of a \n",
      "  local difficulty can be determined (singularity, discontinuity) one will \n",
      "  probably gain from splitting up the interval and calling the integrator \n",
      "  on the subranges.  Perhaps a special-purpose integrator should be used.\n",
      "  hlngr_dist = np.sqrt(quad(hlngr_integrand, -np.inf, np.inf)[0]/2)\n",
      "/home/samer/projects/fuzzy_sql/src/fuzzy_sql/randomquery.py:1404: IntegrationWarning: The maximum number of subdivisions (50) has been achieved.\n",
      "  If increasing the limit yields no improvement it is advised to analyze \n",
      "  the integrand in order to determine the difficulties.  If the position of a \n",
      "  local difficulty can be determined (singularity, discontinuity) one will \n",
      "  probably gain from splitting up the interval and calling the integrator \n",
      "  on the subranges.  Perhaps a special-purpose integrator should be used.\n",
      "  hlngr_dist = np.sqrt(quad(hlngr_integrand, -np.inf, np.inf)[0]/2)\n"
     ]
    },
    {
     "name": "stdout",
     "output_type": "stream",
     "text": [
      "Generated Random Filter Query - 2 in 12.3 seconds.\n"
     ]
    },
    {
     "name": "stderr",
     "output_type": "stream",
     "text": [
      "/home/samer/projects/fuzzy_sql/src/fuzzy_sql/randomquery.py:1404: IntegrationWarning: The integral is probably divergent, or slowly convergent.\n",
      "  hlngr_dist = np.sqrt(quad(hlngr_integrand, -np.inf, np.inf)[0]/2)\n",
      "/home/samer/projects/fuzzy_sql/src/fuzzy_sql/randomquery.py:1404: RuntimeWarning: invalid value encountered in sqrt\n",
      "  hlngr_dist = np.sqrt(quad(hlngr_integrand, -np.inf, np.inf)[0]/2)\n"
     ]
    },
    {
     "name": "stdout",
     "output_type": "stream",
     "text": [
      "Variable capital is defined as continuous but it has only few levels, so it will be treated as categorical variable\n",
      "Generated Random Filter Query - 3 in 0.9 seconds.\n"
     ]
    },
    {
     "name": "stderr",
     "output_type": "stream",
     "text": [
      "/home/samer/projects/fuzzy_sql/src/fuzzy_sql/randomquery.py:1404: IntegrationWarning: The integral is probably divergent, or slowly convergent.\n",
      "  hlngr_dist = np.sqrt(quad(hlngr_integrand, -np.inf, np.inf)[0]/2)\n",
      "/home/samer/projects/fuzzy_sql/src/fuzzy_sql/randomquery.py:1404: RuntimeWarning: invalid value encountered in sqrt\n",
      "  hlngr_dist = np.sqrt(quad(hlngr_integrand, -np.inf, np.inf)[0]/2)\n"
     ]
    },
    {
     "name": "stdout",
     "output_type": "stream",
     "text": [
      "Generated Random Filter Query - 4 in 0.9 seconds.\n"
     ]
    },
    {
     "name": "stderr",
     "output_type": "stream",
     "text": [
      "/home/samer/projects/fuzzy_sql/src/fuzzy_sql/randomquery.py:1404: IntegrationWarning: The algorithm does not converge.  Roundoff error is detected\n",
      "  in the extrapolation table.  It is assumed that the requested tolerance\n",
      "  cannot be achieved, and that the returned result (if full_output = 1) is \n",
      "  the best which can be obtained.\n",
      "  hlngr_dist = np.sqrt(quad(hlngr_integrand, -np.inf, np.inf)[0]/2)\n",
      "/home/samer/projects/fuzzy_sql/src/fuzzy_sql/randomquery.py:1404: IntegrationWarning: The maximum number of subdivisions (50) has been achieved.\n",
      "  If increasing the limit yields no improvement it is advised to analyze \n",
      "  the integrand in order to determine the difficulties.  If the position of a \n",
      "  local difficulty can be determined (singularity, discontinuity) one will \n",
      "  probably gain from splitting up the interval and calling the integrator \n",
      "  on the subranges.  Perhaps a special-purpose integrator should be used.\n",
      "  hlngr_dist = np.sqrt(quad(hlngr_integrand, -np.inf, np.inf)[0]/2)\n"
     ]
    },
    {
     "name": "stdout",
     "output_type": "stream",
     "text": [
      "Generated Random Filter Query - 5 in 5.1 seconds.\n"
     ]
    },
    {
     "name": "stderr",
     "output_type": "stream",
     "text": [
      "/home/samer/projects/fuzzy_sql/src/fuzzy_sql/randomquery.py:1404: IntegrationWarning: The maximum number of subdivisions (50) has been achieved.\n",
      "  If increasing the limit yields no improvement it is advised to analyze \n",
      "  the integrand in order to determine the difficulties.  If the position of a \n",
      "  local difficulty can be determined (singularity, discontinuity) one will \n",
      "  probably gain from splitting up the interval and calling the integrator \n",
      "  on the subranges.  Perhaps a special-purpose integrator should be used.\n",
      "  hlngr_dist = np.sqrt(quad(hlngr_integrand, -np.inf, np.inf)[0]/2)\n"
     ]
    },
    {
     "name": "stdout",
     "output_type": "stream",
     "text": [
      "Generated Random Filter Query - 6 in 18.2 seconds.\n",
      "Generated Random Filter Query - 7 in 0.7 seconds.\n",
      "Generated Random Filter Query - 8 in 0.7 seconds.\n"
     ]
    },
    {
     "name": "stderr",
     "output_type": "stream",
     "text": [
      "/home/samer/projects/fuzzy_sql/src/fuzzy_sql/randomquery.py:1404: IntegrationWarning: The maximum number of subdivisions (50) has been achieved.\n",
      "  If increasing the limit yields no improvement it is advised to analyze \n",
      "  the integrand in order to determine the difficulties.  If the position of a \n",
      "  local difficulty can be determined (singularity, discontinuity) one will \n",
      "  probably gain from splitting up the interval and calling the integrator \n",
      "  on the subranges.  Perhaps a special-purpose integrator should be used.\n",
      "  hlngr_dist = np.sqrt(quad(hlngr_integrand, -np.inf, np.inf)[0]/2)\n"
     ]
    },
    {
     "name": "stdout",
     "output_type": "stream",
     "text": [
      "Generated Random Filter Query - 9 in 8.2 seconds.\n"
     ]
    },
    {
     "name": "stderr",
     "output_type": "stream",
     "text": [
      "/home/samer/projects/fuzzy_sql/src/fuzzy_sql/randomquery.py:1404: IntegrationWarning: The algorithm does not converge.  Roundoff error is detected\n",
      "  in the extrapolation table.  It is assumed that the requested tolerance\n",
      "  cannot be achieved, and that the returned result (if full_output = 1) is \n",
      "  the best which can be obtained.\n",
      "  hlngr_dist = np.sqrt(quad(hlngr_integrand, -np.inf, np.inf)[0]/2)\n",
      "/home/samer/projects/fuzzy_sql/src/fuzzy_sql/randomquery.py:1404: IntegrationWarning: The maximum number of subdivisions (50) has been achieved.\n",
      "  If increasing the limit yields no improvement it is advised to analyze \n",
      "  the integrand in order to determine the difficulties.  If the position of a \n",
      "  local difficulty can be determined (singularity, discontinuity) one will \n",
      "  probably gain from splitting up the interval and calling the integrator \n",
      "  on the subranges.  Perhaps a special-purpose integrator should be used.\n",
      "  hlngr_dist = np.sqrt(quad(hlngr_integrand, -np.inf, np.inf)[0]/2)\n"
     ]
    },
    {
     "name": "stdout",
     "output_type": "stream",
     "text": [
      "Generated Random Filter Query - 10 in 11.0 seconds.\n"
     ]
    }
   ],
   "source": [
    "scored_queries=gen_fltr_queries(10,db_path,input_real_names,input_dics, input_syn_names)"
   ]
  },
  {
   "cell_type": "code",
   "execution_count": 9,
   "metadata": {},
   "outputs": [
    {
     "data": {
      "text/html": [
       "<div>\n",
       "<style scoped>\n",
       "    .dataframe tbody tr th:only-of-type {\n",
       "        vertical-align: middle;\n",
       "    }\n",
       "\n",
       "    .dataframe tbody tr th {\n",
       "        vertical-align: top;\n",
       "    }\n",
       "\n",
       "    .dataframe thead th {\n",
       "        text-align: right;\n",
       "    }\n",
       "</style>\n",
       "<table border=\"1\" class=\"dataframe\">\n",
       "  <thead>\n",
       "    <tr style=\"text-align: right;\">\n",
       "      <th></th>\n",
       "      <th>real_table_name</th>\n",
       "      <th>syn_table_name</th>\n",
       "      <th>var_name</th>\n",
       "      <th>var_type</th>\n",
       "      <th>var_hlngr_distance</th>\n",
       "    </tr>\n",
       "  </thead>\n",
       "  <tbody>\n",
       "    <tr>\n",
       "      <th>0</th>\n",
       "      <td>C1</td>\n",
       "      <td>C1_syn_default_1</td>\n",
       "      <td>age</td>\n",
       "      <td>CNT</td>\n",
       "      <td>0.497114</td>\n",
       "    </tr>\n",
       "    <tr>\n",
       "      <th>1</th>\n",
       "      <td>C1</td>\n",
       "      <td>C1_syn_default_1</td>\n",
       "      <td>workclass</td>\n",
       "      <td>CAT</td>\n",
       "      <td>0.000000</td>\n",
       "    </tr>\n",
       "    <tr>\n",
       "      <th>2</th>\n",
       "      <td>C1</td>\n",
       "      <td>C1_syn_default_1</td>\n",
       "      <td>fnlwgt</td>\n",
       "      <td>CNT</td>\n",
       "      <td>0.027717</td>\n",
       "    </tr>\n",
       "    <tr>\n",
       "      <th>3</th>\n",
       "      <td>C1</td>\n",
       "      <td>C1_syn_default_1</td>\n",
       "      <td>education</td>\n",
       "      <td>CAT</td>\n",
       "      <td>0.068229</td>\n",
       "    </tr>\n",
       "    <tr>\n",
       "      <th>4</th>\n",
       "      <td>C1</td>\n",
       "      <td>C1_syn_default_1</td>\n",
       "      <td>marital_status</td>\n",
       "      <td>CAT</td>\n",
       "      <td>0.162658</td>\n",
       "    </tr>\n",
       "    <tr>\n",
       "      <th>5</th>\n",
       "      <td>C1</td>\n",
       "      <td>C1_syn_default_1</td>\n",
       "      <td>occupation</td>\n",
       "      <td>CAT</td>\n",
       "      <td>0.055147</td>\n",
       "    </tr>\n",
       "    <tr>\n",
       "      <th>6</th>\n",
       "      <td>C1</td>\n",
       "      <td>C1_syn_default_1</td>\n",
       "      <td>relationship</td>\n",
       "      <td>CAT</td>\n",
       "      <td>0.218072</td>\n",
       "    </tr>\n",
       "    <tr>\n",
       "      <th>7</th>\n",
       "      <td>C1</td>\n",
       "      <td>C1_syn_default_1</td>\n",
       "      <td>race</td>\n",
       "      <td>CAT</td>\n",
       "      <td>0.060296</td>\n",
       "    </tr>\n",
       "    <tr>\n",
       "      <th>8</th>\n",
       "      <td>C1</td>\n",
       "      <td>C1_syn_default_1</td>\n",
       "      <td>sex</td>\n",
       "      <td>CAT</td>\n",
       "      <td>0.073072</td>\n",
       "    </tr>\n",
       "    <tr>\n",
       "      <th>9</th>\n",
       "      <td>C1</td>\n",
       "      <td>C1_syn_default_1</td>\n",
       "      <td>hours_per_week</td>\n",
       "      <td>CNT</td>\n",
       "      <td>0.894837</td>\n",
       "    </tr>\n",
       "    <tr>\n",
       "      <th>10</th>\n",
       "      <td>C1</td>\n",
       "      <td>C1_syn_default_1</td>\n",
       "      <td>native_country</td>\n",
       "      <td>CAT</td>\n",
       "      <td>0.006749</td>\n",
       "    </tr>\n",
       "    <tr>\n",
       "      <th>11</th>\n",
       "      <td>C1</td>\n",
       "      <td>C1_syn_default_1</td>\n",
       "      <td>capital</td>\n",
       "      <td>CNT</td>\n",
       "      <td>0.208194</td>\n",
       "    </tr>\n",
       "    <tr>\n",
       "      <th>12</th>\n",
       "      <td>C1</td>\n",
       "      <td>C1_syn_default_1</td>\n",
       "      <td>income</td>\n",
       "      <td>CAT</td>\n",
       "      <td>0.000000</td>\n",
       "    </tr>\n",
       "  </tbody>\n",
       "</table>\n",
       "</div>"
      ],
      "text/plain": [
       "   real_table_name    syn_table_name        var_name var_type  \\\n",
       "0               C1  C1_syn_default_1             age      CNT   \n",
       "1               C1  C1_syn_default_1       workclass      CAT   \n",
       "2               C1  C1_syn_default_1          fnlwgt      CNT   \n",
       "3               C1  C1_syn_default_1       education      CAT   \n",
       "4               C1  C1_syn_default_1  marital_status      CAT   \n",
       "5               C1  C1_syn_default_1      occupation      CAT   \n",
       "6               C1  C1_syn_default_1    relationship      CAT   \n",
       "7               C1  C1_syn_default_1            race      CAT   \n",
       "8               C1  C1_syn_default_1             sex      CAT   \n",
       "9               C1  C1_syn_default_1  hours_per_week      CNT   \n",
       "10              C1  C1_syn_default_1  native_country      CAT   \n",
       "11              C1  C1_syn_default_1         capital      CNT   \n",
       "12              C1  C1_syn_default_1          income      CAT   \n",
       "\n",
       "    var_hlngr_distance  \n",
       "0             0.497114  \n",
       "1             0.000000  \n",
       "2             0.027717  \n",
       "3             0.068229  \n",
       "4             0.162658  \n",
       "5             0.055147  \n",
       "6             0.218072  \n",
       "7             0.060296  \n",
       "8             0.073072  \n",
       "9             0.894837  \n",
       "10            0.006749  \n",
       "11            0.208194  \n",
       "12            0.000000  "
      ]
     },
     "execution_count": 9,
     "metadata": {},
     "output_type": "execute_result"
    }
   ],
   "source": [
    "scored_queries[1]['hlngr_breakdown']"
   ]
  },
  {
   "cell_type": "code",
   "execution_count": null,
   "metadata": {},
   "outputs": [],
   "source": []
  }
 ],
 "metadata": {
  "kernelspec": {
   "display_name": ".env_dev",
   "language": "python",
   "name": "python3"
  },
  "language_info": {
   "codemirror_mode": {
    "name": "ipython",
    "version": 3
   },
   "file_extension": ".py",
   "mimetype": "text/x-python",
   "name": "python",
   "nbconvert_exporter": "python",
   "pygments_lexer": "ipython3",
   "version": "3.8.10"
  },
  "orig_nbformat": 4,
  "vscode": {
   "interpreter": {
    "hash": "6cf594385e3e378fbba23be52d8fa8a1ff0f44816650af8bcee05fc5c8211531"
   }
  }
 },
 "nbformat": 4,
 "nbformat_minor": 2
}

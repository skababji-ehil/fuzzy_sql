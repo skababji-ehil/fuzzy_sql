{
 "cells": [
  {
   "cell_type": "code",
   "execution_count": null,
   "metadata": {},
   "outputs": [],
   "source": [
    "import sys\n",
    "sys.path.append('/home/samer/projects/fuzzy_sql/src')\n",
    "\n",
    "from fuzzy_sql.fuzzy_sql import *\n",
    "import json\n",
    "import os\n",
    "from pathlib import Path\n"
   ]
  },
  {
   "cell_type": "code",
   "execution_count": null,
   "metadata": {},
   "outputs": [],
   "source": [
    "# set directories\n",
    "root_dir = Path('/home/samer/projects/fuzzy_sql')\n",
    "metadata_dir = os.path.join(root_dir, 'data/sdgd/processed/metadata')\n",
    "real_dir = os.path.join(root_dir, 'data/sdgd/processed/real')\n",
    "syn_dir = os.path.join(root_dir, 'data/sdgd/processed/synthetic')\n",
    "db_path = os.path.join(root_dir, 'db/sdgd.db')"
   ]
  },
  {
   "cell_type": "code",
   "execution_count": null,
   "metadata": {},
   "outputs": [],
   "source": [
    "#Import testing set\n",
    "with open ('tabular_test_set.json', 'r') as f:\n",
    "    test_dict=json.load(f)"
   ]
  },
  {
   "cell_type": "code",
   "execution_count": null,
   "metadata": {},
   "outputs": [],
   "source": [
    "# connect to db\n",
    "conn = sqlite3.connect(db_path)"
   ]
  },
  {
   "cell_type": "code",
   "execution_count": null,
   "metadata": {},
   "outputs": [],
   "source": [
    "# #Slice dictonary for development\n",
    "# selected_datasets=['C1']\n",
    "# test_dict=dict([(key, value) for key,value in test_dict.items() if key in selected_datasets])"
   ]
  },
  {
   "cell_type": "code",
   "execution_count": null,
   "metadata": {},
   "outputs": [],
   "source": [
    "            # \"type\": \"twin_agg\",\n",
    "            # \"agg_fntn\": agg_fntn_terms,\n",
    "            # \"grpby_vars\": real_groupby_lst,\n",
    "            # \"from_tbl_name_real\": real_from_tbl,\n",
    "            # \"join_tbl_name_lst_real\": real_join_tbl_lst,\n",
    "            # \"sql_real\": real_expr,\n",
    "            # \"n_cols_real\": query_real.shape[1],\n",
    "            # \"n_rows_real\": query_real.shape[0],\n",
    "            # \"from_tbl_name_syn\": syn_from_tbl,\n",
    "            # \"join_tbl_name_lst_syn\": syn_join_tbl_lst,\n",
    "            # \"sql_syn\": syn_expr,\n",
    "            # \"n_cols_syn\": query_syn.shape[1],\n",
    "            # \"n_rows_syn\": query_syn.shape[0],\n",
    "            \n",
    "            \n",
    "            \n",
    "            \n",
    "            \n",
    "    # cur = db_conn.cursor()\n",
    "    # cur.execute(\"SELECT count(name) FROM sqlite_master WHERE type='table' AND name=(?) \",\n",
    "    #             (table_name,))  # sqlite_master holds  the schema of the db including table names\n",
    "    # # If table does not exist (ie returned count is zero), then import the table into db from pandas\n",
    "    # if cur.fetchone()[0] == 0: #if table does not exist\n",
    "    #     df.to_sql(table_name, db_conn, index=False)\n",
    "    #     print(f'Table {table_name} is created in the database')"
   ]
  },
  {
   "cell_type": "code",
   "execution_count": null,
   "metadata": {},
   "outputs": [],
   "source": [
    "#generate test_twin lists\n",
    "no_queries_per_twin=10\n",
    "dist_catcher={\n",
    "    'real_table_name': [],\n",
    "    'syn_table_name':[],\n",
    "    'no_data_vars':[],\n",
    "    'no_query_agg_vars':[],\n",
    "    'no_real_query_records':[],\n",
    "    'no_syn_query_records':[],\n",
    "    'query_hlngr_score':[],\n",
    "    'query_ecldn_score':[]\n",
    "}\n",
    "\n",
    "for real_table_name in test_dict.keys():\n",
    "    syn_list=test_dict[real_table_name]\n",
    "    real_list=[real_table_name for i in range(len(syn_list))]\n",
    "    with open(os.path.join(metadata_dir, real_table_name+'.json'), 'r') as f:\n",
    "        meta=json.load(f)\n",
    "    meta_list = [meta for i in range(len(syn_list)) ]\n",
    "    \n",
    "    cur = conn.cursor() #check no of variables in the dataset table\n",
    "    data=cur.execute(f\"SELECT * FROM {real_table_name}\") \n",
    "    data=data.fetchall()\n",
    "    \n",
    "\n",
    "    #generate random queries\n",
    "    for real, meta, syn in zip(real_list,meta_list,syn_list):\n",
    "        print(\"\\n******************************\")\n",
    "        print(f\"\\n {real} \\n {syn}\")\n",
    "        print(\"\\n******************************\")\n",
    "        random_queries=gen_queries(no_queries_per_twin,conn, [real], [meta],  [syn] )\n",
    "        for i, query in enumerate(random_queries):\n",
    "            dist_catcher['real_table_name'].append(real)\n",
    "            dist_catcher['syn_table_name'].append(syn)\n",
    "            dist_catcher['no_data_vars'].append(len(data[0]))\n",
    "            dist_catcher['no_query_agg_vars'].append(len(random_queries[i]['query_desc']['grpby_vars']))\n",
    "            dist_catcher['no_real_query_records'].append(random_queries[i]['query_desc']['n_rows_real'])\n",
    "            dist_catcher['no_syn_query_records'].append(random_queries[i]['query_desc']['n_rows_syn'])\n",
    "            dist_catcher['query_hlngr_score'].append(random_queries[i]['query_hlngr_score'])\n",
    "            dist_catcher['query_ecldn_score'].append(random_queries[i]['query_ecldn_score'])\n",
    "            "
   ]
  },
  {
   "cell_type": "code",
   "execution_count": null,
   "metadata": {},
   "outputs": [],
   "source": [
    "random_queries"
   ]
  },
  {
   "cell_type": "code",
   "execution_count": null,
   "metadata": {},
   "outputs": [],
   "source": []
  }
 ],
 "metadata": {
  "kernelspec": {
   "display_name": "Python 3.8.10 ('.env_dev': venv)",
   "language": "python",
   "name": "python3"
  },
  "language_info": {
   "codemirror_mode": {
    "name": "ipython",
    "version": 3
   },
   "file_extension": ".py",
   "mimetype": "text/x-python",
   "name": "python",
   "nbconvert_exporter": "python",
   "pygments_lexer": "ipython3",
   "version": "3.8.10 (default, Jun 22 2022, 20:18:18) \n[GCC 9.4.0]"
  },
  "orig_nbformat": 4,
  "vscode": {
   "interpreter": {
    "hash": "6cf594385e3e378fbba23be52d8fa8a1ff0f44816650af8bcee05fc5c8211531"
   }
  }
 },
 "nbformat": 4,
 "nbformat_minor": 2
}

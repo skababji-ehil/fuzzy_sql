{
 "cells": [
  {
   "cell_type": "code",
   "execution_count": 1,
   "metadata": {},
   "outputs": [],
   "source": [
    "# https://www.cms.gov/Research-Statistics-Data-and-Systems/Downloadable-Public-Use-Files/SynPUFs/DE_Syn_PUF\n",
    "\n",
    "import os\n",
    "import sys\n",
    "sys.path.append('/home/samer/projects/fuzzy_sql/src') #This will enable reading the modules\n",
    "from pathlib import Path\n",
    "from fuzzy_sql.fuzzy_sql import *\n",
    "\n"
   ]
  },
  {
   "cell_type": "code",
   "execution_count": 2,
   "metadata": {},
   "outputs": [],
   "source": [
    "#set directories\n",
    "root_dir=Path('/home/samer/projects/fuzzy_sql')\n",
    "raw_sample1_dir=os.path.join(root_dir,'data/cms/raw/sample1')\n",
    "raw_sample2_dir=os.path.join(root_dir,'data/cms/raw/sample2')\n",
    "db_path=os.path.join(root_dir,'db/cms.db')"
   ]
  },
  {
   "cell_type": "code",
   "execution_count": 3,
   "metadata": {},
   "outputs": [],
   "source": [
    "conn = sqlite3.connect(db_path)"
   ]
  },
  {
   "cell_type": "code",
   "execution_count": null,
   "metadata": {},
   "outputs": [],
   "source": [
    "s1_ben_sum_2008=pd.read_csv(os.path.join(raw_sample1_dir,\"DE1_0_2008_Beneficiary_Summary_File_Sample_1.csv\"))\n",
    "make_table('s1_ben_sum_2008', s1_ben_sum_2008, conn)"
   ]
  },
  {
   "cell_type": "code",
   "execution_count": null,
   "metadata": {},
   "outputs": [],
   "source": [
    "s1_ben_sum_2009=pd.read_csv(os.path.join(raw_sample1_dir,\"DE1_0_2009_Beneficiary_Summary_File_Sample_1.csv\"))\n",
    "make_table('s1_ben_sum_2009', s1_ben_sum_2009, conn)"
   ]
  },
  {
   "cell_type": "code",
   "execution_count": null,
   "metadata": {},
   "outputs": [],
   "source": [
    "s1_ben_sum_2010=pd.read_csv(os.path.join(raw_sample1_dir,\"DE1_0_2010_Beneficiary_Summary_File_Sample_1.csv\"))\n",
    "make_table('s1_ben_sum_2010', s1_ben_sum_2010, conn)"
   ]
  },
  {
   "cell_type": "code",
   "execution_count": null,
   "metadata": {},
   "outputs": [],
   "source": [
    "s1_carrier_1a=pd.read_csv(os.path.join(raw_sample1_dir,\"DE1_0_2008_to_2010_Carrier_Claims_Sample_1A.csv\"), low_memory=False)\n",
    "make_table('s1_carrier_1a', s1_carrier_1a, conn)"
   ]
  },
  {
   "cell_type": "code",
   "execution_count": 4,
   "metadata": {},
   "outputs": [
    {
     "name": "stdout",
     "output_type": "stream",
     "text": [
      "Table s1_carrier_1b already exists in the database\n"
     ]
    }
   ],
   "source": [
    "s1_carrier_1b=pd.read_csv(os.path.join(raw_sample1_dir,\"DE1_0_2008_to_2010_Carrier_Claims_Sample_1B.csv\"),low_memory=False)\n",
    "make_table('s1_carrier_1b', s1_carrier_1b, conn)"
   ]
  },
  {
   "cell_type": "code",
   "execution_count": 5,
   "metadata": {},
   "outputs": [
    {
     "name": "stdout",
     "output_type": "stream",
     "text": [
      "Table s1_inpatient is created in the database\n"
     ]
    }
   ],
   "source": [
    "s1_inpatient=pd.read_csv(os.path.join(raw_sample1_dir,\"DE1_0_2008_to_2010_Inpatient_Claims_Sample_1.csv\"))\n",
    "make_table('s1_inpatient', s1_inpatient, conn)"
   ]
  },
  {
   "cell_type": "code",
   "execution_count": 7,
   "metadata": {},
   "outputs": [
    {
     "name": "stdout",
     "output_type": "stream",
     "text": [
      "Table s1_outpatient already exists in the database\n"
     ]
    }
   ],
   "source": [
    "s1_outpatient=pd.read_csv(os.path.join(raw_sample1_dir,\"DE1_0_2008_to_2010_Outpatient_Claims_Sample_1.csv\"),low_memory=False)\n",
    "make_table('s1_outpatient', s1_outpatient, conn)"
   ]
  },
  {
   "cell_type": "code",
   "execution_count": 8,
   "metadata": {},
   "outputs": [
    {
     "name": "stdout",
     "output_type": "stream",
     "text": [
      "Table s1_prescrp is created in the database\n"
     ]
    }
   ],
   "source": [
    "s1_prescrp=pd.read_csv(os.path.join(raw_sample1_dir,\"DE1_0_2008_to_2010_Prescription_Drug_Events_Sample_1.csv\"),low_memory=False)\n",
    "make_table('s1_prescrp', s1_prescrp, conn)"
   ]
  }
 ],
 "metadata": {
  "kernelspec": {
   "display_name": "Python 3.8.10 ('.env_dev': venv)",
   "language": "python",
   "name": "python3"
  },
  "language_info": {
   "codemirror_mode": {
    "name": "ipython",
    "version": 3
   },
   "file_extension": ".py",
   "mimetype": "text/x-python",
   "name": "python",
   "nbconvert_exporter": "python",
   "pygments_lexer": "ipython3",
   "version": "3.8.10"
  },
  "orig_nbformat": 4,
  "vscode": {
   "interpreter": {
    "hash": "6cf594385e3e378fbba23be52d8fa8a1ff0f44816650af8bcee05fc5c8211531"
   }
  }
 },
 "nbformat": 4,
 "nbformat_minor": 2
}

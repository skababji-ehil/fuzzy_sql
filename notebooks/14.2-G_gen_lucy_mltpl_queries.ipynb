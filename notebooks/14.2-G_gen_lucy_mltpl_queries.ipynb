{
 "cells": [
  {
   "cell_type": "code",
   "execution_count": 1,
   "metadata": {},
   "outputs": [],
   "source": [
    "import sys\n",
    "sys.path.append('/home/samer/projects/fuzzy_sql/src') #This will enable reading the modules\n",
    "from pathlib import Path\n",
    "import os\n",
    "import json\n",
    "import time\n",
    "\n",
    "from fuzzy_sql.rnd_query import RND_QUERY\n",
    "from fuzzy_sql.fuzzy_sql import *"
   ]
  },
  {
   "cell_type": "code",
   "execution_count": 2,
   "metadata": {},
   "outputs": [],
   "source": [
    "#set directories\n",
    "root_dir=Path('/home/samer/projects/fuzzy_sql')\n",
    "metadata_dir=os.path.join(root_dir,'data/lucy/processed/metadata')\n",
    "db_path=os.path.join(root_dir,'db/lucy.db')"
   ]
  },
  {
   "cell_type": "code",
   "execution_count": 3,
   "metadata": {},
   "outputs": [],
   "source": [
    "#define input tables and metadata\n",
    "tbl_names_lst=[\"b_sample\",\"l_sample\"]\n",
    "syn_tbl_name_lst=['b_sample_syn_01','l_sample_syn_01']\n",
    "\n",
    "metadata_lst=[]\n",
    "for tbl_name in tbl_names_lst:\n",
    "    with open(os.path.join(metadata_dir,tbl_name+'.json'),'r') as f:\n",
    "        metadata_lst.append(json.load(f))\n",
    "\n",
    "#connect to db\n",
    "conn = sqlite3.connect(db_path)\n",
    "\n"
   ]
  },
  {
   "cell_type": "code",
   "execution_count": 4,
   "metadata": {},
   "outputs": [
    {
     "name": "stdout",
     "output_type": "stream",
     "text": [
      "Metadata for table b_sample is valid.\n",
      "Metadata for table l_sample is valid.\n",
      "Parameter input is valid.\n"
     ]
    }
   ],
   "source": [
    "query_obj=RND_QUERY(conn, tbl_names_lst, metadata_lst)"
   ]
  },
  {
   "cell_type": "code",
   "execution_count": 5,
   "metadata": {},
   "outputs": [],
   "source": [
    "def gen_aggfltr_queries(query_obj: object,syn_tbl_name_lst: str) -> list:\n",
    "    n_queries=10\n",
    "    queries = []\n",
    "    timeout=5 #maximum time in secs to execute the query, otherwise it will be skipped to next random query \n",
    "    for k in range(n_queries):\n",
    "        query_obj.no_groupby_vars=2\n",
    "        query_obj.no_where_vars=3\n",
    "        start_time=time.time()\n",
    "        while time.time() < start_time+timeout:\n",
    "            rnd_query=query_obj.make_twin_aggfltr_query(syn_tbl_name_lst)\n",
    "            matched_query=query_obj._match_twin_query(rnd_query)\n",
    "            scored_query=query_obj.calc_dist_scores(matched_query)\n",
    "            queries.append(scored_query)\n",
    "            print('Generated Random Aggregate Filter Query - {} '.format(str(k)))\n",
    "            break  \n",
    "    return queries "
   ]
  },
  {
   "cell_type": "code",
   "execution_count": 6,
   "metadata": {},
   "outputs": [
    {
     "name": "stdout",
     "output_type": "stream",
     "text": [
      "Generated Random Aggregate Filter Query - 0 \n"
     ]
    },
    {
     "data": {
      "text/plain": [
       "[{'query_real':      Homeless    DX1  COUNT(*)  AVG(l_sample.DRGVER)\n",
       "  0           0   1119         0                   0.0\n",
       "  1           0   1122         0                   0.0\n",
       "  2           0   1124         0                   0.0\n",
       "  3           0   1125         1                  24.0\n",
       "  4           0  11284         0                   0.0\n",
       "  ...       ...    ...       ...                   ...\n",
       "  1635        0  V6889         0                   0.0\n",
       "  1636        0   V707         0                   0.0\n",
       "  1637        0  V7189         0                   0.0\n",
       "  1638        0  V7283         0                   0.0\n",
       "  1639        0   None    335162                   NaN\n",
       "  \n",
       "  [1640 rows x 4 columns],\n",
       "  'query_syn':      Homeless    DX1  COUNT(*)  AVG(l_sample_syn_01.DRGVER)\n",
       "  0           0   1119         1                    24.000000\n",
       "  1           0   1122         3                    24.333333\n",
       "  2           0   1124         2                    25.000000\n",
       "  3           0   1125         1                    24.000000\n",
       "  4           0  11284         4                    24.750000\n",
       "  ...       ...    ...       ...                          ...\n",
       "  1635        0  V6889         1                    24.000000\n",
       "  1636        0   V707         2                    24.500000\n",
       "  1637        0  V7189         1                    24.000000\n",
       "  1638        0  V7283         1                    24.000000\n",
       "  1639        0   None    334602                          NaN\n",
       "  \n",
       "  [1640 rows x 4 columns],\n",
       "  'query_desc': {'type': 'twin_agg',\n",
       "   'agg_fntn': ('AVG', 'l_sample.DRGVER'),\n",
       "   'grpby_vars': ['Homeless', 'DX1'],\n",
       "   'from_tbl_name_real': 'b_sample',\n",
       "   'join_tbl_name_lst_real': ['l_sample'],\n",
       "   'sql_real': \"SELECT b_sample.Homeless, l_sample.DX1, COUNT(*), AVG(l_sample.DRGVER)  FROM b_sample  LEFT JOIN l_sample  ON b_sample.PNUM_R=l_sample.PNUM_R  AND   l_sample.LOS > 4 AND  b_sample.PL_UR_CA NOT IN ('1', '2') AND  b_sample.PL_UIC20 NOT IN ('1')  GROUP BY b_sample.Homeless, l_sample.DX1\",\n",
       "   'n_cols_real': 4,\n",
       "   'n_rows_real': 1147,\n",
       "   'from_tbl_name_syn': 'b_sample_syn_01',\n",
       "   'join_tbl_name_lst_syn': ['l_sample_syn_01'],\n",
       "   'sql_syn': \"SELECT b_sample_syn_01.Homeless, l_sample_syn_01.DX1, COUNT(*), AVG(l_sample_syn_01.DRGVER)  FROM b_sample_syn_01  LEFT JOIN l_sample_syn_01  ON b_sample_syn_01.PNUM_R=l_sample_syn_01.PNUM_R  AND   l_sample_syn_01.LOS > 4 AND  b_sample_syn_01.PL_UR_CA NOT IN ('1', '2') AND  b_sample_syn_01.PL_UIC20 NOT IN ('1')  GROUP BY b_sample_syn_01.Homeless, l_sample_syn_01.DX1\",\n",
       "   'n_cols_syn': 4,\n",
       "   'n_rows_syn': 1217},\n",
       "  'query_hlngr_score': 0.04967531045819303,\n",
       "  'query_ecldn_score': 0.0}]"
      ]
     },
     "execution_count": 6,
     "metadata": {},
     "output_type": "execute_result"
    }
   ],
   "source": [
    "gen_aggfltr_queries(query_obj,syn_tbl_name_lst)"
   ]
  }
 ],
 "metadata": {
  "kernelspec": {
   "display_name": "Python 3.8.10 ('.env_dev': venv)",
   "language": "python",
   "name": "python3"
  },
  "language_info": {
   "codemirror_mode": {
    "name": "ipython",
    "version": 3
   },
   "file_extension": ".py",
   "mimetype": "text/x-python",
   "name": "python",
   "nbconvert_exporter": "python",
   "pygments_lexer": "ipython3",
   "version": "3.8.10"
  },
  "orig_nbformat": 4,
  "vscode": {
   "interpreter": {
    "hash": "6cf594385e3e378fbba23be52d8fa8a1ff0f44816650af8bcee05fc5c8211531"
   }
  }
 },
 "nbformat": 4,
 "nbformat_minor": 2
}

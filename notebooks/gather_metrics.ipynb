{
 "cells": [
  {
   "cell_type": "code",
   "execution_count": null,
   "metadata": {},
   "outputs": [],
   "source": [
    "from pathlib import Path\n",
    "import os\n",
    "import sys \n",
    "import pandas as pd\n",
    "\n",
    "sys.path.append('/home/samer/projects/fuzzy_sql/src') #This will enable reading the modules\n",
    "from fuzzy_sql.fuzzy_sql import *\n"
   ]
  },
  {
   "cell_type": "code",
   "execution_count": null,
   "metadata": {},
   "outputs": [],
   "source": [
    "#set paths\n",
    "root_dir=Path('/home/samer/projects/fuzzy_sql')\n",
    "real_dir=os.path.join(root_dir,'data/tabular/real')\n",
    "meta_dir=os.path.join(root_dir,'data/tabular/metadata')\n",
    "syn_dir=os.path.join(root_dir,'data/tabular/synthetic')"
   ]
  },
  {
   "cell_type": "code",
   "execution_count": null,
   "metadata": {},
   "outputs": [],
   "source": [
    "\n",
    "#extract real data names and define paths\n",
    "ds_names=extract_fnames(real_dir)\n",
    "# drop trail 5 since there is no synth data for it\n",
    "ds_names.remove('trial5') \n",
    "ds_names.remove('oncovid_dtd')\n",
    "#ds_names.remove('danish') #this takes time\n",
    "ds_names.remove('trial3')\n",
    "ds_names.remove('trial6')\n",
    "\n",
    "real_path=[]\n",
    "meta_path=[]\n",
    "syn_path=[]\n",
    "for ds_name in ds_names:\n",
    "    real_path.append(real_dir+f'/{ds_name}.csv')\n",
    "    meta_path.append(meta_dir+f'/{ds_name}.json')\n",
    "    syn_path.append(syn_dir+f'/{ds_name}_syn_06.csv')"
   ]
  },
  {
   "cell_type": "code",
   "execution_count": null,
   "metadata": {},
   "outputs": [],
   "source": [
    "# Fuzz\n",
    "res={'name':[], 'hlngr_mean':[], 'hlngr_median':[], 'hlngr_std_dev':[], 'ecldn_mean':[], 'ecldn_median':[], 'ecldn_std_dev':[] }\n",
    "queries=[]\n",
    "for i,ds_name in enumerate(ds_names):\n",
    "    # if ds_name !='C3':\n",
    "    #     continue\n",
    "    scored_queries=fuzz_tabular(100,'twin_aggfltr', real_path[i], meta_path[i],syn_path[i])\n",
    "    queries.append(scored_queries)\n",
    "    res['name'].append(ds_name)\n",
    "    hlngr_stats=calc_stats(scored_queries['hlngr_dist'])\n",
    "    res['hlngr_mean'].append(hlngr_stats['mean'])\n",
    "    res['hlngr_median'].append(hlngr_stats['median'])\n",
    "    res['hlngr_std_dev'].append(hlngr_stats['stddev'])\n",
    "    ecldn_stats=calc_stats(scored_queries['ecldn_dist'])\n",
    "    res['ecldn_mean'].append(ecldn_stats['mean'])\n",
    "    res['ecldn_median'].append(ecldn_stats['median'])\n",
    "    res['ecldn_std_dev'].append(ecldn_stats['stddev'])\n",
    "\n",
    "res_df=pd.DataFrame(res)\n",
    "res_df.to_csv('result.csv', index=False)"
   ]
  }
 ],
 "metadata": {
  "kernelspec": {
   "display_name": "Python 3.8.10 ('.env_dev': venv)",
   "language": "python",
   "name": "python3"
  },
  "language_info": {
   "codemirror_mode": {
    "name": "ipython",
    "version": 3
   },
   "file_extension": ".py",
   "mimetype": "text/x-python",
   "name": "python",
   "nbconvert_exporter": "python",
   "pygments_lexer": "ipython3",
   "version": "3.8.10"
  },
  "orig_nbformat": 4,
  "vscode": {
   "interpreter": {
    "hash": "6cf594385e3e378fbba23be52d8fa8a1ff0f44816650af8bcee05fc5c8211531"
   }
  }
 },
 "nbformat": 4,
 "nbformat_minor": 2
}

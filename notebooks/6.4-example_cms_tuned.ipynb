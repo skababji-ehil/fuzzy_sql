{
 "cells": [
  {
   "attachments": {},
   "cell_type": "markdown",
   "metadata": {},
   "source": [
    "### An example for longitudinal multiple child data with customzied paramteters\n",
    "##### *(This notebook assumes that data is already imported into the database. If not, please execute  main_cms.ipynb first)*"
   ]
  },
  {
   "cell_type": "code",
   "execution_count": 1,
   "metadata": {},
   "outputs": [],
   "source": [
    "#! pip install --upgrade pip\n",
    "#! pip install fuzzy_sql-1.1.1b0-py3-none-any.whl\n",
    "#%matplotlib inline"
   ]
  },
  {
   "cell_type": "code",
   "execution_count": 2,
   "metadata": {},
   "outputs": [],
   "source": [
    "from config_paths import *\n",
    "import sys\n",
    "sys.path.append(str(SRC_DIR))\n",
    "\n",
    "from fuzzy_sql.fuzzy_sql import *\n",
    "import json\n",
    "import os\n",
    "from pathlib import Path\n",
    "\n",
    "DATASET_NAME='cms'\n",
    "\n",
    "\n",
    "import matplotlib\n",
    "matplotlib.use('Agg')"
   ]
  },
  {
   "attachments": {},
   "cell_type": "markdown",
   "metadata": {},
   "source": [
    "### Setup directories and databse table names"
   ]
  },
  {
   "cell_type": "code",
   "execution_count": 1,
   "metadata": {},
   "outputs": [
    {
     "ename": "NameError",
     "evalue": "name 'DATA_DIR' is not defined",
     "output_type": "error",
     "traceback": [
      "\u001b[0;31m---------------------------------------------------------------------------\u001b[0m",
      "\u001b[0;31mNameError\u001b[0m                                 Traceback (most recent call last)",
      "Cell \u001b[0;32mIn[1], line 2\u001b[0m\n\u001b[1;32m      1\u001b[0m \u001b[39m# set directories\u001b[39;00m\n\u001b[0;32m----> 2\u001b[0m metadata_dir \u001b[39m=\u001b[39m os\u001b[39m.\u001b[39mpath\u001b[39m.\u001b[39mjoin(DATA_DIR, DATASET_NAME,\u001b[39m'\u001b[39m\u001b[39mprocessed/metadata\u001b[39m\u001b[39m'\u001b[39m)\n\u001b[1;32m      3\u001b[0m db_path \u001b[39m=\u001b[39m os\u001b[39m.\u001b[39mpath\u001b[39m.\u001b[39mjoin(DB_DIR, \u001b[39mf\u001b[39m\u001b[39m'\u001b[39m\u001b[39m{\u001b[39;00mDATASET_NAME\u001b[39m}\u001b[39;00m\u001b[39m.db\u001b[39m\u001b[39m'\u001b[39m)\n\u001b[1;32m      6\u001b[0m \u001b[39m# define input tables and metadata \u001b[39;00m\n",
      "\u001b[0;31mNameError\u001b[0m: name 'DATA_DIR' is not defined"
     ]
    }
   ],
   "source": [
    "# set directories\n",
    "metadata_dir = os.path.join(DATA_DIR, DATASET_NAME,'processed/metadata')\n",
    "db_path = os.path.join(DB_DIR, f'{DATASET_NAME}.db')\n",
    "\n",
    "\n",
    "# define input tables and metadata \n",
    "real_tbl_lst=['s1_ben_sum_2008','s1_ben_sum_2009','s1_ben_sum_2010','s1_carrier_1a','s1_carrier_1b','s1_inpatient','s1_outpatient','s1_prescrp']\n",
    "syn_tbl_lst=['s2_ben_sum_2008','s2_ben_sum_2009','s2_ben_sum_2010','s2_carrier_1a','s2_carrier_1b','s2_inpatient','s2_outpatient','s2_prescrp']\n",
    "\n",
    "metadata_lst = []\n",
    "for tbl_name in real_tbl_lst:\n",
    "    with open(os.path.join(metadata_dir, tbl_name+'.json'), 'r') as f:\n",
    "        metadata_lst.append(json.load(f))"
   ]
  },
  {
   "attachments": {},
   "cell_type": "markdown",
   "metadata": {},
   "source": [
    "### Generate Customized Random Queries"
   ]
  },
  {
   "cell_type": "code",
   "execution_count": 4,
   "metadata": {},
   "outputs": [],
   "source": [
    "conn = sqlite3.connect(db_path) #conneting to databse\n",
    "\n",
    "# Generate queries while customizing class attributes \n",
    "n_queries=10\n",
    "queries = []\n",
    "k = 0\n",
    "while k < n_queries:\n",
    "    query_obj = RndQry(db_path, real_tbl_lst, metadata_lst)\n",
    "    query_obj.no_groupby_vars = 2 # Restrict number of GROUP BY variables to 2\n",
    "    query_obj.no_where_vars = 2 # Restrict number of WHERE variables to 2\n",
    "    query_obj.no_join_tables = 2 # Restrict number of JOIN tables to 2\n",
    "    query_obj.oprtns={ #Customizing operations probabilities\n",
    "        'AGG_OPS': {'AVG': 0, 'SUM': 1, 'MAX': 0, 'MIN': 0},\n",
    "        'LOGIC_OPS': {'AND': 1, 'OR': 0},\n",
    "        'NOT_STATE': {'0': 1, '1': 0},\n",
    "        'CAT_OPS': {'=': 0.25, '<>': 0.25, 'LIKE': 0.15, 'IN': 0.15, 'NOT LIKE': 0.1, 'NOT IN': 0.1},\n",
    "        'CNT_OPS': {'=': 0.2, '>': 0.1, '<': 0.1, '>=': 0.1, '<=': 0.1, '<>': 0.1, 'BETWEEN': 0.2, 'NOT BETWEEN': 0.1},\n",
    "        'DT_OPS': {'=': 0.2, '>': 0.1, '<': 0.1, '>=': 0, '<=': 0, '<>': 0.1, 'BETWEEN': 0.2, 'IN': 0.1, 'NOT BETWEEN': 0.1, 'NOT IN': 0.1},\n",
    "        'FILTER_TYPE': {'WHERE': 0.5, 'AND': 0.5},\n",
    "        'JOIN_TYPE': {'JOIN': 0, 'LEFT JOIN': 1}\n",
    "    }\n",
    "    real_expr, real_groupby_lst, real_from_tbl, real_join_tbl_lst, agg_fntn_terms = query_obj.compile_aggfltr_expr()\n",
    "    if not query_obj._test_query_time(real_expr): #skipping query if it takes a long time to return results\n",
    "        continue\n",
    "    rnd_query = query_obj.make_twin_aggfltr_query(\n",
    "        syn_tbl_lst, real_expr, real_groupby_lst, real_from_tbl, real_join_tbl_lst, agg_fntn_terms)\n",
    "    matched_query = query_obj._match_queries4agg(rnd_query)\n",
    "    scored_query = query_obj.gather_metrics4agg(matched_query)\n",
    "    queries.append(scored_query)\n",
    "    k += 1\n",
    "    print('Generated Random Aggregate Filter Query - {} '.format(str(k)))\n",
    "    "
   ]
  },
  {
   "attachments": {},
   "cell_type": "markdown",
   "metadata": {},
   "source": [
    "### REPORTING "
   ]
  },
  {
   "cell_type": "code",
   "execution_count": null,
   "metadata": {},
   "outputs": [],
   "source": [
    "rprtr=QryRprt(real_tbl_lst, queries)\n",
    "rprtr.print_html_mltpl(f'{DATASET_NAME}_customized.html')\n",
    "rprtr.plot_violin('Hellinger',f'{DATASET_NAME}_customized_hlngr.png' )\n",
    "rprtr.plot_violin('Euclidean',f'{DATASET_NAME}_customized_ecldn.png' )"
   ]
  }
 ],
 "metadata": {
  "kernelspec": {
   "display_name": ".env_dev",
   "language": "python",
   "name": "python3"
  },
  "language_info": {
   "codemirror_mode": {
    "name": "ipython",
    "version": 3
   },
   "file_extension": ".py",
   "mimetype": "text/x-python",
   "name": "python",
   "nbconvert_exporter": "python",
   "pygments_lexer": "ipython3",
   "version": "3.8.2"
  },
  "vscode": {
   "interpreter": {
    "hash": "43e50e087ad1b803a9194e2edbfbb2781922b068ec9f5f8351ab6e27c02de616"
   }
  }
 },
 "nbformat": 4,
 "nbformat_minor": 2
}

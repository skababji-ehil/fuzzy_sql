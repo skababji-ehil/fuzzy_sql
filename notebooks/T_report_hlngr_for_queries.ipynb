{
 "cells": [
  {
   "cell_type": "markdown",
   "metadata": {},
   "source": [
    "### Generate a report for Hellinger Distance between real and synthetic random queries"
   ]
  },
  {
   "cell_type": "code",
   "execution_count": null,
   "metadata": {},
   "outputs": [],
   "source": [
    "from pathlib import Path\n",
    "import os\n",
    "import sys \n",
    "import pandas as pd\n",
    "from csv import writer  \n",
    "import numpy as np\n",
    "import weasyprint\n",
    "\n",
    "sys.path.append('/home/samer/projects/fuzzy_sql/src') #This will enable reading the modules\n",
    "from fuzzy_sql.fuzzy_sql import *\n"
   ]
  },
  {
   "cell_type": "code",
   "execution_count": null,
   "metadata": {},
   "outputs": [],
   "source": [
    "#set paths\n",
    "root_dir=Path('/home/samer/projects/fuzzy_sql')\n",
    "real_dir=os.path.join(root_dir,'data/tabular/ready/real')\n",
    "meta_dir=os.path.join(root_dir,'data/tabular/ready/metadata')\n",
    "syn_dir=os.path.join(root_dir,'data/tabular/ready/synthetic')"
   ]
  },
  {
   "cell_type": "code",
   "execution_count": null,
   "metadata": {},
   "outputs": [],
   "source": [
    "#extract real and synthetic data names\n",
    "real_names=extract_fnames(real_dir)\n",
    "real_names.sort()\n",
    "names_dict=find_syn_fnames(syn_dir, real_names)"
   ]
  },
  {
   "cell_type": "code",
   "execution_count": null,
   "metadata": {},
   "outputs": [],
   "source": [
    "def summarize_queries(names_dict,no_of_queries):\n",
    "    syn_dict={} #dictionary of Hellinger and Euclidean Stats per each synthetic trial\n",
    "    syn_dict['real_name']=[]\n",
    "    syn_dict['syn_name']=[]\n",
    "    syn_dict['no_queries']=[]\n",
    "    syn_dict['hlngr_mean']=[]\n",
    "    syn_dict['hlngr_median']=[]\n",
    "    syn_dict['hlngr_stddev']=[]\n",
    "    syn_dict['ecldn_mean']=[]\n",
    "    syn_dict['ecldn_median']=[]\n",
    "    syn_dict['ecldn_stddev']=[]\n",
    "\n",
    "    for real_name in names_dict:\n",
    "        real_path=os.path.join(real_dir, real_name+'.csv')\n",
    "        meta_path=os.path.join(meta_dir, real_name+'.json') #If no corresponding metadata is available, skip tuple\n",
    "        if not os.path.exists(meta_path): # skip if there is no metadata defined for the dataset\n",
    "                continue\n",
    "        if len(names_dict[real_name])==0: #skip if  no synthetic data is available \n",
    "            continue\n",
    "        \n",
    "        for syn_name in names_dict[real_name]:\n",
    "            syn_dict['real_name'].append(real_name)\n",
    "            syn_dict['syn_name'].append(syn_name)\n",
    "            syn_path=os.path.join(syn_dir, syn_name+'.csv')\n",
    "            scored_queries=fuzz_tabular(no_of_queries,'twin_aggfltr', real_path, meta_path,syn_path,run_folder='../.runs', printme=False)\n",
    "            syn_dict['no_queries'].append(no_of_queries)\n",
    "            syn_dict['hlngr_mean'].append(np.nanmean(scored_queries['hlngr_dist']))\n",
    "            syn_dict['hlngr_median'].append(np.nanmedian(scored_queries['hlngr_dist']))\n",
    "            syn_dict['hlngr_stddev'].append(np.nanstd(scored_queries['hlngr_dist']))\n",
    "            syn_dict['ecldn_mean'].append(np.nanmean(scored_queries['ecldn_dist']))\n",
    "            syn_dict['ecldn_median'].append(np.nanmedian(scored_queries['ecldn_dist']))\n",
    "            syn_dict['ecldn_stddev'].append(np.nanstd(scored_queries['ecldn_dist']))\n",
    "            \n",
    "    return pd.DataFrame(syn_dict)\n",
    "\n",
    "   "
   ]
  },
  {
   "cell_type": "code",
   "execution_count": null,
   "metadata": {},
   "outputs": [],
   "source": [
    "#Generate most abstrcated summary per real dataset\n",
    "#test_dict={k: names_dict[k] for k in list(names_dict)[:2]}\n",
    "syn_summary=summarize_queries(names_dict,10)\n",
    "counts=syn_summary.groupby('real_name').count()['hlngr_mean'].values\n",
    "real_summary=syn_summary.groupby(['real_name']).mean()\n",
    "real_summary.insert(1,'no_syn',counts)\n"
   ]
  },
  {
   "cell_type": "code",
   "execution_count": null,
   "metadata": {},
   "outputs": [],
   "source": [
    "# Generate Detailed Report in HTML\n",
    "with open('../reports/SEP202022/frame_syn.html','r') as f:\n",
    "    html_string=f.read()\n",
    "with open('../reports/SEP202022/report_syn.html', 'w') as f:\n",
    "    f.write(html_string.format(pandas_table=syn_summary.to_html(classes='mystyle')))\n",
    "\n",
    "\n",
    "# Generate Report in HTML\n",
    "with open('../reports/SEP202022/frame_real.html','r') as f:\n",
    "    html_string=f.read()\n",
    "with open('../reports/SEP202022/report_real.html', 'w') as f:\n",
    "    f.write(html_string.format(pandas_table=real_summary.to_html(classes='mystyle')))"
   ]
  },
  {
   "cell_type": "code",
   "execution_count": null,
   "metadata": {},
   "outputs": [],
   "source": [
    "#Convert Detailed to pdf\n",
    "# with open('../reports/SEP202022/hlngr_queries_syn_report.html','r') as f:\n",
    "#     html_string=f.read()\n",
    "# #html_string=html_string.replace('\\n',\"\")\n",
    "\n",
    "\n",
    "pdf=weasyprint.HTML('../reports/SEP202022/report_syn.html').write_pdf()\n",
    "with open('../reports/SEP202022/report_syn.pdf','w+b') as f:\n",
    "    f.write(pdf) \n",
    "\n",
    "\n",
    "\n",
    "#Convert summary to pdf\n",
    "# with open('../reports/SEP202022/hlngr_queries_report.html','r') as f:\n",
    "#     html_string=f.read()\n",
    "# #html_string=html_string.replace('\\n',\"\")\n",
    "\n",
    "import weasyprint\n",
    "pdf=weasyprint.HTML('../reports/SEP202022/report_real.html').write_pdf()\n",
    "with open('../reports/SEP202022/report_real.pdf','w+b') as f:\n",
    "    f.write(pdf) "
   ]
  }
 ],
 "metadata": {
  "kernelspec": {
   "display_name": "Python 3 (ipykernel)",
   "language": "python",
   "name": "python3"
  },
  "language_info": {
   "codemirror_mode": {
    "name": "ipython",
    "version": 3
   },
   "file_extension": ".py",
   "mimetype": "text/x-python",
   "name": "python",
   "nbconvert_exporter": "python",
   "pygments_lexer": "ipython3",
   "version": "3.8.10"
  },
  "vscode": {
   "interpreter": {
    "hash": "6cf594385e3e378fbba23be52d8fa8a1ff0f44816650af8bcee05fc5c8211531"
   }
  }
 },
 "nbformat": 4,
 "nbformat_minor": 2
}

{
 "cells": [
  {
   "attachments": {},
   "cell_type": "markdown",
   "metadata": {},
   "source": [
    "### An example for longitudinal single child data"
   ]
  },
  {
   "cell_type": "code",
   "execution_count": 1,
   "metadata": {},
   "outputs": [],
   "source": [
    "#! pip install --upgrade pip\n",
    "#! pip install fuzzy_sql-1.1.1b0-py3-none-any.whl\n",
    "#%matplotlib inline"
   ]
  },
  {
   "cell_type": "code",
   "execution_count": 2,
   "metadata": {},
   "outputs": [],
   "source": [
    "from config_paths import *\n",
    "import sys\n",
    "sys.path.append(str(SRC_DIR))\n",
    "\n",
    "from fuzzy_sql.fuzzy_sql import *\n",
    "import json\n",
    "import os\n",
    "from pathlib import Path\n",
    "\n",
    "DATASET_NAME='cal'\n",
    "\n",
    "\n",
    "import matplotlib\n",
    "matplotlib.use('Agg')"
   ]
  },
  {
   "cell_type": "markdown",
   "metadata": {},
   "source": [
    "### PREPROCESSING AND IMPORTING DATA INTO DATABASE\n",
    "##### (This is typically done for one time only)"
   ]
  },
  {
   "cell_type": "code",
   "execution_count": 3,
   "metadata": {},
   "outputs": [],
   "source": [
    "# set directories\n",
    "metadata_dir = os.path.join(DATA_DIR, DATASET_NAME,'processed/metadata')\n",
    "real_dir = os.path.join(DATA_DIR,DATASET_NAME, 'processed/real')\n",
    "syn_dir = os.path.join(DATA_DIR,DATASET_NAME, 'processed/synthetic')\n",
    "db_path = os.path.join(DB_DIR, f'{DATASET_NAME}.db')\n",
    "\n",
    "\n",
    "# identify input data file names\n",
    "real_csvs=[\"b_sample.csv\",\"l_sample.csv\"]\n",
    "meta_jsons=['b_sample.json','l_sample.json']\n",
    "syn_csvs=['b_sample_syn_01.csv','l_sample_syn_01.csv']"
   ]
  },
  {
   "cell_type": "code",
   "execution_count": 4,
   "metadata": {},
   "outputs": [
    {
     "name": "stdout",
     "output_type": "stream",
     "text": [
      "Table b_sample is created in the database\n",
      ".... The index: IDX_b_sample_PL_UIC20 is created for the table: b_sample in the database\n",
      ".... The index: IDX_b_sample_PNUM_R is created for the table: b_sample in the database\n",
      ".... The index: IDX_b_sample_PL_NCHS2 is created for the table: b_sample in the database\n",
      ".... The index: IDX_b_sample_PL_CBSA is created for the table: b_sample in the database\n",
      ".... The index: IDX_b_sample_DIED is created for the table: b_sample in the database\n",
      ".... The index: IDX_b_sample_MEDINCST is created for the table: b_sample in the database\n",
      ".... The index: IDX_b_sample_PL_RUCC2 is created for the table: b_sample in the database\n",
      ".... The index: IDX_b_sample_FEMALE is created for the table: b_sample in the database\n",
      ".... The index: IDX_b_sample_Homeless is created for the table: b_sample in the database\n",
      ".... The index: IDX_b_sample_AGE is created for the table: b_sample in the database\n",
      ".... The index: IDX_b_sample_HISPANIC is created for the table: b_sample in the database\n",
      ".... The index: IDX_b_sample_RACE is created for the table: b_sample in the database\n",
      ".... The index: IDX_b_sample_HOSPBRTH is created for the table: b_sample in the database\n",
      ".... The index: IDX_b_sample_DNR is created for the table: b_sample in the database\n",
      ".... The index: IDX_b_sample_PL_UR_CA is created for the table: b_sample in the database\n",
      ".... The index: IDX_b_sample_NEOMAT is created for the table: b_sample in the database\n",
      ".... The index: IDX_b_sample_PL_RUCA4 is created for the table: b_sample in the database\n",
      "Table b_sample_syn_01 is created in the database\n",
      ".... The index: IDX_b_sample_syn_01_PL_UIC20 is created for the table: b_sample_syn_01 in the database\n",
      ".... The index: IDX_b_sample_syn_01_PNUM_R is created for the table: b_sample_syn_01 in the database\n",
      ".... The index: IDX_b_sample_syn_01_PL_NCHS2 is created for the table: b_sample_syn_01 in the database\n",
      ".... The index: IDX_b_sample_syn_01_PL_CBSA is created for the table: b_sample_syn_01 in the database\n",
      ".... The index: IDX_b_sample_syn_01_DIED is created for the table: b_sample_syn_01 in the database\n",
      ".... The index: IDX_b_sample_syn_01_MEDINCST is created for the table: b_sample_syn_01 in the database\n",
      ".... The index: IDX_b_sample_syn_01_PL_RUCC2 is created for the table: b_sample_syn_01 in the database\n",
      ".... The index: IDX_b_sample_syn_01_FEMALE is created for the table: b_sample_syn_01 in the database\n",
      ".... The index: IDX_b_sample_syn_01_Homeless is created for the table: b_sample_syn_01 in the database\n",
      ".... The index: IDX_b_sample_syn_01_AGE is created for the table: b_sample_syn_01 in the database\n",
      ".... The index: IDX_b_sample_syn_01_HISPANIC is created for the table: b_sample_syn_01 in the database\n",
      ".... The index: IDX_b_sample_syn_01_RACE is created for the table: b_sample_syn_01 in the database\n",
      ".... The index: IDX_b_sample_syn_01_HOSPBRTH is created for the table: b_sample_syn_01 in the database\n",
      ".... The index: IDX_b_sample_syn_01_DNR is created for the table: b_sample_syn_01 in the database\n",
      ".... The index: IDX_b_sample_syn_01_PL_UR_CA is created for the table: b_sample_syn_01 in the database\n",
      ".... The index: IDX_b_sample_syn_01_NEOMAT is created for the table: b_sample_syn_01 in the database\n",
      ".... The index: IDX_b_sample_syn_01_PL_RUCA4 is created for the table: b_sample_syn_01 in the database\n",
      "Table l_sample is created in the database\n",
      ".... The index: IDX_l_sample_Date is created for the table: l_sample in the database\n",
      ".... The index: IDX_l_sample_PNUM_R is created for the table: l_sample in the database\n",
      ".... The index: IDX_l_sample_DRGVER is created for the table: l_sample in the database\n",
      ".... The index: IDX_l_sample_ASCHED is created for the table: l_sample in the database\n",
      ".... The index: IDX_l_sample_NECODE is created for the table: l_sample in the database\n",
      ".... The index: IDX_l_sample_TOTCHG is created for the table: l_sample in the database\n",
      ".... The index: IDX_l_sample_HCUP_ED is created for the table: l_sample in the database\n",
      ".... The index: IDX_l_sample_NDX is created for the table: l_sample in the database\n",
      ".... The index: IDX_l_sample_LOS is created for the table: l_sample in the database\n",
      ".... The index: IDX_l_sample_AWEEKEND is created for the table: l_sample in the database\n",
      ".... The index: IDX_l_sample_DX1 is created for the table: l_sample in the database\n",
      ".... The index: IDX_l_sample_PROCTYPE is created for the table: l_sample in the database\n",
      ".... The index: IDX_l_sample_MDC is created for the table: l_sample in the database\n",
      ".... The index: IDX_l_sample_NPR is created for the table: l_sample in the database\n",
      "Table l_sample_syn_01 is created in the database\n",
      ".... The index: IDX_l_sample_syn_01_Date is created for the table: l_sample_syn_01 in the database\n",
      ".... The index: IDX_l_sample_syn_01_PNUM_R is created for the table: l_sample_syn_01 in the database\n",
      ".... The index: IDX_l_sample_syn_01_DRGVER is created for the table: l_sample_syn_01 in the database\n",
      ".... The index: IDX_l_sample_syn_01_ASCHED is created for the table: l_sample_syn_01 in the database\n",
      ".... The index: IDX_l_sample_syn_01_NECODE is created for the table: l_sample_syn_01 in the database\n",
      ".... The index: IDX_l_sample_syn_01_TOTCHG is created for the table: l_sample_syn_01 in the database\n",
      ".... The index: IDX_l_sample_syn_01_HCUP_ED is created for the table: l_sample_syn_01 in the database\n",
      ".... The index: IDX_l_sample_syn_01_NDX is created for the table: l_sample_syn_01 in the database\n",
      ".... The index: IDX_l_sample_syn_01_LOS is created for the table: l_sample_syn_01 in the database\n",
      ".... The index: IDX_l_sample_syn_01_AWEEKEND is created for the table: l_sample_syn_01 in the database\n",
      ".... The index: IDX_l_sample_syn_01_DX1 is created for the table: l_sample_syn_01 in the database\n",
      ".... The index: IDX_l_sample_syn_01_PROCTYPE is created for the table: l_sample_syn_01 in the database\n",
      ".... The index: IDX_l_sample_syn_01_MDC is created for the table: l_sample_syn_01 in the database\n",
      ".... The index: IDX_l_sample_syn_01_NPR is created for the table: l_sample_syn_01 in the database\n"
     ]
    }
   ],
   "source": [
    "conn = sqlite3.connect(db_path) #conneting to databse\n",
    "with conn:  \n",
    "    for real_csv,meta_json,syn_csv in zip(real_csvs,meta_jsons,syn_csvs):\n",
    "        #Import real\n",
    "        data,_=prep_data_for_db(os.path.join(real_dir,real_csv)) # Note: This function  can be used to quickly generate metadata template, but this is not shown here.\n",
    "        with open(os.path.join(metadata_dir, meta_json), 'r') as f:\n",
    "            metadata=json.load(f)\n",
    "        candidate_db_idx=get_vars_to_index(metadata,data)\n",
    "        table_name=Path(real_csv).stem\n",
    "        make_table(table_name, data, conn,indx_vars=candidate_db_idx)\n",
    "        #Import syn\n",
    "        data,_=prep_data_for_db(os.path.join(syn_dir,syn_csv)) # Note: This function  can be used to quickly generate metadata template, but this is not shown here.\n",
    "        table_name=Path(syn_csv).stem\n",
    "        make_table(table_name, data, conn,indx_vars=candidate_db_idx)\n",
    "\n",
    "    "
   ]
  },
  {
   "cell_type": "markdown",
   "metadata": {},
   "source": [
    "### GENERATING RANDOM QUERIES "
   ]
  },
  {
   "cell_type": "code",
   "execution_count": 5,
   "metadata": {},
   "outputs": [],
   "source": [
    "# Create lists with table names. Table names shall be identical to the names initially created in the database.\n",
    "real_tbl_lst=[Path(real_csv).stem for real_csv in real_csvs]\n",
    "syn_tbl_lst=[Path(syn_csv).stem for syn_csv in syn_csvs]"
   ]
  },
  {
   "cell_type": "code",
   "execution_count": 6,
   "metadata": {},
   "outputs": [],
   "source": [
    "# Read metadata from the provided json files into a list of dictionaries. \n",
    "# Note 1: Both real and synthetic data should have the same metadata file.\n",
    "# Note 2: Each input table in real_tbl_lst above shall have its own metadata file.\n",
    "# Note 2: The json file name shall match that of the real data file name in real_tbl_lst. \n",
    "metadata_lst = []\n",
    "for tbl_name in real_tbl_lst:\n",
    "    with open(os.path.join(metadata_dir, tbl_name+'.json'), 'r') as f:\n",
    "        metadata_lst.append(json.load(f))"
   ]
  },
  {
   "cell_type": "code",
   "execution_count": 7,
   "metadata": {},
   "outputs": [
    {
     "name": "stdout",
     "output_type": "stream",
     "text": [
      "Generated Random Aggregate Filter Query - 1 in 179.3 seconds.\n",
      "Cant wait any further! I am skipping this one!\n",
      "Cant wait any further! I am skipping this one!\n",
      "Generated Random Aggregate Filter Query - 2 in 10.8 seconds.\n",
      "Cant wait any further! I am skipping this one!\n",
      "Generated Random Aggregate Filter Query - 3 in 11.8 seconds.\n",
      "Generated Random Aggregate Filter Query - 4 in 15.5 seconds.\n",
      "Generated Random Aggregate Filter Query - 5 in 17.8 seconds.\n",
      "Generated Random Aggregate Filter Query - 6 in 14.2 seconds.\n",
      "Generated Random Aggregate Filter Query - 7 in 12.8 seconds.\n",
      "Generated Random Aggregate Filter Query - 8 in 10.6 seconds.\n",
      "Generated Random Aggregate Filter Query - 9 in 14.1 seconds.\n",
      "Cant wait any further! I am skipping this one!\n",
      "Generated Random Aggregate Filter Query - 10 in 12.6 seconds.\n"
     ]
    }
   ],
   "source": [
    "rnd_queries=gen_aggfltr_queries(10,db_path, real_tbl_lst, metadata_lst,  syn_tbl_lst )"
   ]
  },
  {
   "attachments": {},
   "cell_type": "markdown",
   "metadata": {},
   "source": [
    "### REPORTING "
   ]
  },
  {
   "cell_type": "code",
   "execution_count": 8,
   "metadata": {},
   "outputs": [],
   "source": [
    "rprtr=QryRprt(real_tbl_lst, rnd_queries)\n",
    "rprtr.print_html_mltpl(f'{DATASET_NAME}.html')\n",
    "rprtr.plot_violin('Hellinger',f'{DATASET_NAME}_hlngr.png' )\n",
    "rprtr.plot_violin('Euclidean',f'{DATASET_NAME}_ecldn.png' )"
   ]
  }
 ],
 "metadata": {
  "kernelspec": {
   "display_name": ".env_dev",
   "language": "python",
   "name": "python3"
  },
  "language_info": {
   "codemirror_mode": {
    "name": "ipython",
    "version": 3
   },
   "file_extension": ".py",
   "mimetype": "text/x-python",
   "name": "python",
   "nbconvert_exporter": "python",
   "pygments_lexer": "ipython3",
   "version": "3.8.10"
  },
  "vscode": {
   "interpreter": {
    "hash": "6cf594385e3e378fbba23be52d8fa8a1ff0f44816650af8bcee05fc5c8211531"
   }
  }
 },
 "nbformat": 4,
 "nbformat_minor": 2
}

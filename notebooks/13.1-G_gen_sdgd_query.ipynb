{
 "cells": [
  {
   "cell_type": "code",
   "execution_count": 1,
   "metadata": {},
   "outputs": [],
   "source": [
    "import sys\n",
    "sys.path.append('/home/samer/projects/fuzzy_sql/src') #This will enable reading the modules\n",
    "from pathlib import Path\n",
    "import os\n",
    "import json\n",
    "\n",
    "from fuzzy_sql.rnd_query import RND_QUERY\n",
    "from fuzzy_sql.fuzzy_sql import *"
   ]
  },
  {
   "cell_type": "code",
   "execution_count": 2,
   "metadata": {},
   "outputs": [],
   "source": [
    "#set directories\n",
    "root_dir=Path('/home/samer/projects/fuzzy_sql')\n",
    "metadata_dir=os.path.join(root_dir,'data/sdgd/processed/metadata')\n",
    "db_path=os.path.join(root_dir,'db/sdgd.db')"
   ]
  },
  {
   "cell_type": "code",
   "execution_count": 3,
   "metadata": {},
   "outputs": [],
   "source": [
    "#define input tables and metadata\n",
    "\n",
    "tbl_names_lst=[\"C1\"]\n",
    "\n",
    "metadata_lst=[]\n",
    "for tbl_name in tbl_names_lst:\n",
    "    with open(os.path.join(metadata_dir,tbl_name+'.json'),'r') as f:\n",
    "        metadata_lst.append(json.load(f))"
   ]
  },
  {
   "cell_type": "code",
   "execution_count": 4,
   "metadata": {},
   "outputs": [
    {
     "name": "stdout",
     "output_type": "stream",
     "text": [
      "Metadata for table C1 is valid.\n",
      "Parameter input is valid.\n"
     ]
    }
   ],
   "source": [
    "#connect to db\n",
    "conn = sqlite3.connect(db_path)\n",
    "self=RND_QUERY(conn, tbl_names_lst, metadata_lst)"
   ]
  },
  {
   "cell_type": "markdown",
   "metadata": {},
   "source": [
    "# Generate Random  queries "
   ]
  },
  {
   "cell_type": "code",
   "execution_count": 5,
   "metadata": {},
   "outputs": [
    {
     "name": "stdout",
     "output_type": "stream",
     "text": [
      "no_of_rows=167\n",
      "no_of_cols=5\n",
      "product=0.835\n",
      "\n",
      "\n",
      "SELECT income, relationship, occupation, COUNT(*), SUM(capital)  FROM C1  GROUP BY income, relationship, occupation\n"
     ]
    }
   ],
   "source": [
    "#Single Aggregate\n",
    "single_expr,groupby_lst,from_tbl, join_tbl_lst, agg_fntn_terms=self.compile_agg_expr() \n",
    "rnd_query=self.make_single_agg_query(single_expr,groupby_lst,from_tbl, join_tbl_lst, agg_fntn_terms)\n",
    "\n",
    "\n",
    "n_rows=rnd_query['query_desc']['n_rows']\n",
    "n_cols=rnd_query['query_desc']['n_cols']\n",
    "\n",
    "print(f\"no_of_rows={n_rows}\\nno_of_cols={n_cols}\\nproduct={n_rows*n_cols/1000}\")\n",
    "print(\"\\n\")\n",
    "print(rnd_query['query_desc']['sql'])"
   ]
  },
  {
   "cell_type": "code",
   "execution_count": 6,
   "metadata": {},
   "outputs": [
    {
     "data": {
      "text/plain": [
       "{'type': 'single_agg',\n",
       " 'agg_fntn': ('SUM', 'capital'),\n",
       " 'grpby_vars': ['income', 'relationship', 'occupation'],\n",
       " 'from_tbl_name': 'C1',\n",
       " 'join_tbl_name_lst': [],\n",
       " 'sql': 'SELECT income, relationship, occupation, COUNT(*), SUM(capital)  FROM C1  GROUP BY income, relationship, occupation',\n",
       " 'n_rows': 167,\n",
       " 'n_cols': 5}"
      ]
     },
     "execution_count": 6,
     "metadata": {},
     "output_type": "execute_result"
    }
   ],
   "source": [
    "rnd_query['query_desc']"
   ]
  },
  {
   "cell_type": "code",
   "execution_count": 7,
   "metadata": {},
   "outputs": [
    {
     "name": "stdout",
     "output_type": "stream",
     "text": [
      "SELECT sex, native_country, occupation, COUNT(*), SUM(hours_per_week)  FROM C1  GROUP BY sex, native_country, occupation\n",
      "REAL:\n",
      "no_of_rows=775\n",
      "no_of_cols=5\n",
      "product=3.875\n",
      "\n",
      "\n",
      "SELECT sex, native_country, occupation, COUNT(*), SUM(hours_per_week)  FROM C1_syn_default_1  GROUP BY sex, native_country, occupation\n",
      "SYN:\n",
      "no_of_rows=913\n",
      "no_of_cols=5\n",
      "product=4.565\n",
      "\n",
      "\n"
     ]
    }
   ],
   "source": [
    "# Twin Aggregate \n",
    "\n",
    "syn_tbl_name_lst=['C1_syn_default_1']\n",
    "real_expr,real_groupby_lst,real_from_tbl, real_join_tbl_lst,agg_fntn_terms=self.compile_agg_expr()\n",
    "rnd_query=self.make_twin_agg_query(syn_tbl_name_lst,real_expr,real_groupby_lst,real_from_tbl, real_join_tbl_lst,agg_fntn_terms)\n",
    "\n",
    "n_rows_real=rnd_query['query_desc']['n_rows_real']\n",
    "n_cols_real=rnd_query['query_desc']['n_cols_real']\n",
    "n_rows_syn=rnd_query['query_desc']['n_rows_syn']\n",
    "n_cols_syn=rnd_query['query_desc']['n_cols_syn']\n",
    "\n",
    "print(rnd_query['query_desc']['sql_real'])\n",
    "print(f\"REAL:\\nno_of_rows={n_rows_real}\\nno_of_cols={n_cols_real}\\nproduct={n_rows_real*n_cols_real/1000}\\n\\n\")\n",
    "\n",
    "print(rnd_query['query_desc']['sql_syn'])\n",
    "print(f\"SYN:\\nno_of_rows={n_rows_syn}\\nno_of_cols={n_cols_syn}\\nproduct={n_rows_syn*n_cols_syn/1000}\\n\\n\")\n",
    "\n"
   ]
  },
  {
   "cell_type": "code",
   "execution_count": 8,
   "metadata": {},
   "outputs": [
    {
     "data": {
      "text/plain": [
       "{'type': 'twin_agg',\n",
       " 'agg_fntn': ('SUM', 'hours_per_week'),\n",
       " 'grpby_vars': ['sex', 'native_country', 'occupation'],\n",
       " 'from_tbl_name_real': 'C1',\n",
       " 'join_tbl_name_lst_real': [],\n",
       " 'sql_real': 'SELECT sex, native_country, occupation, COUNT(*), SUM(hours_per_week)  FROM C1  GROUP BY sex, native_country, occupation',\n",
       " 'n_cols_real': 5,\n",
       " 'n_rows_real': 775,\n",
       " 'from_tbl_name_syn': 'C1_syn_default_1',\n",
       " 'join_tbl_name_lst_syn': [],\n",
       " 'sql_syn': 'SELECT sex, native_country, occupation, COUNT(*), SUM(hours_per_week)  FROM C1_syn_default_1  GROUP BY sex, native_country, occupation',\n",
       " 'n_cols_syn': 5,\n",
       " 'n_rows_syn': 913}"
      ]
     },
     "execution_count": 8,
     "metadata": {},
     "output_type": "execute_result"
    }
   ],
   "source": [
    "rnd_query['query_desc']"
   ]
  },
  {
   "cell_type": "code",
   "execution_count": 10,
   "metadata": {},
   "outputs": [
    {
     "name": "stdout",
     "output_type": "stream",
     "text": [
      "no_of_rows=8953\n",
      "no_of_cols=13\n",
      "product=116.389\n",
      "\n",
      "\n",
      "SELECT *  FROM C1  WHERE   relationship LIKE 'Husband' AND  occupation NOT LIKE 'Other-service' AND NOT  education <> 'Some-college' AND  race IN ('White') AND  native_country IN ('United-States') AND  marital_status LIKE 'Divorced' AND  fnlwgt = 72338 AND  workclass <> 'State-gov' AND  income = '<=50K' AND NOT  sex NOT LIKE 'Female' AND  capital < 0 AND NOT  age BETWEEN 52 AND 78 OR  hours_per_week BETWEEN 42 AND 50 \n"
     ]
    }
   ],
   "source": [
    "#Single Filter\n",
    "\n",
    "# self.no_groupby_vars=2\n",
    "# self.no_where_vars=2\n",
    "# self.max_in_terms=2\n",
    "\n",
    "single_expr,from_tbl, join_tbl_lst =self.compile_fltr_expr()\n",
    "rnd_query=self.make_single_fltr_query(single_expr,from_tbl, join_tbl_lst)\n",
    "\n",
    "\n",
    "n_rows=rnd_query['query_desc']['n_rows']\n",
    "n_cols=rnd_query['query_desc']['n_cols']\n",
    "\n",
    "print(f\"no_of_rows={n_rows}\\nno_of_cols={n_cols}\\nproduct={n_rows*n_cols/1000}\")\n",
    "print(\"\\n\")\n",
    "print(rnd_query['query_desc']['sql'])"
   ]
  },
  {
   "cell_type": "code",
   "execution_count": 11,
   "metadata": {},
   "outputs": [
    {
     "data": {
      "text/plain": [
       "{'type': 'single_fltr',\n",
       " 'from_tbl_name': 'C1',\n",
       " 'join_tbl_name_lst': [],\n",
       " 'sql': \"SELECT *  FROM C1  WHERE   relationship LIKE 'Husband' AND  occupation NOT LIKE 'Other-service' AND NOT  education <> 'Some-college' AND  race IN ('White') AND  native_country IN ('United-States') AND  marital_status LIKE 'Divorced' AND  fnlwgt = 72338 AND  workclass <> 'State-gov' AND  income = '<=50K' AND NOT  sex NOT LIKE 'Female' AND  capital < 0 AND NOT  age BETWEEN 52 AND 78 OR  hours_per_week BETWEEN 42 AND 50 \",\n",
       " 'n_rows': 8953,\n",
       " 'n_cols': 13}"
      ]
     },
     "execution_count": 11,
     "metadata": {},
     "output_type": "execute_result"
    }
   ],
   "source": [
    "rnd_query['query_desc']"
   ]
  },
  {
   "cell_type": "code",
   "execution_count": 13,
   "metadata": {},
   "outputs": [
    {
     "name": "stdout",
     "output_type": "stream",
     "text": [
      "REAL:\n",
      "no_of_rows=205\n",
      "no_of_cols=13\n",
      "product=2.665\n",
      "\n",
      "\n",
      "SYN:\n",
      "no_of_rows=1381\n",
      "no_of_cols=13\n",
      "product=17.953\n",
      "\n",
      "\n",
      "SELECT *  FROM C1  WHERE   hours_per_week = 40 AND NOT  native_country <> 'United-States' AND  relationship <> 'Husband' AND  age BETWEEN 38 AND 43 AND  occupation NOT LIKE 'Handlers-cleaners' AND NOT  race = 'White' AND  marital_status NOT LIKE 'Divorced' \n",
      "\n",
      "\n",
      "SELECT *  FROM C1_syn_default_1  WHERE   hours_per_week = 40 AND NOT  native_country <> 'United-States' AND  relationship <> 'Husband' AND  age BETWEEN 38 AND 43 AND  occupation NOT LIKE 'Handlers-cleaners' AND NOT  race = 'White' AND  marital_status NOT LIKE 'Divorced' \n"
     ]
    }
   ],
   "source": [
    "# Twin Filter \n",
    "\n",
    "\n",
    "syn_tbl_name_lst=['C1_syn_default_1']\n",
    "real_expr,real_from_tbl, real_join_tbl_lst =self.compile_fltr_expr()\n",
    "rnd_query=self.make_twin_fltr_query(syn_tbl_name_lst,real_expr,real_from_tbl, real_join_tbl_lst)\n",
    "\n",
    "n_rows_real=rnd_query['query_desc']['n_rows_real']\n",
    "n_cols_real=rnd_query['query_desc']['n_cols_real']\n",
    "n_rows_syn=rnd_query['query_desc']['n_rows_syn']\n",
    "n_cols_syn=rnd_query['query_desc']['n_cols_syn']\n",
    "\n",
    "print(f\"REAL:\\nno_of_rows={n_rows_real}\\nno_of_cols={n_cols_real}\\nproduct={n_rows_real*n_cols_real/1000}\\n\\n\")\n",
    "print(f\"SYN:\\nno_of_rows={n_rows_syn}\\nno_of_cols={n_cols_syn}\\nproduct={n_rows_syn*n_cols_syn/1000}\\n\\n\")\n",
    "print(rnd_query['query_desc']['sql_real'])\n",
    "print(\"\\n\")\n",
    "print(rnd_query['query_desc']['sql_syn'])"
   ]
  },
  {
   "cell_type": "code",
   "execution_count": 14,
   "metadata": {},
   "outputs": [
    {
     "data": {
      "text/plain": [
       "{'type': 'twin_fltr',\n",
       " 'from_tbl_name_real': 'C1',\n",
       " 'join_tbl_name_lst_real': [],\n",
       " 'sql_real': \"SELECT *  FROM C1  WHERE   hours_per_week = 40 AND NOT  native_country <> 'United-States' AND  relationship <> 'Husband' AND  age BETWEEN 38 AND 43 AND  occupation NOT LIKE 'Handlers-cleaners' AND NOT  race = 'White' AND  marital_status NOT LIKE 'Divorced' \",\n",
       " 'n_cols_real': 13,\n",
       " 'n_rows_real': 205,\n",
       " 'from_tbl_name_syn': 'C1_syn_default_1',\n",
       " 'join_tbl_name_lst_syn': [],\n",
       " 'sql_syn': \"SELECT *  FROM C1_syn_default_1  WHERE   hours_per_week = 40 AND NOT  native_country <> 'United-States' AND  relationship <> 'Husband' AND  age BETWEEN 38 AND 43 AND  occupation NOT LIKE 'Handlers-cleaners' AND NOT  race = 'White' AND  marital_status NOT LIKE 'Divorced' \",\n",
       " 'n_cols_syn': 13,\n",
       " 'n_rows_syn': 1381}"
      ]
     },
     "execution_count": 14,
     "metadata": {},
     "output_type": "execute_result"
    }
   ],
   "source": [
    "rnd_query['query_desc']"
   ]
  },
  {
   "cell_type": "code",
   "execution_count": 16,
   "metadata": {},
   "outputs": [
    {
     "name": "stdout",
     "output_type": "stream",
     "text": [
      "no_of_rows=6145\n",
      "no_of_cols=10\n",
      "product=61.45\n",
      "\n",
      "\n",
      "SELECT education, income, native_country, marital_status, occupation, sex, workclass, race, COUNT(*), MAX(fnlwgt)  FROM C1  WHERE   native_country LIKE 'United-States'  GROUP BY education, income, native_country, marital_status, occupation, sex, workclass, race\n"
     ]
    }
   ],
   "source": [
    "#Single Aggregate-Filter\n",
    "\n",
    "single_expr,groupby_lst,from_tbl, join_tbl_lst, agg_fntn_terms=self.compile_aggfltr_expr()\n",
    "rnd_query=self.make_single_aggfltr_query(single_expr,groupby_lst,from_tbl, join_tbl_lst, agg_fntn_terms)\n",
    "\n",
    "\n",
    "n_rows=rnd_query['query_desc']['n_rows']\n",
    "n_cols=rnd_query['query_desc']['n_cols']\n",
    "\n",
    "print(f\"no_of_rows={n_rows}\\nno_of_cols={n_cols}\\nproduct={n_rows*n_cols/1000}\")\n",
    "print(\"\\n\")\n",
    "print(rnd_query['query_desc']['sql'])"
   ]
  },
  {
   "cell_type": "code",
   "execution_count": 17,
   "metadata": {},
   "outputs": [
    {
     "name": "stdout",
     "output_type": "stream",
     "text": [
      "SELECT education, income, marital_status, sex, native_country, workclass, occupation, COUNT(*), SUM(fnlwgt)  FROM C1  WHERE   native_country = 'United-States' AND  education = '10th'  GROUP BY education, income, marital_status, sex, native_country, workclass, occupation\n",
      "REAL:\n",
      "no_of_rows=231\n",
      "no_of_cols=9\n",
      "product=2.079\n",
      "\n",
      "\n",
      "SELECT education, income, marital_status, sex, native_country, workclass, occupation, COUNT(*), SUM(fnlwgt)  FROM C1_syn_default_1  WHERE   native_country = 'United-States' AND  education = '10th'  GROUP BY education, income, marital_status, sex, native_country, workclass, occupation\n",
      "SYN:\n",
      "no_of_rows=196\n",
      "no_of_cols=9\n",
      "product=1.764\n",
      "\n",
      "\n"
     ]
    }
   ],
   "source": [
    "# Twin Aggregate-Filter \n",
    "\n",
    "syn_tbl_name_lst=['C1_syn_default_1']\n",
    "real_expr,real_groupby_lst,real_from_tbl, real_join_tbl_lst, agg_fntn_terms=self.compile_aggfltr_expr()\n",
    "rnd_query=self.make_twin_aggfltr_query(syn_tbl_name_lst,real_expr,real_groupby_lst,real_from_tbl, real_join_tbl_lst, agg_fntn_terms)\n",
    "\n",
    "n_rows_real=rnd_query['query_desc']['n_rows_real']\n",
    "n_cols_real=rnd_query['query_desc']['n_cols_real']\n",
    "n_rows_syn=rnd_query['query_desc']['n_rows_syn']\n",
    "n_cols_syn=rnd_query['query_desc']['n_cols_syn']\n",
    "\n",
    "print(rnd_query['query_desc']['sql_real'])\n",
    "print(f\"REAL:\\nno_of_rows={n_rows_real}\\nno_of_cols={n_cols_real}\\nproduct={n_rows_real*n_cols_real/1000}\\n\\n\")\n",
    "\n",
    "print(rnd_query['query_desc']['sql_syn'])\n",
    "print(f\"SYN:\\nno_of_rows={n_rows_syn}\\nno_of_cols={n_cols_syn}\\nproduct={n_rows_syn*n_cols_syn/1000}\\n\\n\")"
   ]
  },
  {
   "cell_type": "code",
   "execution_count": 18,
   "metadata": {},
   "outputs": [],
   "source": [
    "matched_query=self._match_twin_query(rnd_query)\n",
    "scored_query=self.calc_dist_scores(matched_query)"
   ]
  },
  {
   "cell_type": "code",
   "execution_count": 19,
   "metadata": {},
   "outputs": [
    {
     "data": {
      "text/plain": [
       "{'type': 'twin_agg',\n",
       " 'agg_fntn': ('SUM', 'fnlwgt'),\n",
       " 'grpby_vars': ['education',\n",
       "  'income',\n",
       "  'marital_status',\n",
       "  'sex',\n",
       "  'native_country',\n",
       "  'workclass',\n",
       "  'occupation'],\n",
       " 'from_tbl_name_real': 'C1',\n",
       " 'join_tbl_name_lst_real': [],\n",
       " 'sql_real': \"SELECT education, income, marital_status, sex, native_country, workclass, occupation, COUNT(*), SUM(fnlwgt)  FROM C1  WHERE   native_country = 'United-States' AND  education = '10th'  GROUP BY education, income, marital_status, sex, native_country, workclass, occupation\",\n",
       " 'n_cols_real': 9,\n",
       " 'n_rows_real': 231,\n",
       " 'from_tbl_name_syn': 'C1_syn_default_1',\n",
       " 'join_tbl_name_lst_syn': [],\n",
       " 'sql_syn': \"SELECT education, income, marital_status, sex, native_country, workclass, occupation, COUNT(*), SUM(fnlwgt)  FROM C1_syn_default_1  WHERE   native_country = 'United-States' AND  education = '10th'  GROUP BY education, income, marital_status, sex, native_country, workclass, occupation\",\n",
       " 'n_cols_syn': 9,\n",
       " 'n_rows_syn': 196}"
      ]
     },
     "execution_count": 19,
     "metadata": {},
     "output_type": "execute_result"
    }
   ],
   "source": [
    "scored_query['query_desc']"
   ]
  },
  {
   "cell_type": "code",
   "execution_count": 20,
   "metadata": {},
   "outputs": [
    {
     "data": {
      "text/plain": [
       "0.4126832082190124"
      ]
     },
     "execution_count": 20,
     "metadata": {},
     "output_type": "execute_result"
    }
   ],
   "source": [
    "scored_query['query_hlngr_score']"
   ]
  },
  {
   "cell_type": "code",
   "execution_count": 21,
   "metadata": {},
   "outputs": [
    {
     "data": {
      "text/plain": [
       "nan"
      ]
     },
     "execution_count": 21,
     "metadata": {},
     "output_type": "execute_result"
    }
   ],
   "source": [
    "scored_query['query_ecldn_score']"
   ]
  },
  {
   "cell_type": "code",
   "execution_count": null,
   "metadata": {},
   "outputs": [],
   "source": [
    "\n"
   ]
  }
 ],
 "metadata": {
  "kernelspec": {
   "display_name": "Python 3.8.10 ('.env_dev': venv)",
   "language": "python",
   "name": "python3"
  },
  "language_info": {
   "codemirror_mode": {
    "name": "ipython",
    "version": 3
   },
   "file_extension": ".py",
   "mimetype": "text/x-python",
   "name": "python",
   "nbconvert_exporter": "python",
   "pygments_lexer": "ipython3",
   "version": "3.8.10"
  },
  "orig_nbformat": 4,
  "vscode": {
   "interpreter": {
    "hash": "6cf594385e3e378fbba23be52d8fa8a1ff0f44816650af8bcee05fc5c8211531"
   }
  }
 },
 "nbformat": 4,
 "nbformat_minor": 2
}

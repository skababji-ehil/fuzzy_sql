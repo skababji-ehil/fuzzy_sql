{
 "cells": [
  {
   "cell_type": "code",
   "execution_count": 1,
   "metadata": {},
   "outputs": [],
   "source": [
    "import sys\n",
    "sys.path.append('/home/samer/projects/fuzzy_sql/src') #This will enable reading the modules\n",
    "from pathlib import Path\n",
    "import os\n",
    "import json\n",
    "\n",
    "from fuzzy_sql.rnd_query import RND_QUERY\n",
    "from fuzzy_sql.fuzzy_sql import *"
   ]
  },
  {
   "cell_type": "code",
   "execution_count": 2,
   "metadata": {},
   "outputs": [],
   "source": [
    "#set directories\n",
    "root_dir=Path('/home/samer/projects/fuzzy_sql')\n",
    "metadata_dir=os.path.join(root_dir,'data/sdgd/processed/metadata')\n",
    "db_path=os.path.join(root_dir,'db/sdgd.db')"
   ]
  },
  {
   "cell_type": "code",
   "execution_count": 3,
   "metadata": {},
   "outputs": [],
   "source": [
    "#define input tables and metadata\n",
    "\n",
    "tbl_names_lst=[\"C1\"]\n",
    "\n",
    "metadata_lst=[]\n",
    "for tbl_name in tbl_names_lst:\n",
    "    with open(os.path.join(metadata_dir,tbl_name+'.json'),'r') as f:\n",
    "        metadata_lst.append(json.load(f))"
   ]
  },
  {
   "cell_type": "code",
   "execution_count": 4,
   "metadata": {},
   "outputs": [
    {
     "name": "stdout",
     "output_type": "stream",
     "text": [
      "Metadata for table C1 is valid.\n",
      "Parameter input is valid.\n"
     ]
    }
   ],
   "source": [
    "#connect to db\n",
    "conn = sqlite3.connect(db_path)\n",
    "self=RND_QUERY(conn, tbl_names_lst, metadata_lst)"
   ]
  },
  {
   "cell_type": "markdown",
   "metadata": {},
   "source": [
    "# Generate Random  queries "
   ]
  },
  {
   "cell_type": "code",
   "execution_count": 6,
   "metadata": {},
   "outputs": [
    {
     "name": "stdout",
     "output_type": "stream",
     "text": [
      "no_of_rows=137\n",
      "no_of_cols=5\n",
      "product=0.685\n",
      "\n",
      "\n",
      "SELECT sex, race, occupation, COUNT(*), SUM(hours_per_week)  FROM C1  GROUP BY sex, race, occupation\n"
     ]
    }
   ],
   "source": [
    "#Single Aggregate\n",
    "single_expr,groupby_lst,from_tbl, join_tbl_lst, agg_fntn_terms=self.compile_agg_expr() \n",
    "rnd_query=self.make_single_agg_query(single_expr,groupby_lst,from_tbl, join_tbl_lst, agg_fntn_terms)\n",
    "\n",
    "\n",
    "n_rows=rnd_query['query_desc']['n_rows']\n",
    "n_cols=rnd_query['query_desc']['n_cols']\n",
    "\n",
    "print(f\"no_of_rows={n_rows}\\nno_of_cols={n_cols}\\nproduct={n_rows*n_cols/1000}\")\n",
    "print(\"\\n\")\n",
    "print(rnd_query['query_desc']['sql'])"
   ]
  },
  {
   "cell_type": "code",
   "execution_count": 7,
   "metadata": {},
   "outputs": [
    {
     "data": {
      "text/plain": [
       "{'type': 'single_agg',\n",
       " 'agg_fntn': ('SUM', 'hours_per_week'),\n",
       " 'grpby_vars': ['sex', 'race', 'occupation'],\n",
       " 'from_tbl_name': 'C1',\n",
       " 'join_tbl_name_lst': [],\n",
       " 'sql': 'SELECT sex, race, occupation, COUNT(*), SUM(hours_per_week)  FROM C1  GROUP BY sex, race, occupation',\n",
       " 'n_rows': 137,\n",
       " 'n_cols': 5}"
      ]
     },
     "execution_count": 7,
     "metadata": {},
     "output_type": "execute_result"
    }
   ],
   "source": [
    "rnd_query['query_desc']"
   ]
  },
  {
   "cell_type": "code",
   "execution_count": 8,
   "metadata": {},
   "outputs": [
    {
     "ename": "TypeError",
     "evalue": "make_twin_agg_query() missing 5 required positional arguments: 'real_expr', 'real_groupby_lst', 'real_from_tbl', 'real_join_tbl_lst', and 'agg_fntn_terms'",
     "output_type": "error",
     "traceback": [
      "\u001b[0;31m---------------------------------------------------------------------------\u001b[0m",
      "\u001b[0;31mTypeError\u001b[0m                                 Traceback (most recent call last)",
      "Cell \u001b[0;32mIn [8], line 4\u001b[0m\n\u001b[1;32m      1\u001b[0m \u001b[39m# Twin Aggregate \u001b[39;00m\n\u001b[1;32m      3\u001b[0m syn_tbl_name_lst\u001b[39m=\u001b[39m[\u001b[39m'\u001b[39m\u001b[39mC1_syn_default_1\u001b[39m\u001b[39m'\u001b[39m]\n\u001b[0;32m----> 4\u001b[0m rnd_query\u001b[39m=\u001b[39m\u001b[39mself\u001b[39;49m\u001b[39m.\u001b[39;49mmake_twin_agg_query(syn_tbl_name_lst)\n\u001b[1;32m      6\u001b[0m n_rows_real\u001b[39m=\u001b[39mrnd_query[\u001b[39m'\u001b[39m\u001b[39mquery_desc\u001b[39m\u001b[39m'\u001b[39m][\u001b[39m'\u001b[39m\u001b[39mn_rows_real\u001b[39m\u001b[39m'\u001b[39m]\n\u001b[1;32m      7\u001b[0m n_cols_real\u001b[39m=\u001b[39mrnd_query[\u001b[39m'\u001b[39m\u001b[39mquery_desc\u001b[39m\u001b[39m'\u001b[39m][\u001b[39m'\u001b[39m\u001b[39mn_cols_real\u001b[39m\u001b[39m'\u001b[39m]\n",
      "\u001b[0;31mTypeError\u001b[0m: make_twin_agg_query() missing 5 required positional arguments: 'real_expr', 'real_groupby_lst', 'real_from_tbl', 'real_join_tbl_lst', and 'agg_fntn_terms'"
     ]
    }
   ],
   "source": [
    "# Twin Aggregate \n",
    "\n",
    "syn_tbl_name_lst=['C1_syn_default_1']\n",
    "real_expr,real_groupby_lst,real_from_tbl, real_join_tbl_lst,agg_fntn_terms=self.compile_agg_expr()\n",
    "rnd_query=self.make_twin_agg_query(syn_tbl_name_lst,real_expr,real_groupby_lst,real_from_tbl, real_join_tbl_lst,agg_fntn_terms)\n",
    "\n",
    "n_rows_real=rnd_query['query_desc']['n_rows_real']\n",
    "n_cols_real=rnd_query['query_desc']['n_cols_real']\n",
    "n_rows_syn=rnd_query['query_desc']['n_rows_syn']\n",
    "n_cols_syn=rnd_query['query_desc']['n_cols_syn']\n",
    "\n",
    "print(rnd_query['query_desc']['sql_real'])\n",
    "print(f\"REAL:\\nno_of_rows={n_rows_real}\\nno_of_cols={n_cols_real}\\nproduct={n_rows_real*n_cols_real/1000}\\n\\n\")\n",
    "\n",
    "print(rnd_query['query_desc']['sql_syn'])\n",
    "print(f\"SYN:\\nno_of_rows={n_rows_syn}\\nno_of_cols={n_cols_syn}\\nproduct={n_rows_syn*n_cols_syn/1000}\\n\\n\")\n",
    "\n"
   ]
  },
  {
   "cell_type": "code",
   "execution_count": null,
   "metadata": {},
   "outputs": [],
   "source": [
    "rnd_query['query_desc']"
   ]
  },
  {
   "cell_type": "code",
   "execution_count": null,
   "metadata": {},
   "outputs": [],
   "source": [
    "#Single Filter\n",
    "\n",
    "# self.no_groupby_vars=2\n",
    "# self.no_where_vars=2\n",
    "# self.max_in_terms=2\n",
    "\n",
    "rnd_query=self.make_single_fltr_query()\n",
    "\n",
    "\n",
    "n_rows=rnd_query['query_desc']['n_rows']\n",
    "n_cols=rnd_query['query_desc']['n_cols']\n",
    "\n",
    "print(f\"no_of_rows={n_rows}\\nno_of_cols={n_cols}\\nproduct={n_rows*n_cols/1000}\")\n",
    "print(\"\\n\")\n",
    "print(rnd_query['query_desc']['sql'])"
   ]
  },
  {
   "cell_type": "code",
   "execution_count": null,
   "metadata": {},
   "outputs": [],
   "source": [
    "rnd_query['query_desc']"
   ]
  },
  {
   "cell_type": "code",
   "execution_count": null,
   "metadata": {},
   "outputs": [],
   "source": [
    "# Twin Filter \n",
    "\n",
    "\n",
    "syn_tbl_name_lst=['C1_syn_default_1']\n",
    "rnd_query=self.make_twin_fltr_query(syn_tbl_name_lst)\n",
    "\n",
    "n_rows_real=rnd_query['query_desc']['n_rows_real']\n",
    "n_cols_real=rnd_query['query_desc']['n_cols_real']\n",
    "n_rows_syn=rnd_query['query_desc']['n_rows_syn']\n",
    "n_cols_syn=rnd_query['query_desc']['n_cols_syn']\n",
    "\n",
    "print(f\"REAL:\\nno_of_rows={n_rows_real}\\nno_of_cols={n_cols_real}\\nproduct={n_rows_real*n_cols_real/1000}\\n\\n\")\n",
    "print(f\"SYN:\\nno_of_rows={n_rows_syn}\\nno_of_cols={n_cols_syn}\\nproduct={n_rows_syn*n_cols_syn/1000}\\n\\n\")\n",
    "print(rnd_query['query_desc']['sql_real'])\n",
    "print(\"\\n\")\n",
    "print(rnd_query['query_desc']['sql_syn'])"
   ]
  },
  {
   "cell_type": "code",
   "execution_count": null,
   "metadata": {},
   "outputs": [],
   "source": [
    "rnd_query['query_desc']"
   ]
  },
  {
   "cell_type": "code",
   "execution_count": null,
   "metadata": {},
   "outputs": [],
   "source": [
    "#Single Aggregate-Filter\n",
    "\n",
    "rnd_query=self.make_single_aggfltr_query()\n",
    "\n",
    "\n",
    "n_rows=rnd_query['query_desc']['n_rows']\n",
    "n_cols=rnd_query['query_desc']['n_cols']\n",
    "\n",
    "print(f\"no_of_rows={n_rows}\\nno_of_cols={n_cols}\\nproduct={n_rows*n_cols/1000}\")\n",
    "print(\"\\n\")\n",
    "print(rnd_query['query_desc']['sql'])"
   ]
  },
  {
   "cell_type": "code",
   "execution_count": null,
   "metadata": {},
   "outputs": [],
   "source": [
    "# Twin Aggregate-Filter \n",
    "\n",
    "syn_tbl_name_lst=['C1_syn_default_1']\n",
    "rnd_query=self.make_twin_aggfltr_query(syn_tbl_name_lst)\n",
    "\n",
    "n_rows_real=rnd_query['query_desc']['n_rows_real']\n",
    "n_cols_real=rnd_query['query_desc']['n_cols_real']\n",
    "n_rows_syn=rnd_query['query_desc']['n_rows_syn']\n",
    "n_cols_syn=rnd_query['query_desc']['n_cols_syn']\n",
    "\n",
    "print(rnd_query['query_desc']['sql_real'])\n",
    "print(f\"REAL:\\nno_of_rows={n_rows_real}\\nno_of_cols={n_cols_real}\\nproduct={n_rows_real*n_cols_real/1000}\\n\\n\")\n",
    "\n",
    "print(rnd_query['query_desc']['sql_syn'])\n",
    "print(f\"SYN:\\nno_of_rows={n_rows_syn}\\nno_of_cols={n_cols_syn}\\nproduct={n_rows_syn*n_cols_syn/1000}\\n\\n\")"
   ]
  },
  {
   "cell_type": "code",
   "execution_count": null,
   "metadata": {},
   "outputs": [],
   "source": [
    "matched_query=self._match_twin_query(rnd_query)\n",
    "scored_query=self.calc_dist_scores(matched_query)"
   ]
  },
  {
   "cell_type": "code",
   "execution_count": null,
   "metadata": {},
   "outputs": [],
   "source": [
    "scored_query['query_desc']"
   ]
  },
  {
   "cell_type": "code",
   "execution_count": null,
   "metadata": {},
   "outputs": [],
   "source": [
    "scored_query['query_hlngr_score']"
   ]
  },
  {
   "cell_type": "code",
   "execution_count": null,
   "metadata": {},
   "outputs": [],
   "source": [
    "scored_query['query_ecldn_score']"
   ]
  },
  {
   "cell_type": "code",
   "execution_count": null,
   "metadata": {},
   "outputs": [],
   "source": [
    "\n"
   ]
  }
 ],
 "metadata": {
  "kernelspec": {
   "display_name": "Python 3.8.10 ('.env_dev': venv)",
   "language": "python",
   "name": "python3"
  },
  "language_info": {
   "codemirror_mode": {
    "name": "ipython",
    "version": 3
   },
   "file_extension": ".py",
   "mimetype": "text/x-python",
   "name": "python",
   "nbconvert_exporter": "python",
   "pygments_lexer": "ipython3",
   "version": "3.8.10"
  },
  "orig_nbformat": 4,
  "vscode": {
   "interpreter": {
    "hash": "6cf594385e3e378fbba23be52d8fa8a1ff0f44816650af8bcee05fc5c8211531"
   }
  }
 },
 "nbformat": 4,
 "nbformat_minor": 2
}

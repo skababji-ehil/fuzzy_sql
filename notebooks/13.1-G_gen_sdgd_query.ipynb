{
 "cells": [
  {
   "cell_type": "code",
   "execution_count": 363,
   "metadata": {},
   "outputs": [],
   "source": [
    "import sys\n",
    "sys.path.append('/home/samer/projects/fuzzy_sql/src') #This will enable reading the modules\n",
    "from pathlib import Path\n",
    "import os\n",
    "import json\n",
    "\n",
    "from fuzzy_sql.rnd_query import RND_QUERY\n",
    "from fuzzy_sql.fuzzy_sql import *"
   ]
  },
  {
   "cell_type": "code",
   "execution_count": 364,
   "metadata": {},
   "outputs": [],
   "source": [
    "#set directories\n",
    "root_dir=Path('/home/samer/projects/fuzzy_sql')\n",
    "metadata_dir=os.path.join(root_dir,'data/sdgd/processed/metadata')\n",
    "db_path=os.path.join(root_dir,'db/sdgd.db')"
   ]
  },
  {
   "cell_type": "code",
   "execution_count": 365,
   "metadata": {},
   "outputs": [],
   "source": [
    "#define input tables and metadata\n",
    "\n",
    "tbl_names_lst=[\"C1\"]\n",
    "\n",
    "metadata_lst=[]\n",
    "for tbl_name in tbl_names_lst:\n",
    "    with open(os.path.join(metadata_dir,tbl_name+'.json'),'r') as f:\n",
    "        metadata_lst.append(json.load(f))"
   ]
  },
  {
   "cell_type": "code",
   "execution_count": 366,
   "metadata": {},
   "outputs": [
    {
     "name": "stdout",
     "output_type": "stream",
     "text": [
      "Metadata fot table C1 validated.\n"
     ]
    }
   ],
   "source": [
    "#setup parameters\n",
    "DFLT_PARAMS={\n",
    "    'AGG_OPS':{'AVG':0.5, 'SUM':0.3, 'MAX':0.1, 'MIN':0.1 },\n",
    "    'LOGIC_OPS':{'AND':0.9,'OR':0.1},\n",
    "    'NOT_STATE':{'0':0.8, '1':0.2},\n",
    "    'CAT_OPS':{'=':0.25, '<>':0.25, 'LIKE':0.15, 'IN':0.15, 'NOT LIKE':0.1, 'NOT IN':0.1},\n",
    "    'CNT_OPS':{'=':0.2, '>':0.1, '<':0.1, '>=':0.1, '<=':0.1, '<>':0.1, 'BETWEEN':0.2, 'NOT BETWEEN':0.1},\n",
    "    'DT_OPS':{'=':0.2, '>':0.1, '<':0.1, '>=':0, '<=':0, '<>':0.1, 'BETWEEN':0.2, 'IN':0.1, 'NOT BETWEEN':0.1, 'NOT IN':0.1},\n",
    "    # 'FILTER_TYPE':{'WHERE':0.5, 'AND':0.5}, #Use WHERE or AND with JOIN CLAUSE\n",
    "    # 'JOIN_TYPE': {'JOIN':0.5, 'LEFT JOIN':0.5}\n",
    "}\n",
    "\n",
    "#connect to db\n",
    "conn = sqlite3.connect(db_path)\n",
    "\n",
    "self=RND_QUERY(conn, tbl_names_lst, metadata_lst,DFLT_PARAMS)"
   ]
  },
  {
   "cell_type": "markdown",
   "metadata": {},
   "source": [
    "# Generate Random  queries "
   ]
  },
  {
   "cell_type": "code",
   "execution_count": 367,
   "metadata": {},
   "outputs": [
    {
     "name": "stdout",
     "output_type": "stream",
     "text": [
      "SELECT education, occupation, marital_status, race, sex, workclass, COUNT(*), AVG(capital)  FROM C1  GROUP BY education, occupation, marital_status, race, sex, workclass\n",
      "no_of_rows=5923\n",
      "no_of_cols=8\n",
      "product=47.384\n",
      "\n",
      "\n",
      "SELECT education, occupation, marital_status, race, sex, workclass, COUNT(*), AVG(capital)  FROM C1  GROUP BY education, occupation, marital_status, race, sex, workclass\n"
     ]
    }
   ],
   "source": [
    "#Single Aggregate\n",
    "\n",
    "rnd_query=self.make_single_agg_query(agg_fntn=True)\n",
    "\n",
    "\n",
    "n_rows=rnd_query['query_desc']['n_rows']\n",
    "n_cols=rnd_query['query_desc']['n_cols']\n",
    "\n",
    "print(f\"no_of_rows={n_rows}\\nno_of_cols={n_cols}\\nproduct={n_rows*n_cols/1000}\")\n",
    "print(\"\\n\")\n",
    "print(rnd_query['query_desc']['sql'])"
   ]
  },
  {
   "cell_type": "code",
   "execution_count": 368,
   "metadata": {},
   "outputs": [
    {
     "data": {
      "text/plain": [
       "{'type': 'single_agg',\n",
       " 'agg_fntn': ('AVG', 'capital'),\n",
       " 'grpby_vars': ['education',\n",
       "  'occupation',\n",
       "  'marital_status',\n",
       "  'race',\n",
       "  'sex',\n",
       "  'workclass'],\n",
       " 'from_tbl_name': 'C1',\n",
       " 'join_tbl_name_lst': [],\n",
       " 'sql': 'SELECT education, occupation, marital_status, race, sex, workclass, COUNT(*), AVG(capital)  FROM C1  GROUP BY education, occupation, marital_status, race, sex, workclass',\n",
       " 'n_rows': 5923,\n",
       " 'n_cols': 8}"
      ]
     },
     "execution_count": 368,
     "metadata": {},
     "output_type": "execute_result"
    }
   ],
   "source": [
    "rnd_query['query_desc']"
   ]
  },
  {
   "cell_type": "code",
   "execution_count": 369,
   "metadata": {},
   "outputs": [
    {
     "name": "stdout",
     "output_type": "stream",
     "text": [
      "SELECT education, sex, race, COUNT(*), SUM(age)  FROM C1  GROUP BY education, sex, race\n",
      "SELECT education, sex, race, COUNT(*), SUM(age)  FROM C1  GROUP BY education, sex, race\n",
      "REAL:\n",
      "no_of_rows=154\n",
      "no_of_cols=5\n",
      "product=0.77\n",
      "\n",
      "\n",
      "SELECT education, sex, race, COUNT(*), SUM(age)  FROM C1_syn_default_1  GROUP BY education, sex, race\n",
      "SYN:\n",
      "no_of_rows=152\n",
      "no_of_cols=5\n",
      "product=0.76\n",
      "\n",
      "\n"
     ]
    }
   ],
   "source": [
    "# Twin Aggregate \n",
    "\n",
    "syn_tbl_name_lst=['C1_syn_default_1']\n",
    "rnd_query=self.make_twin_agg_query(syn_tbl_name_lst, agg_fntn=True)\n",
    "\n",
    "n_rows_real=rnd_query['query_desc']['n_rows_real']\n",
    "n_cols_real=rnd_query['query_desc']['n_cols_real']\n",
    "n_rows_syn=rnd_query['query_desc']['n_rows_syn']\n",
    "n_cols_syn=rnd_query['query_desc']['n_cols_syn']\n",
    "\n",
    "print(rnd_query['query_desc']['sql_real'])\n",
    "print(f\"REAL:\\nno_of_rows={n_rows_real}\\nno_of_cols={n_cols_real}\\nproduct={n_rows_real*n_cols_real/1000}\\n\\n\")\n",
    "\n",
    "print(rnd_query['query_desc']['sql_syn'])\n",
    "print(f\"SYN:\\nno_of_rows={n_rows_syn}\\nno_of_cols={n_cols_syn}\\nproduct={n_rows_syn*n_cols_syn/1000}\\n\\n\")\n",
    "\n"
   ]
  },
  {
   "cell_type": "code",
   "execution_count": 370,
   "metadata": {},
   "outputs": [
    {
     "data": {
      "text/plain": [
       "{'type': 'twin_agg',\n",
       " 'agg_fntn': ('SUM', 'age'),\n",
       " 'grpby_vars': ['education', 'sex', 'race'],\n",
       " 'from_tbl_name_real': 'C1',\n",
       " 'join_tbl_name_lst_real': [],\n",
       " 'sql_real': 'SELECT education, sex, race, COUNT(*), SUM(age)  FROM C1  GROUP BY education, sex, race',\n",
       " 'n_cols_real': 5,\n",
       " 'n_rows_real': 154,\n",
       " 'from_tbl_name_syn': 'C1_syn_default_1',\n",
       " 'join_tbl_name_lst_syn': [],\n",
       " 'sql_syn': 'SELECT education, sex, race, COUNT(*), SUM(age)  FROM C1_syn_default_1  GROUP BY education, sex, race',\n",
       " 'n_cols_syn': 5,\n",
       " 'n_rows_syn': 152}"
      ]
     },
     "execution_count": 370,
     "metadata": {},
     "output_type": "execute_result"
    }
   ],
   "source": [
    "rnd_query['query_desc']"
   ]
  },
  {
   "cell_type": "code",
   "execution_count": 371,
   "metadata": {},
   "outputs": [
    {
     "name": "stdout",
     "output_type": "stream",
     "text": [
      "SELECT *  FROM C1  WHERE   capital >= 0 AND  sex <> 'Male' AND  fnlwgt = 187203 AND  occupation <> 'Prof-specialty' AND  native_country NOT LIKE 'United-States' AND  hours_per_week <> 50 AND  marital_status NOT IN ('Never-married', 'Married-civ-spouse') \n",
      "no_of_rows=0\n",
      "no_of_cols=13\n",
      "product=0.0\n",
      "\n",
      "\n",
      "SELECT *  FROM C1  WHERE   capital >= 0 AND  sex <> 'Male' AND  fnlwgt = 187203 AND  occupation <> 'Prof-specialty' AND  native_country NOT LIKE 'United-States' AND  hours_per_week <> 50 AND  marital_status NOT IN ('Never-married', 'Married-civ-spouse') \n"
     ]
    }
   ],
   "source": [
    "#Single Filter\n",
    "\n",
    "# self.no_groupby_vars=2\n",
    "# self.no_where_vars=2\n",
    "# self.max_in_terms=2\n",
    "\n",
    "rnd_query=self.make_single_fltr_query()\n",
    "\n",
    "\n",
    "n_rows=rnd_query['query_desc']['n_rows']\n",
    "n_cols=rnd_query['query_desc']['n_cols']\n",
    "\n",
    "print(f\"no_of_rows={n_rows}\\nno_of_cols={n_cols}\\nproduct={n_rows*n_cols/1000}\")\n",
    "print(\"\\n\")\n",
    "print(rnd_query['query_desc']['sql'])"
   ]
  },
  {
   "cell_type": "code",
   "execution_count": 372,
   "metadata": {},
   "outputs": [
    {
     "data": {
      "text/plain": [
       "{'type': 'single_fltr',\n",
       " 'from_tbl_name': 'C1',\n",
       " 'join_tbl_name_lst': [],\n",
       " 'sql': \"SELECT *  FROM C1  WHERE   capital >= 0 AND  sex <> 'Male' AND  fnlwgt = 187203 AND  occupation <> 'Prof-specialty' AND  native_country NOT LIKE 'United-States' AND  hours_per_week <> 50 AND  marital_status NOT IN ('Never-married', 'Married-civ-spouse') \",\n",
       " 'n_rows': 0,\n",
       " 'n_cols': 13}"
      ]
     },
     "execution_count": 372,
     "metadata": {},
     "output_type": "execute_result"
    }
   ],
   "source": [
    "rnd_query['query_desc']"
   ]
  },
  {
   "cell_type": "code",
   "execution_count": 373,
   "metadata": {},
   "outputs": [
    {
     "name": "stdout",
     "output_type": "stream",
     "text": [
      "SELECT *  FROM C1  WHERE  NOT  race NOT LIKE 'White' AND  capital BETWEEN 0 AND 0 AND  fnlwgt <> 117778 \n",
      "REAL:\n",
      "no_of_rows=36163\n",
      "no_of_cols=13\n",
      "product=470.119\n",
      "\n",
      "\n",
      "SYN:\n",
      "no_of_rows=126\n",
      "no_of_cols=13\n",
      "product=1.638\n",
      "\n",
      "\n",
      "SELECT *  FROM C1  WHERE  NOT  race NOT LIKE 'White' AND  capital BETWEEN 0 AND 0 AND  fnlwgt <> 117778 \n",
      "\n",
      "\n",
      "SELECT *  FROM C1_syn_default_1  WHERE  NOT  race NOT LIKE 'White' AND  capital BETWEEN 0 AND 0 AND  fnlwgt <> 117778 \n"
     ]
    }
   ],
   "source": [
    "# Twin Filter \n",
    "\n",
    "\n",
    "syn_tbl_name_lst=['C1_syn_default_1']\n",
    "rnd_query=self.make_twin_fltr_query(syn_tbl_name_lst)\n",
    "\n",
    "n_rows_real=rnd_query['query_desc']['n_rows_real']\n",
    "n_cols_real=rnd_query['query_desc']['n_cols_real']\n",
    "n_rows_syn=rnd_query['query_desc']['n_rows_syn']\n",
    "n_cols_syn=rnd_query['query_desc']['n_cols_syn']\n",
    "\n",
    "print(f\"REAL:\\nno_of_rows={n_rows_real}\\nno_of_cols={n_cols_real}\\nproduct={n_rows_real*n_cols_real/1000}\\n\\n\")\n",
    "print(f\"SYN:\\nno_of_rows={n_rows_syn}\\nno_of_cols={n_cols_syn}\\nproduct={n_rows_syn*n_cols_syn/1000}\\n\\n\")\n",
    "print(rnd_query['query_desc']['sql_real'])\n",
    "print(\"\\n\")\n",
    "print(rnd_query['query_desc']['sql_syn'])"
   ]
  },
  {
   "cell_type": "code",
   "execution_count": 374,
   "metadata": {},
   "outputs": [
    {
     "data": {
      "text/plain": [
       "{'type': 'twin_fltr',\n",
       " 'from_tbl_name_real': 'C1',\n",
       " 'join_tbl_name_lst_real': [],\n",
       " 'sql_real': \"SELECT *  FROM C1  WHERE  NOT  race NOT LIKE 'White' AND  capital BETWEEN 0 AND 0 AND  fnlwgt <> 117778 \",\n",
       " 'n_cols_real': 13,\n",
       " 'n_rows_real': 36163,\n",
       " 'from_tbl_name_syn': 'C1_syn_default_1',\n",
       " 'join_tbl_name_lst_syn': [],\n",
       " 'sql_syn': \"SELECT *  FROM C1_syn_default_1  WHERE  NOT  race NOT LIKE 'White' AND  capital BETWEEN 0 AND 0 AND  fnlwgt <> 117778 \",\n",
       " 'n_cols_syn': 13,\n",
       " 'n_rows_syn': 126}"
      ]
     },
     "execution_count": 374,
     "metadata": {},
     "output_type": "execute_result"
    }
   ],
   "source": [
    "rnd_query['query_desc']"
   ]
  },
  {
   "cell_type": "code",
   "execution_count": 375,
   "metadata": {},
   "outputs": [
    {
     "name": "stdout",
     "output_type": "stream",
     "text": [
      "SELECT relationship, native_country, occupation, race, COUNT(*), MIN(age)  FROM C1  WHERE  NOT  marital_status = 'Never-married' AND  capital >= 0 AND NOT  fnlwgt NOT BETWEEN 56460 AND 73471 AND  age BETWEEN 22 AND 29 AND  sex = 'Female' AND  occupation NOT IN ('Machine-op-inspct', 'Tech-support', 'Craft-repair') AND NOT  workclass <> 'Private' AND  race = 'White' AND  education NOT LIKE 'Some-college' AND  hours_per_week <= 35  GROUP BY relationship, native_country, occupation, race\n",
      "no_of_rows=3\n",
      "no_of_cols=6\n",
      "product=0.018\n",
      "\n",
      "\n",
      "SELECT relationship, native_country, occupation, race, COUNT(*), MIN(age)  FROM C1  WHERE  NOT  marital_status = 'Never-married' AND  capital >= 0 AND NOT  fnlwgt NOT BETWEEN 56460 AND 73471 AND  age BETWEEN 22 AND 29 AND  sex = 'Female' AND  occupation NOT IN ('Machine-op-inspct', 'Tech-support', 'Craft-repair') AND NOT  workclass <> 'Private' AND  race = 'White' AND  education NOT LIKE 'Some-college' AND  hours_per_week <= 35  GROUP BY relationship, native_country, occupation, race\n"
     ]
    }
   ],
   "source": [
    "#Single Aggregate-Filter\n",
    "\n",
    "rnd_query=self.make_single_aggfltr_query(agg_fntn=True)\n",
    "\n",
    "\n",
    "n_rows=rnd_query['query_desc']['n_rows']\n",
    "n_cols=rnd_query['query_desc']['n_cols']\n",
    "\n",
    "print(f\"no_of_rows={n_rows}\\nno_of_cols={n_cols}\\nproduct={n_rows*n_cols/1000}\")\n",
    "print(\"\\n\")\n",
    "print(rnd_query['query_desc']['sql'])"
   ]
  },
  {
   "cell_type": "code",
   "execution_count": 376,
   "metadata": {},
   "outputs": [
    {
     "name": "stdout",
     "output_type": "stream",
     "text": [
      "SELECT race, income, marital_status, relationship, native_country, COUNT(*), AVG(fnlwgt)  FROM C1  WHERE  NOT  sex IN ('Female', 'Male') AND  age >= 37 AND NOT  hours_per_week > 45 AND  education <> 'Bachelors' AND NOT  fnlwgt BETWEEN 339956 AND 87052 AND  income = '<=50K' AND NOT  native_country LIKE 'United-States' AND NOT  capital < 0 AND  race IN ('White') AND  workclass IN ('Private') OR  occupation = 'Craft-repair' AND  relationship = 'Not-in-family'  GROUP BY race, income, marital_status, relationship, native_country\n",
      "SELECT race, income, marital_status, relationship, native_country, COUNT(*), AVG(fnlwgt)  FROM C1  WHERE  NOT  sex IN ('Female', 'Male') AND  age >= 37 AND NOT  hours_per_week > 45 AND  education <> 'Bachelors' AND NOT  fnlwgt BETWEEN 339956 AND 87052 AND  income = '<=50K' AND NOT  native_country LIKE 'United-States' AND NOT  capital < 0 AND  race IN ('White') AND  workclass IN ('Private') OR  occupation = 'Craft-repair' AND  relationship = 'Not-in-family'  GROUP BY race, income, marital_status, relationship, native_country\n",
      "REAL:\n",
      "no_of_rows=104\n",
      "no_of_cols=7\n",
      "product=0.728\n",
      "\n",
      "\n",
      "SELECT race, income, marital_status, relationship, native_country, COUNT(*), AVG(fnlwgt)  FROM C1_syn_default_1  WHERE  NOT  sex IN ('Female', 'Male') AND  age >= 37 AND NOT  hours_per_week > 45 AND  education <> 'Bachelors' AND NOT  fnlwgt BETWEEN 339956 AND 87052 AND  income = '<=50K' AND NOT  native_country LIKE 'United-States' AND NOT  capital < 0 AND  race IN ('White') AND  workclass IN ('Private') OR  occupation = 'Craft-repair' AND  relationship = 'Not-in-family'  GROUP BY race, income, marital_status, relationship, native_country\n",
      "SYN:\n",
      "no_of_rows=114\n",
      "no_of_cols=7\n",
      "product=0.798\n",
      "\n",
      "\n"
     ]
    }
   ],
   "source": [
    "# Twin Aggregate-Filter \n",
    "\n",
    "syn_tbl_name_lst=['C1_syn_default_1']\n",
    "rnd_query=self.make_twin_aggfltr_query(syn_tbl_name_lst, agg_fntn=True)\n",
    "\n",
    "n_rows_real=rnd_query['query_desc']['n_rows_real']\n",
    "n_cols_real=rnd_query['query_desc']['n_cols_real']\n",
    "n_rows_syn=rnd_query['query_desc']['n_rows_syn']\n",
    "n_cols_syn=rnd_query['query_desc']['n_cols_syn']\n",
    "\n",
    "print(rnd_query['query_desc']['sql_real'])\n",
    "print(f\"REAL:\\nno_of_rows={n_rows_real}\\nno_of_cols={n_cols_real}\\nproduct={n_rows_real*n_cols_real/1000}\\n\\n\")\n",
    "\n",
    "print(rnd_query['query_desc']['sql_syn'])\n",
    "print(f\"SYN:\\nno_of_rows={n_rows_syn}\\nno_of_cols={n_cols_syn}\\nproduct={n_rows_syn*n_cols_syn/1000}\\n\\n\")"
   ]
  },
  {
   "cell_type": "code",
   "execution_count": 377,
   "metadata": {},
   "outputs": [],
   "source": [
    "matched_query=self._match_twin_query(rnd_query)\n",
    "scored_query=self.calc_dist_scores(matched_query)"
   ]
  },
  {
   "cell_type": "code",
   "execution_count": 378,
   "metadata": {},
   "outputs": [
    {
     "data": {
      "text/plain": [
       "{'type': 'twin_agg',\n",
       " 'agg_fntn': ('AVG', 'fnlwgt'),\n",
       " 'grpby_vars': ['race',\n",
       "  'income',\n",
       "  'marital_status',\n",
       "  'relationship',\n",
       "  'native_country'],\n",
       " 'from_tbl_name_real': 'C1',\n",
       " 'join_tbl_name_lst_real': [],\n",
       " 'sql_real': \"SELECT race, income, marital_status, relationship, native_country, COUNT(*), AVG(fnlwgt)  FROM C1  WHERE  NOT  sex IN ('Female', 'Male') AND  age >= 37 AND NOT  hours_per_week > 45 AND  education <> 'Bachelors' AND NOT  fnlwgt BETWEEN 339956 AND 87052 AND  income = '<=50K' AND NOT  native_country LIKE 'United-States' AND NOT  capital < 0 AND  race IN ('White') AND  workclass IN ('Private') OR  occupation = 'Craft-repair' AND  relationship = 'Not-in-family'  GROUP BY race, income, marital_status, relationship, native_country\",\n",
       " 'n_cols_real': 7,\n",
       " 'n_rows_real': 104,\n",
       " 'from_tbl_name_syn': 'C1_syn_default_1',\n",
       " 'join_tbl_name_lst_syn': [],\n",
       " 'sql_syn': \"SELECT race, income, marital_status, relationship, native_country, COUNT(*), AVG(fnlwgt)  FROM C1_syn_default_1  WHERE  NOT  sex IN ('Female', 'Male') AND  age >= 37 AND NOT  hours_per_week > 45 AND  education <> 'Bachelors' AND NOT  fnlwgt BETWEEN 339956 AND 87052 AND  income = '<=50K' AND NOT  native_country LIKE 'United-States' AND NOT  capital < 0 AND  race IN ('White') AND  workclass IN ('Private') OR  occupation = 'Craft-repair' AND  relationship = 'Not-in-family'  GROUP BY race, income, marital_status, relationship, native_country\",\n",
       " 'n_cols_syn': 7,\n",
       " 'n_rows_syn': 114}"
      ]
     },
     "execution_count": 378,
     "metadata": {},
     "output_type": "execute_result"
    }
   ],
   "source": [
    "scored_query['query_desc']"
   ]
  },
  {
   "cell_type": "code",
   "execution_count": 379,
   "metadata": {},
   "outputs": [
    {
     "data": {
      "text/plain": [
       "0.2935015880154722"
      ]
     },
     "execution_count": 379,
     "metadata": {},
     "output_type": "execute_result"
    }
   ],
   "source": [
    "scored_query['query_hlngr_score']"
   ]
  },
  {
   "cell_type": "code",
   "execution_count": 380,
   "metadata": {},
   "outputs": [
    {
     "data": {
      "text/plain": [
       "0.1386750490563073"
      ]
     },
     "execution_count": 380,
     "metadata": {},
     "output_type": "execute_result"
    }
   ],
   "source": [
    "scored_query['query_ecldn_score']"
   ]
  }
 ],
 "metadata": {
  "kernelspec": {
   "display_name": "Python 3.8.10 ('.env_dev': venv)",
   "language": "python",
   "name": "python3"
  },
  "language_info": {
   "codemirror_mode": {
    "name": "ipython",
    "version": 3
   },
   "file_extension": ".py",
   "mimetype": "text/x-python",
   "name": "python",
   "nbconvert_exporter": "python",
   "pygments_lexer": "ipython3",
   "version": "3.8.10"
  },
  "orig_nbformat": 4,
  "vscode": {
   "interpreter": {
    "hash": "6cf594385e3e378fbba23be52d8fa8a1ff0f44816650af8bcee05fc5c8211531"
   }
  }
 },
 "nbformat": 4,
 "nbformat_minor": 2
}

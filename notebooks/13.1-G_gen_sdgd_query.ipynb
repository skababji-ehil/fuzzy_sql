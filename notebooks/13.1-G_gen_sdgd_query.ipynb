{
 "cells": [
  {
   "cell_type": "code",
   "execution_count": 1,
   "metadata": {},
   "outputs": [],
   "source": [
    "import sys\n",
    "sys.path.append('/home/samer/projects/fuzzy_sql/src') #This will enable reading the modules\n",
    "from pathlib import Path\n",
    "import os\n",
    "import json\n",
    "\n",
    "from fuzzy_sql.rnd_query import RND_QUERY\n",
    "from fuzzy_sql.fuzzy_sql import *"
   ]
  },
  {
   "cell_type": "code",
   "execution_count": 2,
   "metadata": {},
   "outputs": [],
   "source": [
    "#set directories\n",
    "root_dir=Path('/home/samer/projects/fuzzy_sql')\n",
    "metadata_dir=os.path.join(root_dir,'data/sdgd/processed/metadata')\n",
    "db_path=os.path.join(root_dir,'db/sdgd.db')"
   ]
  },
  {
   "cell_type": "code",
   "execution_count": 3,
   "metadata": {},
   "outputs": [],
   "source": [
    "#define input tables and metadata\n",
    "\n",
    "tbl_names_lst=[\"C1\"]\n",
    "\n",
    "metadata_lst=[]\n",
    "for tbl_name in tbl_names_lst:\n",
    "    with open(os.path.join(metadata_dir,tbl_name+'.json'),'r') as f:\n",
    "        metadata_lst.append(json.load(f))"
   ]
  },
  {
   "cell_type": "code",
   "execution_count": 4,
   "metadata": {},
   "outputs": [
    {
     "name": "stdout",
     "output_type": "stream",
     "text": [
      "Metadata fot table C1 validated.\n"
     ]
    }
   ],
   "source": [
    "#setup parameters\n",
    "DFLT_PARAMS={\n",
    "    'AGG_OPS':{'AVG':0.5, 'SUM':0.3, 'MAX':0.1, 'MIN':0.1 },\n",
    "    'LOGIC_OPS':{'AND':0.9,'OR':0.1},\n",
    "    'NOT_STATE':{'0':0.8, '1':0.2},\n",
    "    'CAT_OPS':{'=':0.25, '<>':0.25, 'LIKE':0.15, 'IN':0.15, 'NOT LIKE':0.1, 'NOT IN':0.1},\n",
    "    'CNT_OPS':{'=':0.2, '>':0.1, '<':0.1, '>=':0.1, '<=':0.1, '<>':0.1, 'BETWEEN':0.2, 'NOT BETWEEN':0.1},\n",
    "    'DT_OPS':{'=':0.2, '>':0.1, '<':0.1, '>=':0, '<=':0, '<>':0.1, 'BETWEEN':0.2, 'IN':0.1, 'NOT BETWEEN':0.1, 'NOT IN':0.1},\n",
    "    # 'FILTER_TYPE':{'WHERE':0.5, 'AND':0.5}, #Use WHERE or AND with JOIN CLAUSE\n",
    "    # 'JOIN_TYPE': {'JOIN':0.5, 'LEFT JOIN':0.5}\n",
    "}\n",
    "\n",
    "#connect to db\n",
    "conn = sqlite3.connect(db_path)\n",
    "\n",
    "self=RND_QUERY(conn, tbl_names_lst, metadata_lst,DFLT_PARAMS)"
   ]
  },
  {
   "cell_type": "markdown",
   "metadata": {},
   "source": [
    "# Generate Random  queries "
   ]
  },
  {
   "cell_type": "code",
   "execution_count": 5,
   "metadata": {},
   "outputs": [
    {
     "name": "stdout",
     "output_type": "stream",
     "text": [
      "SELECT education, relationship, occupation, native_country, COUNT(*), SUM(capital)  FROM C1  GROUP BY education, relationship, occupation, native_country\n",
      "no_of_rows=3942\n",
      "no_of_cols=6\n",
      "product=23.652\n",
      "\n",
      "\n",
      "SELECT education, relationship, occupation, native_country, COUNT(*), SUM(capital)  FROM C1  GROUP BY education, relationship, occupation, native_country\n"
     ]
    }
   ],
   "source": [
    "#Single Aggregate\n",
    "\n",
    "rnd_query=self.make_single_agg_query(agg_fntn=True)\n",
    "\n",
    "\n",
    "n_rows=rnd_query['query_desc']['n_rows']\n",
    "n_cols=rnd_query['query_desc']['n_cols']\n",
    "\n",
    "print(f\"no_of_rows={n_rows}\\nno_of_cols={n_cols}\\nproduct={n_rows*n_cols/1000}\")\n",
    "print(\"\\n\")\n",
    "print(rnd_query['query_desc']['sql'])"
   ]
  },
  {
   "cell_type": "code",
   "execution_count": 6,
   "metadata": {},
   "outputs": [
    {
     "data": {
      "text/plain": [
       "{'type': 'single_agg',\n",
       " 'agg_fntn': ('SUM', 'capital'),\n",
       " 'grpby_vars': ['education', 'relationship', 'occupation', 'native_country'],\n",
       " 'from_tbl_name': 'C1',\n",
       " 'join_tbl_name_lst': [],\n",
       " 'sql': 'SELECT education, relationship, occupation, native_country, COUNT(*), SUM(capital)  FROM C1  GROUP BY education, relationship, occupation, native_country',\n",
       " 'n_rows': 3942,\n",
       " 'n_cols': 6}"
      ]
     },
     "execution_count": 6,
     "metadata": {},
     "output_type": "execute_result"
    }
   ],
   "source": [
    "rnd_query['query_desc']"
   ]
  },
  {
   "cell_type": "code",
   "execution_count": 7,
   "metadata": {},
   "outputs": [
    {
     "name": "stdout",
     "output_type": "stream",
     "text": [
      "SELECT marital_status, relationship, workclass, occupation, education, income, native_country, COUNT(*), MIN(age)  FROM C1  GROUP BY marital_status, relationship, workclass, occupation, education, income, native_country\n",
      "SELECT marital_status, relationship, workclass, occupation, education, income, native_country, COUNT(*), MIN(age)  FROM C1  GROUP BY marital_status, relationship, workclass, occupation, education, income, native_country\n",
      "REAL:\n",
      "no_of_rows=9142\n",
      "no_of_cols=9\n",
      "product=82.278\n",
      "\n",
      "\n",
      "SELECT marital_status, relationship, workclass, occupation, education, income, native_country, COUNT(*), MIN(age)  FROM C1_syn_default_1  GROUP BY marital_status, relationship, workclass, occupation, education, income, native_country\n",
      "SYN:\n",
      "no_of_rows=10279\n",
      "no_of_cols=9\n",
      "product=92.511\n",
      "\n",
      "\n"
     ]
    }
   ],
   "source": [
    "# Twin Aggregate \n",
    "\n",
    "syn_tbl_name_lst=['C1_syn_default_1']\n",
    "rnd_query=self.make_twin_agg_query(syn_tbl_name_lst, agg_fntn=True)\n",
    "\n",
    "n_rows_real=rnd_query['query_desc']['n_rows_real']\n",
    "n_cols_real=rnd_query['query_desc']['n_cols_real']\n",
    "n_rows_syn=rnd_query['query_desc']['n_rows_syn']\n",
    "n_cols_syn=rnd_query['query_desc']['n_cols_syn']\n",
    "\n",
    "print(rnd_query['query_desc']['sql_real'])\n",
    "print(f\"REAL:\\nno_of_rows={n_rows_real}\\nno_of_cols={n_cols_real}\\nproduct={n_rows_real*n_cols_real/1000}\\n\\n\")\n",
    "\n",
    "print(rnd_query['query_desc']['sql_syn'])\n",
    "print(f\"SYN:\\nno_of_rows={n_rows_syn}\\nno_of_cols={n_cols_syn}\\nproduct={n_rows_syn*n_cols_syn/1000}\\n\\n\")\n",
    "\n"
   ]
  },
  {
   "cell_type": "code",
   "execution_count": 8,
   "metadata": {},
   "outputs": [
    {
     "data": {
      "text/plain": [
       "{'type': 'twin_agg',\n",
       " 'agg_fntn': ('MIN', 'age'),\n",
       " 'grpby_vars': ['marital_status',\n",
       "  'relationship',\n",
       "  'workclass',\n",
       "  'occupation',\n",
       "  'education',\n",
       "  'income',\n",
       "  'native_country'],\n",
       " 'from_tbl_name_real': 'C1',\n",
       " 'join_tbl_name_lst_real': [],\n",
       " 'sql_real': 'SELECT marital_status, relationship, workclass, occupation, education, income, native_country, COUNT(*), MIN(age)  FROM C1  GROUP BY marital_status, relationship, workclass, occupation, education, income, native_country',\n",
       " 'n_cols_real': 9,\n",
       " 'n_rows_real': 9142,\n",
       " 'from_tbl_name_syn': 'C1_syn_default_1',\n",
       " 'join_tbl_name_lst_syn': [],\n",
       " 'sql_syn': 'SELECT marital_status, relationship, workclass, occupation, education, income, native_country, COUNT(*), MIN(age)  FROM C1_syn_default_1  GROUP BY marital_status, relationship, workclass, occupation, education, income, native_country',\n",
       " 'n_cols_syn': 9,\n",
       " 'n_rows_syn': 10279}"
      ]
     },
     "execution_count": 8,
     "metadata": {},
     "output_type": "execute_result"
    }
   ],
   "source": [
    "rnd_query['query_desc']"
   ]
  },
  {
   "cell_type": "code",
   "execution_count": 9,
   "metadata": {},
   "outputs": [
    {
     "name": "stdout",
     "output_type": "stream",
     "text": [
      "SELECT *  FROM C1  WHERE  NOT  sex <> 'Male' AND  occupation NOT IN ('Farming-fishing', 'Tech-support', 'Sales') AND  capital = 0 OR  workclass = 'Private' \n",
      "no_of_rows=40959\n",
      "no_of_cols=13\n",
      "product=532.467\n",
      "\n",
      "\n",
      "SELECT *  FROM C1  WHERE  NOT  sex <> 'Male' AND  occupation NOT IN ('Farming-fishing', 'Tech-support', 'Sales') AND  capital = 0 OR  workclass = 'Private' \n"
     ]
    }
   ],
   "source": [
    "#Single Filter\n",
    "\n",
    "# self.no_groupby_vars=2\n",
    "# self.no_where_vars=2\n",
    "# self.max_in_terms=2\n",
    "\n",
    "rnd_query=self.make_single_fltr_query()\n",
    "\n",
    "\n",
    "n_rows=rnd_query['query_desc']['n_rows']\n",
    "n_cols=rnd_query['query_desc']['n_cols']\n",
    "\n",
    "print(f\"no_of_rows={n_rows}\\nno_of_cols={n_cols}\\nproduct={n_rows*n_cols/1000}\")\n",
    "print(\"\\n\")\n",
    "print(rnd_query['query_desc']['sql'])"
   ]
  },
  {
   "cell_type": "code",
   "execution_count": 10,
   "metadata": {},
   "outputs": [
    {
     "data": {
      "text/plain": [
       "{'type': 'single_fltr',\n",
       " 'from_tbl_name': 'C1',\n",
       " 'join_tbl_name_lst': [],\n",
       " 'sql': \"SELECT *  FROM C1  WHERE  NOT  sex <> 'Male' AND  occupation NOT IN ('Farming-fishing', 'Tech-support', 'Sales') AND  capital = 0 OR  workclass = 'Private' \",\n",
       " 'n_rows': 40959,\n",
       " 'n_cols': 13}"
      ]
     },
     "execution_count": 10,
     "metadata": {},
     "output_type": "execute_result"
    }
   ],
   "source": [
    "rnd_query['query_desc']"
   ]
  },
  {
   "cell_type": "code",
   "execution_count": 11,
   "metadata": {},
   "outputs": [
    {
     "name": "stdout",
     "output_type": "stream",
     "text": [
      "SELECT *  FROM C1  WHERE   age = 73 AND NOT  marital_status LIKE 'Widowed' AND NOT  relationship NOT LIKE 'Husband' AND  sex <> 'Male' OR  income = '>50K' AND  education = 'HS-grad' AND  fnlwgt BETWEEN 118605 AND 77313 AND  native_country NOT IN ('United-States', 'United-States', 'United-States') AND  occupation NOT LIKE 'Other-service' \n",
      "REAL:\n",
      "no_of_rows=113\n",
      "no_of_cols=13\n",
      "product=1.469\n",
      "\n",
      "\n",
      "SYN:\n",
      "no_of_rows=89\n",
      "no_of_cols=13\n",
      "product=1.157\n",
      "\n",
      "\n",
      "SELECT *  FROM C1  WHERE   age = 73 AND NOT  marital_status LIKE 'Widowed' AND NOT  relationship NOT LIKE 'Husband' AND  sex <> 'Male' OR  income = '>50K' AND  education = 'HS-grad' AND  fnlwgt BETWEEN 118605 AND 77313 AND  native_country NOT IN ('United-States', 'United-States', 'United-States') AND  occupation NOT LIKE 'Other-service' \n",
      "\n",
      "\n",
      "SELECT *  FROM C1_syn_default_1  WHERE   age = 73 AND NOT  marital_status LIKE 'Widowed' AND NOT  relationship NOT LIKE 'Husband' AND  sex <> 'Male' OR  income = '>50K' AND  education = 'HS-grad' AND  fnlwgt BETWEEN 118605 AND 77313 AND  native_country NOT IN ('United-States', 'United-States', 'United-States') AND  occupation NOT LIKE 'Other-service' \n"
     ]
    }
   ],
   "source": [
    "# Twin Filter \n",
    "\n",
    "\n",
    "syn_tbl_name_lst=['C1_syn_default_1']\n",
    "rnd_query=self.make_twin_fltr_query(syn_tbl_name_lst)\n",
    "\n",
    "n_rows_real=rnd_query['query_desc']['n_rows_real']\n",
    "n_cols_real=rnd_query['query_desc']['n_cols_real']\n",
    "n_rows_syn=rnd_query['query_desc']['n_rows_syn']\n",
    "n_cols_syn=rnd_query['query_desc']['n_cols_syn']\n",
    "\n",
    "print(f\"REAL:\\nno_of_rows={n_rows_real}\\nno_of_cols={n_cols_real}\\nproduct={n_rows_real*n_cols_real/1000}\\n\\n\")\n",
    "print(f\"SYN:\\nno_of_rows={n_rows_syn}\\nno_of_cols={n_cols_syn}\\nproduct={n_rows_syn*n_cols_syn/1000}\\n\\n\")\n",
    "print(rnd_query['query_desc']['sql_real'])\n",
    "print(\"\\n\")\n",
    "print(rnd_query['query_desc']['sql_syn'])"
   ]
  },
  {
   "cell_type": "code",
   "execution_count": 12,
   "metadata": {},
   "outputs": [
    {
     "data": {
      "text/plain": [
       "{'type': 'twin_fltr',\n",
       " 'from_tbl_name_real': 'C1',\n",
       " 'join_tbl_name_lst_real': [],\n",
       " 'sql_real': \"SELECT *  FROM C1  WHERE   age = 73 AND NOT  marital_status LIKE 'Widowed' AND NOT  relationship NOT LIKE 'Husband' AND  sex <> 'Male' OR  income = '>50K' AND  education = 'HS-grad' AND  fnlwgt BETWEEN 118605 AND 77313 AND  native_country NOT IN ('United-States', 'United-States', 'United-States') AND  occupation NOT LIKE 'Other-service' \",\n",
       " 'n_cols_real': 13,\n",
       " 'n_rows_real': 113,\n",
       " 'from_tbl_name_syn': 'C1_syn_default_1',\n",
       " 'join_tbl_name_lst_syn': [],\n",
       " 'sql_syn': \"SELECT *  FROM C1_syn_default_1  WHERE   age = 73 AND NOT  marital_status LIKE 'Widowed' AND NOT  relationship NOT LIKE 'Husband' AND  sex <> 'Male' OR  income = '>50K' AND  education = 'HS-grad' AND  fnlwgt BETWEEN 118605 AND 77313 AND  native_country NOT IN ('United-States', 'United-States', 'United-States') AND  occupation NOT LIKE 'Other-service' \",\n",
       " 'n_cols_syn': 13,\n",
       " 'n_rows_syn': 89}"
      ]
     },
     "execution_count": 12,
     "metadata": {},
     "output_type": "execute_result"
    }
   ],
   "source": [
    "rnd_query['query_desc']"
   ]
  },
  {
   "cell_type": "code",
   "execution_count": 13,
   "metadata": {},
   "outputs": [
    {
     "name": "stdout",
     "output_type": "stream",
     "text": [
      "SELECT sex, race, income, workclass, education, occupation, relationship, native_country, COUNT(*), SUM(capital)  FROM C1  WHERE   relationship LIKE 'Not-in-family' AND  native_country LIKE 'United-States' AND  workclass <> 'Self-emp-inc' AND  fnlwgt NOT BETWEEN 175697 AND 186932 AND NOT  marital_status LIKE 'Never-married' AND  education NOT LIKE 'HS-grad'  GROUP BY sex, race, income, workclass, education, occupation, relationship, native_country\n",
      "no_of_rows=845\n",
      "no_of_cols=10\n",
      "product=8.45\n",
      "\n",
      "\n",
      "SELECT sex, race, income, workclass, education, occupation, relationship, native_country, COUNT(*), SUM(capital)  FROM C1  WHERE   relationship LIKE 'Not-in-family' AND  native_country LIKE 'United-States' AND  workclass <> 'Self-emp-inc' AND  fnlwgt NOT BETWEEN 175697 AND 186932 AND NOT  marital_status LIKE 'Never-married' AND  education NOT LIKE 'HS-grad'  GROUP BY sex, race, income, workclass, education, occupation, relationship, native_country\n"
     ]
    }
   ],
   "source": [
    "#Single Aggregate-Filter\n",
    "\n",
    "rnd_query=self.make_single_aggfltr_query(agg_fntn=True)\n",
    "\n",
    "\n",
    "n_rows=rnd_query['query_desc']['n_rows']\n",
    "n_cols=rnd_query['query_desc']['n_cols']\n",
    "\n",
    "print(f\"no_of_rows={n_rows}\\nno_of_cols={n_cols}\\nproduct={n_rows*n_cols/1000}\")\n",
    "print(\"\\n\")\n",
    "print(rnd_query['query_desc']['sql'])"
   ]
  },
  {
   "cell_type": "code",
   "execution_count": 14,
   "metadata": {},
   "outputs": [
    {
     "name": "stdout",
     "output_type": "stream",
     "text": [
      "SELECT workclass, marital_status, sex, race, income, native_country, COUNT(*), SUM(fnlwgt)  FROM C1  WHERE   education = '10th' AND  income <> '<=50K' OR  workclass NOT LIKE 'Self-emp-not-inc' AND  age = 22 AND NOT  native_country = 'United-States' AND  relationship <> 'Other-relative' AND NOT  marital_status IN ('Divorced', 'Married-civ-spouse', 'Married-civ-spouse') AND  hours_per_week NOT BETWEEN 40 AND 60 AND NOT  occupation IN ('Machine-op-inspct', 'Machine-op-inspct', 'Prof-specialty') AND  race = 'White' AND  sex = 'Female' AND  capital NOT BETWEEN 0 AND 0  GROUP BY workclass, marital_status, sex, race, income, native_country\n",
      "SELECT workclass, marital_status, sex, race, income, native_country, COUNT(*), SUM(fnlwgt)  FROM C1  WHERE   education = '10th' AND  income <> '<=50K' OR  workclass NOT LIKE 'Self-emp-not-inc' AND  age = 22 AND NOT  native_country = 'United-States' AND  relationship <> 'Other-relative' AND NOT  marital_status IN ('Divorced', 'Married-civ-spouse', 'Married-civ-spouse') AND  hours_per_week NOT BETWEEN 40 AND 60 AND NOT  occupation IN ('Machine-op-inspct', 'Machine-op-inspct', 'Prof-specialty') AND  race = 'White' AND  sex = 'Female' AND  capital NOT BETWEEN 0 AND 0  GROUP BY workclass, marital_status, sex, race, income, native_country\n",
      "REAL:\n",
      "no_of_rows=20\n",
      "no_of_cols=8\n",
      "product=0.16\n",
      "\n",
      "\n",
      "SELECT workclass, marital_status, sex, race, income, native_country, COUNT(*), SUM(fnlwgt)  FROM C1_syn_default_1  WHERE   education = '10th' AND  income <> '<=50K' OR  workclass NOT LIKE 'Self-emp-not-inc' AND  age = 22 AND NOT  native_country = 'United-States' AND  relationship <> 'Other-relative' AND NOT  marital_status IN ('Divorced', 'Married-civ-spouse', 'Married-civ-spouse') AND  hours_per_week NOT BETWEEN 40 AND 60 AND NOT  occupation IN ('Machine-op-inspct', 'Machine-op-inspct', 'Prof-specialty') AND  race = 'White' AND  sex = 'Female' AND  capital NOT BETWEEN 0 AND 0  GROUP BY workclass, marital_status, sex, race, income, native_country\n",
      "SYN:\n",
      "no_of_rows=13\n",
      "no_of_cols=8\n",
      "product=0.104\n",
      "\n",
      "\n"
     ]
    }
   ],
   "source": [
    "# Twin Aggregate-Filter \n",
    "\n",
    "syn_tbl_name_lst=['C1_syn_default_1']\n",
    "rnd_query=self.make_twin_aggfltr_query(syn_tbl_name_lst, agg_fntn=True)\n",
    "\n",
    "n_rows_real=rnd_query['query_desc']['n_rows_real']\n",
    "n_cols_real=rnd_query['query_desc']['n_cols_real']\n",
    "n_rows_syn=rnd_query['query_desc']['n_rows_syn']\n",
    "n_cols_syn=rnd_query['query_desc']['n_cols_syn']\n",
    "\n",
    "print(rnd_query['query_desc']['sql_real'])\n",
    "print(f\"REAL:\\nno_of_rows={n_rows_real}\\nno_of_cols={n_cols_real}\\nproduct={n_rows_real*n_cols_real/1000}\\n\\n\")\n",
    "\n",
    "print(rnd_query['query_desc']['sql_syn'])\n",
    "print(f\"SYN:\\nno_of_rows={n_rows_syn}\\nno_of_cols={n_cols_syn}\\nproduct={n_rows_syn*n_cols_syn/1000}\\n\\n\")"
   ]
  }
 ],
 "metadata": {
  "kernelspec": {
   "display_name": "Python 3.8.10 ('.env_dev': venv)",
   "language": "python",
   "name": "python3"
  },
  "language_info": {
   "codemirror_mode": {
    "name": "ipython",
    "version": 3
   },
   "file_extension": ".py",
   "mimetype": "text/x-python",
   "name": "python",
   "nbconvert_exporter": "python",
   "pygments_lexer": "ipython3",
   "version": "3.8.10"
  },
  "orig_nbformat": 4,
  "vscode": {
   "interpreter": {
    "hash": "6cf594385e3e378fbba23be52d8fa8a1ff0f44816650af8bcee05fc5c8211531"
   }
  }
 },
 "nbformat": 4,
 "nbformat_minor": 2
}

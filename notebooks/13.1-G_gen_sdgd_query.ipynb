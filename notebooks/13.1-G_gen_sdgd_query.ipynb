{
 "cells": [
  {
   "cell_type": "code",
   "execution_count": 9,
   "metadata": {},
   "outputs": [],
   "source": [
    "import sys\n",
    "sys.path.append('/home/samer/projects/fuzzy_sql/src') #This will enable reading the modules\n",
    "from pathlib import Path\n",
    "import os\n",
    "import json\n",
    "\n",
    "from fuzzy_sql.rnd_query import RND_QUERY\n",
    "from fuzzy_sql.fuzzy_sql import *"
   ]
  },
  {
   "cell_type": "code",
   "execution_count": 10,
   "metadata": {},
   "outputs": [],
   "source": [
    "#set directories\n",
    "root_dir=Path('/home/samer/projects/fuzzy_sql')\n",
    "metadata_dir=os.path.join(root_dir,'data/sdgd/processed/metadata')\n",
    "db_path=os.path.join(root_dir,'db/sdgd.db')"
   ]
  },
  {
   "cell_type": "code",
   "execution_count": 11,
   "metadata": {},
   "outputs": [],
   "source": [
    "#define input tables and metadata\n",
    "\n",
    "tbl_names_lst=[\"C1\"]\n",
    "\n",
    "metadata_lst=[]\n",
    "for tbl_name in tbl_names_lst:\n",
    "    with open(os.path.join(metadata_dir,tbl_name+'.json'),'r') as f:\n",
    "        metadata_lst.append(json.load(f))"
   ]
  },
  {
   "cell_type": "code",
   "execution_count": 12,
   "metadata": {},
   "outputs": [
    {
     "name": "stdout",
     "output_type": "stream",
     "text": [
      "smk2\n"
     ]
    }
   ],
   "source": [
    "#setup parameters\n",
    "DFLT_PARAMS={\n",
    "    'AGG_OPS':{'AVG':0.5, 'SUM':0.3, 'MAX':0.1, 'MIN':0.1 },\n",
    "    'LOGIC_OPS':{'AND':0.9,'OR':0.1},\n",
    "    'NOT_STATE':{'0':0.8, '1':0.2},\n",
    "    'CAT_OPS':{'=':0.25, '<>':0.25, 'LIKE':0.15, 'IN':0.15, 'NOT LIKE':0.1, 'NOT IN':0.1},\n",
    "    'CNT_OPS':{'=':0.2, '>':0.1, '<':0.1, '>=':0.1, '<=':0.1, '<>':0.1, 'BETWEEN':0.2, 'NOT BETWEEN':0.1},\n",
    "    'DT_OPS':{'=':0.2, '>':0.1, '<':0.1, '>=':0, '<=':0, '<>':0.1, 'BETWEEN':0.2, 'IN':0.1, 'NOT BETWEEN':0.1, 'NOT IN':0.1},\n",
    "    'LESS_GRP_VARS': False, # enforce bias in random queries toward smaller number of groupby vars. Default is no bias (i.e. uniform sampling)\n",
    "    'LESS_CMP_VARS':False, # enforce bias in random queries toward small number of  comparison terms. Default is no bias (i.e. uniform sampling)\n",
    "    'JOIN_CNDTN':{'WHERE':0.5, 'AND':0.5} #Use WHERE or AND with JOIN CLAUSE\n",
    "}\n",
    "\n",
    "#connect to db\n",
    "conn = sqlite3.connect(db_path)\n",
    "\n",
    "self=RND_QUERY(conn, tbl_names_lst, metadata_lst,DFLT_PARAMS)"
   ]
  },
  {
   "cell_type": "code",
   "execution_count": 13,
   "metadata": {},
   "outputs": [],
   "source": [
    "# Generate Random  queries \n",
    "\n",
    "\n",
    "\n",
    "#rnd_query=self.make_single_agg_query()\n",
    "\n",
    "syn_tbl_name_lst=['C1_syn_default_1']\n",
    "rnd_query=self.make_twin_agg_query(syn_tbl_name_lst)"
   ]
  },
  {
   "cell_type": "code",
   "execution_count": 14,
   "metadata": {},
   "outputs": [
    {
     "data": {
      "text/plain": [
       "{'query_real':           education age                race native_country         workclass  \\\n",
       " 0              10th  17  Amer-Indian-Eskimo  United-States           Private   \n",
       " 1              10th  17  Amer-Indian-Eskimo  United-States           Private   \n",
       " 2              10th  17               Black        England                 ?   \n",
       " 3              10th  17               Black  United-States                 ?   \n",
       " 4              10th  17               Black  United-States                 ?   \n",
       " ...             ...  ..                 ...            ...               ...   \n",
       " 48605  Some-college  90               Black  United-States           Private   \n",
       " 48606  Some-college  90               White    Puerto-Rico           Private   \n",
       " 48607  Some-college  90               White  United-States           Private   \n",
       " 48608  Some-college  90               White  United-States           Private   \n",
       " 48609  Some-college  90               White  United-States  Self-emp-not-inc   \n",
       " \n",
       "       income         occupation  fnlwgt  COUNT(*)  \n",
       " 0      <=50K  Handlers-cleaners  144752         1  \n",
       " 1      <=50K      Other-service  130125         1  \n",
       " 2      <=50K                  ?  159771         1  \n",
       " 3      <=50K                  ?  172145         1  \n",
       " 4      <=50K                  ?  341395         1  \n",
       " ...      ...                ...     ...       ...  \n",
       " 48605  <=50K              Sales  139660         1  \n",
       " 48606  <=50K       Adm-clerical  171956         1  \n",
       " 48607  <=50K       Adm-clerical  347074         1  \n",
       " 48608  <=50K      Other-service  272752         1  \n",
       " 48609  <=50K    Farming-fishing  282095         1  \n",
       " \n",
       " [48610 rows x 9 columns],\n",
       " 'query_syn':           education age                race   native_country workclass income  \\\n",
       " 0              10th  20               Black           Mexico         ?  <=50K   \n",
       " 1              10th  20               White    United-States         ?  <=50K   \n",
       " 2              10th  21  Asian-Pac-Islander    United-States         ?  <=50K   \n",
       " 3              10th  21               Black    United-States         ?  <=50K   \n",
       " 4              10th  21               Black    United-States         ?  <=50K   \n",
       " ...             ...  ..                 ...              ...       ...    ...   \n",
       " 48765  Some-college  90               White      Puerto-Rico   Private  <=50K   \n",
       " 48766  Some-college  90               White  Trinadad&Tobago   Private  <=50K   \n",
       " 48767  Some-college  90               White    United-States   Private  <=50K   \n",
       " 48768  Some-college  90               White    United-States   Private  <=50K   \n",
       " 48769  Some-college  90               White    United-States   Private   >50K   \n",
       " \n",
       "            occupation  fnlwgt  COUNT(*)  \n",
       " 0                   ?  199143         1  \n",
       " 1                   ?  203523         1  \n",
       " 2                   ?  172709         1  \n",
       " 3                   ?  135645         1  \n",
       " 4                   ?  274502         1  \n",
       " ...               ...     ...       ...  \n",
       " 48765    Adm-clerical  159449         1  \n",
       " 48766    Adm-clerical   67874         1  \n",
       " 48767  Prof-specialty  155781         1  \n",
       " 48768           Sales  205949         1  \n",
       " 48769           Sales  157043         1  \n",
       " \n",
       " [48770 rows x 9 columns],\n",
       " 'query_desc': {'type': 'twin_agg',\n",
       "  'agg_fntn': 'None',\n",
       "  'grpby_vars': ['education',\n",
       "   'age',\n",
       "   'race',\n",
       "   'native_country',\n",
       "   'workclass',\n",
       "   'income',\n",
       "   'occupation',\n",
       "   'fnlwgt'],\n",
       "  'from_tbl_name_real': 'C1',\n",
       "  'join_tbl_name_lst_real': 'Null',\n",
       "  'sql_real': 'SELECT education, age, race, native_country, workclass, income, occupation, fnlwgt, COUNT(*)  FROM C1  GROUP BY education, age, race, native_country, workclass, income, occupation, fnlwgt',\n",
       "  'n_cols_real': 9,\n",
       "  'n_rows_real': 48610,\n",
       "  'from_tbl_name_syn': 'C1_syn_default_1',\n",
       "  'join_tbl_name_lst_syn': 'Null',\n",
       "  'sql_syn': 'SELECT education, age, race, native_country, workclass, income, occupation, fnlwgt, COUNT(*)  FROM C1_syn_default_1  GROUP BY education, age, race, native_country, workclass, income, occupation, fnlwgt',\n",
       "  'n_cols_syn': 9,\n",
       "  'n_rows_syn': 48770}}"
      ]
     },
     "execution_count": 14,
     "metadata": {},
     "output_type": "execute_result"
    }
   ],
   "source": [
    "rnd_query"
   ]
  },
  {
   "cell_type": "code",
   "execution_count": null,
   "metadata": {},
   "outputs": [],
   "source": []
  }
 ],
 "metadata": {
  "kernelspec": {
   "display_name": "Python 3.8.10 ('.env_dev': venv)",
   "language": "python",
   "name": "python3"
  },
  "language_info": {
   "codemirror_mode": {
    "name": "ipython",
    "version": 3
   },
   "file_extension": ".py",
   "mimetype": "text/x-python",
   "name": "python",
   "nbconvert_exporter": "python",
   "pygments_lexer": "ipython3",
   "version": "3.8.10"
  },
  "orig_nbformat": 4,
  "vscode": {
   "interpreter": {
    "hash": "6cf594385e3e378fbba23be52d8fa8a1ff0f44816650af8bcee05fc5c8211531"
   }
  }
 },
 "nbformat": 4,
 "nbformat_minor": 2
}

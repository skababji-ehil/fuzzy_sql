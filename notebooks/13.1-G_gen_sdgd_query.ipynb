{
 "cells": [
  {
   "cell_type": "code",
   "execution_count": 1,
   "metadata": {},
   "outputs": [],
   "source": [
    "import sys\n",
    "sys.path.append('/home/samer/projects/fuzzy_sql/src') #This will enable reading the modules\n",
    "from pathlib import Path\n",
    "import os\n",
    "import json\n",
    "\n",
    "from fuzzy_sql.rnd_query import RND_QUERY\n",
    "from fuzzy_sql.fuzzy_sql import *"
   ]
  },
  {
   "cell_type": "code",
   "execution_count": 2,
   "metadata": {},
   "outputs": [],
   "source": [
    "#set directories\n",
    "root_dir=Path('/home/samer/projects/fuzzy_sql')\n",
    "metadata_dir=os.path.join(root_dir,'data/sdgd/processed/metadata')\n",
    "db_path=os.path.join(root_dir,'db/sdgd.db')"
   ]
  },
  {
   "cell_type": "code",
   "execution_count": 3,
   "metadata": {},
   "outputs": [],
   "source": [
    "#define input tables and metadata\n",
    "\n",
    "tbl_names_lst=[\"C1\"]\n",
    "\n",
    "metadata_lst=[]\n",
    "for tbl_name in tbl_names_lst:\n",
    "    with open(os.path.join(metadata_dir,tbl_name+'.json'),'r') as f:\n",
    "        metadata_lst.append(json.load(f))"
   ]
  },
  {
   "cell_type": "code",
   "execution_count": 4,
   "metadata": {},
   "outputs": [
    {
     "name": "stdout",
     "output_type": "stream",
     "text": [
      "Metadata for table C1 is valid.\n",
      "Parameter input is valid.\n"
     ]
    }
   ],
   "source": [
    "#connect to db\n",
    "conn = sqlite3.connect(db_path)\n",
    "self=RND_QUERY(conn, tbl_names_lst, metadata_lst)"
   ]
  },
  {
   "cell_type": "markdown",
   "metadata": {},
   "source": [
    "# Generate Random  queries "
   ]
  },
  {
   "cell_type": "code",
   "execution_count": 5,
   "metadata": {},
   "outputs": [
    {
     "name": "stdout",
     "output_type": "stream",
     "text": [
      "no_of_rows=3339\n",
      "no_of_cols=8\n",
      "product=26.712\n",
      "\n",
      "\n",
      "SELECT workclass, relationship, marital_status, education, income, race, COUNT(*), MAX(age)  FROM C1  GROUP BY workclass, relationship, marital_status, education, income, race\n"
     ]
    }
   ],
   "source": [
    "#Single Aggregate\n",
    "\n",
    "rnd_query=self.make_single_agg_query()\n",
    "\n",
    "\n",
    "n_rows=rnd_query['query_desc']['n_rows']\n",
    "n_cols=rnd_query['query_desc']['n_cols']\n",
    "\n",
    "print(f\"no_of_rows={n_rows}\\nno_of_cols={n_cols}\\nproduct={n_rows*n_cols/1000}\")\n",
    "print(\"\\n\")\n",
    "print(rnd_query['query_desc']['sql'])"
   ]
  },
  {
   "cell_type": "code",
   "execution_count": 6,
   "metadata": {},
   "outputs": [
    {
     "data": {
      "text/plain": [
       "{'type': 'single_agg',\n",
       " 'agg_fntn': ('MAX', 'age'),\n",
       " 'grpby_vars': ['workclass',\n",
       "  'relationship',\n",
       "  'marital_status',\n",
       "  'education',\n",
       "  'income',\n",
       "  'race'],\n",
       " 'from_tbl_name': 'C1',\n",
       " 'join_tbl_name_lst': [],\n",
       " 'sql': 'SELECT workclass, relationship, marital_status, education, income, race, COUNT(*), MAX(age)  FROM C1  GROUP BY workclass, relationship, marital_status, education, income, race',\n",
       " 'n_rows': 3339,\n",
       " 'n_cols': 8}"
      ]
     },
     "execution_count": 6,
     "metadata": {},
     "output_type": "execute_result"
    }
   ],
   "source": [
    "rnd_query['query_desc']"
   ]
  },
  {
   "cell_type": "code",
   "execution_count": 7,
   "metadata": {},
   "outputs": [
    {
     "name": "stdout",
     "output_type": "stream",
     "text": [
      "SELECT native_country, income, occupation, COUNT(*), SUM(age)  FROM C1  GROUP BY native_country, income, occupation\n",
      "REAL:\n",
      "no_of_rows=718\n",
      "no_of_cols=5\n",
      "product=3.59\n",
      "\n",
      "\n",
      "SELECT native_country, income, occupation, COUNT(*), SUM(age)  FROM C1_syn_default_1  GROUP BY native_country, income, occupation\n",
      "SYN:\n",
      "no_of_rows=716\n",
      "no_of_cols=5\n",
      "product=3.58\n",
      "\n",
      "\n"
     ]
    }
   ],
   "source": [
    "# Twin Aggregate \n",
    "\n",
    "syn_tbl_name_lst=['C1_syn_default_1']\n",
    "rnd_query=self.make_twin_agg_query(syn_tbl_name_lst)\n",
    "\n",
    "n_rows_real=rnd_query['query_desc']['n_rows_real']\n",
    "n_cols_real=rnd_query['query_desc']['n_cols_real']\n",
    "n_rows_syn=rnd_query['query_desc']['n_rows_syn']\n",
    "n_cols_syn=rnd_query['query_desc']['n_cols_syn']\n",
    "\n",
    "print(rnd_query['query_desc']['sql_real'])\n",
    "print(f\"REAL:\\nno_of_rows={n_rows_real}\\nno_of_cols={n_cols_real}\\nproduct={n_rows_real*n_cols_real/1000}\\n\\n\")\n",
    "\n",
    "print(rnd_query['query_desc']['sql_syn'])\n",
    "print(f\"SYN:\\nno_of_rows={n_rows_syn}\\nno_of_cols={n_cols_syn}\\nproduct={n_rows_syn*n_cols_syn/1000}\\n\\n\")\n",
    "\n"
   ]
  },
  {
   "cell_type": "code",
   "execution_count": 8,
   "metadata": {},
   "outputs": [
    {
     "data": {
      "text/plain": [
       "{'type': 'twin_agg',\n",
       " 'agg_fntn': ('SUM', 'age'),\n",
       " 'grpby_vars': ['native_country', 'income', 'occupation'],\n",
       " 'from_tbl_name_real': 'C1',\n",
       " 'join_tbl_name_lst_real': [],\n",
       " 'sql_real': 'SELECT native_country, income, occupation, COUNT(*), SUM(age)  FROM C1  GROUP BY native_country, income, occupation',\n",
       " 'n_cols_real': 5,\n",
       " 'n_rows_real': 718,\n",
       " 'from_tbl_name_syn': 'C1_syn_default_1',\n",
       " 'join_tbl_name_lst_syn': [],\n",
       " 'sql_syn': 'SELECT native_country, income, occupation, COUNT(*), SUM(age)  FROM C1_syn_default_1  GROUP BY native_country, income, occupation',\n",
       " 'n_cols_syn': 5,\n",
       " 'n_rows_syn': 716}"
      ]
     },
     "execution_count": 8,
     "metadata": {},
     "output_type": "execute_result"
    }
   ],
   "source": [
    "rnd_query['query_desc']"
   ]
  },
  {
   "cell_type": "code",
   "execution_count": 9,
   "metadata": {},
   "outputs": [
    {
     "name": "stdout",
     "output_type": "stream",
     "text": [
      "no_of_rows=0\n",
      "no_of_cols=13\n",
      "product=0.0\n",
      "\n",
      "\n",
      "SELECT *  FROM C1  WHERE   fnlwgt = 192203 AND  relationship <> 'Husband' AND NOT  hours_per_week > 8 AND  education IN ('10th', 'Bachelors', 'Some-college') AND  capital > 0 AND  occupation IN ('Craft-repair', 'Transport-moving') \n"
     ]
    }
   ],
   "source": [
    "#Single Filter\n",
    "\n",
    "# self.no_groupby_vars=2\n",
    "# self.no_where_vars=2\n",
    "# self.max_in_terms=2\n",
    "\n",
    "rnd_query=self.make_single_fltr_query()\n",
    "\n",
    "\n",
    "n_rows=rnd_query['query_desc']['n_rows']\n",
    "n_cols=rnd_query['query_desc']['n_cols']\n",
    "\n",
    "print(f\"no_of_rows={n_rows}\\nno_of_cols={n_cols}\\nproduct={n_rows*n_cols/1000}\")\n",
    "print(\"\\n\")\n",
    "print(rnd_query['query_desc']['sql'])"
   ]
  },
  {
   "cell_type": "code",
   "execution_count": 10,
   "metadata": {},
   "outputs": [
    {
     "data": {
      "text/plain": [
       "{'type': 'single_fltr',\n",
       " 'from_tbl_name': 'C1',\n",
       " 'join_tbl_name_lst': [],\n",
       " 'sql': \"SELECT *  FROM C1  WHERE   fnlwgt = 192203 AND  relationship <> 'Husband' AND NOT  hours_per_week > 8 AND  education IN ('10th', 'Bachelors', 'Some-college') AND  capital > 0 AND  occupation IN ('Craft-repair', 'Transport-moving') \",\n",
       " 'n_rows': 0,\n",
       " 'n_cols': 13}"
      ]
     },
     "execution_count": 10,
     "metadata": {},
     "output_type": "execute_result"
    }
   ],
   "source": [
    "rnd_query['query_desc']"
   ]
  },
  {
   "cell_type": "code",
   "execution_count": 11,
   "metadata": {},
   "outputs": [
    {
     "name": "stdout",
     "output_type": "stream",
     "text": [
      "REAL:\n",
      "no_of_rows=3454\n",
      "no_of_cols=13\n",
      "product=44.902\n",
      "\n",
      "\n",
      "SYN:\n",
      "no_of_rows=3265\n",
      "no_of_cols=13\n",
      "product=42.445\n",
      "\n",
      "\n",
      "SELECT *  FROM C1  WHERE   race <> 'White' AND  relationship IN ('Husband', 'Not-in-family') AND NOT  age = 48 AND  education <> 'Assoc-acdm' \n",
      "\n",
      "\n",
      "SELECT *  FROM C1_syn_default_1  WHERE   race <> 'White' AND  relationship IN ('Husband', 'Not-in-family') AND NOT  age = 48 AND  education <> 'Assoc-acdm' \n"
     ]
    }
   ],
   "source": [
    "# Twin Filter \n",
    "\n",
    "\n",
    "syn_tbl_name_lst=['C1_syn_default_1']\n",
    "rnd_query=self.make_twin_fltr_query(syn_tbl_name_lst)\n",
    "\n",
    "n_rows_real=rnd_query['query_desc']['n_rows_real']\n",
    "n_cols_real=rnd_query['query_desc']['n_cols_real']\n",
    "n_rows_syn=rnd_query['query_desc']['n_rows_syn']\n",
    "n_cols_syn=rnd_query['query_desc']['n_cols_syn']\n",
    "\n",
    "print(f\"REAL:\\nno_of_rows={n_rows_real}\\nno_of_cols={n_cols_real}\\nproduct={n_rows_real*n_cols_real/1000}\\n\\n\")\n",
    "print(f\"SYN:\\nno_of_rows={n_rows_syn}\\nno_of_cols={n_cols_syn}\\nproduct={n_rows_syn*n_cols_syn/1000}\\n\\n\")\n",
    "print(rnd_query['query_desc']['sql_real'])\n",
    "print(\"\\n\")\n",
    "print(rnd_query['query_desc']['sql_syn'])"
   ]
  },
  {
   "cell_type": "code",
   "execution_count": 12,
   "metadata": {},
   "outputs": [
    {
     "data": {
      "text/plain": [
       "{'type': 'twin_fltr',\n",
       " 'from_tbl_name_real': 'C1',\n",
       " 'join_tbl_name_lst_real': [],\n",
       " 'sql_real': \"SELECT *  FROM C1  WHERE   race <> 'White' AND  relationship IN ('Husband', 'Not-in-family') AND NOT  age = 48 AND  education <> 'Assoc-acdm' \",\n",
       " 'n_cols_real': 13,\n",
       " 'n_rows_real': 3454,\n",
       " 'from_tbl_name_syn': 'C1_syn_default_1',\n",
       " 'join_tbl_name_lst_syn': [],\n",
       " 'sql_syn': \"SELECT *  FROM C1_syn_default_1  WHERE   race <> 'White' AND  relationship IN ('Husband', 'Not-in-family') AND NOT  age = 48 AND  education <> 'Assoc-acdm' \",\n",
       " 'n_cols_syn': 13,\n",
       " 'n_rows_syn': 3265}"
      ]
     },
     "execution_count": 12,
     "metadata": {},
     "output_type": "execute_result"
    }
   ],
   "source": [
    "rnd_query['query_desc']"
   ]
  },
  {
   "cell_type": "code",
   "execution_count": 13,
   "metadata": {},
   "outputs": [
    {
     "name": "stdout",
     "output_type": "stream",
     "text": [
      "no_of_rows=920\n",
      "no_of_cols=11\n",
      "product=10.12\n",
      "\n",
      "\n",
      "SELECT race, education, relationship, workclass, income, occupation, sex, marital_status, native_country, COUNT(*), SUM(fnlwgt)  FROM C1  WHERE   marital_status IN ('Divorced', 'Never-married') AND  sex <> 'Male' AND  hours_per_week > 40  GROUP BY race, education, relationship, workclass, income, occupation, sex, marital_status, native_country\n"
     ]
    }
   ],
   "source": [
    "#Single Aggregate-Filter\n",
    "\n",
    "rnd_query=self.make_single_aggfltr_query()\n",
    "\n",
    "\n",
    "n_rows=rnd_query['query_desc']['n_rows']\n",
    "n_cols=rnd_query['query_desc']['n_cols']\n",
    "\n",
    "print(f\"no_of_rows={n_rows}\\nno_of_cols={n_cols}\\nproduct={n_rows*n_cols/1000}\")\n",
    "print(\"\\n\")\n",
    "print(rnd_query['query_desc']['sql'])"
   ]
  },
  {
   "cell_type": "code",
   "execution_count": 14,
   "metadata": {},
   "outputs": [
    {
     "name": "stdout",
     "output_type": "stream",
     "text": [
      "SELECT sex, marital_status, education, income, workclass, relationship, occupation, COUNT(*), AVG(age)  FROM C1  WHERE  NOT  capital > 0 AND  occupation LIKE 'Adm-clerical' AND  sex NOT LIKE 'Female' AND  race NOT LIKE 'White'  GROUP BY sex, marital_status, education, income, workclass, relationship, occupation\n",
      "REAL:\n",
      "no_of_rows=115\n",
      "no_of_cols=9\n",
      "product=1.035\n",
      "\n",
      "\n",
      "SELECT sex, marital_status, education, income, workclass, relationship, occupation, COUNT(*), AVG(age)  FROM C1_syn_default_1  WHERE  NOT  capital > 0 AND  occupation LIKE 'Adm-clerical' AND  sex NOT LIKE 'Female' AND  race NOT LIKE 'White'  GROUP BY sex, marital_status, education, income, workclass, relationship, occupation\n",
      "SYN:\n",
      "no_of_rows=90\n",
      "no_of_cols=9\n",
      "product=0.81\n",
      "\n",
      "\n"
     ]
    }
   ],
   "source": [
    "# Twin Aggregate-Filter \n",
    "\n",
    "syn_tbl_name_lst=['C1_syn_default_1']\n",
    "rnd_query=self.make_twin_aggfltr_query(syn_tbl_name_lst)\n",
    "\n",
    "n_rows_real=rnd_query['query_desc']['n_rows_real']\n",
    "n_cols_real=rnd_query['query_desc']['n_cols_real']\n",
    "n_rows_syn=rnd_query['query_desc']['n_rows_syn']\n",
    "n_cols_syn=rnd_query['query_desc']['n_cols_syn']\n",
    "\n",
    "print(rnd_query['query_desc']['sql_real'])\n",
    "print(f\"REAL:\\nno_of_rows={n_rows_real}\\nno_of_cols={n_cols_real}\\nproduct={n_rows_real*n_cols_real/1000}\\n\\n\")\n",
    "\n",
    "print(rnd_query['query_desc']['sql_syn'])\n",
    "print(f\"SYN:\\nno_of_rows={n_rows_syn}\\nno_of_cols={n_cols_syn}\\nproduct={n_rows_syn*n_cols_syn/1000}\\n\\n\")"
   ]
  },
  {
   "cell_type": "code",
   "execution_count": 15,
   "metadata": {},
   "outputs": [],
   "source": [
    "matched_query=self._match_twin_query(rnd_query)\n",
    "scored_query=self.calc_dist_scores(matched_query)"
   ]
  },
  {
   "cell_type": "code",
   "execution_count": 16,
   "metadata": {},
   "outputs": [
    {
     "data": {
      "text/plain": [
       "{'type': 'twin_agg',\n",
       " 'agg_fntn': ('AVG', 'age'),\n",
       " 'grpby_vars': ['sex',\n",
       "  'marital_status',\n",
       "  'education',\n",
       "  'income',\n",
       "  'workclass',\n",
       "  'relationship',\n",
       "  'occupation'],\n",
       " 'from_tbl_name_real': 'C1',\n",
       " 'join_tbl_name_lst_real': [],\n",
       " 'sql_real': \"SELECT sex, marital_status, education, income, workclass, relationship, occupation, COUNT(*), AVG(age)  FROM C1  WHERE  NOT  capital > 0 AND  occupation LIKE 'Adm-clerical' AND  sex NOT LIKE 'Female' AND  race NOT LIKE 'White'  GROUP BY sex, marital_status, education, income, workclass, relationship, occupation\",\n",
       " 'n_cols_real': 9,\n",
       " 'n_rows_real': 115,\n",
       " 'from_tbl_name_syn': 'C1_syn_default_1',\n",
       " 'join_tbl_name_lst_syn': [],\n",
       " 'sql_syn': \"SELECT sex, marital_status, education, income, workclass, relationship, occupation, COUNT(*), AVG(age)  FROM C1_syn_default_1  WHERE  NOT  capital > 0 AND  occupation LIKE 'Adm-clerical' AND  sex NOT LIKE 'Female' AND  race NOT LIKE 'White'  GROUP BY sex, marital_status, education, income, workclass, relationship, occupation\",\n",
       " 'n_cols_syn': 9,\n",
       " 'n_rows_syn': 90}"
      ]
     },
     "execution_count": 16,
     "metadata": {},
     "output_type": "execute_result"
    }
   ],
   "source": [
    "scored_query['query_desc']"
   ]
  },
  {
   "cell_type": "code",
   "execution_count": 17,
   "metadata": {},
   "outputs": [
    {
     "data": {
      "text/plain": [
       "0.5923274472978842"
      ]
     },
     "execution_count": 17,
     "metadata": {},
     "output_type": "execute_result"
    }
   ],
   "source": [
    "scored_query['query_hlngr_score']"
   ]
  },
  {
   "cell_type": "code",
   "execution_count": 18,
   "metadata": {},
   "outputs": [
    {
     "data": {
      "text/plain": [
       "0.0"
      ]
     },
     "execution_count": 18,
     "metadata": {},
     "output_type": "execute_result"
    }
   ],
   "source": [
    "scored_query['query_ecldn_score']"
   ]
  },
  {
   "cell_type": "code",
   "execution_count": null,
   "metadata": {},
   "outputs": [],
   "source": [
    "\n"
   ]
  }
 ],
 "metadata": {
  "kernelspec": {
   "display_name": "Python 3.8.10 ('.env_dev': venv)",
   "language": "python",
   "name": "python3"
  },
  "language_info": {
   "codemirror_mode": {
    "name": "ipython",
    "version": 3
   },
   "file_extension": ".py",
   "mimetype": "text/x-python",
   "name": "python",
   "nbconvert_exporter": "python",
   "pygments_lexer": "ipython3",
   "version": "3.8.10"
  },
  "orig_nbformat": 4,
  "vscode": {
   "interpreter": {
    "hash": "6cf594385e3e378fbba23be52d8fa8a1ff0f44816650af8bcee05fc5c8211531"
   }
  }
 },
 "nbformat": 4,
 "nbformat_minor": 2
}

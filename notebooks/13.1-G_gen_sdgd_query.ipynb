{
 "cells": [
  {
   "cell_type": "code",
   "execution_count": 22,
   "metadata": {},
   "outputs": [],
   "source": [
    "import sys\n",
    "sys.path.append('/home/samer/projects/fuzzy_sql/src') #This will enable reading the modules\n",
    "from pathlib import Path\n",
    "import os\n",
    "import json\n",
    "\n",
    "from fuzzy_sql.rnd_query import RND_QUERY\n",
    "from fuzzy_sql.fuzzy_sql import *"
   ]
  },
  {
   "cell_type": "code",
   "execution_count": 23,
   "metadata": {},
   "outputs": [],
   "source": [
    "#set directories\n",
    "root_dir=Path('/home/samer/projects/fuzzy_sql')\n",
    "metadata_dir=os.path.join(root_dir,'data/sdgd/processed/metadata')\n",
    "db_path=os.path.join(root_dir,'db/sdgd.db')"
   ]
  },
  {
   "cell_type": "code",
   "execution_count": 24,
   "metadata": {},
   "outputs": [],
   "source": [
    "#define input tables and metadata\n",
    "\n",
    "tbl_names_lst=[\"C1\"]\n",
    "\n",
    "metadata_lst=[]\n",
    "for tbl_name in tbl_names_lst:\n",
    "    with open(os.path.join(metadata_dir,tbl_name+'.json'),'r') as f:\n",
    "        metadata_lst.append(json.load(f))"
   ]
  },
  {
   "cell_type": "code",
   "execution_count": 25,
   "metadata": {},
   "outputs": [
    {
     "name": "stdout",
     "output_type": "stream",
     "text": [
      "Metadata fot table C1 validated.\n"
     ]
    }
   ],
   "source": [
    "#setup parameters\n",
    "DFLT_PARAMS={\n",
    "    'AGG_OPS':{'AVG':0.5, 'SUM':0.3, 'MAX':0.1, 'MIN':0.1 },\n",
    "    'LOGIC_OPS':{'AND':0.9,'OR':0.1},\n",
    "    'NOT_STATE':{'0':0.8, '1':0.2},\n",
    "    'CAT_OPS':{'=':0.25, '<>':0.25, 'LIKE':0.15, 'IN':0.15, 'NOT LIKE':0.1, 'NOT IN':0.1},\n",
    "    'CNT_OPS':{'=':0.2, '>':0.1, '<':0.1, '>=':0.1, '<=':0.1, '<>':0.1, 'BETWEEN':0.2, 'NOT BETWEEN':0.1},\n",
    "    'DT_OPS':{'=':0.2, '>':0.1, '<':0.1, '>=':0, '<=':0, '<>':0.1, 'BETWEEN':0.2, 'IN':0.1, 'NOT BETWEEN':0.1, 'NOT IN':0.1},\n",
    "    # 'FILTER_TYPE':{'WHERE':0.5, 'AND':0.5}, #Use WHERE or AND with JOIN CLAUSE\n",
    "    # 'JOIN_TYPE': {'JOIN':0.5, 'LEFT JOIN':0.5}\n",
    "}\n",
    "\n",
    "#connect to db\n",
    "conn = sqlite3.connect(db_path)\n",
    "\n",
    "self=RND_QUERY(conn, tbl_names_lst, metadata_lst,DFLT_PARAMS)"
   ]
  },
  {
   "cell_type": "markdown",
   "metadata": {},
   "source": [
    "# Generate Random  queries "
   ]
  },
  {
   "cell_type": "code",
   "execution_count": 26,
   "metadata": {},
   "outputs": [
    {
     "name": "stdout",
     "output_type": "stream",
     "text": [
      "SELECT C1.income, C1.marital_status, C1.occupation, C1.workclass, C1.sex, COUNT(*), AVG(C1.hours_per_week)  FROM C1  GROUP BY C1.income, C1.marital_status, C1.occupation, C1.workclass, C1.sex\n",
      "no_of_rows=1079\n",
      "no_of_cols=7\n",
      "product=7.553\n",
      "\n",
      "\n",
      "SELECT C1.income, C1.marital_status, C1.occupation, C1.workclass, C1.sex, COUNT(*), AVG(C1.hours_per_week)  FROM C1  GROUP BY C1.income, C1.marital_status, C1.occupation, C1.workclass, C1.sex\n"
     ]
    }
   ],
   "source": [
    "rnd_query=self.make_single_agg_query(agg_fntn=True)\n",
    "\n",
    "\n",
    "n_rows=rnd_query['query_desc']['n_rows']\n",
    "n_cols=rnd_query['query_desc']['n_cols']\n",
    "\n",
    "print(f\"no_of_rows={n_rows}\\nno_of_cols={n_cols}\\nproduct={n_rows*n_cols/1000}\")\n",
    "print(\"\\n\")\n",
    "print(rnd_query['query_desc']['sql'])"
   ]
  },
  {
   "cell_type": "code",
   "execution_count": 27,
   "metadata": {},
   "outputs": [
    {
     "name": "stdout",
     "output_type": "stream",
     "text": [
      "REAL:\n",
      "no_of_rows=10400\n",
      "no_of_cols=10\n",
      "product=104.0\n",
      "\n",
      "\n",
      "SYN:\n",
      "no_of_rows=11901\n",
      "no_of_cols=10\n",
      "product=119.01\n",
      "\n",
      "\n",
      "SELECT C1.income, C1.native_country, C1.education, C1.occupation, C1.marital_status, C1.workclass, C1.sex, C1.relationship, COUNT(*), SUM(C1.hours_per_week)  FROM C1  GROUP BY C1.income, C1.native_country, C1.education, C1.occupation, C1.marital_status, C1.workclass, C1.sex, C1.relationship\n"
     ]
    }
   ],
   "source": [
    "syn_tbl_name_lst=['C1_syn_default_1']\n",
    "rnd_query=self.make_twin_agg_query(syn_tbl_name_lst, agg_fntn=True)\n",
    "\n",
    "n_rows_real=rnd_query['query_desc']['n_rows_real']\n",
    "n_cols_real=rnd_query['query_desc']['n_cols_real']\n",
    "n_rows_syn=rnd_query['query_desc']['n_rows_syn']\n",
    "n_cols_syn=rnd_query['query_desc']['n_cols_syn']\n",
    "\n",
    "print(f\"REAL:\\nno_of_rows={n_rows_real}\\nno_of_cols={n_cols_real}\\nproduct={n_rows_real*n_cols_real/1000}\\n\\n\")\n",
    "print(f\"SYN:\\nno_of_rows={n_rows_syn}\\nno_of_cols={n_cols_syn}\\nproduct={n_rows_syn*n_cols_syn/1000}\\n\\n\")\n",
    "print(rnd_query['query_desc']['sql_real'])\n"
   ]
  },
  {
   "cell_type": "code",
   "execution_count": 28,
   "metadata": {},
   "outputs": [
    {
     "name": "stdout",
     "output_type": "stream",
     "text": [
      "SELECT *  FROM C1  WHERE   C1.income <> '<=50K' OR  C1.capital BETWEEN 0 AND 0 AND  C1.native_country IN ('United-States', 'United-States', 'United-States') AND  C1.race <> 'White' AND  C1.workclass <> 'Private' AND NOT  C1.occupation <> 'Craft-repair' AND NOT  C1.age <= 64 AND  C1.sex = 'Female' AND NOT  C1.fnlwgt <= 296253 AND  C1.relationship = 'Not-in-family' AND  C1.hours_per_week < 32 AND  C1.marital_status = 'Divorced' \n",
      "no_of_rows=11687\n",
      "no_of_cols=13\n",
      "product=151.931\n",
      "\n",
      "\n",
      "SELECT *  FROM C1  WHERE   C1.income <> '<=50K' OR  C1.capital BETWEEN 0 AND 0 AND  C1.native_country IN ('United-States', 'United-States', 'United-States') AND  C1.race <> 'White' AND  C1.workclass <> 'Private' AND NOT  C1.occupation <> 'Craft-repair' AND NOT  C1.age <= 64 AND  C1.sex = 'Female' AND NOT  C1.fnlwgt <= 296253 AND  C1.relationship = 'Not-in-family' AND  C1.hours_per_week < 32 AND  C1.marital_status = 'Divorced' \n"
     ]
    }
   ],
   "source": [
    "# self.no_groupby_vars=2\n",
    "# self.no_where_vars=2\n",
    "# self.max_in_terms=2\n",
    "\n",
    "rnd_query=self.make_single_fltr_query()\n",
    "\n",
    "\n",
    "n_rows=rnd_query['query_desc']['n_rows']\n",
    "n_cols=rnd_query['query_desc']['n_cols']\n",
    "\n",
    "print(f\"no_of_rows={n_rows}\\nno_of_cols={n_cols}\\nproduct={n_rows*n_cols/1000}\")\n",
    "print(\"\\n\")\n",
    "print(rnd_query['query_desc']['sql'])"
   ]
  }
 ],
 "metadata": {
  "kernelspec": {
   "display_name": "Python 3.8.10 ('.env_dev': venv)",
   "language": "python",
   "name": "python3"
  },
  "language_info": {
   "codemirror_mode": {
    "name": "ipython",
    "version": 3
   },
   "file_extension": ".py",
   "mimetype": "text/x-python",
   "name": "python",
   "nbconvert_exporter": "python",
   "pygments_lexer": "ipython3",
   "version": "3.8.10"
  },
  "orig_nbformat": 4,
  "vscode": {
   "interpreter": {
    "hash": "6cf594385e3e378fbba23be52d8fa8a1ff0f44816650af8bcee05fc5c8211531"
   }
  }
 },
 "nbformat": 4,
 "nbformat_minor": 2
}

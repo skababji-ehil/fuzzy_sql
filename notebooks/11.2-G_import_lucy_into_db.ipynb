{
 "cells": [
  {
   "cell_type": "code",
   "execution_count": 1,
   "metadata": {},
   "outputs": [],
   "source": [
    "import os\n",
    "import sys\n",
    "sys.path.append('/home/samer/projects/fuzzy_sql/src') #This will enable reading the modules\n",
    "from pathlib import Path\n",
    "from fuzzy_sql.fuzzy_sql import *\n"
   ]
  },
  {
   "cell_type": "code",
   "execution_count": 2,
   "metadata": {},
   "outputs": [],
   "source": [
    "#set directories\n",
    "root_dir=Path('/home/samer/projects/fuzzy_sql')\n",
    "real_dir=os.path.join(root_dir,'data/lucy/processed/real')\n",
    "syn_dir=os.path.join(root_dir,'data/lucy/processed/synthetic')\n",
    "\n",
    "db_path=os.path.join(root_dir,'db/lucy.db')"
   ]
  },
  {
   "cell_type": "code",
   "execution_count": 3,
   "metadata": {},
   "outputs": [],
   "source": [
    "conn = sqlite3.connect(db_path)"
   ]
  },
  {
   "cell_type": "code",
   "execution_count": 4,
   "metadata": {},
   "outputs": [
    {
     "name": "stdout",
     "output_type": "stream",
     "text": [
      "Table b_sample already exists in the database\n",
      "Table l_sample already exists in the database\n"
     ]
    }
   ],
   "source": [
    "b_sample,_=prep_data_for_db(os.path.join(real_dir,\"b_sample.csv\"))\n",
    "make_table('b_sample', b_sample, conn)\n",
    "l_sample,_=prep_data_for_db(os.path.join(real_dir,\"l_sample.csv\"))\n",
    "make_table('l_sample', l_sample, conn)"
   ]
  },
  {
   "cell_type": "code",
   "execution_count": 5,
   "metadata": {},
   "outputs": [
    {
     "name": "stdout",
     "output_type": "stream",
     "text": [
      "Table b_sample_syn_01 already exists in the database\n",
      "Table l_sample_syn_01 already exists in the database\n",
      "Table b_sample_syn_02 already exists in the database\n",
      "Table l_sample_syn_02 already exists in the database\n",
      "Table b_sample_syn_03 already exists in the database\n",
      "Table l_sample_syn_03 already exists in the database\n"
     ]
    }
   ],
   "source": [
    "for i in range(1,4):\n",
    "    b_sample_syn,_=prep_data_for_db(os.path.join(syn_dir,f\"b_sample_syn_0{i}.csv\"))\n",
    "    make_table(f'b_sample_syn_0{i}', b_sample_syn, conn)\n",
    "    l_sample_syn,_=prep_data_for_db(os.path.join(syn_dir,f\"l_sample_syn_0{i}.csv\"))\n",
    "    make_table(f'l_sample_syn_0{i}', l_sample_syn, conn)"
   ]
  }
 ],
 "metadata": {
  "kernelspec": {
   "display_name": "Python 3.8.10 ('.env_dev': venv)",
   "language": "python",
   "name": "python3"
  },
  "language_info": {
   "codemirror_mode": {
    "name": "ipython",
    "version": 3
   },
   "file_extension": ".py",
   "mimetype": "text/x-python",
   "name": "python",
   "nbconvert_exporter": "python",
   "pygments_lexer": "ipython3",
   "version": "3.8.10"
  },
  "orig_nbformat": 4,
  "vscode": {
   "interpreter": {
    "hash": "6cf594385e3e378fbba23be52d8fa8a1ff0f44816650af8bcee05fc5c8211531"
   }
  }
 },
 "nbformat": 4,
 "nbformat_minor": 2
}

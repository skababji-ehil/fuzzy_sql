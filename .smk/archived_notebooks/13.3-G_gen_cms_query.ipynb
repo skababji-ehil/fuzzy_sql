{
 "cells": [
  {
   "cell_type": "code",
   "execution_count": 1,
   "metadata": {},
   "outputs": [],
   "source": [
    "import sys\n",
    "sys.path.append('/home/samer/projects/fuzzy_sql/src') #This will enable reading the modules\n",
    "from pathlib import Path\n",
    "import os\n",
    "import json\n",
    "\n",
    "from fuzzy_sql.rnd_query import RND_QUERY\n",
    "from fuzzy_sql.fuzzy_sql import *"
   ]
  },
  {
   "cell_type": "code",
   "execution_count": 2,
   "metadata": {},
   "outputs": [],
   "source": [
    "#set directories\n",
    "root_dir=Path('/home/samer/projects/fuzzy_sql')\n",
    "metadata_dir=os.path.join(root_dir,'data/cms/processed/metadata')\n",
    "db_path=os.path.join(root_dir,'db/cms.db')"
   ]
  },
  {
   "cell_type": "code",
   "execution_count": 3,
   "metadata": {},
   "outputs": [],
   "source": [
    "#define input tables and metadata\n",
    "tbl_names_lst=['s1_ben_sum_2008','s1_ben_sum_2009','s1_ben_sum_2010','s1_carrier_1a','s1_carrier_1b','s1_inpatient','s1_outpatient','s1_prescrp']\n",
    "\n",
    "metadata_lst=[]\n",
    "for tbl_name in tbl_names_lst:\n",
    "    with open(os.path.join(metadata_dir,tbl_name+'.json'),'r') as f:\n",
    "        metadata_lst.append(json.load(f))"
   ]
  },
  {
   "cell_type": "code",
   "execution_count": 4,
   "metadata": {},
   "outputs": [
    {
     "name": "stdout",
     "output_type": "stream",
     "text": [
      "Metadata for table s1_ben_sum_2008 is valid.\n",
      "Metadata for table s1_ben_sum_2009 is valid.\n",
      "Metadata for table s1_ben_sum_2010 is valid.\n",
      "Metadata for table s1_carrier_1a is valid.\n",
      "Metadata for table s1_carrier_1b is valid.\n",
      "Metadata for table s1_inpatient is valid.\n",
      "Metadata for table s1_outpatient is valid.\n",
      "Metadata for table s1_prescrp is valid.\n",
      "Parameter input is valid.\n"
     ]
    }
   ],
   "source": [
    "#connect to db\n",
    "conn = sqlite3.connect(db_path)\n",
    "\n",
    "self=RND_QUERY(conn, tbl_names_lst, metadata_lst)"
   ]
  },
  {
   "cell_type": "markdown",
   "metadata": {},
   "source": [
    "# Generate Random  queries "
   ]
  },
  {
   "cell_type": "code",
   "execution_count": 5,
   "metadata": {},
   "outputs": [
    {
     "name": "stdout",
     "output_type": "stream",
     "text": [
      "no_of_rows=6\n",
      "no_of_cols=4\n",
      "product=0.024\n",
      "\n",
      "\n",
      "SELECT s1_carrier_1a.LINE_COINSRNC_AMT_13, s1_ben_sum_2008.PPPYMT_IP, COUNT(*), SUM(s1_carrier_1a.LINE_NCH_PMT_AMT_7)  FROM s1_ben_sum_2008  JOIN s1_prescrp  ON s1_ben_sum_2008.DESYNPUF_ID=s1_prescrp.DESYNPUF_ID  JOIN s1_carrier_1a  ON s1_ben_sum_2008.DESYNPUF_ID=s1_carrier_1a.DESYNPUF_ID  LEFT JOIN s1_inpatient  ON s1_ben_sum_2008.DESYNPUF_ID=s1_inpatient.DESYNPUF_ID  GROUP BY s1_carrier_1a.LINE_COINSRNC_AMT_13, s1_ben_sum_2008.PPPYMT_IP\n"
     ]
    }
   ],
   "source": [
    "#Single Agg\n",
    "\n",
    "# self.max_in_terms=2\n",
    "self.no_groupby_vars=2\n",
    "# self.no_where_vars=2\n",
    "# self.no_join_tables=np.nan\n",
    "\n",
    "\n",
    "rnd_query=self.make_single_agg_query()\n",
    "n_rows=rnd_query['query_desc']['n_rows']\n",
    "n_cols=rnd_query['query_desc']['n_cols']\n",
    "\n",
    "print(f\"no_of_rows={n_rows}\\nno_of_cols={n_cols}\\nproduct={n_rows*n_cols/1000}\")\n",
    "print(\"\\n\")\n",
    "print(rnd_query['query_desc']['sql'])"
   ]
  },
  {
   "cell_type": "code",
   "execution_count": 6,
   "metadata": {},
   "outputs": [
    {
     "name": "stdout",
     "output_type": "stream",
     "text": [
      "REAL:\n",
      "no_of_rows=176\n",
      "no_of_cols=4\n",
      "product=0.704\n",
      "\n",
      "\n",
      "SYN:\n",
      "no_of_rows=160\n",
      "no_of_cols=4\n",
      "product=0.64\n",
      "\n",
      "\n",
      "SELECT s1_carrier_1a.LINE_ICD9_DGNS_CD_9, s1_outpatient.HCPCS_CD_25, COUNT(*), AVG(s1_carrier_1a.TAX_NUM_4)  FROM s1_ben_sum_2009  JOIN s1_prescrp  ON s1_ben_sum_2009.DESYNPUF_ID=s1_prescrp.DESYNPUF_ID  LEFT JOIN s1_carrier_1a  ON s1_ben_sum_2009.DESYNPUF_ID=s1_carrier_1a.DESYNPUF_ID  JOIN s1_inpatient  ON s1_ben_sum_2009.DESYNPUF_ID=s1_inpatient.DESYNPUF_ID  JOIN s1_outpatient  ON s1_ben_sum_2009.DESYNPUF_ID=s1_outpatient.DESYNPUF_ID  LEFT JOIN s1_carrier_1b  ON s1_ben_sum_2009.DESYNPUF_ID=s1_carrier_1b.DESYNPUF_ID  GROUP BY s1_carrier_1a.LINE_ICD9_DGNS_CD_9, s1_outpatient.HCPCS_CD_25\n",
      "\n",
      "\n",
      "SELECT s2_carrier_2a.LINE_ICD9_DGNS_CD_9, s2_outpatient.HCPCS_CD_25, COUNT(*), AVG(s2_carrier_2a.TAX_NUM_4)  FROM s2_ben_sum_2009  JOIN s2_prescrp  ON s2_ben_sum_2009.DESYNPUF_ID=s2_prescrp.DESYNPUF_ID  LEFT JOIN s2_carrier_2a  ON s2_ben_sum_2009.DESYNPUF_ID=s2_carrier_2a.DESYNPUF_ID  JOIN s2_inpatient  ON s2_ben_sum_2009.DESYNPUF_ID=s2_inpatient.DESYNPUF_ID  JOIN s2_outpatient  ON s2_ben_sum_2009.DESYNPUF_ID=s2_outpatient.DESYNPUF_ID  LEFT JOIN s2_carrier_2b  ON s2_ben_sum_2009.DESYNPUF_ID=s2_carrier_2b.DESYNPUF_ID  GROUP BY s2_carrier_2a.LINE_ICD9_DGNS_CD_9, s2_outpatient.HCPCS_CD_25\n"
     ]
    }
   ],
   "source": [
    "# Twin Aggregate\n",
    "\n",
    "# self.max_in_terms=2\n",
    "self.no_groupby_vars=2\n",
    "# self.no_where_vars=2\n",
    "# self.no_join_tables=np.nan\n",
    "\n",
    "syn_tbl_name_lst=['s2_ben_sum_2008','s2_ben_sum_2009','s2_ben_sum_2010','s2_carrier_2a','s2_carrier_2b','s2_inpatient','s2_outpatient','s2_prescrp']\n",
    "rnd_query=self.make_twin_agg_query(syn_tbl_name_lst)\n",
    "\n",
    "n_rows_real=rnd_query['query_desc']['n_rows_real']\n",
    "n_cols_real=rnd_query['query_desc']['n_cols_real']\n",
    "n_rows_syn=rnd_query['query_desc']['n_rows_syn']\n",
    "n_cols_syn=rnd_query['query_desc']['n_cols_syn']\n",
    "\n",
    "print(f\"REAL:\\nno_of_rows={n_rows_real}\\nno_of_cols={n_cols_real}\\nproduct={n_rows_real*n_cols_real/1000}\\n\\n\")\n",
    "print(f\"SYN:\\nno_of_rows={n_rows_syn}\\nno_of_cols={n_cols_syn}\\nproduct={n_rows_syn*n_cols_syn/1000}\\n\\n\")\n",
    "print(rnd_query['query_desc']['sql_real'])\n",
    "print(\"\\n\")\n",
    "print(rnd_query['query_desc']['sql_syn'])\n"
   ]
  },
  {
   "cell_type": "code",
   "execution_count": 7,
   "metadata": {},
   "outputs": [
    {
     "name": "stdout",
     "output_type": "stream",
     "text": [
      "no_of_rows=0\n",
      "no_of_cols=316\n",
      "product=0.0\n",
      "\n",
      "\n",
      "SELECT *  FROM s1_ben_sum_2010  LEFT JOIN s1_carrier_1a  ON s1_ben_sum_2010.DESYNPUF_ID=s1_carrier_1a.DESYNPUF_ID  LEFT JOIN s1_carrier_1b  ON s1_ben_sum_2010.DESYNPUF_ID=s1_carrier_1b.DESYNPUF_ID  WHERE   s1_carrier_1b.PRF_PHYSN_NPI_9 IN ('3489914999', '3317384390', '8572205974') AND  s1_carrier_1a.LINE_BENE_PTB_DDCTBL_AMT_6 = '0.00' \n"
     ]
    }
   ],
   "source": [
    "# Single Filter\n",
    "\n",
    "# self.max_in_terms=2\n",
    "# self.no_groupby_vars=2\n",
    "self.no_where_vars=2\n",
    "self.no_join_tables=2\n",
    "\n",
    "rnd_query=self.make_single_fltr_query()\n",
    "\n",
    "\n",
    "n_rows=rnd_query['query_desc']['n_rows']\n",
    "n_cols=rnd_query['query_desc']['n_cols']\n",
    "\n",
    "print(f\"no_of_rows={n_rows}\\nno_of_cols={n_cols}\\nproduct={n_rows*n_cols/1000}\")\n",
    "print(\"\\n\")\n",
    "print(rnd_query['query_desc']['sql'])"
   ]
  },
  {
   "cell_type": "code",
   "execution_count": 8,
   "metadata": {},
   "outputs": [
    {
     "name": "stdout",
     "output_type": "stream",
     "text": [
      "REAL:\n",
      "no_of_rows=10000\n",
      "no_of_cols=174\n",
      "product=1740.0\n",
      "\n",
      "\n",
      "SYN:\n",
      "no_of_rows=10000\n",
      "no_of_cols=174\n",
      "product=1740.0\n",
      "\n",
      "\n",
      "SELECT *  FROM s1_ben_sum_2008  LEFT JOIN s1_carrier_1b  ON s1_ben_sum_2008.DESYNPUF_ID=s1_carrier_1b.DESYNPUF_ID  AND   s1_carrier_1b.LINE_PRCSG_IND_CD_9 <> 'A' AND  s1_carrier_1b.LINE_ICD9_DGNS_CD_9 NOT LIKE '2724' \n",
      "\n",
      "\n",
      "SELECT *  FROM s2_ben_sum_2008  LEFT JOIN s2_carrier_2b  ON s2_ben_sum_2008.DESYNPUF_ID=s2_carrier_2b.DESYNPUF_ID  AND   s2_carrier_2b.LINE_PRCSG_IND_CD_9 <> 'A' AND  s2_carrier_2b.LINE_ICD9_DGNS_CD_9 NOT LIKE '2724' \n"
     ]
    }
   ],
   "source": [
    "# Twin Filter\n",
    "\n",
    "self.no_where_vars=2\n",
    "\n",
    "syn_tbl_name_lst=['s2_ben_sum_2008','s2_ben_sum_2009','s2_ben_sum_2010','s2_carrier_2a','s2_carrier_2b','s2_inpatient','s2_outpatient','s2_prescrp']\n",
    "rnd_query=self.make_twin_fltr_query(syn_tbl_name_lst)\n",
    "\n",
    "n_rows_real=rnd_query['query_desc']['n_rows_real']\n",
    "n_cols_real=rnd_query['query_desc']['n_cols_real']\n",
    "n_rows_syn=rnd_query['query_desc']['n_rows_syn']\n",
    "n_cols_syn=rnd_query['query_desc']['n_cols_syn']\n",
    "\n",
    "print(f\"REAL:\\nno_of_rows={n_rows_real}\\nno_of_cols={n_cols_real}\\nproduct={n_rows_real*n_cols_real/1000}\\n\\n\")\n",
    "print(f\"SYN:\\nno_of_rows={n_rows_syn}\\nno_of_cols={n_cols_syn}\\nproduct={n_rows_syn*n_cols_syn/1000}\\n\\n\")\n",
    "print(rnd_query['query_desc']['sql_real'])\n",
    "print(\"\\n\")\n",
    "print(rnd_query['query_desc']['sql_syn'])"
   ]
  },
  {
   "cell_type": "code",
   "execution_count": 9,
   "metadata": {},
   "outputs": [
    {
     "data": {
      "text/plain": [
       "{'type': 'twin_fltr',\n",
       " 'from_tbl_name_real': 's1_ben_sum_2008',\n",
       " 'join_tbl_name_lst_real': ['s1_carrier_1b'],\n",
       " 'sql_real': \"SELECT *  FROM s1_ben_sum_2008  LEFT JOIN s1_carrier_1b  ON s1_ben_sum_2008.DESYNPUF_ID=s1_carrier_1b.DESYNPUF_ID  AND   s1_carrier_1b.LINE_PRCSG_IND_CD_9 <> 'A' AND  s1_carrier_1b.LINE_ICD9_DGNS_CD_9 NOT LIKE '2724' \",\n",
       " 'n_cols_real': 174,\n",
       " 'n_rows_real': 10000,\n",
       " 'from_tbl_name_syn': 's2_ben_sum_2008',\n",
       " 'join_tbl_name_lst_syn': ['s2_carrier_2b'],\n",
       " 'sql_syn': \"SELECT *  FROM s2_ben_sum_2008  LEFT JOIN s2_carrier_2b  ON s2_ben_sum_2008.DESYNPUF_ID=s2_carrier_2b.DESYNPUF_ID  AND   s2_carrier_2b.LINE_PRCSG_IND_CD_9 <> 'A' AND  s2_carrier_2b.LINE_ICD9_DGNS_CD_9 NOT LIKE '2724' \",\n",
       " 'n_cols_syn': 174,\n",
       " 'n_rows_syn': 10000}"
      ]
     },
     "execution_count": 9,
     "metadata": {},
     "output_type": "execute_result"
    }
   ],
   "source": [
    "rnd_query['query_desc']"
   ]
  },
  {
   "cell_type": "code",
   "execution_count": 10,
   "metadata": {},
   "outputs": [
    {
     "name": "stdout",
     "output_type": "stream",
     "text": [
      "no_of_rows=0\n",
      "no_of_cols=4\n",
      "product=0.0\n",
      "\n",
      "\n",
      "SELECT s1_carrier_1a.LINE_ALOWD_CHRG_AMT_7, s1_carrier_1a.ICD9_DGNS_CD_8, COUNT(*), SUM(s1_carrier_1a.LINE_NCH_PMT_AMT_2)  FROM s1_ben_sum_2009  LEFT JOIN s1_carrier_1a  ON s1_ben_sum_2009.DESYNPUF_ID=s1_carrier_1a.DESYNPUF_ID  WHERE   s1_carrier_1a.HCPCS_CD_13 IN ('82310', 'G0431', '87077') AND  s1_carrier_1a.ICD9_DGNS_CD_3 = '40210'  GROUP BY s1_carrier_1a.LINE_ALOWD_CHRG_AMT_7, s1_carrier_1a.ICD9_DGNS_CD_8\n"
     ]
    }
   ],
   "source": [
    "#Single Aggregate-Filter\n",
    "\n",
    "# self.max_in_terms=2\n",
    "self.no_groupby_vars=2\n",
    "# self.no_where_vars=2\n",
    "# self.no_join_tables=np.nan\n",
    "\n",
    "\n",
    "rnd_query=self.make_single_aggfltr_query()\n",
    "n_rows=rnd_query['query_desc']['n_rows']\n",
    "n_cols=rnd_query['query_desc']['n_cols']\n",
    "\n",
    "print(f\"no_of_rows={n_rows}\\nno_of_cols={n_cols}\\nproduct={n_rows*n_cols/1000}\")\n",
    "print(\"\\n\")\n",
    "print(rnd_query['query_desc']['sql'])"
   ]
  },
  {
   "cell_type": "code",
   "execution_count": 11,
   "metadata": {},
   "outputs": [
    {
     "name": "stdout",
     "output_type": "stream",
     "text": [
      "REAL:\n",
      "no_of_rows=1\n",
      "no_of_cols=4\n",
      "product=0.004\n",
      "\n",
      "\n",
      "SYN:\n",
      "no_of_rows=1\n",
      "no_of_cols=4\n",
      "product=0.004\n",
      "\n",
      "\n",
      "SELECT s1_carrier_1a.LINE_BENE_PTB_DDCTBL_AMT_8, s1_carrier_1a.ICD9_DGNS_CD_8, COUNT(*), SUM(s1_carrier_1a.PRF_PHYSN_NPI_4)  FROM s1_ben_sum_2010  JOIN s1_carrier_1a  ON s1_ben_sum_2010.DESYNPUF_ID=s1_carrier_1a.DESYNPUF_ID  JOIN s1_inpatient  ON s1_ben_sum_2010.DESYNPUF_ID=s1_inpatient.DESYNPUF_ID  AND   s1_carrier_1a.LINE_BENE_PRMRY_PYR_PD_AMT_7 LIKE '0.00' AND  s1_carrier_1a.LINE_COINSRNC_AMT_11 NOT LIKE '0.00'  GROUP BY s1_carrier_1a.LINE_BENE_PTB_DDCTBL_AMT_8, s1_carrier_1a.ICD9_DGNS_CD_8\n",
      "\n",
      "\n",
      "SELECT s2_carrier_2a.LINE_BENE_PTB_DDCTBL_AMT_8, s2_carrier_2a.ICD9_DGNS_CD_8, COUNT(*), SUM(s2_carrier_2a.PRF_PHYSN_NPI_4)  FROM s2_ben_sum_2010  JOIN s2_carrier_2a  ON s2_ben_sum_2010.DESYNPUF_ID=s2_carrier_2a.DESYNPUF_ID  JOIN s2_inpatient  ON s2_ben_sum_2010.DESYNPUF_ID=s2_inpatient.DESYNPUF_ID  AND   s2_carrier_2a.LINE_BENE_PRMRY_PYR_PD_AMT_7 LIKE '0.00' AND  s2_carrier_2a.LINE_COINSRNC_AMT_11 NOT LIKE '0.00'  GROUP BY s2_carrier_2a.LINE_BENE_PTB_DDCTBL_AMT_8, s2_carrier_2a.ICD9_DGNS_CD_8\n"
     ]
    }
   ],
   "source": [
    "# Twin Aggregate-Filter\n",
    "\n",
    "# self.max_in_terms=2\n",
    "self.no_groupby_vars=2\n",
    "# self.no_where_vars=2\n",
    "# self.no_join_tables=np.nan\n",
    "\n",
    "syn_tbl_name_lst=['s2_ben_sum_2008','s2_ben_sum_2009','s2_ben_sum_2010','s2_carrier_2a','s2_carrier_2b','s2_inpatient','s2_outpatient','s2_prescrp']\n",
    "rnd_query=self.make_twin_aggfltr_query(syn_tbl_name_lst)\n",
    "\n",
    "n_rows_real=rnd_query['query_desc']['n_rows_real']\n",
    "n_cols_real=rnd_query['query_desc']['n_cols_real']\n",
    "n_rows_syn=rnd_query['query_desc']['n_rows_syn']\n",
    "n_cols_syn=rnd_query['query_desc']['n_cols_syn']\n",
    "\n",
    "print(f\"REAL:\\nno_of_rows={n_rows_real}\\nno_of_cols={n_cols_real}\\nproduct={n_rows_real*n_cols_real/1000}\\n\\n\")\n",
    "print(f\"SYN:\\nno_of_rows={n_rows_syn}\\nno_of_cols={n_cols_syn}\\nproduct={n_rows_syn*n_cols_syn/1000}\\n\\n\")\n",
    "print(rnd_query['query_desc']['sql_real'])\n",
    "print(\"\\n\")\n",
    "print(rnd_query['query_desc']['sql_syn'])"
   ]
  },
  {
   "cell_type": "code",
   "execution_count": 12,
   "metadata": {},
   "outputs": [],
   "source": [
    "matched_query=self._match_twin_query(rnd_query)\n",
    "scored_query=self.calc_dist_scores(matched_query)"
   ]
  },
  {
   "cell_type": "code",
   "execution_count": 13,
   "metadata": {},
   "outputs": [
    {
     "data": {
      "text/plain": [
       "{'type': 'twin_agg',\n",
       " 'agg_fntn': ('SUM', 's1_carrier_1a.PRF_PHYSN_NPI_4'),\n",
       " 'grpby_vars': ['LINE_BENE_PTB_DDCTBL_AMT_8', 'ICD9_DGNS_CD_8'],\n",
       " 'from_tbl_name_real': 's1_ben_sum_2010',\n",
       " 'join_tbl_name_lst_real': ['s1_carrier_1a', 's1_inpatient'],\n",
       " 'sql_real': \"SELECT s1_carrier_1a.LINE_BENE_PTB_DDCTBL_AMT_8, s1_carrier_1a.ICD9_DGNS_CD_8, COUNT(*), SUM(s1_carrier_1a.PRF_PHYSN_NPI_4)  FROM s1_ben_sum_2010  JOIN s1_carrier_1a  ON s1_ben_sum_2010.DESYNPUF_ID=s1_carrier_1a.DESYNPUF_ID  JOIN s1_inpatient  ON s1_ben_sum_2010.DESYNPUF_ID=s1_inpatient.DESYNPUF_ID  AND   s1_carrier_1a.LINE_BENE_PRMRY_PYR_PD_AMT_7 LIKE '0.00' AND  s1_carrier_1a.LINE_COINSRNC_AMT_11 NOT LIKE '0.00'  GROUP BY s1_carrier_1a.LINE_BENE_PTB_DDCTBL_AMT_8, s1_carrier_1a.ICD9_DGNS_CD_8\",\n",
       " 'n_cols_real': 4,\n",
       " 'n_rows_real': 1,\n",
       " 'from_tbl_name_syn': 's2_ben_sum_2010',\n",
       " 'join_tbl_name_lst_syn': ['s2_carrier_2a', 's2_inpatient'],\n",
       " 'sql_syn': \"SELECT s2_carrier_2a.LINE_BENE_PTB_DDCTBL_AMT_8, s2_carrier_2a.ICD9_DGNS_CD_8, COUNT(*), SUM(s2_carrier_2a.PRF_PHYSN_NPI_4)  FROM s2_ben_sum_2010  JOIN s2_carrier_2a  ON s2_ben_sum_2010.DESYNPUF_ID=s2_carrier_2a.DESYNPUF_ID  JOIN s2_inpatient  ON s2_ben_sum_2010.DESYNPUF_ID=s2_inpatient.DESYNPUF_ID  AND   s2_carrier_2a.LINE_BENE_PRMRY_PYR_PD_AMT_7 LIKE '0.00' AND  s2_carrier_2a.LINE_COINSRNC_AMT_11 NOT LIKE '0.00'  GROUP BY s2_carrier_2a.LINE_BENE_PTB_DDCTBL_AMT_8, s2_carrier_2a.ICD9_DGNS_CD_8\",\n",
       " 'n_cols_syn': 4,\n",
       " 'n_rows_syn': 1}"
      ]
     },
     "execution_count": 13,
     "metadata": {},
     "output_type": "execute_result"
    }
   ],
   "source": [
    "matched_query['query_desc']"
   ]
  },
  {
   "cell_type": "code",
   "execution_count": 14,
   "metadata": {},
   "outputs": [
    {
     "data": {
      "text/plain": [
       "0.0"
      ]
     },
     "execution_count": 14,
     "metadata": {},
     "output_type": "execute_result"
    }
   ],
   "source": [
    "scored_query['query_hlngr_score']"
   ]
  },
  {
   "cell_type": "code",
   "execution_count": 15,
   "metadata": {},
   "outputs": [
    {
     "data": {
      "text/plain": [
       "nan"
      ]
     },
     "execution_count": 15,
     "metadata": {},
     "output_type": "execute_result"
    }
   ],
   "source": [
    "scored_query['query_ecldn_score']"
   ]
  }
 ],
 "metadata": {
  "kernelspec": {
   "display_name": "Python 3.8.10 ('.env_dev': venv)",
   "language": "python",
   "name": "python3"
  },
  "language_info": {
   "codemirror_mode": {
    "name": "ipython",
    "version": 3
   },
   "file_extension": ".py",
   "mimetype": "text/x-python",
   "name": "python",
   "nbconvert_exporter": "python",
   "pygments_lexer": "ipython3",
   "version": "3.8.10"
  },
  "orig_nbformat": 4,
  "vscode": {
   "interpreter": {
    "hash": "6cf594385e3e378fbba23be52d8fa8a1ff0f44816650af8bcee05fc5c8211531"
   }
  }
 },
 "nbformat": 4,
 "nbformat_minor": 2
}

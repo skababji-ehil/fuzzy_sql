{
 "cells": [
  {
   "cell_type": "code",
   "execution_count": 109,
   "metadata": {},
   "outputs": [],
   "source": [
    "import sys\n",
    "sys.path.append('/home/samer/projects/fuzzy_sql/src') #This will enable reading the modules\n",
    "from pathlib import Path\n",
    "import os\n",
    "import json\n",
    "\n",
    "from fuzzy_sql.fuzzy_sql import *"
   ]
  },
  {
   "cell_type": "code",
   "execution_count": 110,
   "metadata": {},
   "outputs": [],
   "source": [
    "#set directories\n",
    "root_dir=Path('/home/samer/projects/fuzzy_sql')\n",
    "metadata_dir=os.path.join(root_dir,'data/sdgd/processed/metadata')\n",
    "db_path=os.path.join(root_dir,'db/sdgd.db')"
   ]
  },
  {
   "cell_type": "code",
   "execution_count": 111,
   "metadata": {},
   "outputs": [],
   "source": [
    "#define input tables and metadata\n",
    "\n",
    "tbl_names_lst=[\"C2\"]\n",
    "\n",
    "metadata_lst=[]\n",
    "for tbl_name in tbl_names_lst:\n",
    "    with open(os.path.join(metadata_dir,tbl_name+'.json'),'r') as f:\n",
    "        metadata_lst.append(json.load(f))"
   ]
  },
  {
   "cell_type": "code",
   "execution_count": 112,
   "metadata": {},
   "outputs": [],
   "source": [
    "#connect to db\n",
    "conn = sqlite3.connect(db_path)\n",
    "self=RND_QRY(conn, tbl_names_lst, metadata_lst)"
   ]
  },
  {
   "cell_type": "markdown",
   "metadata": {},
   "source": [
    "# Generate Random  queries "
   ]
  },
  {
   "cell_type": "code",
   "execution_count": 113,
   "metadata": {},
   "outputs": [
    {
     "name": "stdout",
     "output_type": "stream",
     "text": [
      "no_of_rows=2\n",
      "no_of_cols=3\n",
      "product=0.006\n",
      "\n",
      "\n",
      "SELECT class, COUNT(*), MIN(var)  FROM C2  GROUP BY class\n"
     ]
    }
   ],
   "source": [
    "#Single Aggregate\n",
    "single_expr,groupby_lst,from_tbl, join_tbl_lst, agg_fntn_terms=self.compile_agg_expr() \n",
    "rnd_query=self.make_single_agg_query(single_expr,groupby_lst,from_tbl, join_tbl_lst, agg_fntn_terms)\n",
    "\n",
    "\n",
    "n_rows=rnd_query['query_desc']['n_rows']\n",
    "n_cols=rnd_query['query_desc']['n_cols']\n",
    "\n",
    "print(f\"no_of_rows={n_rows}\\nno_of_cols={n_cols}\\nproduct={n_rows*n_cols/1000}\")\n",
    "print(\"\\n\")\n",
    "print(rnd_query['query_desc']['sql'])"
   ]
  },
  {
   "cell_type": "code",
   "execution_count": 114,
   "metadata": {},
   "outputs": [
    {
     "data": {
      "text/plain": [
       "{'type': 'single_agg',\n",
       " 'agg_fntn': ('MIN', 'var'),\n",
       " 'grpby_vars': ['class'],\n",
       " 'from_tbl_name': 'C2',\n",
       " 'join_tbl_name_lst': [],\n",
       " 'sql': 'SELECT class, COUNT(*), MIN(var)  FROM C2  GROUP BY class',\n",
       " 'n_rows': 2,\n",
       " 'n_cols': 3}"
      ]
     },
     "execution_count": 114,
     "metadata": {},
     "output_type": "execute_result"
    }
   ],
   "source": [
    "rnd_query['query_desc']"
   ]
  },
  {
   "cell_type": "code",
   "execution_count": 115,
   "metadata": {},
   "outputs": [
    {
     "name": "stdout",
     "output_type": "stream",
     "text": [
      "SELECT class, COUNT(*), SUM(curtosis)  FROM C2  GROUP BY class\n",
      "REAL:\n",
      "no_of_rows=2\n",
      "no_of_cols=3\n",
      "product=0.006\n",
      "\n",
      "\n",
      "SELECT class, COUNT(*), SUM(curtosis)  FROM C2_syn_default_1  GROUP BY class\n",
      "SYN:\n",
      "no_of_rows=2\n",
      "no_of_cols=3\n",
      "product=0.006\n",
      "\n",
      "\n"
     ]
    }
   ],
   "source": [
    "# Twin Aggregate \n",
    "\n",
    "syn_tbl_name_lst=['C2_syn_default_1']\n",
    "real_expr,real_groupby_lst,real_from_tbl, real_join_tbl_lst,agg_fntn_terms=self.compile_agg_expr()\n",
    "rnd_query=self.make_twin_agg_query(syn_tbl_name_lst,real_expr,real_groupby_lst,real_from_tbl, real_join_tbl_lst,agg_fntn_terms)\n",
    "\n",
    "n_rows_real=rnd_query['query_desc']['n_rows_real']\n",
    "n_cols_real=rnd_query['query_desc']['n_cols_real']\n",
    "n_rows_syn=rnd_query['query_desc']['n_rows_syn']\n",
    "n_cols_syn=rnd_query['query_desc']['n_cols_syn']\n",
    "\n",
    "print(rnd_query['query_desc']['sql_real'])\n",
    "print(f\"REAL:\\nno_of_rows={n_rows_real}\\nno_of_cols={n_cols_real}\\nproduct={n_rows_real*n_cols_real/1000}\\n\\n\")\n",
    "\n",
    "print(rnd_query['query_desc']['sql_syn'])\n",
    "print(f\"SYN:\\nno_of_rows={n_rows_syn}\\nno_of_cols={n_cols_syn}\\nproduct={n_rows_syn*n_cols_syn/1000}\\n\\n\")\n",
    "\n"
   ]
  },
  {
   "cell_type": "code",
   "execution_count": 116,
   "metadata": {},
   "outputs": [
    {
     "data": {
      "text/plain": [
       "{'type': 'twin_agg',\n",
       " 'agg_fntn': ('SUM', 'curtosis'),\n",
       " 'grpby_vars': ['class'],\n",
       " 'from_tbl_name_real': 'C2',\n",
       " 'join_tbl_name_lst_real': [],\n",
       " 'sql_real': 'SELECT class, COUNT(*), SUM(curtosis)  FROM C2  GROUP BY class',\n",
       " 'n_cols_real': 3,\n",
       " 'n_rows_real': 2,\n",
       " 'from_tbl_name_syn': 'C2_syn_default_1',\n",
       " 'join_tbl_name_lst_syn': [],\n",
       " 'sql_syn': 'SELECT class, COUNT(*), SUM(curtosis)  FROM C2_syn_default_1  GROUP BY class',\n",
       " 'n_cols_syn': 3,\n",
       " 'n_rows_syn': 2}"
      ]
     },
     "execution_count": 116,
     "metadata": {},
     "output_type": "execute_result"
    }
   ],
   "source": [
    "rnd_query['query_desc']"
   ]
  },
  {
   "cell_type": "code",
   "execution_count": 117,
   "metadata": {},
   "outputs": [
    {
     "name": "stdout",
     "output_type": "stream",
     "text": [
      "no_of_rows=0\n",
      "no_of_cols=5\n",
      "product=0.0\n",
      "\n",
      "\n",
      "SELECT *  FROM C2  WHERE   curtosis < 0.61663 AND  class NOT IN ('0', '1') OR  var = 1.0194 AND  entropy BETWEEN 0.38317 AND 1.106 AND  skew < -0.033118 \n"
     ]
    }
   ],
   "source": [
    "#Single Filter\n",
    "\n",
    "# self.no_groupby_vars=2\n",
    "# self.no_where_vars=2\n",
    "# self.max_in_terms=2\n",
    "\n",
    "single_expr,from_tbl, join_tbl_lst =self.compile_fltr_expr()\n",
    "rnd_query=self.make_single_fltr_query(single_expr,from_tbl, join_tbl_lst)\n",
    "\n",
    "\n",
    "n_rows=rnd_query['query_desc']['n_rows']\n",
    "n_cols=rnd_query['query_desc']['n_cols']\n",
    "\n",
    "print(f\"no_of_rows={n_rows}\\nno_of_cols={n_cols}\\nproduct={n_rows*n_cols/1000}\")\n",
    "print(\"\\n\")\n",
    "print(rnd_query['query_desc']['sql'])"
   ]
  },
  {
   "cell_type": "code",
   "execution_count": 118,
   "metadata": {},
   "outputs": [
    {
     "data": {
      "text/plain": [
       "{'type': 'single_fltr',\n",
       " 'from_tbl_name': 'C2',\n",
       " 'join_tbl_name_lst': [],\n",
       " 'sql': \"SELECT *  FROM C2  WHERE   curtosis < 0.61663 AND  class NOT IN ('0', '1') OR  var = 1.0194 AND  entropy BETWEEN 0.38317 AND 1.106 AND  skew < -0.033118 \",\n",
       " 'n_rows': 0,\n",
       " 'n_cols': 5}"
      ]
     },
     "execution_count": 118,
     "metadata": {},
     "output_type": "execute_result"
    }
   ],
   "source": [
    "rnd_query['query_desc']"
   ]
  },
  {
   "cell_type": "code",
   "execution_count": 119,
   "metadata": {},
   "outputs": [
    {
     "name": "stdout",
     "output_type": "stream",
     "text": [
      "REAL:\n",
      "no_of_rows=959\n",
      "no_of_cols=5\n",
      "product=4.795\n",
      "\n",
      "\n",
      "SYN:\n",
      "no_of_rows=805\n",
      "no_of_cols=5\n",
      "product=4.025\n",
      "\n",
      "\n",
      "SELECT *  FROM C2  WHERE   skew NOT BETWEEN -6.6383 AND 2.2948 \n",
      "\n",
      "\n",
      "SELECT *  FROM C2_syn_default_1  WHERE   skew NOT BETWEEN -6.6383 AND 2.2948 \n"
     ]
    }
   ],
   "source": [
    "# Twin Filter \n",
    "\n",
    "\n",
    "syn_tbl_name_lst=['C2_syn_default_1']\n",
    "real_expr,real_from_tbl, real_join_tbl_lst =self.compile_fltr_expr()\n",
    "rnd_query=self.make_twin_fltr_query(syn_tbl_name_lst,real_expr,real_from_tbl, real_join_tbl_lst)\n",
    "\n",
    "n_rows_real=rnd_query['query_desc']['n_rows_real']\n",
    "n_cols_real=rnd_query['query_desc']['n_cols_real']\n",
    "n_rows_syn=rnd_query['query_desc']['n_rows_syn']\n",
    "n_cols_syn=rnd_query['query_desc']['n_cols_syn']\n",
    "\n",
    "print(f\"REAL:\\nno_of_rows={n_rows_real}\\nno_of_cols={n_cols_real}\\nproduct={n_rows_real*n_cols_real/1000}\\n\\n\")\n",
    "print(f\"SYN:\\nno_of_rows={n_rows_syn}\\nno_of_cols={n_cols_syn}\\nproduct={n_rows_syn*n_cols_syn/1000}\\n\\n\")\n",
    "print(rnd_query['query_desc']['sql_real'])\n",
    "print(\"\\n\")\n",
    "print(rnd_query['query_desc']['sql_syn'])"
   ]
  },
  {
   "cell_type": "code",
   "execution_count": 120,
   "metadata": {},
   "outputs": [
    {
     "data": {
      "text/plain": [
       "{'type': 'twin_fltr',\n",
       " 'from_tbl_name_real': 'C2',\n",
       " 'join_tbl_name_lst_real': [],\n",
       " 'sql_real': 'SELECT *  FROM C2  WHERE   skew NOT BETWEEN -6.6383 AND 2.2948 ',\n",
       " 'n_cols_real': 5,\n",
       " 'n_rows_real': 959,\n",
       " 'from_tbl_name_syn': 'C2_syn_default_1',\n",
       " 'join_tbl_name_lst_syn': [],\n",
       " 'sql_syn': 'SELECT *  FROM C2_syn_default_1  WHERE   skew NOT BETWEEN -6.6383 AND 2.2948 ',\n",
       " 'n_cols_syn': 5,\n",
       " 'n_rows_syn': 805}"
      ]
     },
     "execution_count": 120,
     "metadata": {},
     "output_type": "execute_result"
    }
   ],
   "source": [
    "rnd_query['query_desc']"
   ]
  },
  {
   "cell_type": "code",
   "execution_count": 121,
   "metadata": {},
   "outputs": [
    {
     "name": "stdout",
     "output_type": "stream",
     "text": [
      "no_of_rows=1\n",
      "no_of_cols=3\n",
      "product=0.003\n",
      "\n",
      "\n",
      "SELECT class, COUNT(*), AVG(var)  FROM C2  WHERE   entropy < -0.61768 AND  var > -0.11716 AND  class NOT IN ('0') AND  curtosis > -4.4044  GROUP BY class\n"
     ]
    }
   ],
   "source": [
    "#Single Aggregate-Filter\n",
    "\n",
    "single_expr,groupby_lst,from_tbl, join_tbl_lst, agg_fntn_terms=self.compile_aggfltr_expr()\n",
    "rnd_query=self.make_single_aggfltr_query(single_expr,groupby_lst,from_tbl, join_tbl_lst, agg_fntn_terms)\n",
    "\n",
    "\n",
    "n_rows=rnd_query['query_desc']['n_rows']\n",
    "n_cols=rnd_query['query_desc']['n_cols']\n",
    "\n",
    "print(f\"no_of_rows={n_rows}\\nno_of_cols={n_cols}\\nproduct={n_rows*n_cols/1000}\")\n",
    "print(\"\\n\")\n",
    "print(rnd_query['query_desc']['sql'])"
   ]
  },
  {
   "cell_type": "code",
   "execution_count": 122,
   "metadata": {},
   "outputs": [
    {
     "name": "stdout",
     "output_type": "stream",
     "text": [
      "SELECT class, COUNT(*), AVG(curtosis)  FROM C2  WHERE   skew <= -0.091058 AND  class <> '0' OR  entropy NOT BETWEEN 1.2017 AND 1.9375  GROUP BY class\n",
      "REAL:\n",
      "no_of_rows=2\n",
      "no_of_cols=3\n",
      "product=0.006\n",
      "\n",
      "\n",
      "SELECT class, COUNT(*), AVG(curtosis)  FROM C2_syn_default_1  WHERE   skew <= -0.091058 AND  class <> '0' OR  entropy NOT BETWEEN 1.2017 AND 1.9375  GROUP BY class\n",
      "SYN:\n",
      "no_of_rows=2\n",
      "no_of_cols=3\n",
      "product=0.006\n",
      "\n",
      "\n"
     ]
    }
   ],
   "source": [
    "# Twin Aggregate-Filter \n",
    "\n",
    "syn_tbl_name_lst=['C2_syn_default_1']\n",
    "real_expr,real_groupby_lst,real_from_tbl, real_join_tbl_lst, agg_fntn_terms=self.compile_aggfltr_expr()\n",
    "rnd_query=self.make_twin_aggfltr_query(syn_tbl_name_lst,real_expr,real_groupby_lst,real_from_tbl, real_join_tbl_lst, agg_fntn_terms)\n",
    "\n",
    "n_rows_real=rnd_query['query_desc']['n_rows_real']\n",
    "n_cols_real=rnd_query['query_desc']['n_cols_real']\n",
    "n_rows_syn=rnd_query['query_desc']['n_rows_syn']\n",
    "n_cols_syn=rnd_query['query_desc']['n_cols_syn']\n",
    "\n",
    "print(rnd_query['query_desc']['sql_real'])\n",
    "print(f\"REAL:\\nno_of_rows={n_rows_real}\\nno_of_cols={n_cols_real}\\nproduct={n_rows_real*n_cols_real/1000}\\n\\n\")\n",
    "\n",
    "print(rnd_query['query_desc']['sql_syn'])\n",
    "print(f\"SYN:\\nno_of_rows={n_rows_syn}\\nno_of_cols={n_cols_syn}\\nproduct={n_rows_syn*n_cols_syn/1000}\\n\\n\")"
   ]
  },
  {
   "cell_type": "code",
   "execution_count": 123,
   "metadata": {},
   "outputs": [],
   "source": [
    "matched_query=self._match_twin_query(rnd_query)\n",
    "scored_query=self.calc_dist_scores(matched_query)"
   ]
  },
  {
   "cell_type": "code",
   "execution_count": 124,
   "metadata": {},
   "outputs": [
    {
     "data": {
      "text/plain": [
       "{'type': 'twin_agg',\n",
       " 'agg_fntn': ('AVG', 'curtosis'),\n",
       " 'grpby_vars': ['class'],\n",
       " 'from_tbl_name_real': 'C2',\n",
       " 'join_tbl_name_lst_real': [],\n",
       " 'sql_real': \"SELECT class, COUNT(*), AVG(curtosis)  FROM C2  WHERE   skew <= -0.091058 AND  class <> '0' OR  entropy NOT BETWEEN 1.2017 AND 1.9375  GROUP BY class\",\n",
       " 'n_cols_real': 3,\n",
       " 'n_rows_real': 2,\n",
       " 'from_tbl_name_syn': 'C2_syn_default_1',\n",
       " 'join_tbl_name_lst_syn': [],\n",
       " 'sql_syn': \"SELECT class, COUNT(*), AVG(curtosis)  FROM C2_syn_default_1  WHERE   skew <= -0.091058 AND  class <> '0' OR  entropy NOT BETWEEN 1.2017 AND 1.9375  GROUP BY class\",\n",
       " 'n_cols_syn': 3,\n",
       " 'n_rows_syn': 2}"
      ]
     },
     "execution_count": 124,
     "metadata": {},
     "output_type": "execute_result"
    }
   ],
   "source": [
    "scored_query['query_desc']"
   ]
  },
  {
   "cell_type": "code",
   "execution_count": 125,
   "metadata": {},
   "outputs": [
    {
     "data": {
      "text/plain": [
       "0.00200028179177838"
      ]
     },
     "execution_count": 125,
     "metadata": {},
     "output_type": "execute_result"
    }
   ],
   "source": [
    "scored_query['query_hlngr_score']"
   ]
  },
  {
   "cell_type": "code",
   "execution_count": 126,
   "metadata": {},
   "outputs": [
    {
     "data": {
      "text/plain": [
       "0.7071067811865476"
      ]
     },
     "execution_count": 126,
     "metadata": {},
     "output_type": "execute_result"
    }
   ],
   "source": [
    "scored_query['query_ecldn_score']"
   ]
  },
  {
   "cell_type": "code",
   "execution_count": null,
   "metadata": {},
   "outputs": [],
   "source": [
    "\n"
   ]
  }
 ],
 "metadata": {
  "kernelspec": {
   "display_name": "Python 3.8.10 ('.env_dev': venv)",
   "language": "python",
   "name": "python3"
  },
  "language_info": {
   "codemirror_mode": {
    "name": "ipython",
    "version": 3
   },
   "file_extension": ".py",
   "mimetype": "text/x-python",
   "name": "python",
   "nbconvert_exporter": "python",
   "pygments_lexer": "ipython3",
   "version": "3.8.10"
  },
  "orig_nbformat": 4,
  "vscode": {
   "interpreter": {
    "hash": "6cf594385e3e378fbba23be52d8fa8a1ff0f44816650af8bcee05fc5c8211531"
   }
  }
 },
 "nbformat": 4,
 "nbformat_minor": 2
}

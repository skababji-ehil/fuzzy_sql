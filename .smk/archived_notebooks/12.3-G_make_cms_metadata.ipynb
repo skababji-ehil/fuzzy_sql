{
 "cells": [
  {
   "cell_type": "code",
   "execution_count": 10,
   "metadata": {},
   "outputs": [],
   "source": [
    "import os\n",
    "import sys\n",
    "from pathlib import Path\n",
    "import sqlite3\n",
    "import json\n",
    "from jsonschema import Draft4Validator"
   ]
  },
  {
   "cell_type": "code",
   "execution_count": 11,
   "metadata": {},
   "outputs": [],
   "source": [
    "with open('schema.json') as f:\n",
    "    schema=json.load(f)\n",
    "\n",
    "validator=Draft4Validator(schema)"
   ]
  },
  {
   "cell_type": "code",
   "execution_count": 12,
   "metadata": {},
   "outputs": [],
   "source": [
    "#set directories\n",
    "root_dir=Path('/home/samer/projects/fuzzy_sql')\n",
    "metadata_dir=os.path.join(root_dir,'data/cms/processed/metadata')\n",
    "db_path=os.path.join(root_dir,'db/cms.db')"
   ]
  },
  {
   "cell_type": "code",
   "execution_count": 13,
   "metadata": {},
   "outputs": [],
   "source": [
    "#define subject table names in the database\n",
    "tbl_names_lst=['s1_ben_sum_2008','s1_ben_sum_2009','s1_ben_sum_2010','s1_carrier_1a','s1_carrier_1b','s1_inpatient','s1_outpatient','s1_prescrp']"
   ]
  },
  {
   "cell_type": "code",
   "execution_count": 14,
   "metadata": {},
   "outputs": [],
   "source": [
    "#Generate default metadata json files from table info in db\n",
    "from genericpath import isfile\n",
    "\n",
    "\n",
    "con=sqlite3.connect(db_path)\n",
    "cur = con.cursor()\n",
    "\n",
    "for tbl_name in tbl_names_lst:\n",
    "    metadata={}\n",
    "    metadata['table_name']=tbl_name\n",
    "\n",
    "    cur.execute(f\"PRAGMA table_info({tbl_name})\")\n",
    "    _,var_name, var_type,_,_,_=zip(*cur.fetchall())\n",
    "    var_tpls=list(zip(var_name,var_type))\n",
    "    var_lst=[[var_tpl[0],var_tpl[1]] for var_tpl in var_tpls]\n",
    "    metadata['table_vars']=var_lst\n",
    "\n",
    "    parent_details={\n",
    "        \"parent1\":[\n",
    "            [\"parent1_key\"],[\"self1_key\"]\n",
    "            ],\n",
    "        \"parent2\":[\n",
    "            [\"parent1_key\"],[\"self1_key\"]  \n",
    "        ],\n",
    "        \"parent3\":[\n",
    "            [\"parent3_key\"],[\"self3_key\"]  \n",
    "        ],\n",
    "    }\n",
    "    metadata['parent_details']=parent_details\n",
    "\n",
    "    fname=os.path.join(metadata_dir,tbl_name+\".json\")\n",
    "    if os.path.isfile(fname):\n",
    "        ans=input('Do you really want to replace the existing JSON metadata file? (y/n)')\n",
    "        if ans=='n':\n",
    "            continue\n",
    "    with open(fname, \"w\") as outfile:\n",
    "        json.dump(metadata, outfile)"
   ]
  },
  {
   "cell_type": "code",
   "execution_count": null,
   "metadata": {},
   "outputs": [],
   "source": []
  }
 ],
 "metadata": {
  "kernelspec": {
   "display_name": "Python 3.8.10 ('.env_dev': venv)",
   "language": "python",
   "name": "python3"
  },
  "language_info": {
   "codemirror_mode": {
    "name": "ipython",
    "version": 3
   },
   "file_extension": ".py",
   "mimetype": "text/x-python",
   "name": "python",
   "nbconvert_exporter": "python",
   "pygments_lexer": "ipython3",
   "version": "3.8.10"
  },
  "orig_nbformat": 4,
  "vscode": {
   "interpreter": {
    "hash": "6cf594385e3e378fbba23be52d8fa8a1ff0f44816650af8bcee05fc5c8211531"
   }
  }
 },
 "nbformat": 4,
 "nbformat_minor": 2
}

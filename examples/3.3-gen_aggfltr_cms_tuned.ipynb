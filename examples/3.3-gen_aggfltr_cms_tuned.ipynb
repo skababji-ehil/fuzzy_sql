{
 "cells": [
  {
   "attachments": {},
   "cell_type": "markdown",
   "metadata": {},
   "source": [
    "### An example for generating *Aggregate-Filter* for longitudinal multiple-child data with customized parameters \n",
    "######  Before executing this notebook, please makes sure that data was imported earlier into the database."
   ]
  },
  {
   "cell_type": "code",
   "execution_count": null,
   "metadata": {},
   "outputs": [],
   "source": [
    "! pip install --upgrade pip\n",
    "! pip install fuzzy-sql"
   ]
  },
  {
   "cell_type": "code",
   "execution_count": null,
   "metadata": {},
   "outputs": [],
   "source": [
    "import json\n",
    "import os\n",
    "from pathlib import Path\n",
    "\n",
    "from fuzzy_sql.randomquery import RandomQuery\n",
    "from fuzzy_sql.report import Report\n",
    "\n",
    "\n",
    "DATASET_NAME='cms'\n"
   ]
  },
  {
   "cell_type": "code",
   "execution_count": null,
   "metadata": {},
   "outputs": [],
   "source": [
    "# set directories\n",
    "DATA_DIR=os.path.join(os.getcwd(),'data')\n",
    "DB_DIR=os.path.join(os.getcwd(),'databases')\n",
    "\n",
    "metadata_dir = os.path.join(DATA_DIR, DATASET_NAME,'metadata')\n",
    "db_path = os.path.join(DB_DIR, f'{DATASET_NAME}.db')"
   ]
  },
  {
   "attachments": {},
   "cell_type": "markdown",
   "metadata": {},
   "source": [
    "### Generate Customized Random Queries"
   ]
  },
  {
   "cell_type": "code",
   "execution_count": null,
   "metadata": {},
   "outputs": [],
   "source": [
    "# define input tables and metadata \n",
    "real_tbl_lst=['s1_ben_sum_2008','s1_ben_sum_2009','s1_ben_sum_2010','s1_carrier_1a','s1_carrier_1b','s1_inpatient','s1_outpatient','s1_prescrp']\n",
    "syn_tbl_lst=['s2_ben_sum_2008','s2_ben_sum_2009','s2_ben_sum_2010','s2_carrier_1a','s2_carrier_1b','s2_inpatient','s2_outpatient','s2_prescrp']\n",
    "\n",
    "metadata_lst = []\n",
    "for tbl_name in real_tbl_lst:\n",
    "    with open(os.path.join(metadata_dir, tbl_name+'.json'), 'r') as f:\n",
    "        metadata_lst.append(json.load(f))\n",
    "\n",
    "\n",
    "# Generate queries while customizing class attributes \n",
    "n_queries=10\n",
    "queries = []\n",
    "k = 0\n",
    "while k < n_queries:\n",
    "    query_obj = RandomQuery(db_path, real_tbl_lst, metadata_lst)\n",
    "    query_obj.no_groupby_vars = 2 # Restrict number of GROUP BY variables to 2\n",
    "    query_obj.no_where_vars = 2 # Restrict number of WHERE variables to 2\n",
    "    query_obj.no_join_tables = 2 # Restrict number of JOIN tables to 2\n",
    "    query_obj.oprtns={ #Customizing operations probabilities\n",
    "        'AGG_OPS': {'AVG': 0, 'SUM': 1, 'MAX': 0, 'MIN': 0},\n",
    "        'LOGIC_OPS': {'AND': 1, 'OR': 0},\n",
    "        'NOT_STATE': {'0': 1, '1': 0},\n",
    "        'CAT_OPS': {'=': 0.25, '<>': 0.25, 'LIKE': 0.15, 'IN': 0.15, 'NOT LIKE': 0.1, 'NOT IN': 0.1},\n",
    "        'CNT_OPS': {'=': 0.2, '>': 0.1, '<': 0.1, '>=': 0.1, '<=': 0.1, '<>': 0.1, 'BETWEEN': 0.2, 'NOT BETWEEN': 0.1},\n",
    "        'DT_OPS': {'=': 0.2, '>': 0.1, '<': 0.1, '>=': 0, '<=': 0, '<>': 0.1, 'BETWEEN': 0.2, 'IN': 0.1, 'NOT BETWEEN': 0.1, 'NOT IN': 0.1},\n",
    "        'FILTER_TYPE': {'WHERE': 0.5, 'AND': 0.5},\n",
    "        'JOIN_TYPE': {'JOIN': 0, 'LEFT JOIN': 1}\n",
    "    }\n",
    "    real_expr, real_groupby_lst, real_from_tbl, real_join_tbl_lst, agg_fntn_terms = query_obj.compile_aggfltr_expr()\n",
    "    if not query_obj._test_query_time(db_path,real_expr): #skipping query if it takes a long time to return results\n",
    "        continue\n",
    "    rnd_query = query_obj.make_twin_aggfltr_query(\n",
    "        syn_tbl_lst, real_expr, real_groupby_lst, real_from_tbl, real_join_tbl_lst, agg_fntn_terms)\n",
    "    matched_query = query_obj._match_queries4agg(rnd_query)\n",
    "    scored_query = query_obj.gather_metrics4agg(matched_query)\n",
    "    queries.append(scored_query)\n",
    "    k += 1\n",
    "    print('Generated Random Aggregate Filter Query - {} '.format(str(k)))\n",
    "    "
   ]
  },
  {
   "attachments": {},
   "cell_type": "markdown",
   "metadata": {},
   "source": [
    "### REPORTING "
   ]
  },
  {
   "cell_type": "code",
   "execution_count": null,
   "metadata": {},
   "outputs": [],
   "source": [
    "rprtr=Report(real_tbl_lst, queries)\n",
    "rprtr.print_html_mltpl(f'{DATASET_NAME}_customized.html')\n",
    "rprtr.plot_violin('Hellinger',f'{DATASET_NAME}_customized_hlngr.png' )\n",
    "rprtr.plot_violin('Euclidean',f'{DATASET_NAME}_customized_ecldn.png' )"
   ]
  }
 ],
 "metadata": {
  "kernelspec": {
   "display_name": ".env_dev",
   "language": "python",
   "name": "python3"
  },
  "language_info": {
   "codemirror_mode": {
    "name": "ipython",
    "version": 3
   },
   "file_extension": ".py",
   "mimetype": "text/x-python",
   "name": "python",
   "nbconvert_exporter": "python",
   "pygments_lexer": "ipython3",
   "version": "3.8.10"
  },
  "vscode": {
   "interpreter": {
    "hash": "6cf594385e3e378fbba23be52d8fa8a1ff0f44816650af8bcee05fc5c8211531"
   }
  }
 },
 "nbformat": 4,
 "nbformat_minor": 2
}

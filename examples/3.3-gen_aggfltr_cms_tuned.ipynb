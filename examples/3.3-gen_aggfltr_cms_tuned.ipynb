{
 "cells": [
  {
   "attachments": {},
   "cell_type": "markdown",
   "metadata": {},
   "source": [
    "### An example for generating *Aggregate-Filter* for longitudinal multiple-child data with customized parameters \n",
    "######  Before executing this notebook, please makes sure that data was imported earlier into the database."
   ]
  },
  {
   "cell_type": "code",
   "execution_count": 1,
   "metadata": {},
   "outputs": [
    {
     "name": "stdout",
     "output_type": "stream",
     "text": [
      "Requirement already satisfied: pip in /home/samer/miniconda3/envs/ehil_sql/lib/python3.10/site-packages (22.3.1)\n",
      "Processing ./fuzzy_sql-2.0.0b0-py3-none-any.whl\n",
      "Requirement already satisfied: scikit-learn in /home/samer/miniconda3/envs/ehil_sql/lib/python3.10/site-packages (from fuzzy-sql==2.0.0b0) (1.1.2)\n",
      "Requirement already satisfied: seaborn in /home/samer/miniconda3/envs/ehil_sql/lib/python3.10/site-packages (from fuzzy-sql==2.0.0b0) (0.11.2)\n",
      "Requirement already satisfied: jsonschema in /home/samer/miniconda3/envs/ehil_sql/lib/python3.10/site-packages (from fuzzy-sql==2.0.0b0) (4.9.0)\n",
      "Requirement already satisfied: Jinja2 in /home/samer/miniconda3/envs/ehil_sql/lib/python3.10/site-packages (from fuzzy-sql==2.0.0b0) (3.1.2)\n",
      "Requirement already satisfied: multiprocess in /home/samer/miniconda3/envs/ehil_sql/lib/python3.10/site-packages (from fuzzy-sql==2.0.0b0) (0.70.14)\n",
      "Requirement already satisfied: jupyter in /home/samer/miniconda3/envs/ehil_sql/lib/python3.10/site-packages (from fuzzy-sql==2.0.0b0) (1.0.0)\n",
      "Requirement already satisfied: matplotlib in /home/samer/miniconda3/envs/ehil_sql/lib/python3.10/site-packages (from fuzzy-sql==2.0.0b0) (3.5.2)\n",
      "Requirement already satisfied: pandas in /home/samer/miniconda3/envs/ehil_sql/lib/python3.10/site-packages (from fuzzy-sql==2.0.0b0) (1.4.3)\n",
      "Requirement already satisfied: scipy in /home/samer/miniconda3/envs/ehil_sql/lib/python3.10/site-packages (from fuzzy-sql==2.0.0b0) (1.7.3)\n",
      "Requirement already satisfied: MarkupSafe>=2.0 in /home/samer/miniconda3/envs/ehil_sql/lib/python3.10/site-packages (from Jinja2->fuzzy-sql==2.0.0b0) (2.1.1)\n",
      "Requirement already satisfied: pyrsistent!=0.17.0,!=0.17.1,!=0.17.2,>=0.14.0 in /home/samer/miniconda3/envs/ehil_sql/lib/python3.10/site-packages (from jsonschema->fuzzy-sql==2.0.0b0) (0.18.1)\n",
      "Requirement already satisfied: attrs>=17.4.0 in /home/samer/miniconda3/envs/ehil_sql/lib/python3.10/site-packages (from jsonschema->fuzzy-sql==2.0.0b0) (22.1.0)\n",
      "Requirement already satisfied: jupyter-console in /home/samer/miniconda3/envs/ehil_sql/lib/python3.10/site-packages (from jupyter->fuzzy-sql==2.0.0b0) (6.4.4)\n",
      "Requirement already satisfied: notebook in /home/samer/miniconda3/envs/ehil_sql/lib/python3.10/site-packages (from jupyter->fuzzy-sql==2.0.0b0) (6.4.12)\n",
      "Requirement already satisfied: qtconsole in /home/samer/miniconda3/envs/ehil_sql/lib/python3.10/site-packages (from jupyter->fuzzy-sql==2.0.0b0) (5.3.1)\n",
      "Requirement already satisfied: nbconvert in /home/samer/miniconda3/envs/ehil_sql/lib/python3.10/site-packages (from jupyter->fuzzy-sql==2.0.0b0) (6.5.0)\n",
      "Requirement already satisfied: ipykernel in /home/samer/miniconda3/envs/ehil_sql/lib/python3.10/site-packages (from jupyter->fuzzy-sql==2.0.0b0) (6.15.1)\n",
      "Requirement already satisfied: ipywidgets in /home/samer/miniconda3/envs/ehil_sql/lib/python3.10/site-packages (from jupyter->fuzzy-sql==2.0.0b0) (7.7.1)\n",
      "Requirement already satisfied: fonttools>=4.22.0 in /home/samer/miniconda3/envs/ehil_sql/lib/python3.10/site-packages (from matplotlib->fuzzy-sql==2.0.0b0) (4.34.4)\n",
      "Requirement already satisfied: cycler>=0.10 in /home/samer/miniconda3/envs/ehil_sql/lib/python3.10/site-packages (from matplotlib->fuzzy-sql==2.0.0b0) (0.11.0)\n",
      "Requirement already satisfied: packaging>=20.0 in /home/samer/miniconda3/envs/ehil_sql/lib/python3.10/site-packages (from matplotlib->fuzzy-sql==2.0.0b0) (21.3)\n",
      "Requirement already satisfied: numpy>=1.17 in /home/samer/miniconda3/envs/ehil_sql/lib/python3.10/site-packages (from matplotlib->fuzzy-sql==2.0.0b0) (1.22.3)\n",
      "Requirement already satisfied: pillow>=6.2.0 in /home/samer/miniconda3/envs/ehil_sql/lib/python3.10/site-packages (from matplotlib->fuzzy-sql==2.0.0b0) (9.2.0)\n",
      "Requirement already satisfied: pyparsing>=2.2.1 in /home/samer/miniconda3/envs/ehil_sql/lib/python3.10/site-packages (from matplotlib->fuzzy-sql==2.0.0b0) (3.0.4)\n",
      "Requirement already satisfied: python-dateutil>=2.7 in /home/samer/miniconda3/envs/ehil_sql/lib/python3.10/site-packages (from matplotlib->fuzzy-sql==2.0.0b0) (2.8.2)\n",
      "Requirement already satisfied: kiwisolver>=1.0.1 in /home/samer/miniconda3/envs/ehil_sql/lib/python3.10/site-packages (from matplotlib->fuzzy-sql==2.0.0b0) (1.4.4)\n",
      "Requirement already satisfied: dill>=0.3.6 in /home/samer/miniconda3/envs/ehil_sql/lib/python3.10/site-packages (from multiprocess->fuzzy-sql==2.0.0b0) (0.3.6)\n",
      "Requirement already satisfied: pytz>=2020.1 in /home/samer/miniconda3/envs/ehil_sql/lib/python3.10/site-packages (from pandas->fuzzy-sql==2.0.0b0) (2022.1)\n",
      "Requirement already satisfied: threadpoolctl>=2.0.0 in /home/samer/miniconda3/envs/ehil_sql/lib/python3.10/site-packages (from scikit-learn->fuzzy-sql==2.0.0b0) (3.1.0)\n",
      "Requirement already satisfied: joblib>=1.0.0 in /home/samer/miniconda3/envs/ehil_sql/lib/python3.10/site-packages (from scikit-learn->fuzzy-sql==2.0.0b0) (1.1.0)\n",
      "Requirement already satisfied: six>=1.5 in /home/samer/miniconda3/envs/ehil_sql/lib/python3.10/site-packages (from python-dateutil>=2.7->matplotlib->fuzzy-sql==2.0.0b0) (1.16.0)\n",
      "Requirement already satisfied: ipython>=7.23.1 in /home/samer/miniconda3/envs/ehil_sql/lib/python3.10/site-packages (from ipykernel->jupyter->fuzzy-sql==2.0.0b0) (8.4.0)\n",
      "Requirement already satisfied: tornado>=6.1 in /home/samer/miniconda3/envs/ehil_sql/lib/python3.10/site-packages (from ipykernel->jupyter->fuzzy-sql==2.0.0b0) (6.2)\n",
      "Requirement already satisfied: psutil in /home/samer/miniconda3/envs/ehil_sql/lib/python3.10/site-packages (from ipykernel->jupyter->fuzzy-sql==2.0.0b0) (5.9.1)\n",
      "Requirement already satisfied: pyzmq>=17 in /home/samer/miniconda3/envs/ehil_sql/lib/python3.10/site-packages (from ipykernel->jupyter->fuzzy-sql==2.0.0b0) (23.2.0)\n",
      "Requirement already satisfied: matplotlib-inline>=0.1 in /home/samer/miniconda3/envs/ehil_sql/lib/python3.10/site-packages (from ipykernel->jupyter->fuzzy-sql==2.0.0b0) (0.1.3)\n",
      "Requirement already satisfied: debugpy>=1.0 in /home/samer/miniconda3/envs/ehil_sql/lib/python3.10/site-packages (from ipykernel->jupyter->fuzzy-sql==2.0.0b0) (1.6.2)\n",
      "Requirement already satisfied: nest-asyncio in /home/samer/miniconda3/envs/ehil_sql/lib/python3.10/site-packages (from ipykernel->jupyter->fuzzy-sql==2.0.0b0) (1.5.5)\n",
      "Requirement already satisfied: traitlets>=5.1.0 in /home/samer/miniconda3/envs/ehil_sql/lib/python3.10/site-packages (from ipykernel->jupyter->fuzzy-sql==2.0.0b0) (5.3.0)\n",
      "Requirement already satisfied: jupyter-client>=6.1.12 in /home/samer/miniconda3/envs/ehil_sql/lib/python3.10/site-packages (from ipykernel->jupyter->fuzzy-sql==2.0.0b0) (7.3.4)\n",
      "Requirement already satisfied: widgetsnbextension~=3.6.0 in /home/samer/miniconda3/envs/ehil_sql/lib/python3.10/site-packages (from ipywidgets->jupyter->fuzzy-sql==2.0.0b0) (3.6.1)\n",
      "Requirement already satisfied: ipython-genutils~=0.2.0 in /home/samer/miniconda3/envs/ehil_sql/lib/python3.10/site-packages (from ipywidgets->jupyter->fuzzy-sql==2.0.0b0) (0.2.0)\n",
      "Requirement already satisfied: jupyterlab-widgets>=1.0.0 in /home/samer/miniconda3/envs/ehil_sql/lib/python3.10/site-packages (from ipywidgets->jupyter->fuzzy-sql==2.0.0b0) (1.1.1)\n",
      "Requirement already satisfied: prompt-toolkit!=3.0.0,!=3.0.1,<3.1.0,>=2.0.0 in /home/samer/miniconda3/envs/ehil_sql/lib/python3.10/site-packages (from jupyter-console->jupyter->fuzzy-sql==2.0.0b0) (3.0.30)\n",
      "Requirement already satisfied: pygments in /home/samer/miniconda3/envs/ehil_sql/lib/python3.10/site-packages (from jupyter-console->jupyter->fuzzy-sql==2.0.0b0) (2.12.0)\n",
      "Requirement already satisfied: mistune<2,>=0.8.1 in /home/samer/miniconda3/envs/ehil_sql/lib/python3.10/site-packages (from nbconvert->jupyter->fuzzy-sql==2.0.0b0) (0.8.4)\n",
      "Requirement already satisfied: nbclient>=0.5.0 in /home/samer/miniconda3/envs/ehil_sql/lib/python3.10/site-packages (from nbconvert->jupyter->fuzzy-sql==2.0.0b0) (0.6.6)\n",
      "Requirement already satisfied: entrypoints>=0.2.2 in /home/samer/miniconda3/envs/ehil_sql/lib/python3.10/site-packages (from nbconvert->jupyter->fuzzy-sql==2.0.0b0) (0.4)\n",
      "Requirement already satisfied: jupyter-core>=4.7 in /home/samer/miniconda3/envs/ehil_sql/lib/python3.10/site-packages (from nbconvert->jupyter->fuzzy-sql==2.0.0b0) (4.11.1)\n",
      "Requirement already satisfied: tinycss2 in /home/samer/miniconda3/envs/ehil_sql/lib/python3.10/site-packages (from nbconvert->jupyter->fuzzy-sql==2.0.0b0) (1.1.1)\n",
      "Requirement already satisfied: bleach in /home/samer/miniconda3/envs/ehil_sql/lib/python3.10/site-packages (from nbconvert->jupyter->fuzzy-sql==2.0.0b0) (5.0.1)\n",
      "Requirement already satisfied: pandocfilters>=1.4.1 in /home/samer/miniconda3/envs/ehil_sql/lib/python3.10/site-packages (from nbconvert->jupyter->fuzzy-sql==2.0.0b0) (1.5.0)\n",
      "Requirement already satisfied: beautifulsoup4 in /home/samer/miniconda3/envs/ehil_sql/lib/python3.10/site-packages (from nbconvert->jupyter->fuzzy-sql==2.0.0b0) (4.11.1)\n",
      "Requirement already satisfied: defusedxml in /home/samer/miniconda3/envs/ehil_sql/lib/python3.10/site-packages (from nbconvert->jupyter->fuzzy-sql==2.0.0b0) (0.7.1)\n",
      "Requirement already satisfied: nbformat>=5.1 in /home/samer/miniconda3/envs/ehil_sql/lib/python3.10/site-packages (from nbconvert->jupyter->fuzzy-sql==2.0.0b0) (5.4.0)\n",
      "Requirement already satisfied: jupyterlab-pygments in /home/samer/miniconda3/envs/ehil_sql/lib/python3.10/site-packages (from nbconvert->jupyter->fuzzy-sql==2.0.0b0) (0.2.2)\n",
      "Requirement already satisfied: Send2Trash>=1.8.0 in /home/samer/miniconda3/envs/ehil_sql/lib/python3.10/site-packages (from notebook->jupyter->fuzzy-sql==2.0.0b0) (1.8.0)\n",
      "Requirement already satisfied: argon2-cffi in /home/samer/miniconda3/envs/ehil_sql/lib/python3.10/site-packages (from notebook->jupyter->fuzzy-sql==2.0.0b0) (21.3.0)\n",
      "Requirement already satisfied: terminado>=0.8.3 in /home/samer/miniconda3/envs/ehil_sql/lib/python3.10/site-packages (from notebook->jupyter->fuzzy-sql==2.0.0b0) (0.15.0)\n",
      "Requirement already satisfied: prometheus-client in /home/samer/miniconda3/envs/ehil_sql/lib/python3.10/site-packages (from notebook->jupyter->fuzzy-sql==2.0.0b0) (0.14.1)\n",
      "Requirement already satisfied: qtpy>=2.0.1 in /home/samer/miniconda3/envs/ehil_sql/lib/python3.10/site-packages (from qtconsole->jupyter->fuzzy-sql==2.0.0b0) (2.1.0)\n",
      "Requirement already satisfied: stack-data in /home/samer/miniconda3/envs/ehil_sql/lib/python3.10/site-packages (from ipython>=7.23.1->ipykernel->jupyter->fuzzy-sql==2.0.0b0) (0.3.0)\n",
      "Requirement already satisfied: backcall in /home/samer/miniconda3/envs/ehil_sql/lib/python3.10/site-packages (from ipython>=7.23.1->ipykernel->jupyter->fuzzy-sql==2.0.0b0) (0.2.0)\n",
      "Requirement already satisfied: jedi>=0.16 in /home/samer/miniconda3/envs/ehil_sql/lib/python3.10/site-packages (from ipython>=7.23.1->ipykernel->jupyter->fuzzy-sql==2.0.0b0) (0.18.1)\n",
      "Requirement already satisfied: pickleshare in /home/samer/miniconda3/envs/ehil_sql/lib/python3.10/site-packages (from ipython>=7.23.1->ipykernel->jupyter->fuzzy-sql==2.0.0b0) (0.7.5)\n",
      "Requirement already satisfied: decorator in /home/samer/miniconda3/envs/ehil_sql/lib/python3.10/site-packages (from ipython>=7.23.1->ipykernel->jupyter->fuzzy-sql==2.0.0b0) (5.1.1)\n",
      "Requirement already satisfied: pexpect>4.3 in /home/samer/miniconda3/envs/ehil_sql/lib/python3.10/site-packages (from ipython>=7.23.1->ipykernel->jupyter->fuzzy-sql==2.0.0b0) (4.8.0)\n",
      "Requirement already satisfied: setuptools>=18.5 in /home/samer/.local/lib/python3.10/site-packages (from ipython>=7.23.1->ipykernel->jupyter->fuzzy-sql==2.0.0b0) (65.3.0)\n",
      "Requirement already satisfied: fastjsonschema in /home/samer/miniconda3/envs/ehil_sql/lib/python3.10/site-packages (from nbformat>=5.1->nbconvert->jupyter->fuzzy-sql==2.0.0b0) (2.16.1)\n",
      "Requirement already satisfied: wcwidth in /home/samer/miniconda3/envs/ehil_sql/lib/python3.10/site-packages (from prompt-toolkit!=3.0.0,!=3.0.1,<3.1.0,>=2.0.0->jupyter-console->jupyter->fuzzy-sql==2.0.0b0) (0.2.5)\n",
      "Requirement already satisfied: ptyprocess in /home/samer/miniconda3/envs/ehil_sql/lib/python3.10/site-packages (from terminado>=0.8.3->notebook->jupyter->fuzzy-sql==2.0.0b0) (0.7.0)\n",
      "Requirement already satisfied: argon2-cffi-bindings in /home/samer/miniconda3/envs/ehil_sql/lib/python3.10/site-packages (from argon2-cffi->notebook->jupyter->fuzzy-sql==2.0.0b0) (21.2.0)\n",
      "Requirement already satisfied: soupsieve>1.2 in /home/samer/miniconda3/envs/ehil_sql/lib/python3.10/site-packages (from beautifulsoup4->nbconvert->jupyter->fuzzy-sql==2.0.0b0) (2.3.2.post1)\n",
      "Requirement already satisfied: webencodings in /home/samer/miniconda3/envs/ehil_sql/lib/python3.10/site-packages (from bleach->nbconvert->jupyter->fuzzy-sql==2.0.0b0) (0.5.1)\n",
      "Requirement already satisfied: parso<0.9.0,>=0.8.0 in /home/samer/miniconda3/envs/ehil_sql/lib/python3.10/site-packages (from jedi>=0.16->ipython>=7.23.1->ipykernel->jupyter->fuzzy-sql==2.0.0b0) (0.8.3)\n",
      "Requirement already satisfied: cffi>=1.0.1 in /home/samer/miniconda3/envs/ehil_sql/lib/python3.10/site-packages (from argon2-cffi-bindings->argon2-cffi->notebook->jupyter->fuzzy-sql==2.0.0b0) (1.15.1)\n",
      "Requirement already satisfied: asttokens in /home/samer/miniconda3/envs/ehil_sql/lib/python3.10/site-packages (from stack-data->ipython>=7.23.1->ipykernel->jupyter->fuzzy-sql==2.0.0b0) (2.0.5)\n",
      "Requirement already satisfied: pure-eval in /home/samer/miniconda3/envs/ehil_sql/lib/python3.10/site-packages (from stack-data->ipython>=7.23.1->ipykernel->jupyter->fuzzy-sql==2.0.0b0) (0.2.2)\n",
      "Requirement already satisfied: executing in /home/samer/miniconda3/envs/ehil_sql/lib/python3.10/site-packages (from stack-data->ipython>=7.23.1->ipykernel->jupyter->fuzzy-sql==2.0.0b0) (0.9.1)\n",
      "Requirement already satisfied: pycparser in /home/samer/miniconda3/envs/ehil_sql/lib/python3.10/site-packages (from cffi>=1.0.1->argon2-cffi-bindings->argon2-cffi->notebook->jupyter->fuzzy-sql==2.0.0b0) (2.21)\n",
      "fuzzy-sql is already installed with the same version as the provided wheel. Use --force-reinstall to force an installation of the wheel.\n"
     ]
    }
   ],
   "source": [
    "! pip install --upgrade pip\n",
    "! pip install fuzzy_sql-2.0.0b0-py3-none-any.whl"
   ]
  },
  {
   "cell_type": "code",
   "execution_count": 2,
   "metadata": {},
   "outputs": [],
   "source": [
    "import json\n",
    "import os\n",
    "from pathlib import Path\n",
    "\n",
    "from fuzzy_sql.randomquery import RandomQuery\n",
    "from fuzzy_sql.report import Report\n",
    "\n",
    "\n",
    "DATASET_NAME='cms'\n"
   ]
  },
  {
   "cell_type": "code",
   "execution_count": 3,
   "metadata": {},
   "outputs": [],
   "source": [
    "# set directories\n",
    "DATA_DIR=os.path.join(os.getcwd(),'data')\n",
    "DB_DIR=os.path.join(os.getcwd(),'databases')\n",
    "\n",
    "metadata_dir = os.path.join(DATA_DIR, DATASET_NAME,'metadata')\n",
    "db_path = os.path.join(DB_DIR, f'{DATASET_NAME}.db')"
   ]
  },
  {
   "attachments": {},
   "cell_type": "markdown",
   "metadata": {},
   "source": [
    "### Generate Customized Random Queries"
   ]
  },
  {
   "cell_type": "code",
   "execution_count": 4,
   "metadata": {},
   "outputs": [
    {
     "name": "stderr",
     "output_type": "stream",
     "text": [
      "/home/samer/miniconda3/envs/ehil_sql/lib/python3.10/site-packages/pandas/core/reshape/merge.py:916: FutureWarning: In a future version, the Index constructor will not infer numeric dtypes when passed object-dtype sequences (matching Series behavior)\n",
      "  key_col = Index(lvals).where(~mask_left, rvals)\n",
      "/home/samer/miniconda3/envs/ehil_sql/lib/python3.10/site-packages/pandas/core/reshape/merge.py:916: FutureWarning: In a future version, the Index constructor will not infer numeric dtypes when passed object-dtype sequences (matching Series behavior)\n",
      "  key_col = Index(lvals).where(~mask_left, rvals)\n"
     ]
    },
    {
     "name": "stdout",
     "output_type": "stream",
     "text": [
      "Generated Random Aggregate Filter Query - 1 \n",
      "Generated Random Aggregate Filter Query - 2 \n",
      "Generated Random Aggregate Filter Query - 3 \n",
      "Generated Random Aggregate Filter Query - 4 \n",
      "Generated Random Aggregate Filter Query - 5 \n",
      "Generated Random Aggregate Filter Query - 6 \n",
      "Generated Random Aggregate Filter Query - 7 \n",
      "Generated Random Aggregate Filter Query - 8 \n",
      "Generated Random Aggregate Filter Query - 9 \n",
      "Generated Random Aggregate Filter Query - 10 \n"
     ]
    }
   ],
   "source": [
    "# define input tables and metadata \n",
    "real_tbl_lst=['s1_ben_sum_2008','s1_ben_sum_2009','s1_ben_sum_2010','s1_carrier_1a','s1_carrier_1b','s1_inpatient','s1_outpatient','s1_prescrp']\n",
    "syn_tbl_lst=['s2_ben_sum_2008','s2_ben_sum_2009','s2_ben_sum_2010','s2_carrier_1a','s2_carrier_1b','s2_inpatient','s2_outpatient','s2_prescrp']\n",
    "\n",
    "metadata_lst = []\n",
    "for tbl_name in real_tbl_lst:\n",
    "    with open(os.path.join(metadata_dir, tbl_name+'.json'), 'r') as f:\n",
    "        metadata_lst.append(json.load(f))\n",
    "\n",
    "\n",
    "# Generate queries while customizing class attributes \n",
    "n_queries=10\n",
    "queries = []\n",
    "k = 0\n",
    "while k < n_queries:\n",
    "    query_obj = RandomQuery(db_path, real_tbl_lst, metadata_lst)\n",
    "    query_obj.no_groupby_vars = 2 # Restrict number of GROUP BY variables to 2\n",
    "    query_obj.no_where_vars = 2 # Restrict number of WHERE variables to 2\n",
    "    query_obj.no_join_tables = 2 # Restrict number of JOIN tables to 2\n",
    "    query_obj.oprtns={ #Customizing operations probabilities\n",
    "        'AGG_OPS': {'AVG': 0, 'SUM': 1, 'MAX': 0, 'MIN': 0},\n",
    "        'LOGIC_OPS': {'AND': 1, 'OR': 0},\n",
    "        'NOT_STATE': {'0': 1, '1': 0},\n",
    "        'CAT_OPS': {'=': 0.25, '<>': 0.25, 'LIKE': 0.15, 'IN': 0.15, 'NOT LIKE': 0.1, 'NOT IN': 0.1},\n",
    "        'CNT_OPS': {'=': 0.2, '>': 0.1, '<': 0.1, '>=': 0.1, '<=': 0.1, '<>': 0.1, 'BETWEEN': 0.2, 'NOT BETWEEN': 0.1},\n",
    "        'DT_OPS': {'=': 0.2, '>': 0.1, '<': 0.1, '>=': 0, '<=': 0, '<>': 0.1, 'BETWEEN': 0.2, 'IN': 0.1, 'NOT BETWEEN': 0.1, 'NOT IN': 0.1},\n",
    "        'FILTER_TYPE': {'WHERE': 0.5, 'AND': 0.5},\n",
    "        'JOIN_TYPE': {'JOIN': 0, 'LEFT JOIN': 1}\n",
    "    }\n",
    "    real_expr, real_groupby_lst, real_from_tbl, real_join_tbl_lst, agg_fntn_terms = query_obj.compile_aggfltr_expr()\n",
    "    if not query_obj._test_query_time(db_path,real_expr): #skipping query if it takes a long time to return results\n",
    "        continue\n",
    "    rnd_query = query_obj.make_twin_aggfltr_query(\n",
    "        syn_tbl_lst, real_expr, real_groupby_lst, real_from_tbl, real_join_tbl_lst, agg_fntn_terms)\n",
    "    matched_query = query_obj._match_queries4agg(rnd_query)\n",
    "    scored_query = query_obj.gather_metrics4agg(matched_query)\n",
    "    queries.append(scored_query)\n",
    "    k += 1\n",
    "    print('Generated Random Aggregate Filter Query - {} '.format(str(k)))\n",
    "    "
   ]
  },
  {
   "attachments": {},
   "cell_type": "markdown",
   "metadata": {},
   "source": [
    "### REPORTING "
   ]
  },
  {
   "cell_type": "code",
   "execution_count": 5,
   "metadata": {},
   "outputs": [],
   "source": [
    "rprtr=Report(real_tbl_lst, queries)\n",
    "rprtr.print_html_mltpl(f'{DATASET_NAME}_customized.html')\n",
    "rprtr.plot_violin('Hellinger',f'{DATASET_NAME}_customized_hlngr.png' )\n",
    "rprtr.plot_violin('Euclidean',f'{DATASET_NAME}_customized_ecldn.png' )"
   ]
  }
 ],
 "metadata": {
  "kernelspec": {
   "display_name": "ehil_sql",
   "language": "python",
   "name": "python3"
  },
  "language_info": {
   "codemirror_mode": {
    "name": "ipython",
    "version": 3
   },
   "file_extension": ".py",
   "mimetype": "text/x-python",
   "name": "python",
   "nbconvert_exporter": "python",
   "pygments_lexer": "ipython3",
   "version": "3.10.4"
  },
  "vscode": {
   "interpreter": {
    "hash": "efdd55a922dc49654bff08e1d5ac7d3f772d2f692f0debd1858195b49680cdfa"
   }
  }
 },
 "nbformat": 4,
 "nbformat_minor": 2
}

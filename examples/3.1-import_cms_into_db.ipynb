{
 "cells": [
  {
   "attachments": {},
   "cell_type": "markdown",
   "metadata": {},
   "source": [
    "### Importing CMS data into a database as an example of longitudinal multiple-child data "
   ]
  },
  {
   "cell_type": "code",
   "execution_count": 1,
   "metadata": {},
   "outputs": [
    {
     "name": "stdout",
     "output_type": "stream",
     "text": [
      "Requirement already satisfied: pip in /home/samer/miniconda3/envs/ehil_sql/lib/python3.10/site-packages (22.3.1)\n",
      "Processing ./fuzzy_sql-2.0.0b0-py3-none-any.whl\n",
      "Requirement already satisfied: matplotlib in /home/samer/miniconda3/envs/ehil_sql/lib/python3.10/site-packages (from fuzzy-sql==2.0.0b0) (3.5.2)\n",
      "Requirement already satisfied: Jinja2 in /home/samer/miniconda3/envs/ehil_sql/lib/python3.10/site-packages (from fuzzy-sql==2.0.0b0) (3.1.2)\n",
      "Requirement already satisfied: seaborn in /home/samer/miniconda3/envs/ehil_sql/lib/python3.10/site-packages (from fuzzy-sql==2.0.0b0) (0.11.2)\n",
      "Requirement already satisfied: jupyter in /home/samer/miniconda3/envs/ehil_sql/lib/python3.10/site-packages (from fuzzy-sql==2.0.0b0) (1.0.0)\n",
      "Requirement already satisfied: scikit-learn in /home/samer/miniconda3/envs/ehil_sql/lib/python3.10/site-packages (from fuzzy-sql==2.0.0b0) (1.1.2)\n",
      "Requirement already satisfied: scipy in /home/samer/miniconda3/envs/ehil_sql/lib/python3.10/site-packages (from fuzzy-sql==2.0.0b0) (1.7.3)\n",
      "Requirement already satisfied: pandas in /home/samer/miniconda3/envs/ehil_sql/lib/python3.10/site-packages (from fuzzy-sql==2.0.0b0) (1.4.3)\n",
      "Requirement already satisfied: multiprocess in /home/samer/miniconda3/envs/ehil_sql/lib/python3.10/site-packages (from fuzzy-sql==2.0.0b0) (0.70.14)\n",
      "Requirement already satisfied: jsonschema in /home/samer/miniconda3/envs/ehil_sql/lib/python3.10/site-packages (from fuzzy-sql==2.0.0b0) (4.9.0)\n",
      "Requirement already satisfied: MarkupSafe>=2.0 in /home/samer/miniconda3/envs/ehil_sql/lib/python3.10/site-packages (from Jinja2->fuzzy-sql==2.0.0b0) (2.1.1)\n",
      "Requirement already satisfied: pyrsistent!=0.17.0,!=0.17.1,!=0.17.2,>=0.14.0 in /home/samer/miniconda3/envs/ehil_sql/lib/python3.10/site-packages (from jsonschema->fuzzy-sql==2.0.0b0) (0.18.1)\n",
      "Requirement already satisfied: attrs>=17.4.0 in /home/samer/miniconda3/envs/ehil_sql/lib/python3.10/site-packages (from jsonschema->fuzzy-sql==2.0.0b0) (22.1.0)\n",
      "Requirement already satisfied: jupyter-console in /home/samer/miniconda3/envs/ehil_sql/lib/python3.10/site-packages (from jupyter->fuzzy-sql==2.0.0b0) (6.4.4)\n",
      "Requirement already satisfied: notebook in /home/samer/miniconda3/envs/ehil_sql/lib/python3.10/site-packages (from jupyter->fuzzy-sql==2.0.0b0) (6.4.12)\n",
      "Requirement already satisfied: ipykernel in /home/samer/miniconda3/envs/ehil_sql/lib/python3.10/site-packages (from jupyter->fuzzy-sql==2.0.0b0) (6.15.1)\n",
      "Requirement already satisfied: nbconvert in /home/samer/miniconda3/envs/ehil_sql/lib/python3.10/site-packages (from jupyter->fuzzy-sql==2.0.0b0) (6.5.0)\n",
      "Requirement already satisfied: ipywidgets in /home/samer/miniconda3/envs/ehil_sql/lib/python3.10/site-packages (from jupyter->fuzzy-sql==2.0.0b0) (7.7.1)\n",
      "Requirement already satisfied: qtconsole in /home/samer/miniconda3/envs/ehil_sql/lib/python3.10/site-packages (from jupyter->fuzzy-sql==2.0.0b0) (5.3.1)\n",
      "Requirement already satisfied: pyparsing>=2.2.1 in /home/samer/miniconda3/envs/ehil_sql/lib/python3.10/site-packages (from matplotlib->fuzzy-sql==2.0.0b0) (3.0.4)\n",
      "Requirement already satisfied: kiwisolver>=1.0.1 in /home/samer/miniconda3/envs/ehil_sql/lib/python3.10/site-packages (from matplotlib->fuzzy-sql==2.0.0b0) (1.4.4)\n",
      "Requirement already satisfied: fonttools>=4.22.0 in /home/samer/miniconda3/envs/ehil_sql/lib/python3.10/site-packages (from matplotlib->fuzzy-sql==2.0.0b0) (4.34.4)\n",
      "Requirement already satisfied: numpy>=1.17 in /home/samer/miniconda3/envs/ehil_sql/lib/python3.10/site-packages (from matplotlib->fuzzy-sql==2.0.0b0) (1.22.3)\n",
      "Requirement already satisfied: cycler>=0.10 in /home/samer/miniconda3/envs/ehil_sql/lib/python3.10/site-packages (from matplotlib->fuzzy-sql==2.0.0b0) (0.11.0)\n",
      "Requirement already satisfied: packaging>=20.0 in /home/samer/miniconda3/envs/ehil_sql/lib/python3.10/site-packages (from matplotlib->fuzzy-sql==2.0.0b0) (21.3)\n",
      "Requirement already satisfied: python-dateutil>=2.7 in /home/samer/miniconda3/envs/ehil_sql/lib/python3.10/site-packages (from matplotlib->fuzzy-sql==2.0.0b0) (2.8.2)\n",
      "Requirement already satisfied: pillow>=6.2.0 in /home/samer/miniconda3/envs/ehil_sql/lib/python3.10/site-packages (from matplotlib->fuzzy-sql==2.0.0b0) (9.2.0)\n",
      "Requirement already satisfied: dill>=0.3.6 in /home/samer/miniconda3/envs/ehil_sql/lib/python3.10/site-packages (from multiprocess->fuzzy-sql==2.0.0b0) (0.3.6)\n",
      "Requirement already satisfied: pytz>=2020.1 in /home/samer/miniconda3/envs/ehil_sql/lib/python3.10/site-packages (from pandas->fuzzy-sql==2.0.0b0) (2022.1)\n",
      "Requirement already satisfied: joblib>=1.0.0 in /home/samer/miniconda3/envs/ehil_sql/lib/python3.10/site-packages (from scikit-learn->fuzzy-sql==2.0.0b0) (1.1.0)\n",
      "Requirement already satisfied: threadpoolctl>=2.0.0 in /home/samer/miniconda3/envs/ehil_sql/lib/python3.10/site-packages (from scikit-learn->fuzzy-sql==2.0.0b0) (3.1.0)\n",
      "Requirement already satisfied: six>=1.5 in /home/samer/miniconda3/envs/ehil_sql/lib/python3.10/site-packages (from python-dateutil>=2.7->matplotlib->fuzzy-sql==2.0.0b0) (1.16.0)\n",
      "Requirement already satisfied: nest-asyncio in /home/samer/miniconda3/envs/ehil_sql/lib/python3.10/site-packages (from ipykernel->jupyter->fuzzy-sql==2.0.0b0) (1.5.5)\n",
      "Requirement already satisfied: pyzmq>=17 in /home/samer/miniconda3/envs/ehil_sql/lib/python3.10/site-packages (from ipykernel->jupyter->fuzzy-sql==2.0.0b0) (23.2.0)\n",
      "Requirement already satisfied: traitlets>=5.1.0 in /home/samer/miniconda3/envs/ehil_sql/lib/python3.10/site-packages (from ipykernel->jupyter->fuzzy-sql==2.0.0b0) (5.3.0)\n",
      "Requirement already satisfied: jupyter-client>=6.1.12 in /home/samer/miniconda3/envs/ehil_sql/lib/python3.10/site-packages (from ipykernel->jupyter->fuzzy-sql==2.0.0b0) (7.3.4)\n",
      "Requirement already satisfied: psutil in /home/samer/miniconda3/envs/ehil_sql/lib/python3.10/site-packages (from ipykernel->jupyter->fuzzy-sql==2.0.0b0) (5.9.1)\n",
      "Requirement already satisfied: matplotlib-inline>=0.1 in /home/samer/miniconda3/envs/ehil_sql/lib/python3.10/site-packages (from ipykernel->jupyter->fuzzy-sql==2.0.0b0) (0.1.3)\n",
      "Requirement already satisfied: tornado>=6.1 in /home/samer/miniconda3/envs/ehil_sql/lib/python3.10/site-packages (from ipykernel->jupyter->fuzzy-sql==2.0.0b0) (6.2)\n",
      "Requirement already satisfied: debugpy>=1.0 in /home/samer/miniconda3/envs/ehil_sql/lib/python3.10/site-packages (from ipykernel->jupyter->fuzzy-sql==2.0.0b0) (1.6.2)\n",
      "Requirement already satisfied: ipython>=7.23.1 in /home/samer/miniconda3/envs/ehil_sql/lib/python3.10/site-packages (from ipykernel->jupyter->fuzzy-sql==2.0.0b0) (8.4.0)\n",
      "Requirement already satisfied: widgetsnbextension~=3.6.0 in /home/samer/miniconda3/envs/ehil_sql/lib/python3.10/site-packages (from ipywidgets->jupyter->fuzzy-sql==2.0.0b0) (3.6.1)\n",
      "Requirement already satisfied: jupyterlab-widgets>=1.0.0 in /home/samer/miniconda3/envs/ehil_sql/lib/python3.10/site-packages (from ipywidgets->jupyter->fuzzy-sql==2.0.0b0) (1.1.1)\n",
      "Requirement already satisfied: ipython-genutils~=0.2.0 in /home/samer/miniconda3/envs/ehil_sql/lib/python3.10/site-packages (from ipywidgets->jupyter->fuzzy-sql==2.0.0b0) (0.2.0)\n",
      "Requirement already satisfied: prompt-toolkit!=3.0.0,!=3.0.1,<3.1.0,>=2.0.0 in /home/samer/miniconda3/envs/ehil_sql/lib/python3.10/site-packages (from jupyter-console->jupyter->fuzzy-sql==2.0.0b0) (3.0.30)\n",
      "Requirement already satisfied: pygments in /home/samer/miniconda3/envs/ehil_sql/lib/python3.10/site-packages (from jupyter-console->jupyter->fuzzy-sql==2.0.0b0) (2.12.0)\n",
      "Requirement already satisfied: nbclient>=0.5.0 in /home/samer/miniconda3/envs/ehil_sql/lib/python3.10/site-packages (from nbconvert->jupyter->fuzzy-sql==2.0.0b0) (0.6.6)\n",
      "Requirement already satisfied: tinycss2 in /home/samer/miniconda3/envs/ehil_sql/lib/python3.10/site-packages (from nbconvert->jupyter->fuzzy-sql==2.0.0b0) (1.1.1)\n",
      "Requirement already satisfied: jupyter-core>=4.7 in /home/samer/miniconda3/envs/ehil_sql/lib/python3.10/site-packages (from nbconvert->jupyter->fuzzy-sql==2.0.0b0) (4.11.1)\n",
      "Requirement already satisfied: bleach in /home/samer/miniconda3/envs/ehil_sql/lib/python3.10/site-packages (from nbconvert->jupyter->fuzzy-sql==2.0.0b0) (5.0.1)\n",
      "Requirement already satisfied: entrypoints>=0.2.2 in /home/samer/miniconda3/envs/ehil_sql/lib/python3.10/site-packages (from nbconvert->jupyter->fuzzy-sql==2.0.0b0) (0.4)\n",
      "Requirement already satisfied: mistune<2,>=0.8.1 in /home/samer/miniconda3/envs/ehil_sql/lib/python3.10/site-packages (from nbconvert->jupyter->fuzzy-sql==2.0.0b0) (0.8.4)\n",
      "Requirement already satisfied: nbformat>=5.1 in /home/samer/miniconda3/envs/ehil_sql/lib/python3.10/site-packages (from nbconvert->jupyter->fuzzy-sql==2.0.0b0) (5.4.0)\n",
      "Requirement already satisfied: defusedxml in /home/samer/miniconda3/envs/ehil_sql/lib/python3.10/site-packages (from nbconvert->jupyter->fuzzy-sql==2.0.0b0) (0.7.1)\n",
      "Requirement already satisfied: jupyterlab-pygments in /home/samer/miniconda3/envs/ehil_sql/lib/python3.10/site-packages (from nbconvert->jupyter->fuzzy-sql==2.0.0b0) (0.2.2)\n",
      "Requirement already satisfied: pandocfilters>=1.4.1 in /home/samer/miniconda3/envs/ehil_sql/lib/python3.10/site-packages (from nbconvert->jupyter->fuzzy-sql==2.0.0b0) (1.5.0)\n",
      "Requirement already satisfied: beautifulsoup4 in /home/samer/miniconda3/envs/ehil_sql/lib/python3.10/site-packages (from nbconvert->jupyter->fuzzy-sql==2.0.0b0) (4.11.1)\n",
      "Requirement already satisfied: prometheus-client in /home/samer/miniconda3/envs/ehil_sql/lib/python3.10/site-packages (from notebook->jupyter->fuzzy-sql==2.0.0b0) (0.14.1)\n",
      "Requirement already satisfied: argon2-cffi in /home/samer/miniconda3/envs/ehil_sql/lib/python3.10/site-packages (from notebook->jupyter->fuzzy-sql==2.0.0b0) (21.3.0)\n",
      "Requirement already satisfied: terminado>=0.8.3 in /home/samer/miniconda3/envs/ehil_sql/lib/python3.10/site-packages (from notebook->jupyter->fuzzy-sql==2.0.0b0) (0.15.0)\n",
      "Requirement already satisfied: Send2Trash>=1.8.0 in /home/samer/miniconda3/envs/ehil_sql/lib/python3.10/site-packages (from notebook->jupyter->fuzzy-sql==2.0.0b0) (1.8.0)\n",
      "Requirement already satisfied: qtpy>=2.0.1 in /home/samer/miniconda3/envs/ehil_sql/lib/python3.10/site-packages (from qtconsole->jupyter->fuzzy-sql==2.0.0b0) (2.1.0)\n",
      "Requirement already satisfied: pickleshare in /home/samer/miniconda3/envs/ehil_sql/lib/python3.10/site-packages (from ipython>=7.23.1->ipykernel->jupyter->fuzzy-sql==2.0.0b0) (0.7.5)\n",
      "Requirement already satisfied: decorator in /home/samer/miniconda3/envs/ehil_sql/lib/python3.10/site-packages (from ipython>=7.23.1->ipykernel->jupyter->fuzzy-sql==2.0.0b0) (5.1.1)\n",
      "Requirement already satisfied: stack-data in /home/samer/miniconda3/envs/ehil_sql/lib/python3.10/site-packages (from ipython>=7.23.1->ipykernel->jupyter->fuzzy-sql==2.0.0b0) (0.3.0)\n",
      "Requirement already satisfied: jedi>=0.16 in /home/samer/miniconda3/envs/ehil_sql/lib/python3.10/site-packages (from ipython>=7.23.1->ipykernel->jupyter->fuzzy-sql==2.0.0b0) (0.18.1)\n",
      "Requirement already satisfied: pexpect>4.3 in /home/samer/miniconda3/envs/ehil_sql/lib/python3.10/site-packages (from ipython>=7.23.1->ipykernel->jupyter->fuzzy-sql==2.0.0b0) (4.8.0)\n",
      "Requirement already satisfied: backcall in /home/samer/miniconda3/envs/ehil_sql/lib/python3.10/site-packages (from ipython>=7.23.1->ipykernel->jupyter->fuzzy-sql==2.0.0b0) (0.2.0)\n",
      "Requirement already satisfied: setuptools>=18.5 in /home/samer/.local/lib/python3.10/site-packages (from ipython>=7.23.1->ipykernel->jupyter->fuzzy-sql==2.0.0b0) (65.3.0)\n",
      "Requirement already satisfied: fastjsonschema in /home/samer/miniconda3/envs/ehil_sql/lib/python3.10/site-packages (from nbformat>=5.1->nbconvert->jupyter->fuzzy-sql==2.0.0b0) (2.16.1)\n",
      "Requirement already satisfied: wcwidth in /home/samer/miniconda3/envs/ehil_sql/lib/python3.10/site-packages (from prompt-toolkit!=3.0.0,!=3.0.1,<3.1.0,>=2.0.0->jupyter-console->jupyter->fuzzy-sql==2.0.0b0) (0.2.5)\n",
      "Requirement already satisfied: ptyprocess in /home/samer/miniconda3/envs/ehil_sql/lib/python3.10/site-packages (from terminado>=0.8.3->notebook->jupyter->fuzzy-sql==2.0.0b0) (0.7.0)\n",
      "Requirement already satisfied: argon2-cffi-bindings in /home/samer/miniconda3/envs/ehil_sql/lib/python3.10/site-packages (from argon2-cffi->notebook->jupyter->fuzzy-sql==2.0.0b0) (21.2.0)\n",
      "Requirement already satisfied: soupsieve>1.2 in /home/samer/miniconda3/envs/ehil_sql/lib/python3.10/site-packages (from beautifulsoup4->nbconvert->jupyter->fuzzy-sql==2.0.0b0) (2.3.2.post1)\n",
      "Requirement already satisfied: webencodings in /home/samer/miniconda3/envs/ehil_sql/lib/python3.10/site-packages (from bleach->nbconvert->jupyter->fuzzy-sql==2.0.0b0) (0.5.1)\n",
      "Requirement already satisfied: parso<0.9.0,>=0.8.0 in /home/samer/miniconda3/envs/ehil_sql/lib/python3.10/site-packages (from jedi>=0.16->ipython>=7.23.1->ipykernel->jupyter->fuzzy-sql==2.0.0b0) (0.8.3)\n",
      "Requirement already satisfied: cffi>=1.0.1 in /home/samer/miniconda3/envs/ehil_sql/lib/python3.10/site-packages (from argon2-cffi-bindings->argon2-cffi->notebook->jupyter->fuzzy-sql==2.0.0b0) (1.15.1)\n",
      "Requirement already satisfied: asttokens in /home/samer/miniconda3/envs/ehil_sql/lib/python3.10/site-packages (from stack-data->ipython>=7.23.1->ipykernel->jupyter->fuzzy-sql==2.0.0b0) (2.0.5)\n",
      "Requirement already satisfied: pure-eval in /home/samer/miniconda3/envs/ehil_sql/lib/python3.10/site-packages (from stack-data->ipython>=7.23.1->ipykernel->jupyter->fuzzy-sql==2.0.0b0) (0.2.2)\n",
      "Requirement already satisfied: executing in /home/samer/miniconda3/envs/ehil_sql/lib/python3.10/site-packages (from stack-data->ipython>=7.23.1->ipykernel->jupyter->fuzzy-sql==2.0.0b0) (0.9.1)\n",
      "Requirement already satisfied: pycparser in /home/samer/miniconda3/envs/ehil_sql/lib/python3.10/site-packages (from cffi>=1.0.1->argon2-cffi-bindings->argon2-cffi->notebook->jupyter->fuzzy-sql==2.0.0b0) (2.21)\n",
      "fuzzy-sql is already installed with the same version as the provided wheel. Use --force-reinstall to force an installation of the wheel.\n"
     ]
    }
   ],
   "source": [
    "! pip install --upgrade pip\n",
    "! pip install fuzzy_sql-2.0.0b0-py3-none-any.whl"
   ]
  },
  {
   "cell_type": "code",
   "execution_count": 2,
   "metadata": {},
   "outputs": [],
   "source": [
    "import sqlite3\n",
    "import json\n",
    "import os\n",
    "from pathlib import Path\n",
    "\n",
    "from fuzzy_sql.load import prep_data_for_db, get_vars_to_index, make_table\n",
    "\n",
    "DATASET_NAME='cms'"
   ]
  },
  {
   "cell_type": "code",
   "execution_count": 3,
   "metadata": {},
   "outputs": [],
   "source": [
    "# set directories\n",
    "DATA_DIR=os.path.join(os.getcwd(),'data')\n",
    "DB_DIR=os.path.join(os.getcwd(),'databases')\n",
    "\n",
    "metadata_dir = os.path.join(DATA_DIR, DATASET_NAME,'metadata')\n",
    "real_dir = os.path.join(DATA_DIR,DATASET_NAME, 'real')\n",
    "syn_dir = os.path.join(DATA_DIR,DATASET_NAME, 'syn')\n",
    "db_path = os.path.join(DB_DIR, f'{DATASET_NAME}.db')"
   ]
  },
  {
   "cell_type": "code",
   "execution_count": 4,
   "metadata": {},
   "outputs": [],
   "source": [
    "# identify input data file names\n",
    "real_csvs=[\"DE1_0_2008_Beneficiary_Summary_File_Sample_1.csv\",\\\n",
    "    \"DE1_0_2009_Beneficiary_Summary_File_Sample_1.csv\",\\\n",
    "    \"DE1_0_2010_Beneficiary_Summary_File_Sample_1.csv\",\\\n",
    "    \"DE1_0_2008_to_2010_Carrier_Claims_Sample_1A.csv\",\\\n",
    "    \"DE1_0_2008_to_2010_Carrier_Claims_Sample_1B.csv\" ,\\\n",
    "    \"DE1_0_2008_to_2010_Inpatient_Claims_Sample_1.csv\",\\\n",
    "    \"DE1_0_2008_to_2010_Outpatient_Claims_Sample_1.csv\",\\\n",
    "    \"DE1_0_2008_to_2010_Prescription_Drug_Events_Sample_1.csv\" ]\n",
    "\n",
    "meta_jsons=['s1_ben_sum_2008.json','s1_ben_sum_2009.json','s1_ben_sum_2010.json','s1_carrier_1a.json',\\\n",
    "    's1_carrier_1b.json','s1_inpatient.json','s1_outpatient.json','s1_prescrp.json']\n",
    "\n",
    "syn_csvs=[\"DE1_0_2008_Beneficiary_Summary_File_Sample_2.csv\",\\\n",
    "    \"DE1_0_2009_Beneficiary_Summary_File_Sample_2.csv\",\\\n",
    "    \"DE1_0_2010_Beneficiary_Summary_File_Sample_2.csv\",\\\n",
    "    \"DE1_0_2008_to_2010_Carrier_Claims_Sample_2A.csv\",\\\n",
    "    \"DE1_0_2008_to_2010_Carrier_Claims_Sample_2B.csv\" ,\\\n",
    "    \"DE1_0_2008_to_2010_Inpatient_Claims_Sample_2.csv\",\\\n",
    "    \"DE1_0_2008_to_2010_Outpatient_Claims_Sample_2.csv\",\\\n",
    "    \"DE1_0_2008_to_2010_Prescription_Drug_Events_Sample_2.csv\" ]\n",
    "\n",
    "#extracted rows from corresponding tables\n",
    "rows=[10000,10000,10000,20000,20000,15000,15000,15000]"
   ]
  },
  {
   "cell_type": "markdown",
   "metadata": {},
   "source": [
    "### Prepare data and import it into the database with indexing\n"
   ]
  },
  {
   "cell_type": "code",
   "execution_count": 5,
   "metadata": {},
   "outputs": [
    {
     "name": "stdout",
     "output_type": "stream",
     "text": [
      "Table s1_ben_sum_2008 already exists in the database\n",
      "Table s2_ben_sum_2008 already exists in the database\n",
      "Table s1_ben_sum_2009 already exists in the database\n",
      "Table s2_ben_sum_2009 already exists in the database\n",
      "Table s1_ben_sum_2010 already exists in the database\n",
      "Table s2_ben_sum_2010 already exists in the database\n",
      "Table s1_carrier_1a already exists in the database\n",
      "Table s2_carrier_1a already exists in the database\n",
      "Table s1_carrier_1b already exists in the database\n",
      "Table s2_carrier_1b already exists in the database\n",
      "Table s1_inpatient already exists in the database\n",
      "Table s2_inpatient already exists in the database\n",
      "Table s1_outpatient already exists in the database\n",
      "Table s2_outpatient already exists in the database\n",
      "Table s1_prescrp already exists in the database\n",
      "Table s2_prescrp already exists in the database\n"
     ]
    }
   ],
   "source": [
    "conn = sqlite3.connect(db_path)\n",
    "with conn:\n",
    "    for real_csv,meta_json,syn_csv, rows_i in zip(real_csvs,meta_jsons,syn_csvs, rows):\n",
    "        #Import real\n",
    "        data,_=prep_data_for_db(os.path.join(real_dir,real_csv),nrows=rows_i) # Note: This function  can be used to quickly generate metadata template, but this is not shown here.\n",
    "        with open(os.path.join(metadata_dir, meta_json), 'r') as f:\n",
    "            metadata=json.load(f)\n",
    "        candidate_db_idx=get_vars_to_index(metadata,data)\n",
    "        table_name=Path(meta_json).stem\n",
    "        make_table(table_name, data, conn,indx_vars=candidate_db_idx)\n",
    "\n",
    "        #Import syn\n",
    "        data,_=prep_data_for_db(os.path.join(syn_dir,syn_csv),nrows=rows_i) # Note: This function  can be used to quickly generate metadata template, but this is not shown here.\n",
    "        table_name=meta_json.replace(\"s1\",\"s2\")\n",
    "        table_name=Path(table_name).stem\n",
    "        make_table(table_name, data, conn,indx_vars=candidate_db_idx)"
   ]
  }
 ],
 "metadata": {
  "kernelspec": {
   "display_name": "ehil_sql",
   "language": "python",
   "name": "python3"
  },
  "language_info": {
   "codemirror_mode": {
    "name": "ipython",
    "version": 3
   },
   "file_extension": ".py",
   "mimetype": "text/x-python",
   "name": "python",
   "nbconvert_exporter": "python",
   "pygments_lexer": "ipython3",
   "version": "3.10.4"
  },
  "orig_nbformat": 4,
  "vscode": {
   "interpreter": {
    "hash": "efdd55a922dc49654bff08e1d5ac7d3f772d2f692f0debd1858195b49680cdfa"
   }
  }
 },
 "nbformat": 4,
 "nbformat_minor": 2
}

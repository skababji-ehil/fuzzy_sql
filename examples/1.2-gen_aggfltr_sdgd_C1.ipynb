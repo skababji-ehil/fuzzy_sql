{
 "cells": [
  {
   "attachments": {},
   "cell_type": "markdown",
   "metadata": {},
   "source": [
    "### An example for generating *Aggregate-Filter* for cross-sectional data \n",
    "######  Before executing this notebook, please makes sure that data was imported earlier into the database."
   ]
  },
  {
   "cell_type": "code",
   "execution_count": null,
   "metadata": {},
   "outputs": [],
   "source": [
    "! pip install --upgrade pip\n",
    "! pip install fuzzy-sql"
   ]
  },
  {
   "cell_type": "code",
   "execution_count": null,
   "metadata": {},
   "outputs": [],
   "source": [
    "import json\n",
    "import os\n",
    "from pathlib import Path\n",
    "\n",
    "from fuzzy_sql.generate import gen_aggfltr_queries\n",
    "from fuzzy_sql.report import Report\n",
    "\n",
    "DATASET_NAME='sdgd'"
   ]
  },
  {
   "cell_type": "code",
   "execution_count": null,
   "metadata": {},
   "outputs": [],
   "source": [
    "# set directories\n",
    "DATA_DIR=os.path.join(os.getcwd(),'data')\n",
    "DB_DIR=os.path.join(os.getcwd(),'databases')\n",
    "\n",
    "metadata_dir = os.path.join(DATA_DIR, DATASET_NAME,'metadata')\n",
    "db_path = os.path.join(DB_DIR, f'{DATASET_NAME}.db')"
   ]
  },
  {
   "cell_type": "markdown",
   "metadata": {},
   "source": [
    "### GENERATING RANDOM QUERIES "
   ]
  },
  {
   "cell_type": "code",
   "execution_count": null,
   "metadata": {},
   "outputs": [],
   "source": [
    "# Create lists with table names. Table names shall be identical to the names initially created in the database.\n",
    "real_tbl_lst=['C1']\n",
    "syn_tbl_lst=['C1_syn_default_1']\n",
    "\n",
    "# Read metadata from the provided json files into a list of dictionaries. \n",
    "# Note 1: Both real and synthetic data should have the same metadata file.\n",
    "# Note 2: Each input table in real_tbl_lst above shall have its own metadata file.\n",
    "# Note 2: The json file name shall match that of the real data file name in real_tbl_lst. \n",
    "metadata_lst = []\n",
    "for tbl_name in real_tbl_lst:\n",
    "    with open(os.path.join(metadata_dir, tbl_name+'.json'), 'r') as f:\n",
    "        metadata_lst.append(json.load(f))"
   ]
  },
  {
   "cell_type": "code",
   "execution_count": null,
   "metadata": {},
   "outputs": [],
   "source": [
    "rnd_queries=gen_aggfltr_queries(10,db_path, real_tbl_lst, metadata_lst,  syn_tbl_lst )"
   ]
  },
  {
   "attachments": {},
   "cell_type": "markdown",
   "metadata": {},
   "source": [
    "### REPORTING "
   ]
  },
  {
   "cell_type": "code",
   "execution_count": null,
   "metadata": {},
   "outputs": [],
   "source": [
    "rprtr=Report(real_tbl_lst, rnd_queries)\n",
    "rprtr.print_html_mltpl(f'{DATASET_NAME}.html')\n",
    "rprtr.plot_violin('Hellinger',f'{DATASET_NAME}_hlngr.png' )\n",
    "rprtr.plot_violin('Euclidean',f'{DATASET_NAME}_ecldn.png' )"
   ]
  }
 ],
 "metadata": {
  "kernelspec": {
   "display_name": "base",
   "language": "python",
   "name": "python3"
  },
  "language_info": {
   "codemirror_mode": {
    "name": "ipython",
    "version": 3
   },
   "file_extension": ".py",
   "mimetype": "text/x-python",
   "name": "python",
   "nbconvert_exporter": "python",
   "pygments_lexer": "ipython3",
   "version": "3.9.15"
  },
  "vscode": {
   "interpreter": {
    "hash": "162e865c094bb236e116b64039528f040abce4d57dd78a41700605e0026884b3"
   }
  }
 },
 "nbformat": 4,
 "nbformat_minor": 2
}
